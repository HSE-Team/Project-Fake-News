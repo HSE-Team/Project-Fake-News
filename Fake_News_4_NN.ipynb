{
  "nbformat": 4,
  "nbformat_minor": 0,
  "metadata": {
    "colab": {
      "name": "Fake_News_4_NN.ipynb",
      "provenance": [],
      "collapsed_sections": []
    },
    "kernelspec": {
      "name": "python3",
      "display_name": "Python 3"
    }
  },
  "cells": [
    {
      "cell_type": "code",
      "metadata": {
        "id": "u62_20VobMfd",
        "colab_type": "code",
        "outputId": "ffa1e1a2-fe95-4db4-f9fa-a37aaab82ad7",
        "colab": {
          "base_uri": "https://localhost:8080/",
          "height": 1000
        }
      },
      "source": [
        "!pip install tensorflow==2.0.0 --ignore-installed"
      ],
      "execution_count": 0,
      "outputs": [
        {
          "output_type": "stream",
          "text": [
            "Collecting tensorflow==2.0.0\n",
            "\u001b[?25l  Downloading https://files.pythonhosted.org/packages/46/0f/7bd55361168bb32796b360ad15a25de6966c9c1beb58a8e30c01c8279862/tensorflow-2.0.0-cp36-cp36m-manylinux2010_x86_64.whl (86.3MB)\n",
            "\u001b[K     |████████████████████████████████| 86.3MB 61kB/s \n",
            "\u001b[?25hCollecting wheel>=0.26\n",
            "  Downloading https://files.pythonhosted.org/packages/8c/23/848298cccf8e40f5bbb59009b32848a4c38f4e7f3364297ab3c3e2e2cd14/wheel-0.34.2-py2.py3-none-any.whl\n",
            "Collecting termcolor>=1.1.0\n",
            "  Downloading https://files.pythonhosted.org/packages/8a/48/a76be51647d0eb9f10e2a4511bf3ffb8cc1e6b14e9e4fab46173aa79f981/termcolor-1.1.0.tar.gz\n",
            "Collecting numpy<2.0,>=1.16.0\n",
            "\u001b[?25l  Downloading https://files.pythonhosted.org/packages/07/08/a549ba8b061005bb629b76adc000f3caaaf881028b963c2e18f811c6edc1/numpy-1.18.2-cp36-cp36m-manylinux1_x86_64.whl (20.2MB)\n",
            "\u001b[K     |████████████████████████████████| 20.2MB 239kB/s \n",
            "\u001b[?25hCollecting protobuf>=3.6.1\n",
            "\u001b[?25l  Downloading https://files.pythonhosted.org/packages/57/02/5432412c162989260fab61fa65e0a490c1872739eb91a659896e4d554b26/protobuf-3.11.3-cp36-cp36m-manylinux1_x86_64.whl (1.3MB)\n",
            "\u001b[K     |████████████████████████████████| 1.3MB 50.7MB/s \n",
            "\u001b[?25hCollecting tensorflow-estimator<2.1.0,>=2.0.0\n",
            "\u001b[?25l  Downloading https://files.pythonhosted.org/packages/fc/08/8b927337b7019c374719145d1dceba21a8bb909b93b1ad6f8fb7d22c1ca1/tensorflow_estimator-2.0.1-py2.py3-none-any.whl (449kB)\n",
            "\u001b[K     |████████████████████████████████| 450kB 63.6MB/s \n",
            "\u001b[?25hCollecting google-pasta>=0.1.6\n",
            "\u001b[?25l  Downloading https://files.pythonhosted.org/packages/a3/de/c648ef6835192e6e2cc03f40b19eeda4382c49b5bafb43d88b931c4c74ac/google_pasta-0.2.0-py3-none-any.whl (57kB)\n",
            "\u001b[K     |████████████████████████████████| 61kB 8.9MB/s \n",
            "\u001b[?25hCollecting absl-py>=0.7.0\n",
            "\u001b[?25l  Downloading https://files.pythonhosted.org/packages/1a/53/9243c600e047bd4c3df9e69cfabc1e8004a82cac2e0c484580a78a94ba2a/absl-py-0.9.0.tar.gz (104kB)\n",
            "\u001b[K     |████████████████████████████████| 112kB 54.0MB/s \n",
            "\u001b[?25hCollecting opt-einsum>=2.3.2\n",
            "\u001b[?25l  Downloading https://files.pythonhosted.org/packages/b2/49/2233e63052d5686c72131b579837ddfb98ba9dd0b92bb91efcb441ada8ce/opt_einsum-3.2.0-py3-none-any.whl (63kB)\n",
            "\u001b[K     |████████████████████████████████| 71kB 10.0MB/s \n",
            "\u001b[?25hCollecting tensorboard<2.1.0,>=2.0.0\n",
            "\u001b[?25l  Downloading https://files.pythonhosted.org/packages/76/54/99b9d5d52d5cb732f099baaaf7740403e83fe6b0cedde940fabd2b13d75a/tensorboard-2.0.2-py3-none-any.whl (3.8MB)\n",
            "\u001b[K     |████████████████████████████████| 3.8MB 39.4MB/s \n",
            "\u001b[?25hCollecting wrapt>=1.11.1\n",
            "  Downloading https://files.pythonhosted.org/packages/82/f7/e43cefbe88c5fd371f4cf0cf5eb3feccd07515af9fd6cf7dbf1d1793a797/wrapt-1.12.1.tar.gz\n",
            "Collecting grpcio>=1.8.6\n",
            "\u001b[?25l  Downloading https://files.pythonhosted.org/packages/28/df/1f8a284a5e5819ae07d50bd76996d6f7208afef7533e4896fa1c6445574f/grpcio-1.27.2-cp36-cp36m-manylinux2010_x86_64.whl (2.7MB)\n",
            "\u001b[K     |████████████████████████████████| 2.7MB 42.5MB/s \n",
            "\u001b[?25hCollecting gast==0.2.2\n",
            "  Downloading https://files.pythonhosted.org/packages/4e/35/11749bf99b2d4e3cceb4d55ca22590b0d7c2c62b9de38ac4a4a7f4687421/gast-0.2.2.tar.gz\n",
            "Collecting six>=1.10.0\n",
            "  Downloading https://files.pythonhosted.org/packages/65/eb/1f97cb97bfc2390a276969c6fae16075da282f5058082d4cb10c6c5c1dba/six-1.14.0-py2.py3-none-any.whl\n",
            "Collecting keras-preprocessing>=1.0.5\n",
            "\u001b[?25l  Downloading https://files.pythonhosted.org/packages/28/6a/8c1f62c37212d9fc441a7e26736df51ce6f0e38455816445471f10da4f0a/Keras_Preprocessing-1.1.0-py2.py3-none-any.whl (41kB)\n",
            "\u001b[K     |████████████████████████████████| 51kB 8.0MB/s \n",
            "\u001b[?25hCollecting keras-applications>=1.0.8\n",
            "\u001b[?25l  Downloading https://files.pythonhosted.org/packages/71/e3/19762fdfc62877ae9102edf6342d71b28fbfd9dea3d2f96a882ce099b03f/Keras_Applications-1.0.8-py3-none-any.whl (50kB)\n",
            "\u001b[K     |████████████████████████████████| 51kB 7.8MB/s \n",
            "\u001b[?25hCollecting astor>=0.6.0\n",
            "  Downloading https://files.pythonhosted.org/packages/c3/88/97eef84f48fa04fbd6750e62dcceafba6c63c81b7ac1420856c8dcc0a3f9/astor-0.8.1-py2.py3-none-any.whl\n",
            "Collecting setuptools\n",
            "\u001b[?25l  Downloading https://files.pythonhosted.org/packages/a0/df/635cdb901ee4a8a42ec68e480c49f85f4c59e8816effbf57d9e6ee8b3588/setuptools-46.1.3-py3-none-any.whl (582kB)\n",
            "\u001b[K     |████████████████████████████████| 583kB 62.4MB/s \n",
            "\u001b[?25hCollecting werkzeug>=0.11.15\n",
            "\u001b[?25l  Downloading https://files.pythonhosted.org/packages/ba/a5/d6f8a6e71f15364d35678a4ec8a0186f980b3bd2545f40ad51dd26a87fb1/Werkzeug-1.0.0-py2.py3-none-any.whl (298kB)\n",
            "\u001b[K     |████████████████████████████████| 307kB 53.7MB/s \n",
            "\u001b[?25hCollecting google-auth<2,>=1.6.3\n",
            "\u001b[?25l  Downloading https://files.pythonhosted.org/packages/05/b0/cc391ebf8ebf7855cdcfe0a9a4cdc8dcd90287c90e1ac22651d104ac6481/google_auth-1.12.0-py2.py3-none-any.whl (83kB)\n",
            "\u001b[K     |████████████████████████████████| 92kB 10.0MB/s \n",
            "\u001b[?25hCollecting markdown>=2.6.8\n",
            "\u001b[?25l  Downloading https://files.pythonhosted.org/packages/ab/c4/ba46d44855e6eb1770a12edace5a165a0c6de13349f592b9036257f3c3d3/Markdown-3.2.1-py2.py3-none-any.whl (88kB)\n",
            "\u001b[K     |████████████████████████████████| 92kB 12.4MB/s \n",
            "\u001b[?25hCollecting requests<3,>=2.21.0\n",
            "\u001b[?25l  Downloading https://files.pythonhosted.org/packages/1a/70/1935c770cb3be6e3a8b78ced23d7e0f3b187f5cbfab4749523ed65d7c9b1/requests-2.23.0-py2.py3-none-any.whl (58kB)\n",
            "\u001b[K     |████████████████████████████████| 61kB 9.7MB/s \n",
            "\u001b[?25hCollecting google-auth-oauthlib<0.5,>=0.4.1\n",
            "  Downloading https://files.pythonhosted.org/packages/7b/b8/88def36e74bee9fce511c9519571f4e485e890093ab7442284f4ffaef60b/google_auth_oauthlib-0.4.1-py2.py3-none-any.whl\n",
            "Collecting h5py\n",
            "\u001b[?25l  Downloading https://files.pythonhosted.org/packages/60/06/cafdd44889200e5438b897388f3075b52a8ef01f28a17366d91de0fa2d05/h5py-2.10.0-cp36-cp36m-manylinux1_x86_64.whl (2.9MB)\n",
            "\u001b[K     |████████████████████████████████| 2.9MB 46.4MB/s \n",
            "\u001b[?25hCollecting rsa<4.1,>=3.1.4\n",
            "  Downloading https://files.pythonhosted.org/packages/02/e5/38518af393f7c214357079ce67a317307936896e961e35450b70fad2a9cf/rsa-4.0-py2.py3-none-any.whl\n",
            "Collecting pyasn1-modules>=0.2.1\n",
            "\u001b[?25l  Downloading https://files.pythonhosted.org/packages/95/de/214830a981892a3e286c3794f41ae67a4495df1108c3da8a9f62159b9a9d/pyasn1_modules-0.2.8-py2.py3-none-any.whl (155kB)\n",
            "\u001b[K     |████████████████████████████████| 163kB 59.9MB/s \n",
            "\u001b[?25hCollecting cachetools<5.0,>=2.0.0\n",
            "  Downloading https://files.pythonhosted.org/packages/08/6a/abf83cb951617793fd49c98cb9456860f5df66ff89883c8660aa0672d425/cachetools-4.0.0-py3-none-any.whl\n",
            "Collecting certifi>=2017.4.17\n",
            "\u001b[?25l  Downloading https://files.pythonhosted.org/packages/b9/63/df50cac98ea0d5b006c55a399c3bf1db9da7b5a24de7890bc9cfd5dd9e99/certifi-2019.11.28-py2.py3-none-any.whl (156kB)\n",
            "\u001b[K     |████████████████████████████████| 163kB 56.6MB/s \n",
            "\u001b[?25hCollecting urllib3!=1.25.0,!=1.25.1,<1.26,>=1.21.1\n",
            "\u001b[?25l  Downloading https://files.pythonhosted.org/packages/e8/74/6e4f91745020f967d09332bb2b8b9b10090957334692eb88ea4afe91b77f/urllib3-1.25.8-py2.py3-none-any.whl (125kB)\n",
            "\u001b[K     |████████████████████████████████| 133kB 56.0MB/s \n",
            "\u001b[?25hCollecting chardet<4,>=3.0.2\n",
            "\u001b[?25l  Downloading https://files.pythonhosted.org/packages/bc/a9/01ffebfb562e4274b6487b4bb1ddec7ca55ec7510b22e4c51f14098443b8/chardet-3.0.4-py2.py3-none-any.whl (133kB)\n",
            "\u001b[K     |████████████████████████████████| 143kB 52.3MB/s \n",
            "\u001b[?25hCollecting idna<3,>=2.5\n",
            "\u001b[?25l  Downloading https://files.pythonhosted.org/packages/89/e3/afebe61c546d18fb1709a61bee788254b40e736cff7271c7de5de2dc4128/idna-2.9-py2.py3-none-any.whl (58kB)\n",
            "\u001b[K     |████████████████████████████████| 61kB 9.4MB/s \n",
            "\u001b[?25hCollecting requests-oauthlib>=0.7.0\n",
            "  Downloading https://files.pythonhosted.org/packages/a3/12/b92740d845ab62ea4edf04d2f4164d82532b5a0b03836d4d4e71c6f3d379/requests_oauthlib-1.3.0-py2.py3-none-any.whl\n",
            "Collecting pyasn1>=0.1.3\n",
            "\u001b[?25l  Downloading https://files.pythonhosted.org/packages/62/1e/a94a8d635fa3ce4cfc7f506003548d0a2447ae76fd5ca53932970fe3053f/pyasn1-0.4.8-py2.py3-none-any.whl (77kB)\n",
            "\u001b[K     |████████████████████████████████| 81kB 8.0MB/s \n",
            "\u001b[?25hCollecting oauthlib>=3.0.0\n",
            "\u001b[?25l  Downloading https://files.pythonhosted.org/packages/05/57/ce2e7a8fa7c0afb54a0581b14a65b56e62b5759dbc98e80627142b8a3704/oauthlib-3.1.0-py2.py3-none-any.whl (147kB)\n",
            "\u001b[K     |████████████████████████████████| 153kB 52.9MB/s \n",
            "\u001b[?25hBuilding wheels for collected packages: termcolor, absl-py, wrapt, gast\n",
            "  Building wheel for termcolor (setup.py) ... \u001b[?25l\u001b[?25hdone\n",
            "  Created wheel for termcolor: filename=termcolor-1.1.0-cp36-none-any.whl size=4832 sha256=5e58bdb266ff554ba8440be2e0b430e9dd67a0fcddda8baab59ae74de08c579f\n",
            "  Stored in directory: /root/.cache/pip/wheels/7c/06/54/bc84598ba1daf8f970247f550b175aaaee85f68b4b0c5ab2c6\n",
            "  Building wheel for absl-py (setup.py) ... \u001b[?25l\u001b[?25hdone\n",
            "  Created wheel for absl-py: filename=absl_py-0.9.0-cp36-none-any.whl size=121931 sha256=b4edc6e0dd2f5f25853ded9605f90c7398aa50790fb9d0c838f86e0a8a38e7e6\n",
            "  Stored in directory: /root/.cache/pip/wheels/8e/28/49/fad4e7f0b9a1227708cbbee4487ac8558a7334849cb81c813d\n",
            "  Building wheel for wrapt (setup.py) ... \u001b[?25l\u001b[?25hdone\n",
            "  Created wheel for wrapt: filename=wrapt-1.12.1-cp36-cp36m-linux_x86_64.whl size=67502 sha256=0ceec201f1a9bda87d9bf96c1d772bcabeb3b977ba42d5cea67a1e819016609a\n",
            "  Stored in directory: /root/.cache/pip/wheels/b1/c2/ed/d62208260edbd3fa7156545c00ef966f45f2063d0a84f8208a\n",
            "  Building wheel for gast (setup.py) ... \u001b[?25l\u001b[?25hdone\n",
            "  Created wheel for gast: filename=gast-0.2.2-cp36-none-any.whl size=7540 sha256=db18fb65da6c31d34556de295a150cc965be1e1f4077d75c527b869cd860f692\n",
            "  Stored in directory: /root/.cache/pip/wheels/5c/2e/7e/a1d4d4fcebe6c381f378ce7743a3ced3699feb89bcfbdadadd\n",
            "Successfully built termcolor absl-py wrapt gast\n",
            "\u001b[31mERROR: kaggle 1.5.6 has requirement urllib3<1.25,>=1.21.1, but you'll have urllib3 1.25.8 which is incompatible.\u001b[0m\n",
            "\u001b[31mERROR: google-colab 1.0.0 has requirement google-auth~=1.7.2, but you'll have google-auth 1.12.0 which is incompatible.\u001b[0m\n",
            "\u001b[31mERROR: google-colab 1.0.0 has requirement requests~=2.21.0, but you'll have requests 2.23.0 which is incompatible.\u001b[0m\n",
            "\u001b[31mERROR: google-colab 1.0.0 has requirement six~=1.12.0, but you'll have six 1.14.0 which is incompatible.\u001b[0m\n",
            "\u001b[31mERROR: datascience 0.10.6 has requirement folium==0.2.1, but you'll have folium 0.8.3 which is incompatible.\u001b[0m\n",
            "\u001b[31mERROR: albumentations 0.1.12 has requirement imgaug<0.2.7,>=0.2.5, but you'll have imgaug 0.2.9 which is incompatible.\u001b[0m\n",
            "Installing collected packages: wheel, termcolor, numpy, six, setuptools, protobuf, tensorflow-estimator, google-pasta, absl-py, opt-einsum, werkzeug, grpcio, pyasn1, rsa, pyasn1-modules, cachetools, google-auth, markdown, certifi, urllib3, chardet, idna, requests, oauthlib, requests-oauthlib, google-auth-oauthlib, tensorboard, wrapt, gast, keras-preprocessing, h5py, keras-applications, astor, tensorflow\n",
            "Successfully installed absl-py-0.9.0 astor-0.8.1 cachetools-4.0.0 certifi-2019.11.28 chardet-3.0.4 gast-0.3.3 google-auth-1.12.0 google-auth-oauthlib-0.4.1 google-pasta-0.2.0 grpcio-1.27.2 h5py-2.10.0 idna-2.9 keras-applications-1.0.8 keras-preprocessing-1.1.0 markdown-3.2.1 numpy-1.18.2 oauthlib-3.1.0 opt-einsum-3.2.0 protobuf-3.11.3 pyasn1-0.4.8 pyasn1-modules-0.2.8 requests-2.23.0 requests-oauthlib-1.3.0 rsa-4.0 setuptools-46.1.3 six-1.14.0 tensorboard-2.1.1 tensorflow-2.2.0rc1 tensorflow-estimator-2.2.0rc0 termcolor-1.1.0 urllib3-1.25.8 werkzeug-1.0.0 wheel-0.34.2 wrapt-1.12.1\n"
          ],
          "name": "stdout"
        },
        {
          "output_type": "display_data",
          "data": {
            "application/vnd.colab-display-data+json": {
              "pip_warning": {
                "packages": [
                  "cachetools",
                  "certifi",
                  "chardet",
                  "google",
                  "grpc",
                  "idna",
                  "numpy",
                  "pkg_resources",
                  "pyasn1",
                  "pyasn1_modules",
                  "requests",
                  "rsa",
                  "six",
                  "urllib3"
                ]
              }
            }
          },
          "metadata": {
            "tags": []
          }
        }
      ]
    },
    {
      "cell_type": "code",
      "metadata": {
        "id": "SzMHdbWubUZa",
        "colab_type": "code",
        "outputId": "9b7680a0-faaf-44ac-8305-9f46c170bd73",
        "colab": {
          "base_uri": "https://localhost:8080/",
          "height": 34
        }
      },
      "source": [
        "import tensorflow as tf\n",
        "print(tf.__version__)"
      ],
      "execution_count": 0,
      "outputs": [
        {
          "output_type": "stream",
          "text": [
            "2.0.0\n"
          ],
          "name": "stdout"
        }
      ]
    },
    {
      "cell_type": "code",
      "metadata": {
        "id": "dqG5TLaViY1A",
        "colab_type": "code",
        "outputId": "69dec626-e904-443d-f759-ae7fa908252c",
        "colab": {
          "base_uri": "https://localhost:8080/",
          "height": 394
        }
      },
      "source": [
        "from google.colab import drive\n",
        "drive.mount('/content/drive/')\n",
        "import sqlite3\n",
        "import pandas as pd\n",
        "conn = sqlite3.connect(\"/content/drive/My Drive/Colab Notebooks/Fake_News_DB.db\")\n",
        "data = pd.read_sql(\"SELECT * from fake_news\", conn)\n",
        "data.head(5)"
      ],
      "execution_count": 0,
      "outputs": [
        {
          "output_type": "stream",
          "text": [
            "Go to this URL in a browser: https://accounts.google.com/o/oauth2/auth?client_id=947318989803-6bn6qk8qdgf4n4g3pfee6491hc0brc4i.apps.googleusercontent.com&redirect_uri=urn%3aietf%3awg%3aoauth%3a2.0%3aoob&response_type=code&scope=email%20https%3a%2f%2fwww.googleapis.com%2fauth%2fdocs.test%20https%3a%2f%2fwww.googleapis.com%2fauth%2fdrive%20https%3a%2f%2fwww.googleapis.com%2fauth%2fdrive.photos.readonly%20https%3a%2f%2fwww.googleapis.com%2fauth%2fpeopleapi.readonly\n",
            "\n",
            "Enter your authorization code:\n",
            "··········\n",
            "Mounted at /content/drive/\n"
          ],
          "name": "stdout"
        },
        {
          "output_type": "execute_result",
          "data": {
            "text/html": [
              "<div>\n",
              "<style scoped>\n",
              "    .dataframe tbody tr th:only-of-type {\n",
              "        vertical-align: middle;\n",
              "    }\n",
              "\n",
              "    .dataframe tbody tr th {\n",
              "        vertical-align: top;\n",
              "    }\n",
              "\n",
              "    .dataframe thead th {\n",
              "        text-align: right;\n",
              "    }\n",
              "</style>\n",
              "<table border=\"1\" class=\"dataframe\">\n",
              "  <thead>\n",
              "    <tr style=\"text-align: right;\">\n",
              "      <th></th>\n",
              "      <th>id</th>\n",
              "      <th>url</th>\n",
              "      <th>title</th>\n",
              "      <th>content</th>\n",
              "      <th>author</th>\n",
              "      <th>date</th>\n",
              "      <th>tags</th>\n",
              "      <th>type_of_article</th>\n",
              "    </tr>\n",
              "  </thead>\n",
              "  <tbody>\n",
              "    <tr>\n",
              "      <th>0</th>\n",
              "      <td>0</td>\n",
              "      <td>https://panorama.pub/28367-rossiyanam-zapretya...</td>\n",
              "      <td>Россиянам запретят выкладывать в интернет непр...</td>\n",
              "      <td>В Госдуму внесён законопроект о «Защите положи...</td>\n",
              "      <td>Виталий Манн</td>\n",
              "      <td>2019-12-19</td>\n",
              "      <td>Политика</td>\n",
              "      <td>fake</td>\n",
              "    </tr>\n",
              "    <tr>\n",
              "      <th>1</th>\n",
              "      <td>1</td>\n",
              "      <td>https://panorama.pub/28365-amerikanskij-genera...</td>\n",
              "      <td>Американский генерал заявил о готовности стрел...</td>\n",
              "      <td>Командующий войсками Округа Колумбия генерал-л...</td>\n",
              "      <td>Бронислав Рубенштейн</td>\n",
              "      <td>2019-12-19</td>\n",
              "      <td>Политика</td>\n",
              "      <td>fake</td>\n",
              "    </tr>\n",
              "    <tr>\n",
              "      <th>2</th>\n",
              "      <td>2</td>\n",
              "      <td>https://panorama.pub/28356-donald-tramp-pohval...</td>\n",
              "      <td>Дональд Трамп похвалил Сталина</td>\n",
              "      <td>Президент США Дональд Трамп, отвечая на вопрос...</td>\n",
              "      <td>Виталий Манн</td>\n",
              "      <td>2019-12-19</td>\n",
              "      <td>Политика</td>\n",
              "      <td>fake</td>\n",
              "    </tr>\n",
              "    <tr>\n",
              "      <th>3</th>\n",
              "      <td>3</td>\n",
              "      <td>https://panorama.pub/27498-formalnym-osnovanie...</td>\n",
              "      <td>Формальным основанием для импичмента Трампа ст...</td>\n",
              "      <td>Палата представителей США определилась с форму...</td>\n",
              "      <td>Бронислав Рубенштейн</td>\n",
              "      <td>2019-12-18</td>\n",
              "      <td>Политика</td>\n",
              "      <td>fake</td>\n",
              "    </tr>\n",
              "    <tr>\n",
              "      <th>4</th>\n",
              "      <td>4</td>\n",
              "      <td>https://panorama.pub/28237-iran-oshibochno-pod...</td>\n",
              "      <td>Иранские моряки по ошибке подавили протесты в ...</td>\n",
              "      <td>Признавая, что они были полностью сбиты массой...</td>\n",
              "      <td>Диана Арутюнян</td>\n",
              "      <td>2019-12-18</td>\n",
              "      <td>Политика</td>\n",
              "      <td>fake</td>\n",
              "    </tr>\n",
              "  </tbody>\n",
              "</table>\n",
              "</div>"
            ],
            "text/plain": [
              "  id  ... type_of_article\n",
              "0  0  ...            fake\n",
              "1  1  ...            fake\n",
              "2  2  ...            fake\n",
              "3  3  ...            fake\n",
              "4  4  ...            fake\n",
              "\n",
              "[5 rows x 8 columns]"
            ]
          },
          "metadata": {
            "tags": []
          },
          "execution_count": 2
        }
      ]
    },
    {
      "cell_type": "code",
      "metadata": {
        "id": "wAAPsmShi2qC",
        "colab_type": "code",
        "colab": {}
      },
      "source": [
        "y = {'real': 0, 'fake': 1}\n",
        "data['y'] = data['type_of_article'].map(lambda x: y[x])\n",
        "\n",
        "data_X = data['content']\n",
        "data_y = data['y']"
      ],
      "execution_count": 0,
      "outputs": []
    },
    {
      "cell_type": "code",
      "metadata": {
        "id": "kDXzDeR-lz4U",
        "colab_type": "code",
        "outputId": "19aa0aba-7cbf-401f-dc5c-496c522243d8",
        "colab": {
          "base_uri": "https://localhost:8080/",
          "height": 221
        }
      },
      "source": [
        "data_X"
      ],
      "execution_count": 0,
      "outputs": [
        {
          "output_type": "execute_result",
          "data": {
            "text/plain": [
              "0       госдуму внесён законопроект защите положительн...\n",
              "1       командующий войсками округа колумбия генерал -...\n",
              "2       президент сша дональд трамп отвечая вопросы ст...\n",
              "3       палата представителей сша определилась формули...\n",
              "4       признавая полностью сбиты массой людей недовол...\n",
              "                              ...                        \n",
              "4917    ханты - мансийск 18 дек - риа новости ученые в...\n",
              "4918    москва 18 дек риа новости ученые крымского фед...\n",
              "4919    москва 18 дек риа новости ученые московского г...\n",
              "4920    москва 18 дек риа новости ученые самарского ун...\n",
              "4921    москва 18 дек риа новости татьяна пичугина арх...\n",
              "Name: content, Length: 4922, dtype: object"
            ]
          },
          "metadata": {
            "tags": []
          },
          "execution_count": 75
        }
      ]
    },
    {
      "cell_type": "code",
      "metadata": {
        "id": "_U4dZujSkk4Z",
        "colab_type": "code",
        "outputId": "c2b5ab45-8f2a-4f53-ac2a-5b6ccc2bc272",
        "colab": {
          "base_uri": "https://localhost:8080/",
          "height": 68
        }
      },
      "source": [
        "data['type_of_article'].value_counts()"
      ],
      "execution_count": 0,
      "outputs": [
        {
          "output_type": "execute_result",
          "data": {
            "text/plain": [
              "fake    2870\n",
              "real    2052\n",
              "Name: type_of_article, dtype: int64"
            ]
          },
          "metadata": {
            "tags": []
          },
          "execution_count": 76
        }
      ]
    },
    {
      "cell_type": "code",
      "metadata": {
        "id": "r4nnEGV1lGWE",
        "colab_type": "code",
        "colab": {}
      },
      "source": [
        "data_X = data_X[1300:]"
      ],
      "execution_count": 0,
      "outputs": []
    },
    {
      "cell_type": "code",
      "metadata": {
        "id": "Owg8h_cnlZRC",
        "colab_type": "code",
        "outputId": "8bae5c73-41a0-4b44-8d58-f4f3096f75b8",
        "colab": {
          "base_uri": "https://localhost:8080/",
          "height": 221
        }
      },
      "source": [
        "data_X"
      ],
      "execution_count": 0,
      "outputs": [
        {
          "output_type": "execute_result",
          "data": {
            "text/plain": [
              "1300    серия приключенческих фильмов пираты карибског...\n",
              "1301    неожиданную пользу лесных пожаров бушующих рег...\n",
              "1302    финал международного фестиваля армянской культ...\n",
              "1303    роспотребнадзор обновил требования заведениям ...\n",
              "1304    компания яндекс опубликовала первые статистиче...\n",
              "                              ...                        \n",
              "4917    ханты - мансийск 18 дек - риа новости ученые в...\n",
              "4918    москва 18 дек риа новости ученые крымского фед...\n",
              "4919    москва 18 дек риа новости ученые московского г...\n",
              "4920    москва 18 дек риа новости ученые самарского ун...\n",
              "4921    москва 18 дек риа новости татьяна пичугина арх...\n",
              "Name: content, Length: 3622, dtype: object"
            ]
          },
          "metadata": {
            "tags": []
          },
          "execution_count": 78
        }
      ]
    },
    {
      "cell_type": "code",
      "metadata": {
        "id": "su8GDNlVmQTg",
        "colab_type": "code",
        "colab": {}
      },
      "source": [
        "data_y = data_y[1300:]"
      ],
      "execution_count": 0,
      "outputs": []
    },
    {
      "cell_type": "code",
      "metadata": {
        "id": "Q9ltehqpmfnc",
        "colab_type": "code",
        "outputId": "d3c443a9-db48-4f32-d4a1-c21c309d680e",
        "colab": {
          "base_uri": "https://localhost:8080/",
          "height": 85
        }
      },
      "source": [
        "!pip install pymorphy2==0.8"
      ],
      "execution_count": 0,
      "outputs": [
        {
          "output_type": "stream",
          "text": [
            "Requirement already satisfied: pymorphy2==0.8 in /usr/local/lib/python3.6/dist-packages (0.8)\n",
            "Requirement already satisfied: dawg-python>=0.7 in /usr/local/lib/python3.6/dist-packages (from pymorphy2==0.8) (0.7.2)\n",
            "Requirement already satisfied: docopt>=0.6 in /usr/local/lib/python3.6/dist-packages (from pymorphy2==0.8) (0.6.2)\n",
            "Requirement already satisfied: pymorphy2-dicts<3.0,>=2.4 in /usr/local/lib/python3.6/dist-packages (from pymorphy2==0.8) (2.4.393442.3710985)\n"
          ],
          "name": "stdout"
        }
      ]
    },
    {
      "cell_type": "code",
      "metadata": {
        "id": "67aOjOrFlYNa",
        "colab_type": "code",
        "colab": {}
      },
      "source": [
        "from spacy.lang.ru import Russian\n",
        "nlp = Russian()"
      ],
      "execution_count": 0,
      "outputs": []
    },
    {
      "cell_type": "code",
      "metadata": {
        "id": "i1yb-GWOnZyD",
        "colab_type": "code",
        "outputId": "a058b6dd-594b-4187-cf99-b752a83b8925",
        "colab": {
          "base_uri": "https://localhost:8080/",
          "height": 68
        }
      },
      "source": [
        "import nltk\n",
        "nltk.download('stopwords')"
      ],
      "execution_count": 0,
      "outputs": [
        {
          "output_type": "stream",
          "text": [
            "[nltk_data] Downloading package stopwords to /root/nltk_data...\n",
            "[nltk_data]   Package stopwords is already up-to-date!\n"
          ],
          "name": "stdout"
        },
        {
          "output_type": "execute_result",
          "data": {
            "text/plain": [
              "True"
            ]
          },
          "metadata": {
            "tags": []
          },
          "execution_count": 83
        }
      ]
    },
    {
      "cell_type": "code",
      "metadata": {
        "id": "q0KfRxqAnook",
        "colab_type": "code",
        "outputId": "23b4919d-308d-426a-f0b5-f1e6d77f8c25",
        "colab": {
          "base_uri": "https://localhost:8080/",
          "height": 51
        }
      },
      "source": [
        "import nltk\n",
        "from nltk.corpus import stopwords\n",
        "from string import punctuation\n",
        "\n",
        "sw = set(stopwords.words(\"russian\"))\n",
        "nltk.download('punkt')\n",
        "\n",
        "def clean_text(text, sw):\n",
        "    text = nlp(text)\n",
        "    tokens = [token.text for token in text]\n",
        "    new_list = []\n",
        "    nodes = [',', '*', '\"', '.', '\\'', '“', '”', '’', '‘', '，', '»', '—', '«']\n",
        "    for token in tokens:\n",
        "        if token.lower() not in sw and token.lower() not in nodes:\n",
        "            new_list.append(token.lower())\n",
        "    return new_list\n",
        "\n",
        "for i in range(1300, 4921):\n",
        "    data_X[i] = clean_text(data_X[i], sw)\n",
        "\n",
        "for i in range(1300, 4921):\n",
        "    data_X[i] = ' '.join(data_X[i])"
      ],
      "execution_count": 0,
      "outputs": [
        {
          "output_type": "stream",
          "text": [
            "[nltk_data] Downloading package punkt to /root/nltk_data...\n",
            "[nltk_data]   Package punkt is already up-to-date!\n"
          ],
          "name": "stdout"
        }
      ]
    },
    {
      "cell_type": "code",
      "metadata": {
        "id": "Gb7m_9KmusbJ",
        "colab_type": "code",
        "outputId": "062d7b0c-53d4-4cca-8407-0be87e5ea268",
        "colab": {
          "base_uri": "https://localhost:8080/",
          "height": 54
        }
      },
      "source": [
        "data_X[1300]"
      ],
      "execution_count": 0,
      "outputs": [
        {
          "output_type": "execute_result",
          "data": {
            "text/plain": [
              "'серия приключенческих фильмов пираты карибского моря покорившая сердца миллионов зрителей всему миру получит долгожданное неожиданное развитие согласно заявлению официального представителя компания disney совместно продюсером джерри брукхаймером планирует съемки продолжения всемирно известной кинофраншизы пираты карибского моря рамках продолжения снято 4 фильма премьера первой части состоится 2020 году картина носить название пираты керченского пролива : петухи откладывают яйца аллегорически посвящена событиям керченском проливе смену центральному персонажу предыдущих картин – капитану джеку воробью придет роскошная плеяда настоящих морских волков живописных местечек житомиром рассказал брукхаймер также интервью продюсером стало известно сюжет развиваться вокруг приключений команды каперского судна ciрвiлiт пiдарешт парусном корабле мусорных контейнеров обшитом армейскими шконками разыскивающей внутреннем азове колесо генотьбы древний могущественный артефакт целью использовать силу прорыва керченской дамбы возведенной главным антагонистом серии российской федерацией'"
            ]
          },
          "metadata": {
            "tags": []
          },
          "execution_count": 87
        }
      ]
    },
    {
      "cell_type": "code",
      "metadata": {
        "id": "iYgIhpjOuwXa",
        "colab_type": "code",
        "outputId": "6ba2b69b-affb-417d-a0dc-9272e0d3db8a",
        "colab": {
          "base_uri": "https://localhost:8080/",
          "height": 119
        }
      },
      "source": [
        "data_X.head(5)"
      ],
      "execution_count": 0,
      "outputs": [
        {
          "output_type": "execute_result",
          "data": {
            "text/plain": [
              "1300    серия приключенческих фильмов пираты карибског...\n",
              "1301    неожиданную пользу лесных пожаров бушующих рег...\n",
              "1302    финал международного фестиваля армянской культ...\n",
              "1303    роспотребнадзор обновил требования заведениям ...\n",
              "1304    компания яндекс опубликовала первые статистиче...\n",
              "Name: content, dtype: object"
            ]
          },
          "metadata": {
            "tags": []
          },
          "execution_count": 88
        }
      ]
    },
    {
      "cell_type": "code",
      "metadata": {
        "id": "RAkKZT6Onbft",
        "colab_type": "code",
        "outputId": "5a17f0ab-f434-4bde-e88c-91180d2cfb49",
        "colab": {
          "base_uri": "https://localhost:8080/",
          "height": 34
        }
      },
      "source": [
        "data_X.shape"
      ],
      "execution_count": 0,
      "outputs": [
        {
          "output_type": "execute_result",
          "data": {
            "text/plain": [
              "(3622,)"
            ]
          },
          "metadata": {
            "tags": []
          },
          "execution_count": 93
        }
      ]
    },
    {
      "cell_type": "code",
      "metadata": {
        "id": "9vjf6MrVvBda",
        "colab_type": "code",
        "colab": {}
      },
      "source": [
        "from sklearn.feature_extraction.text import TfidfVectorizer"
      ],
      "execution_count": 0,
      "outputs": []
    },
    {
      "cell_type": "code",
      "metadata": {
        "id": "1z9OP1GQvGBm",
        "colab_type": "code",
        "outputId": "7b4e346e-74df-4cb6-d889-6c65cf4c864d",
        "colab": {
          "base_uri": "https://localhost:8080/",
          "height": 34
        }
      },
      "source": [
        "tf_idf = TfidfVectorizer()\n",
        "list_all_sent = []\n",
        "for sample in range(1300, 4922):\n",
        "  list_all_sent.append(data_X[sample])\n",
        "\n",
        "tf_data = tf_idf.fit_transform(list_all_sent)\n",
        "print(tf_data.shape)"
      ],
      "execution_count": 0,
      "outputs": [
        {
          "output_type": "stream",
          "text": [
            "(3622, 54637)\n"
          ],
          "name": "stdout"
        }
      ]
    },
    {
      "cell_type": "code",
      "metadata": {
        "id": "MzNFAFJbzTeg",
        "colab_type": "code",
        "colab": {}
      },
      "source": [
        "from keras.utils import to_categorical\n",
        "data_y = to_categorical(data_y)"
      ],
      "execution_count": 0,
      "outputs": []
    },
    {
      "cell_type": "code",
      "metadata": {
        "id": "O_-0D4Ccx6y5",
        "colab_type": "code",
        "colab": {}
      },
      "source": [
        "from sklearn.model_selection import train_test_split\n",
        "from tensorflow.keras.utils import to_categorical\n",
        "\n",
        "X_train, X_test, y_train, y_test = train_test_split(tf_data,  data_y, train_size = 0.7, shuffle=True)"
      ],
      "execution_count": 0,
      "outputs": []
    },
    {
      "cell_type": "code",
      "metadata": {
        "id": "ZZrkKo-qyNBq",
        "colab_type": "code",
        "colab": {}
      },
      "source": [
        "x_val = X_train[:300]\n",
        "partial_x_train = X_train[300:]\n",
        "y_val = y_train[:300]\n",
        "partial_y_train = y_train[300:]"
      ],
      "execution_count": 0,
      "outputs": []
    },
    {
      "cell_type": "code",
      "metadata": {
        "id": "05Hi_T8zySGm",
        "colab_type": "code",
        "outputId": "6b91decf-80ed-464b-8174-2c8164bd4b52",
        "colab": {
          "base_uri": "https://localhost:8080/",
          "height": 34
        }
      },
      "source": [
        "partial_y_train.shape"
      ],
      "execution_count": 0,
      "outputs": [
        {
          "output_type": "execute_result",
          "data": {
            "text/plain": [
              "(2235, 2)"
            ]
          },
          "metadata": {
            "tags": []
          },
          "execution_count": 97
        }
      ]
    },
    {
      "cell_type": "code",
      "metadata": {
        "id": "ZVCULLCmyTdn",
        "colab_type": "code",
        "outputId": "5ca6a002-6b76-4c53-a429-c033af209209",
        "colab": {
          "base_uri": "https://localhost:8080/",
          "height": 34
        }
      },
      "source": [
        "partial_x_train.shape"
      ],
      "execution_count": 0,
      "outputs": [
        {
          "output_type": "execute_result",
          "data": {
            "text/plain": [
              "(2235, 54637)"
            ]
          },
          "metadata": {
            "tags": []
          },
          "execution_count": 98
        }
      ]
    },
    {
      "cell_type": "code",
      "metadata": {
        "id": "avK9g1UDy0UV",
        "colab_type": "code",
        "colab": {}
      },
      "source": [
        "from tensorflow.keras import models\n",
        "from tensorflow.keras import layers"
      ],
      "execution_count": 0,
      "outputs": []
    },
    {
      "cell_type": "code",
      "metadata": {
        "id": "Sz4R-DNTyuxa",
        "colab_type": "code",
        "colab": {}
      },
      "source": [
        "model = models.Sequential()\n",
        "model.add(layers.Dense(32, activation='sigmoid', input_shape=(tf_data.shape[1],)))\n",
        "model.add(layers.Dense(64, activation='sigmoid'))\n",
        "model.add(layers.Dense(32, activation='relu'))\n",
        "model.add(layers.Dense(2, activation='softmax'))"
      ],
      "execution_count": 0,
      "outputs": []
    },
    {
      "cell_type": "code",
      "metadata": {
        "id": "hnVxTfsOy9g-",
        "colab_type": "code",
        "colab": {}
      },
      "source": [
        "model.compile(optimizer='rmsprop',\n",
        "              loss='categorical_crossentropy',\n",
        "              metrics=['accuracy'])"
      ],
      "execution_count": 0,
      "outputs": []
    },
    {
      "cell_type": "code",
      "metadata": {
        "id": "ru9A_m_rzCPi",
        "colab_type": "code",
        "outputId": "17150f6d-f403-4f06-a733-d3198ed281eb",
        "colab": {
          "base_uri": "https://localhost:8080/",
          "height": 479
        }
      },
      "source": [
        "history = model.fit(partial_x_train,\n",
        "                    partial_y_train,\n",
        "                    epochs=12,\n",
        "                    batch_size=300,\n",
        "                    validation_data=(x_val, y_val)\n",
        "                    )"
      ],
      "execution_count": 0,
      "outputs": [
        {
          "output_type": "stream",
          "text": [
            "WARNING:tensorflow:Falling back from v2 loop because of error: Failed to find data adapter that can handle input: <class 'scipy.sparse.csr.csr_matrix'>, <class 'NoneType'>\n",
            "Train on 2235 samples, validate on 300 samples\n",
            "Epoch 1/12\n",
            "2235/2235 [==============================] - 1s 660us/sample - loss: 0.7099 - accuracy: 0.5714 - val_loss: 0.6745 - val_accuracy: 0.5600\n",
            "Epoch 2/12\n",
            "2235/2235 [==============================] - 1s 608us/sample - loss: 0.6648 - accuracy: 0.5714 - val_loss: 0.6630 - val_accuracy: 0.9867\n",
            "Epoch 3/12\n",
            "2235/2235 [==============================] - 1s 601us/sample - loss: 0.6466 - accuracy: 0.6304 - val_loss: 0.6372 - val_accuracy: 0.5600\n",
            "Epoch 4/12\n",
            "2235/2235 [==============================] - 1s 595us/sample - loss: 0.6157 - accuracy: 0.6318 - val_loss: 0.6009 - val_accuracy: 0.9867\n",
            "Epoch 5/12\n",
            "2235/2235 [==============================] - 1s 599us/sample - loss: 0.5728 - accuracy: 0.7996 - val_loss: 0.5481 - val_accuracy: 0.7733\n",
            "Epoch 6/12\n",
            "2235/2235 [==============================] - 1s 596us/sample - loss: 0.5039 - accuracy: 0.9875 - val_loss: 0.4869 - val_accuracy: 0.9667\n",
            "Epoch 7/12\n",
            "2235/2235 [==============================] - 1s 603us/sample - loss: 0.4236 - accuracy: 0.9946 - val_loss: 0.3931 - val_accuracy: 1.0000\n",
            "Epoch 8/12\n",
            "2235/2235 [==============================] - 1s 597us/sample - loss: 0.3328 - accuracy: 0.9982 - val_loss: 0.3074 - val_accuracy: 1.0000\n",
            "Epoch 9/12\n",
            "2235/2235 [==============================] - 1s 612us/sample - loss: 0.2463 - accuracy: 0.9991 - val_loss: 0.2316 - val_accuracy: 1.0000\n",
            "Epoch 10/12\n",
            "2235/2235 [==============================] - 1s 601us/sample - loss: 0.1715 - accuracy: 1.0000 - val_loss: 0.1616 - val_accuracy: 1.0000\n",
            "Epoch 11/12\n",
            "2235/2235 [==============================] - 1s 601us/sample - loss: 0.1136 - accuracy: 1.0000 - val_loss: 0.1129 - val_accuracy: 1.0000\n",
            "Epoch 12/12\n",
            "2235/2235 [==============================] - 1s 603us/sample - loss: 0.0730 - accuracy: 1.0000 - val_loss: 0.0753 - val_accuracy: 1.0000\n"
          ],
          "name": "stdout"
        }
      ]
    },
    {
      "cell_type": "code",
      "metadata": {
        "id": "NxRLQbtBz--i",
        "colab_type": "code",
        "outputId": "61bb3d31-f10b-43bf-fdbb-637702d70e5f",
        "colab": {
          "base_uri": "https://localhost:8080/",
          "height": 295
        }
      },
      "source": [
        "import matplotlib.pyplot as plt\n",
        "\n",
        "history_dict = history.history\n",
        "loss_values = history_dict['loss']\n",
        "val_loss_values = history_dict['val_loss']\n",
        "\n",
        "epochs = range(1, len(history.epoch) + 1)\n",
        "\n",
        "plt.plot(epochs, loss_values, 'r', label='Training loss')\n",
        "plt.plot(epochs, val_loss_values, 'b', label='Validation loss')\n",
        "plt.title('Training and validation loss')\n",
        "plt.xlabel('Epochs')\n",
        "plt.ylabel('Loss')\n",
        "plt.legend()\n",
        "\n",
        "plt.show()"
      ],
      "execution_count": 0,
      "outputs": [
        {
          "output_type": "display_data",
          "data": {
            "image/png": "[encoded data removed]",
            "text/plain": [
              "<Figure size 432x288 with 1 Axes>"
            ]
          },
          "metadata": {
            "tags": []
          }
        }
      ]
    },
    {
      "cell_type": "code",
      "metadata": {
        "id": "QYFCOF0r3SBr",
        "colab_type": "code",
        "outputId": "475ca083-c40a-4187-c42c-982a6bd2ff4a",
        "colab": {
          "base_uri": "https://localhost:8080/",
          "height": 54
        }
      },
      "source": [
        "predictions = model.predict(X_test)"
      ],
      "execution_count": 0,
      "outputs": [
        {
          "output_type": "stream",
          "text": [
            "WARNING:tensorflow:Falling back from v2 loop because of error: Failed to find data adapter that can handle input: <class 'scipy.sparse.csr.csr_matrix'>, <class 'NoneType'>\n"
          ],
          "name": "stdout"
        }
      ]
    },
    {
      "cell_type": "code",
      "metadata": {
        "id": "06ysHy7X3Zz8",
        "colab_type": "code",
        "outputId": "f2d4940a-4567-40e6-bedc-5e41ba99d9ec",
        "colab": {
          "base_uri": "https://localhost:8080/",
          "height": 34
        }
      },
      "source": [
        "predictions[0]"
      ],
      "execution_count": 0,
      "outputs": [
        {
          "output_type": "execute_result",
          "data": {
            "text/plain": [
              "array([0.97994435, 0.02005563], dtype=float32)"
            ]
          },
          "metadata": {
            "tags": []
          },
          "execution_count": 109
        }
      ]
    },
    {
      "cell_type": "code",
      "metadata": {
        "id": "mSmg70Qi3fJU",
        "colab_type": "code",
        "outputId": "90dc1bb4-7e06-45f9-f79c-cc18ce23aa49",
        "colab": {
          "base_uri": "https://localhost:8080/",
          "height": 34
        }
      },
      "source": [
        "y_test[0]"
      ],
      "execution_count": 0,
      "outputs": [
        {
          "output_type": "execute_result",
          "data": {
            "text/plain": [
              "array([1., 0.], dtype=float32)"
            ]
          },
          "metadata": {
            "tags": []
          },
          "execution_count": 110
        }
      ]
    },
    {
      "cell_type": "code",
      "metadata": {
        "id": "C-w9Twf73zZp",
        "colab_type": "code",
        "outputId": "e0e8f407-9cba-429c-b93b-311832244746",
        "colab": {
          "base_uri": "https://localhost:8080/",
          "height": 34
        }
      },
      "source": [
        "predictions[1]"
      ],
      "execution_count": 0,
      "outputs": [
        {
          "output_type": "execute_result",
          "data": {
            "text/plain": [
              "array([0.07613866, 0.9238613 ], dtype=float32)"
            ]
          },
          "metadata": {
            "tags": []
          },
          "execution_count": 111
        }
      ]
    },
    {
      "cell_type": "code",
      "metadata": {
        "id": "oyRBsC2x34ib",
        "colab_type": "code",
        "outputId": "ec003575-c52c-443a-b086-17792b5ba4ef",
        "colab": {
          "base_uri": "https://localhost:8080/",
          "height": 34
        }
      },
      "source": [
        "y_test[1]"
      ],
      "execution_count": 0,
      "outputs": [
        {
          "output_type": "execute_result",
          "data": {
            "text/plain": [
              "array([0., 1.], dtype=float32)"
            ]
          },
          "metadata": {
            "tags": []
          },
          "execution_count": 112
        }
      ]
    },
    {
      "cell_type": "code",
      "metadata": {
        "id": "wEDv4q1pofWL",
        "colab_type": "code",
        "colab": {}
      },
      "source": [
        "new_articles = ['''Обновлённая редакция правил русского языка, заверенная в РАН, поступила во все министерства, ведомства и прочие государственные организации. Особое внимание лингвисты попросили уделить Минтруда на изменения названия некоторых профессий. В частности, регистраторы браков в ЗАГСах официально поменяют профессию и будут по новым языковым нормам именоваться бракоделами. Соответствующие изменения рекомендованы к внесению во все нормативно-правовые акты и документы, а также в трудовые книжки. «Основные языковые изменения направлены на сохранение идентичности языка и замены иностранных слов исконно русскими. Зачем мы используем иностранное слово «регистратор», если есть прекрасное слово «бракодел». Делать брак – хорошее дело, помогать людям объединяться в ячейки общество – это прекрасно. Думаю, сотрудники ЗАГСов с пониманием отнесутся к переименованию их профессии», — сказала доктор лингвистических наук Сузанна Оганесян. В РАН добавили, что изменения коснутся слова «география», так как оно тоже имеет иностранное – греческое происхождение, её заменят русским аналогом «землеописание». Поскольку ранее существительное редко применялось в речи и официальных документах учёным потребуется время для определения прилагательных, которые будут приятны удобны для произношения и написания.''', ''' Диетолог Елена Соломатина рассказала \"Вечерней Москве\", в каких продуктах чаще всего встречается сальмонелла и какие меры предосторожности помогут снизить риск заболевания. По словам врача, сальмонелла очень часто встречается в мясе и рыбе, особенно если они долгое время пролежали в холодильнике. Поэтому Соломатина призвала при покупке обращать внимание на внешний вид и запах мяса и продуктов из него. \"Если мясо прижимаешь пальцем, и оно буквально проваливается, не возвращаясь в прежний вид, еще один признак испорченного продукта\", — пояснила врач. Кроме того, велик риск заразиться сальмонеллезом от молочной продукции. \"Особенно опасно фермерское молоко, которое еще не прошло процедуру пастеризации\", — уточнила Соломатина. Поэтому обязательно нужно покупать промаркированную \"молочку\" с актуальными сроками годности. Диетолог также призвала быть внимательным при покупке рыбы. По ее словам, сейчас в ней очень много бактерий. \"Особенно это касается речных сортов рыбы. Они фактически все непригодны для употребления. Даже заядлые рыбаки об этом говорят\", — подчеркнула Соломатина. Она также посоветовала тщательно промывать продукты проточной водой перед употреблением, подчеркнув, что даже фрукты и овощи могут быть источником сальмонеллы. Соломатина обратила внимание, что бактерией заражена каждая четвертая курица, поэтому необходимо быть очень внимательными при выборе яиц и мяса птицы. Она подчеркнула, что наличие опасной палочки никак не сказывается на вкусе продуктов, поэтому ее трудно определить при употреблении готовой пищи. \"Единственный способ не отравиться – это соблюдать нормы хранения продуктов и не покупать просроченную пищу\", — заключила Соломатина.''', '''Полотно французского художника Анри Матисса «Танец» уберут со всеобщего обозрения из Эрмитажа в Санкт-Петербурге из-за пропаганды сомнительных половых отношений. К выводу о необходимости изъятия картины из музея пришла экспертная комиссия по нравственности во главе с Виталием Милоновым. «Я на днях посетил Эрмитаж и увидел там огромное количество безнравственности. Особенно впечатлила меня картина, называющаяся «Танец», какие-то то ли бабы, то ли мужики, то ли трансгендеры танцуют голыми, предваряя грядущую оргию. И мы выставили это на всеобщее обозрение. Это видят дети, более того, мы говорим детям, что им нужно обязательно ходить в Эрмитаж или Третьяковку. Комиссия согласилась с моими доводами, и решение убрать это полотно с обозрения принято», — заявил Милонов. Дальнейшая судьба «Танца» остаётся неизвестной. Картина может остаться в фондах Эрмитажа или продана в одну из картинных галерей Европы. Виталий Милонов пообещал провести нравственную экспертизу и в других государственных музеях.''', ''' Двойную задачу перед главами муниципалитетов поставил губернатор Тверской облаcти Игорь Руденя. \"Мы сейчас концентрируемся на борьбе с коронавирусной инфекцией, защите людей и поддержке экономики, и вторая часть – это борьба с пожарами, палами травы и их профилактика. Главы муниципалитетов со своими коллегами должны начать активную работу по этому направлению, в том числе обход дачных участков\", - сказал глава региона на заседании рабочей группы по предупреждению завоза и распространения новой коронавирусной инфекции COVID-2019 в Тверской областид. Заедание прошло в виде видеоконференции. Руденя поручил главам муниципальных образований взять на личный контроль работу всех служб жизнеобеспечения на местах. По сообщению пресс-службы областного правительства, на данный момент в регионе подтверждены четыре случая заболевания новой коронавирусной инфекцией. Два человека уже выздоровели, 27 марта они выписаны из больницы. Ещё два пациента проходят лечение.''', '''Украденную из мемориального музея Бапу-Бхаван урну с прахом индийского национального лидера Махатмы Ганди нашли в подпольной лаборатории, занимавшейся нелегальным клонированием человека в городе Пуна. Полиции удалось обнаружить похищенную реликвию при помощи вмонтированного в урну GPS-передатчика. Помимо останков Ганди, в лаборатории обнаружены образцы человеческих тканей в сосудах с подписями «Владимир Ленин», «Адольф Гитлер», «Уинстон Черчилль», «Лев Троцкий» и «Бенедикт XVI». Следствию предстоит установить, действительно ли они содержат образцы ДНК исторических лидеров и с какой целью владельцы лаборатории держали их у себя. Поскольку клонирование человека в Индии находится под запретом, похитителям может грозить до 20 лет тюрьмы, а организаторам лаборатории – до 3 лет. «Мы очень удивились тому, что нашли в этом месте. Всё это надо изучать. Помнится, Сталин как-то сказал, что после смерти Ганди не с кем поговорить (источник перепутал Сталина с президентом В. Путиным – прим. ред.). Возможно, это и было целью преступников – клонировать Ганди, чтобы спросить у него о чём-то. Так или иначе, они осквернили прах отца народов Индии и должны понести за это суровое наказание», — сказал один из членов следственной группы.''', '''Президент России Владимир Путин провел совещание по ситуации вокруг коронавируса со своими полпредами в регионах. Он попросил их обеспечить выполнение поручений на местах и лично проконтролировать это. Ответом на провокации и злонамеренные домыслы должна стать уверенная работа и информирование людей, подчеркнул российский лидер. Путин напомнил, что на данный момент удалось предотвратить большой прирост заразившихся, а также призвал опираться на опыт других стран. \"Наши действия должны быть обоснованными и профессиональными. Именно такой подход позволил нам сегодня выиграть время, сдержать взрывное распространение коронавирусной инфекции в предыдущие недели. И этот запас по времени нам надо полностью и результативно использовать\", — сказал он. После этого президент перешел к конкретным мерам. Так, он призвал: —оценить возможности коечного фонда; —использовать схемы межрегионального взаимодействия и принимать больных из других субъектов; —в ближайшие дни завершить инвентаризацию медучреждений и создать единую базу данных; —развернуть дополнительные центры диагностики коронавируса в регионах; —обеспечить оперативную регистрацию тест-систем, как отечественных, так и зарубежных; —провести полную инвентаризацию аппаратов ИВЛ и проверить их готовность к работе; —обеспечить дополнительное обучение врачей для работы с ИВЛ; —создать дополнительный резерв лекарств, направленных против коронавируса; —своевременно выплачивать зарплату медикам. Путин поручил кабмину предусмотреть компенсации регионам при размещении на своей территории больных из других субъектов. \"Даже если сейчас меры по коронавирусу кажутся избыточными, береженого Бог бережет\", — подчеркнул он. Президент также призвал пожилых россиян оставаться дома, а остальных — проявлять заботу о близких. Он отдельно подчеркнул, что введенные в столице и Подмосковье меры оправданны, и призвал жителей этих регионов отнестись к этому со всей ответственностью. \"Главное сейчас — максимально локализовать источники распространения коронавируса\", — напомнил глава государства. В этой связи он поручил активнее выявлять тех граждан, которые в последние две недели вернулись из-за рубежа. Отдельно Путин затронул тему обеспечения населения всем необходимым. Аптеки, органы ЖКХ и продуктовые магазины продолжат работу на этой неделе, но на особых условиях, рассказал он. В первую очередь нужно обеспечить порядок обслуживания, который не допускает очередей. При этом на непрерывных производствах важно предусмотреть гибкий график работы с переводом сотрудников на удаленный режим, подчеркнул президент. Почему и кого будут наказывать за \"репост паники\" По товарам первой необходимости уже создан необходимый запас, заверил Путин, и поручил полпредам и губернаторам постоянно отслеживать ситуацию в торговле, не допускать локальных сбоев и завышения цен. \"Надо исключить любые попытки ограничить товарные потоки между регионами, жестко пресекать любые спекуляции, монопольное взвинчивание цен\", — подчеркнул он. Кабмину и Минфину поручено сформировать комплекс системных шагов и предусмотреть необходимое финансирование для устойчивости региональных бюджетов. \"Кабмин пополнит региональные фонды, чтобы у субъектов Федерации появились дополнительные возможности для поддержки кредитования бизнеса\", — пообещал Путин. Отсрочки по налогам и другие меры поддержки малого и среднего бизнеса скажутся на бюджетах регионов, у них могут возникать выпадающие доходы. При этом нельзя урезать текущие расходы, так как задача — без сбоев и в полном объеме финансировать запланированные программы и контракты, отметил глава государства. Пандемии COVID-19, первые случаи которого были зафиксированы в китайском городе Ухань в конце прошлого года, подвержены 177 стран. По данным ВОЗ, заразились как минимум 634 тысячи человек, свыше 30 тысяч умерли. Согласно статистике Университета Джонса Хопкинса, заболели уже более 732 тысяч человек, 34 686 скончались, 154 тысячи пациентов выздоровели. Первая по числу смертей от коронавируса — Италия (там количество погибших приближается к 11 тысячам), за ней следуют Испания, КНР, Иран, Франция и Великобритания. Наибольшее число зараженных зафиксировано в США — свыше 124 тысяч. В России зарегистрировано 1836 больных коронавирусом (1226 из них — в Москве), девять человек умерли, 66 вылечились. Последние данные о ситуации с COVID-19 в России и мире представлены на портале стопкоронавирус.рф.''']"
      ],
      "execution_count": 0,
      "outputs": []
    },
    {
      "cell_type": "code",
      "metadata": {
        "id": "Zbe5ZM3wdUmI",
        "colab_type": "code",
        "colab": {}
      },
      "source": [
        "for i, article in enumerate(new_articles):\n",
        "    new_articles[i] = clean_text(new_articles[i], sw)\n",
        "\n",
        "for i, article in enumerate(new_articles):\n",
        "    new_articles[i] = ' '.join(new_articles[i])"
      ],
      "execution_count": 0,
      "outputs": []
    },
    {
      "cell_type": "code",
      "metadata": {
        "id": "9icOwjMxb9N5",
        "colab_type": "code",
        "outputId": "dfdc6386-a823-4803-9f9d-54a53a1620e3",
        "colab": {
          "base_uri": "https://localhost:8080/",
          "height": 34
        }
      },
      "source": [
        "tf_new = tf_idf.transform(new_articles)\n",
        "print(tf_new.shape)"
      ],
      "execution_count": 0,
      "outputs": [
        {
          "output_type": "stream",
          "text": [
            "(6, 54637)\n"
          ],
          "name": "stdout"
        }
      ]
    },
    {
      "cell_type": "code",
      "metadata": {
        "id": "sjqWEmg8d1XZ",
        "colab_type": "code",
        "outputId": "88fca92f-5b49-4455-c1e1-9c2e64689b2c",
        "colab": {
          "base_uri": "https://localhost:8080/",
          "height": 54
        }
      },
      "source": [
        "new_predictions = model.predict(tf_new)"
      ],
      "execution_count": 0,
      "outputs": [
        {
          "output_type": "stream",
          "text": [
            "WARNING:tensorflow:Falling back from v2 loop because of error: Failed to find data adapter that can handle input: <class 'scipy.sparse.csr.csr_matrix'>, <class 'NoneType'>\n"
          ],
          "name": "stdout"
        }
      ]
    },
    {
      "cell_type": "code",
      "metadata": {
        "id": "Kny7ZheKd-fS",
        "colab_type": "code",
        "outputId": "e78780e2-3455-4c8d-8584-de9c94f59493",
        "colab": {
          "base_uri": "https://localhost:8080/",
          "height": 34
        }
      },
      "source": [
        "new_predictions[0]"
      ],
      "execution_count": 0,
      "outputs": [
        {
          "output_type": "execute_result",
          "data": {
            "text/plain": [
              "array([0.09995524, 0.90004474], dtype=float32)"
            ]
          },
          "metadata": {
            "tags": []
          },
          "execution_count": 117
        }
      ]
    },
    {
      "cell_type": "code",
      "metadata": {
        "id": "ZBWWvVuueEiQ",
        "colab_type": "code",
        "outputId": "5c9376aa-1fcc-417a-c1f7-2ce21e43dcbc",
        "colab": {
          "base_uri": "https://localhost:8080/",
          "height": 34
        }
      },
      "source": [
        "new_predictions[1]"
      ],
      "execution_count": 0,
      "outputs": [
        {
          "output_type": "execute_result",
          "data": {
            "text/plain": [
              "array([0.11868879, 0.8813112 ], dtype=float32)"
            ]
          },
          "metadata": {
            "tags": []
          },
          "execution_count": 118
        }
      ]
    },
    {
      "cell_type": "code",
      "metadata": {
        "id": "krg4piesey53",
        "colab_type": "code",
        "outputId": "362befab-f959-473c-bafb-9dd1c4dbc73d",
        "colab": {
          "base_uri": "https://localhost:8080/",
          "height": 34
        }
      },
      "source": [
        "new_predictions[2]"
      ],
      "execution_count": 0,
      "outputs": [
        {
          "output_type": "execute_result",
          "data": {
            "text/plain": [
              "array([0.08112919, 0.9188708 ], dtype=float32)"
            ]
          },
          "metadata": {
            "tags": []
          },
          "execution_count": 119
        }
      ]
    },
    {
      "cell_type": "code",
      "metadata": {
        "id": "ZnPNJ7b5filI",
        "colab_type": "code",
        "outputId": "690b577c-53c5-43fb-ac95-8bc8e215c66e",
        "colab": {
          "base_uri": "https://localhost:8080/",
          "height": 34
        }
      },
      "source": [
        "new_predictions[3]"
      ],
      "execution_count": 0,
      "outputs": [
        {
          "output_type": "execute_result",
          "data": {
            "text/plain": [
              "array([0.14478031, 0.8552197 ], dtype=float32)"
            ]
          },
          "metadata": {
            "tags": []
          },
          "execution_count": 120
        }
      ]
    },
    {
      "cell_type": "code",
      "metadata": {
        "id": "vRcRWW5vjuY1",
        "colab_type": "code",
        "outputId": "2eb5ac2a-a92e-4c1b-ba04-2423073d6208",
        "colab": {
          "base_uri": "https://localhost:8080/",
          "height": 34
        }
      },
      "source": [
        "new_predictions[4]"
      ],
      "execution_count": 0,
      "outputs": [
        {
          "output_type": "execute_result",
          "data": {
            "text/plain": [
              "array([0.1271146 , 0.87288547], dtype=float32)"
            ]
          },
          "metadata": {
            "tags": []
          },
          "execution_count": 126
        }
      ]
    },
    {
      "cell_type": "code",
      "metadata": {
        "id": "9pTFJy_2pNDp",
        "colab_type": "code",
        "outputId": "33d41216-0cd7-4e93-ff19-65dc26385822",
        "colab": {
          "base_uri": "https://localhost:8080/",
          "height": 34
        }
      },
      "source": [
        "new_predictions[5]"
      ],
      "execution_count": 0,
      "outputs": [
        {
          "output_type": "execute_result",
          "data": {
            "text/plain": [
              "array([0.10313572, 0.89686424], dtype=float32)"
            ]
          },
          "metadata": {
            "tags": []
          },
          "execution_count": 127
        }
      ]
    }
  ]
}