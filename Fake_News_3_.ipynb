{
  "nbformat": 4,
  "nbformat_minor": 0,
  "metadata": {
    "colab": {
      "name": "Fake News 3.ipynb",
      "provenance": [],
      "collapsed_sections": []
    },
    "kernelspec": {
      "name": "python3",
      "display_name": "Python 3"
    },
    "accelerator": "GPU"
  },
  "cells": [
    {
      "cell_type": "code",
      "metadata": {
        "id": "L5fHmMiZ0nyz",
        "colab_type": "code",
        "outputId": "7159489b-74d4-4ea8-b71f-8e3eaa2b7479",
        "colab": {
          "base_uri": "https://localhost:8080/",
          "height": 122
        }
      },
      "source": [
        "from google.colab import drive\n",
        "drive.mount('/content/drive')"
      ],
      "execution_count": 0,
      "outputs": [
        {
          "output_type": "stream",
          "text": [
            "Go to this URL in a browser: https://accounts.google.com/o/oauth2/auth?client_id=947318989803-6bn6qk8qdgf4n4g3pfee6491hc0brc4i.apps.googleusercontent.com&redirect_uri=urn%3aietf%3awg%3aoauth%3a2.0%3aoob&response_type=code&scope=email%20https%3a%2f%2fwww.googleapis.com%2fauth%2fdocs.test%20https%3a%2f%2fwww.googleapis.com%2fauth%2fdrive%20https%3a%2f%2fwww.googleapis.com%2fauth%2fdrive.photos.readonly%20https%3a%2f%2fwww.googleapis.com%2fauth%2fpeopleapi.readonly\n",
            "\n",
            "Enter your authorization code:\n",
            "··········\n",
            "Mounted at /content/drive\n"
          ],
          "name": "stdout"
        }
      ]
    },
    {
      "cell_type": "code",
      "metadata": {
        "id": "PeQmM0K00wIL",
        "colab_type": "code",
        "colab": {}
      },
      "source": [
        "import sqlite3\n",
        "import pandas as pd\n",
        "\n",
        "conn = sqlite3.connect(\"/content/drive/My Drive/Colab Notebooks/Fake_News_DB.db\")"
      ],
      "execution_count": 0,
      "outputs": []
    },
    {
      "cell_type": "code",
      "metadata": {
        "id": "5rLNzBAY0w3J",
        "colab_type": "code",
        "outputId": "ad8aebc5-0990-4075-dc9e-e7ed0b352467",
        "colab": {
          "base_uri": "https://localhost:8080/",
          "height": 742
        }
      },
      "source": [
        "data = pd.read_sql(\"SELECT * from fake_news\", conn)\n",
        "data"
      ],
      "execution_count": 0,
      "outputs": [
        {
          "output_type": "execute_result",
          "data": {
            "text/html": [
              "<div>\n",
              "<style scoped>\n",
              "    .dataframe tbody tr th:only-of-type {\n",
              "        vertical-align: middle;\n",
              "    }\n",
              "\n",
              "    .dataframe tbody tr th {\n",
              "        vertical-align: top;\n",
              "    }\n",
              "\n",
              "    .dataframe thead th {\n",
              "        text-align: right;\n",
              "    }\n",
              "</style>\n",
              "<table border=\"1\" class=\"dataframe\">\n",
              "  <thead>\n",
              "    <tr style=\"text-align: right;\">\n",
              "      <th></th>\n",
              "      <th>id</th>\n",
              "      <th>url</th>\n",
              "      <th>title</th>\n",
              "      <th>content</th>\n",
              "      <th>author</th>\n",
              "      <th>date</th>\n",
              "      <th>tags</th>\n",
              "      <th>type_of_article</th>\n",
              "    </tr>\n",
              "  </thead>\n",
              "  <tbody>\n",
              "    <tr>\n",
              "      <th>0</th>\n",
              "      <td>0</td>\n",
              "      <td>https://panorama.pub/28367-rossiyanam-zapretya...</td>\n",
              "      <td>Россиянам запретят выкладывать в интернет непр...</td>\n",
              "      <td>В Госдуму внесён законопроект о «Защите положи...</td>\n",
              "      <td>Виталий Манн</td>\n",
              "      <td>2019-12-19</td>\n",
              "      <td>Политика</td>\n",
              "      <td>fake</td>\n",
              "    </tr>\n",
              "    <tr>\n",
              "      <th>1</th>\n",
              "      <td>1</td>\n",
              "      <td>https://panorama.pub/28365-amerikanskij-genera...</td>\n",
              "      <td>Американский генерал заявил о готовности стрел...</td>\n",
              "      <td>Командующий войсками Округа Колумбия генерал-л...</td>\n",
              "      <td>Бронислав Рубенштейн</td>\n",
              "      <td>2019-12-19</td>\n",
              "      <td>Политика</td>\n",
              "      <td>fake</td>\n",
              "    </tr>\n",
              "    <tr>\n",
              "      <th>2</th>\n",
              "      <td>2</td>\n",
              "      <td>https://panorama.pub/28356-donald-tramp-pohval...</td>\n",
              "      <td>Дональд Трамп похвалил Сталина</td>\n",
              "      <td>Президент США Дональд Трамп, отвечая на вопрос...</td>\n",
              "      <td>Виталий Манн</td>\n",
              "      <td>2019-12-19</td>\n",
              "      <td>Политика</td>\n",
              "      <td>fake</td>\n",
              "    </tr>\n",
              "    <tr>\n",
              "      <th>3</th>\n",
              "      <td>3</td>\n",
              "      <td>https://panorama.pub/27498-formalnym-osnovanie...</td>\n",
              "      <td>Формальным основанием для импичмента Трампа ст...</td>\n",
              "      <td>Палата представителей США определилась с форму...</td>\n",
              "      <td>Бронислав Рубенштейн</td>\n",
              "      <td>2019-12-18</td>\n",
              "      <td>Политика</td>\n",
              "      <td>fake</td>\n",
              "    </tr>\n",
              "    <tr>\n",
              "      <th>4</th>\n",
              "      <td>4</td>\n",
              "      <td>https://panorama.pub/28237-iran-oshibochno-pod...</td>\n",
              "      <td>Иранские моряки по ошибке подавили протесты в ...</td>\n",
              "      <td>Признавая, что они были полностью сбиты массой...</td>\n",
              "      <td>Диана Арутюнян</td>\n",
              "      <td>2019-12-18</td>\n",
              "      <td>Политика</td>\n",
              "      <td>fake</td>\n",
              "    </tr>\n",
              "    <tr>\n",
              "      <th>...</th>\n",
              "      <td>...</td>\n",
              "      <td>...</td>\n",
              "      <td>...</td>\n",
              "      <td>...</td>\n",
              "      <td>...</td>\n",
              "      <td>...</td>\n",
              "      <td>...</td>\n",
              "      <td>...</td>\n",
              "    </tr>\n",
              "    <tr>\n",
              "      <th>4917</th>\n",
              "      <td>4917</td>\n",
              "      <td>https://ria.ru//20191218/1562514885.html</td>\n",
              "      <td>В тундре Ямала ученые встретили редчайшую для ...</td>\n",
              "      <td>ХАНТЫ-МАНСИЙСК, 18 дек - РИА Новости. Ученые в...</td>\n",
              "      <td>None</td>\n",
              "      <td>18.12.2019</td>\n",
              "      <td>РИА Наука, Земля - РИА Наука, Ямало-Ненецкий а...</td>\n",
              "      <td>real</td>\n",
              "    </tr>\n",
              "    <tr>\n",
              "      <th>4918</th>\n",
              "      <td>4918</td>\n",
              "      <td>https://ria.ru//20191218/1562488382.html</td>\n",
              "      <td>Ученые высветили \"новые грани\" кристаллов ниоб...</td>\n",
              "      <td>МОСКВА, 18 дек — РИА Новости. Ученые Крымского...</td>\n",
              "      <td>None</td>\n",
              "      <td>18.12.2019</td>\n",
              "      <td>РИА Наука, Университетская наука, Навигатор аб...</td>\n",
              "      <td>real</td>\n",
              "    </tr>\n",
              "    <tr>\n",
              "      <th>4919</th>\n",
              "      <td>4919</td>\n",
              "      <td>https://ria.ru//20191218/1562494415.html</td>\n",
              "      <td>Ученые узнали, как работа и хобби влияют на ри...</td>\n",
              "      <td>МОСКВА, 18 дек — РИА Новости. Ученые Московско...</td>\n",
              "      <td>None</td>\n",
              "      <td>18.12.2019</td>\n",
              "      <td>РИА Наука, Университетская наука, Навигатор аб...</td>\n",
              "      <td>real</td>\n",
              "    </tr>\n",
              "    <tr>\n",
              "      <th>4920</th>\n",
              "      <td>4920</td>\n",
              "      <td>https://ria.ru//20191218/1562497767.html</td>\n",
              "      <td>Доставка груза на орбиту подешевеет благодаря ...</td>\n",
              "      <td>МОСКВА, 18 дек — РИА Новости. Ученые Самарског...</td>\n",
              "      <td>None</td>\n",
              "      <td>18.12.2019</td>\n",
              "      <td>РИА Наука, Самарский университет, Университетс...</td>\n",
              "      <td>real</td>\n",
              "    </tr>\n",
              "    <tr>\n",
              "      <th>4921</th>\n",
              "      <td>4921</td>\n",
              "      <td>https://ria.ru//20191218/1562502424.html</td>\n",
              "      <td>Загадка дзёмон. Кем были предки японцев</td>\n",
              "      <td>МОСКВА, 18 дек — РИА Новости, Татьяна Пичугина...</td>\n",
              "      <td>None</td>\n",
              "      <td>18.12.2019</td>\n",
              "      <td>Новосибирск, РИА Наука, археологи, Российский ...</td>\n",
              "      <td>real</td>\n",
              "    </tr>\n",
              "  </tbody>\n",
              "</table>\n",
              "<p>4922 rows × 8 columns</p>\n",
              "</div>"
            ],
            "text/plain": [
              "        id  ... type_of_article\n",
              "0        0  ...            fake\n",
              "1        1  ...            fake\n",
              "2        2  ...            fake\n",
              "3        3  ...            fake\n",
              "4        4  ...            fake\n",
              "...    ...  ...             ...\n",
              "4917  4917  ...            real\n",
              "4918  4918  ...            real\n",
              "4919  4919  ...            real\n",
              "4920  4920  ...            real\n",
              "4921  4921  ...            real\n",
              "\n",
              "[4922 rows x 8 columns]"
            ]
          },
          "metadata": {
            "tags": []
          },
          "execution_count": 3
        }
      ]
    },
    {
      "cell_type": "markdown",
      "metadata": {
        "id": "1Mm-zoZR0yaR",
        "colab_type": "text"
      },
      "source": [
        "### Getting the Botometer Running"
      ]
    },
    {
      "cell_type": "code",
      "metadata": {
        "id": "rzqfRnrOZDIv",
        "colab_type": "code",
        "outputId": "ce2b02dc-b881-4469-c0bb-e589fe3b7627",
        "colab": {
          "base_uri": "https://localhost:8080/",
          "height": 340
        }
      },
      "source": [
        "!pip install botometer"
      ],
      "execution_count": 0,
      "outputs": [
        {
          "output_type": "stream",
          "text": [
            "Collecting botometer\n",
            "  Downloading https://files.pythonhosted.org/packages/ac/18/49b1acb456765ee18d3afc3cac718225c196c06bea18e752d478153edcc5/botometer-1.4.tar.gz\n",
            "Requirement already satisfied: requests in /usr/local/lib/python3.6/dist-packages (from botometer) (2.21.0)\n",
            "Requirement already satisfied: tweepy>=3.5.0 in /usr/local/lib/python3.6/dist-packages (from botometer) (3.6.0)\n",
            "Requirement already satisfied: idna<2.9,>=2.5 in /usr/local/lib/python3.6/dist-packages (from requests->botometer) (2.8)\n",
            "Requirement already satisfied: chardet<3.1.0,>=3.0.2 in /usr/local/lib/python3.6/dist-packages (from requests->botometer) (3.0.4)\n",
            "Requirement already satisfied: certifi>=2017.4.17 in /usr/local/lib/python3.6/dist-packages (from requests->botometer) (2019.11.28)\n",
            "Requirement already satisfied: urllib3<1.25,>=1.21.1 in /usr/local/lib/python3.6/dist-packages (from requests->botometer) (1.24.3)\n",
            "Requirement already satisfied: six>=1.10.0 in /usr/local/lib/python3.6/dist-packages (from tweepy>=3.5.0->botometer) (1.12.0)\n",
            "Requirement already satisfied: requests-oauthlib>=0.7.0 in /usr/local/lib/python3.6/dist-packages (from tweepy>=3.5.0->botometer) (1.3.0)\n",
            "Requirement already satisfied: PySocks>=1.5.7 in /usr/local/lib/python3.6/dist-packages (from tweepy>=3.5.0->botometer) (1.7.1)\n",
            "Requirement already satisfied: oauthlib>=3.0.0 in /usr/local/lib/python3.6/dist-packages (from requests-oauthlib>=0.7.0->tweepy>=3.5.0->botometer) (3.1.0)\n",
            "Building wheels for collected packages: botometer\n",
            "  Building wheel for botometer (setup.py) ... \u001b[?25l\u001b[?25hdone\n",
            "  Created wheel for botometer: filename=botometer-1.4-cp36-none-any.whl size=2874 sha256=1c0ba89cffd264521e7b34cb5887645d4c72e5469842f62311c114b413cba3c8\n",
            "  Stored in directory: /root/.cache/pip/wheels/54/65/0b/ce361d6acc341ed4479c4346cd038f8bc462d92287745f5231\n",
            "Successfully built botometer\n",
            "Installing collected packages: botometer\n",
            "Successfully installed botometer-1.4\n"
          ],
          "name": "stdout"
        }
      ]
    },
    {
      "cell_type": "code",
      "metadata": {
        "id": "yafPzvy8W0-t",
        "colab_type": "code",
        "colab": {}
      },
      "source": [
        "import pandas as pd \n",
        "import matplotlib.pyplot as plt\n",
        "import botometer"
      ],
      "execution_count": 0,
      "outputs": []
    },
    {
      "cell_type": "code",
      "metadata": {
        "id": "94HjRw4C00LC",
        "colab_type": "code",
        "outputId": "69658786-45d3-4ef4-b94c-3df539731aa5",
        "colab": {
          "base_uri": "https://localhost:8080/",
          "height": 34
        }
      },
      "source": [
        "# Seeing how many types of articles there are in my dataframe \n",
        "data['type_of_article'].nunique()"
      ],
      "execution_count": 0,
      "outputs": [
        {
          "output_type": "execute_result",
          "data": {
            "text/plain": [
              "2"
            ]
          },
          "metadata": {
            "tags": []
          },
          "execution_count": 6
        }
      ]
    },
    {
      "cell_type": "code",
      "metadata": {
        "id": "aho6RWWq1Qpk",
        "colab_type": "code",
        "colab": {}
      },
      "source": [
        "# Putting types of article in a list for processing in the botometer \n",
        "type_of_article_list = data['type_of_article'].tolist()"
      ],
      "execution_count": 0,
      "outputs": []
    },
    {
      "cell_type": "code",
      "metadata": {
        "id": "QI8ToYsC1ci4",
        "colab_type": "code",
        "colab": {}
      },
      "source": [
        "rapidapi_key = \"XXXXXXXXXXX\" # now it's called rapidapi key\n",
        "app_auth = {\n",
        "    'consumer_key': 'XXXXXXXXXX',\n",
        "    'consumer_secret': 'XXXXXXXXXX',\n",
        "    'access_token': 'XXXXXXXXXX',\n",
        "    'access_token_secret': 'XXXXXXXXXX',\n",
        "  }\n",
        "bom = botometer.Botometer(wait_on_ratelimit=True,\n",
        "                          rapidapi_key=rapidapi_key,\n",
        "                          **app_auth)"
      ],
      "execution_count": 0,
      "outputs": []
    },
    {
      "cell_type": "code",
      "metadata": {
        "id": "9pV5XZmA2FRT",
        "colab_type": "code",
        "colab": {}
      },
      "source": [
        "# Check a sequence of sources\n",
        "results = []    \n",
        "sources = type_of_article_list\n",
        "for screen_name, result in bom.check_accounts_in(sources):\n",
        "    results.append(result)"
      ],
      "execution_count": 0,
      "outputs": []
    },
    {
      "cell_type": "code",
      "metadata": {
        "id": "uA3AnDWaV1cU",
        "colab_type": "code",
        "colab": {}
      },
      "source": [
        "# Checking the length of my results to make sure I got what I was expecting \n",
        "len(results)"
      ],
      "execution_count": 0,
      "outputs": []
    },
    {
      "cell_type": "code",
      "metadata": {
        "id": "Mr428cF9crZt",
        "colab_type": "code",
        "outputId": "95295761-4a34-418f-8381-ca216e9f3243",
        "colab": {
          "base_uri": "https://localhost:8080/",
          "height": 54
        }
      },
      "source": [
        "print(results[1000:3000])"
      ],
      "execution_count": 0,
      "outputs": [
        {
          "output_type": "stream",
          "text": [
            "[{'error': \"TweepError: [{'code': 89, 'message': 'Invalid or expired token.'}]\"}, {'error': \"TweepError: [{'code': 89, 'message': 'Invalid or expired token.'}]\"}, {'error': \"TweepError: [{'code': 89, 'message': 'Invalid or expired token.'}]\"}, {'error': \"TweepError: [{'code': 89, 'message': 'Invalid or expired token.'}]\"}, {'error': \"TweepError: [{'code': 89, 'message': 'Invalid or expired token.'}]\"}, {'error': \"TweepError: [{'code': 89, 'message': 'Invalid or expired token.'}]\"}, {'error': \"TweepError: [{'code': 89, 'message': 'Invalid or expired token.'}]\"}, {'error': \"TweepError: [{'code': 89, 'message': 'Invalid or expired token.'}]\"}, {'error': \"TweepError: [{'code': 89, 'message': 'Invalid or expired token.'}]\"}, {'error': \"TweepError: [{'code': 89, 'message': 'Invalid or expired token.'}]\"}, {'error': \"TweepError: [{'code': 89, 'message': 'Invalid or expired token.'}]\"}, {'error': \"TweepError: [{'code': 89, 'message': 'Invalid or expired token.'}]\"}, {'error': \"TweepError: [{'code': 89, 'message': 'Invalid or expired token.'}]\"}, {'error': \"TweepError: [{'code': 89, 'message': 'Invalid or expired token.'}]\"}, {'error': \"TweepError: [{'code': 89, 'message': 'Invalid or expired token.'}]\"}, {'error': \"TweepError: [{'code': 89, 'message': 'Invalid or expired token.'}]\"}, {'error': \"TweepError: [{'code': 89, 'message': 'Invalid or expired token.'}]\"}, {'error': \"TweepError: [{'code': 89, 'message': 'Invalid or expired token.'}]\"}, {'error': \"TweepError: [{'code': 89, 'message': 'Invalid or expired token.'}]\"}, {'error': \"TweepError: [{'code': 89, 'message': 'Invalid or expired token.'}]\"}, {'error': \"TweepError: [{'code': 89, 'message': 'Invalid or expired token.'}]\"}, {'error': \"TweepError: [{'code': 89, 'message': 'Invalid or expired token.'}]\"}, {'error': \"TweepError: [{'code': 89, 'message': 'Invalid or expired token.'}]\"}, {'error': \"TweepError: [{'code': 89, 'message': 'Invalid or expired token.'}]\"}, {'error': \"TweepError: [{'code': 89, 'message': 'Invalid or expired token.'}]\"}, {'error': \"TweepError: [{'code': 89, 'message': 'Invalid or expired token.'}]\"}, {'error': \"TweepError: [{'code': 89, 'message': 'Invalid or expired token.'}]\"}, {'error': \"TweepError: [{'code': 89, 'message': 'Invalid or expired token.'}]\"}, {'error': \"TweepError: [{'code': 89, 'message': 'Invalid or expired token.'}]\"}, {'error': \"TweepError: [{'code': 89, 'message': 'Invalid or expired token.'}]\"}, {'error': \"TweepError: [{'code': 89, 'message': 'Invalid or expired token.'}]\"}, {'error': \"TweepError: [{'code': 89, 'message': 'Invalid or expired token.'}]\"}, {'error': \"TweepError: [{'code': 89, 'message': 'Invalid or expired token.'}]\"}, {'error': \"TweepError: [{'code': 89, 'message': 'Invalid or expired token.'}]\"}, {'error': \"TweepError: [{'code': 89, 'message': 'Invalid or expired token.'}]\"}, {'error': \"TweepError: [{'code': 89, 'message': 'Invalid or expired token.'}]\"}, {'error': \"TweepError: [{'code': 89, 'message': 'Invalid or expired token.'}]\"}, {'error': \"TweepError: [{'code': 89, 'message': 'Invalid or expired token.'}]\"}, {'error': \"TweepError: [{'code': 89, 'message': 'Invalid or expired token.'}]\"}, {'error': \"TweepError: [{'code': 89, 'message': 'Invalid or expired token.'}]\"}, {'error': \"TweepError: [{'code': 89, 'message': 'Invalid or expired token.'}]\"}, {'error': \"TweepError: [{'code': 89, 'message': 'Invalid or expired token.'}]\"}, {'error': \"TweepError: [{'code': 89, 'message': 'Invalid or expired token.'}]\"}, {'error': \"TweepError: [{'code': 89, 'message': 'Invalid or expired token.'}]\"}, {'error': \"TweepError: [{'code': 89, 'message': 'Invalid or expired token.'}]\"}, {'error': \"TweepError: [{'code': 89, 'message': 'Invalid or expired token.'}]\"}, {'error': \"TweepError: [{'code': 89, 'message': 'Invalid or expired token.'}]\"}, {'error': \"TweepError: [{'code': 89, 'message': 'Invalid or expired token.'}]\"}, {'error': \"TweepError: [{'code': 89, 'message': 'Invalid or expired token.'}]\"}, {'error': \"TweepError: [{'code': 89, 'message': 'Invalid or expired token.'}]\"}, {'error': \"TweepError: [{'code': 89, 'message': 'Invalid or expired token.'}]\"}, {'error': \"TweepError: [{'code': 89, 'message': 'Invalid or expired token.'}]\"}, {'error': \"TweepError: [{'code': 89, 'message': 'Invalid or expired token.'}]\"}, {'error': \"TweepError: [{'code': 89, 'message': 'Invalid or expired token.'}]\"}, {'error': \"TweepError: [{'code': 89, 'message': 'Invalid or expired token.'}]\"}, {'error': \"TweepError: [{'code': 89, 'message': 'Invalid or expired token.'}]\"}, {'error': \"TweepError: [{'code': 89, 'message': 'Invalid or expired token.'}]\"}, {'error': \"TweepError: [{'code': 89, 'message': 'Invalid or expired token.'}]\"}, {'error': \"TweepError: [{'code': 89, 'message': 'Invalid or expired token.'}]\"}, {'error': \"TweepError: [{'code': 89, 'message': 'Invalid or expired token.'}]\"}, {'error': \"TweepError: [{'code': 89, 'message': 'Invalid or expired token.'}]\"}, {'error': \"TweepError: [{'code': 89, 'message': 'Invalid or expired token.'}]\"}, {'error': \"TweepError: [{'code': 89, 'message': 'Invalid or expired token.'}]\"}, {'error': \"TweepError: [{'code': 89, 'message': 'Invalid or expired token.'}]\"}, {'error': \"TweepError: [{'code': 89, 'message': 'Invalid or expired token.'}]\"}, {'error': \"TweepError: [{'code': 89, 'message': 'Invalid or expired token.'}]\"}, {'error': \"TweepError: [{'code': 89, 'message': 'Invalid or expired token.'}]\"}, {'error': \"TweepError: [{'code': 89, 'message': 'Invalid or expired token.'}]\"}, {'error': \"TweepError: [{'code': 89, 'message': 'Invalid or expired token.'}]\"}, {'error': \"TweepError: [{'code': 89, 'message': 'Invalid or expired token.'}]\"}, {'error': \"TweepError: [{'code': 89, 'message': 'Invalid or expired token.'}]\"}, {'error': \"TweepError: [{'code': 89, 'message': 'Invalid or expired token.'}]\"}, {'error': \"TweepError: [{'code': 89, 'message': 'Invalid or expired token.'}]\"}, {'error': \"TweepError: [{'code': 89, 'message': 'Invalid or expired token.'}]\"}, {'error': \"TweepError: [{'code': 89, 'message': 'Invalid or expired token.'}]\"}, {'error': \"TweepError: [{'code': 89, 'message': 'Invalid or expired token.'}]\"}, {'error': \"TweepError: [{'code': 89, 'message': 'Invalid or expired token.'}]\"}, {'error': \"TweepError: [{'code': 89, 'message': 'Invalid or expired token.'}]\"}, {'error': \"TweepError: [{'code': 89, 'message': 'Invalid or expired token.'}]\"}, {'error': \"TweepError: [{'code': 89, 'message': 'Invalid or expired token.'}]\"}, {'error': \"TweepError: [{'code': 89, 'message': 'Invalid or expired token.'}]\"}, {'error': \"TweepError: [{'code': 89, 'message': 'Invalid or expired token.'}]\"}, {'error': \"TweepError: [{'code': 89, 'message': 'Invalid or expired token.'}]\"}, {'error': \"TweepError: [{'code': 89, 'message': 'Invalid or expired token.'}]\"}, {'error': \"TweepError: [{'code': 89, 'message': 'Invalid or expired token.'}]\"}, {'error': \"TweepError: [{'code': 89, 'message': 'Invalid or expired token.'}]\"}, {'error': \"TweepError: [{'code': 89, 'message': 'Invalid or expired token.'}]\"}, {'error': \"TweepError: [{'code': 89, 'message': 'Invalid or expired token.'}]\"}, {'error': \"TweepError: [{'code': 89, 'message': 'Invalid or expired token.'}]\"}, {'error': \"TweepError: [{'code': 89, 'message': 'Invalid or expired token.'}]\"}, {'error': \"TweepError: [{'code': 89, 'message': 'Invalid or expired token.'}]\"}, {'error': \"TweepError: [{'code': 89, 'message': 'Invalid or expired token.'}]\"}, {'error': \"TweepError: [{'code': 89, 'message': 'Invalid or expired token.'}]\"}, {'error': \"TweepError: [{'code': 89, 'message': 'Invalid or expired token.'}]\"}, {'error': \"TweepError: [{'code': 89, 'message': 'Invalid or expired token.'}]\"}, {'error': \"TweepError: [{'code': 89, 'message': 'Invalid or expired token.'}]\"}, {'error': \"TweepError: [{'code': 89, 'message': 'Invalid or expired token.'}]\"}, {'error': \"TweepError: [{'code': 89, 'message': 'Invalid or expired token.'}]\"}, {'error': \"TweepError: [{'code': 89, 'message': 'Invalid or expired token.'}]\"}, {'error': \"TweepError: [{'code': 89, 'message': 'Invalid or expired token.'}]\"}, {'error': \"TweepError: [{'code': 89, 'message': 'Invalid or expired token.'}]\"}, {'error': \"TweepError: [{'code': 89, 'message': 'Invalid or expired token.'}]\"}, {'error': \"TweepError: [{'code': 89, 'message': 'Invalid or expired token.'}]\"}, {'error': \"TweepError: [{'code': 89, 'message': 'Invalid or expired token.'}]\"}, {'error': \"TweepError: [{'code': 89, 'message': 'Invalid or expired token.'}]\"}, {'error': \"TweepError: [{'code': 89, 'message': 'Invalid or expired token.'}]\"}, {'error': \"TweepError: [{'code': 89, 'message': 'Invalid or expired token.'}]\"}, {'error': \"TweepError: [{'code': 89, 'message': 'Invalid or expired token.'}]\"}, {'error': \"TweepError: [{'code': 89, 'message': 'Invalid or expired token.'}]\"}, {'error': \"TweepError: [{'code': 89, 'message': 'Invalid or expired token.'}]\"}, {'error': \"TweepError: [{'code': 89, 'message': 'Invalid or expired token.'}]\"}, {'error': \"TweepError: [{'code': 89, 'message': 'Invalid or expired token.'}]\"}, {'error': \"TweepError: [{'code': 89, 'message': 'Invalid or expired token.'}]\"}, {'error': \"TweepError: [{'code': 89, 'message': 'Invalid or expired token.'}]\"}, {'error': \"TweepError: [{'code': 89, 'message': 'Invalid or expired token.'}]\"}, {'error': \"TweepError: [{'code': 89, 'message': 'Invalid or expired token.'}]\"}, {'error': \"TweepError: [{'code': 89, 'message': 'Invalid or expired token.'}]\"}, {'error': \"TweepError: [{'code': 89, 'message': 'Invalid or expired token.'}]\"}, {'error': \"TweepError: [{'code': 89, 'message': 'Invalid or expired token.'}]\"}, {'error': \"TweepError: [{'code': 89, 'message': 'Invalid or expired token.'}]\"}, {'error': \"TweepError: [{'code': 89, 'message': 'Invalid or expired token.'}]\"}, {'error': \"TweepError: [{'code': 89, 'message': 'Invalid or expired token.'}]\"}, {'error': \"TweepError: [{'code': 89, 'message': 'Invalid or expired token.'}]\"}, {'error': \"TweepError: [{'code': 89, 'message': 'Invalid or expired token.'}]\"}, {'error': \"TweepError: [{'code': 89, 'message': 'Invalid or expired token.'}]\"}, {'error': \"TweepError: [{'code': 89, 'message': 'Invalid or expired token.'}]\"}, {'error': \"TweepError: [{'code': 89, 'message': 'Invalid or expired token.'}]\"}, {'error': \"TweepError: [{'code': 89, 'message': 'Invalid or expired token.'}]\"}, {'error': \"TweepError: [{'code': 89, 'message': 'Invalid or expired token.'}]\"}, {'error': \"TweepError: [{'code': 89, 'message': 'Invalid or expired token.'}]\"}, {'error': \"TweepError: [{'code': 89, 'message': 'Invalid or expired token.'}]\"}, {'error': \"TweepError: [{'code': 89, 'message': 'Invalid or expired token.'}]\"}, {'error': \"TweepError: [{'code': 89, 'message': 'Invalid or expired token.'}]\"}, {'error': \"TweepError: [{'code': 89, 'message': 'Invalid or expired token.'}]\"}, {'error': \"TweepError: [{'code': 89, 'message': 'Invalid or expired token.'}]\"}, {'error': \"TweepError: [{'code': 89, 'message': 'Invalid or expired token.'}]\"}, {'error': \"TweepError: [{'code': 89, 'message': 'Invalid or expired token.'}]\"}, {'error': \"TweepError: [{'code': 89, 'message': 'Invalid or expired token.'}]\"}, {'error': \"TweepError: [{'code': 89, 'message': 'Invalid or expired token.'}]\"}, {'error': \"TweepError: [{'code': 89, 'message': 'Invalid or expired token.'}]\"}, {'error': \"TweepError: [{'code': 89, 'message': 'Invalid or expired token.'}]\"}, {'error': \"TweepError: [{'code': 89, 'message': 'Invalid or expired token.'}]\"}, {'error': \"TweepError: [{'code': 89, 'message': 'Invalid or expired token.'}]\"}, {'error': \"TweepError: [{'code': 89, 'message': 'Invalid or expired token.'}]\"}, {'error': \"TweepError: [{'code': 89, 'message': 'Invalid or expired token.'}]\"}, {'error': \"TweepError: [{'code': 89, 'message': 'Invalid or expired token.'}]\"}, {'error': \"TweepError: [{'code': 89, 'message': 'Invalid or expired token.'}]\"}, {'error': \"TweepError: [{'code': 89, 'message': 'Invalid or expired token.'}]\"}, {'error': \"TweepError: [{'code': 89, 'message': 'Invalid or expired token.'}]\"}, {'error': \"TweepError: [{'code': 89, 'message': 'Invalid or expired token.'}]\"}, {'error': \"TweepError: [{'code': 89, 'message': 'Invalid or expired token.'}]\"}, {'error': \"TweepError: [{'code': 89, 'message': 'Invalid or expired token.'}]\"}, {'error': \"TweepError: [{'code': 89, 'message': 'Invalid or expired token.'}]\"}, {'error': \"TweepError: [{'code': 89, 'message': 'Invalid or expired token.'}]\"}, {'error': \"TweepError: [{'code': 89, 'message': 'Invalid or expired token.'}]\"}, {'error': \"TweepError: [{'code': 89, 'message': 'Invalid or expired token.'}]\"}, {'error': \"TweepError: [{'code': 89, 'message': 'Invalid or expired token.'}]\"}, {'error': \"TweepError: [{'code': 89, 'message': 'Invalid or expired token.'}]\"}, {'error': \"TweepError: [{'code': 89, 'message': 'Invalid or expired token.'}]\"}, {'error': \"TweepError: [{'code': 89, 'message': 'Invalid or expired token.'}]\"}, {'error': \"TweepError: [{'code': 89, 'message': 'Invalid or expired token.'}]\"}, {'error': \"TweepError: [{'code': 89, 'message': 'Invalid or expired token.'}]\"}, {'error': \"TweepError: [{'code': 89, 'message': 'Invalid or expired token.'}]\"}, {'error': \"TweepError: [{'code': 89, 'message': 'Invalid or expired token.'}]\"}, {'error': \"TweepError: [{'code': 89, 'message': 'Invalid or expired token.'}]\"}, {'error': \"TweepError: [{'code': 89, 'message': 'Invalid or expired token.'}]\"}, {'error': \"TweepError: [{'code': 89, 'message': 'Invalid or expired token.'}]\"}, {'error': \"TweepError: [{'code': 89, 'message': 'Invalid or expired token.'}]\"}, {'error': \"TweepError: [{'code': 89, 'message': 'Invalid or expired token.'}]\"}, {'error': \"TweepError: [{'code': 89, 'message': 'Invalid or expired token.'}]\"}, {'error': \"TweepError: [{'code': 89, 'message': 'Invalid or expired token.'}]\"}, {'error': \"TweepError: [{'code': 89, 'message': 'Invalid or expired token.'}]\"}, {'error': \"TweepError: [{'code': 89, 'message': 'Invalid or expired token.'}]\"}, {'error': \"TweepError: [{'code': 89, 'message': 'Invalid or expired token.'}]\"}, {'error': \"TweepError: [{'code': 89, 'message': 'Invalid or expired token.'}]\"}, {'error': \"TweepError: [{'code': 89, 'message': 'Invalid or expired token.'}]\"}, {'error': \"TweepError: [{'code': 89, 'message': 'Invalid or expired token.'}]\"}, {'error': \"TweepError: [{'code': 89, 'message': 'Invalid or expired token.'}]\"}, {'error': \"TweepError: [{'code': 89, 'message': 'Invalid or expired token.'}]\"}, {'error': \"TweepError: [{'code': 89, 'message': 'Invalid or expired token.'}]\"}, {'error': \"TweepError: [{'code': 89, 'message': 'Invalid or expired token.'}]\"}, {'error': \"TweepError: [{'code': 89, 'message': 'Invalid or expired token.'}]\"}, {'error': \"TweepError: [{'code': 89, 'message': 'Invalid or expired token.'}]\"}, {'error': \"TweepError: [{'code': 89, 'message': 'Invalid or expired token.'}]\"}, {'error': \"TweepError: [{'code': 89, 'message': 'Invalid or expired token.'}]\"}, {'error': \"TweepError: [{'code': 89, 'message': 'Invalid or expired token.'}]\"}, {'error': \"TweepError: [{'code': 89, 'message': 'Invalid or expired token.'}]\"}, {'error': \"TweepError: [{'code': 89, 'message': 'Invalid or expired token.'}]\"}, {'error': \"TweepError: [{'code': 89, 'message': 'Invalid or expired token.'}]\"}, {'error': \"TweepError: [{'code': 89, 'message': 'Invalid or expired token.'}]\"}, {'error': \"TweepError: [{'code': 89, 'message': 'Invalid or expired token.'}]\"}, {'error': \"TweepError: [{'code': 89, 'message': 'Invalid or expired token.'}]\"}, {'error': \"TweepError: [{'code': 89, 'message': 'Invalid or expired token.'}]\"}, {'error': \"TweepError: [{'code': 89, 'message': 'Invalid or expired token.'}]\"}, {'error': \"TweepError: [{'code': 89, 'message': 'Invalid or expired token.'}]\"}, {'error': \"TweepError: [{'code': 89, 'message': 'Invalid or expired token.'}]\"}, {'error': \"TweepError: [{'code': 89, 'message': 'Invalid or expired token.'}]\"}, {'error': \"TweepError: [{'code': 89, 'message': 'Invalid or expired token.'}]\"}, {'error': \"TweepError: [{'code': 89, 'message': 'Invalid or expired token.'}]\"}, {'error': \"TweepError: [{'code': 89, 'message': 'Invalid or expired token.'}]\"}, {'error': \"TweepError: [{'code': 89, 'message': 'Invalid or expired token.'}]\"}, {'error': \"TweepError: [{'code': 89, 'message': 'Invalid or expired token.'}]\"}, {'error': \"TweepError: [{'code': 89, 'message': 'Invalid or expired token.'}]\"}, {'error': \"TweepError: [{'code': 89, 'message': 'Invalid or expired token.'}]\"}, {'error': \"TweepError: [{'code': 89, 'message': 'Invalid or expired token.'}]\"}, {'error': \"TweepError: [{'code': 89, 'message': 'Invalid or expired token.'}]\"}, {'error': \"TweepError: [{'code': 89, 'message': 'Invalid or expired token.'}]\"}, {'error': \"TweepError: [{'code': 89, 'message': 'Invalid or expired token.'}]\"}, {'error': \"TweepError: [{'code': 89, 'message': 'Invalid or expired token.'}]\"}, {'error': \"TweepError: [{'code': 89, 'message': 'Invalid or expired token.'}]\"}, {'error': \"TweepError: [{'code': 89, 'message': 'Invalid or expired token.'}]\"}, {'error': \"TweepError: [{'code': 89, 'message': 'Invalid or expired token.'}]\"}, {'error': \"TweepError: [{'code': 89, 'message': 'Invalid or expired token.'}]\"}, {'error': \"TweepError: [{'code': 89, 'message': 'Invalid or expired token.'}]\"}, {'error': \"TweepError: [{'code': 89, 'message': 'Invalid or expired token.'}]\"}, {'error': \"TweepError: [{'code': 89, 'message': 'Invalid or expired token.'}]\"}, {'error': \"TweepError: [{'code': 89, 'message': 'Invalid or expired token.'}]\"}, {'error': \"TweepError: [{'code': 89, 'message': 'Invalid or expired token.'}]\"}, {'error': \"TweepError: [{'code': 89, 'message': 'Invalid or expired token.'}]\"}, {'error': \"TweepError: [{'code': 89, 'message': 'Invalid or expired token.'}]\"}, {'error': \"TweepError: [{'code': 89, 'message': 'Invalid or expired token.'}]\"}, {'error': \"TweepError: [{'code': 89, 'message': 'Invalid or expired token.'}]\"}, {'error': \"TweepError: [{'code': 89, 'message': 'Invalid or expired token.'}]\"}, {'error': \"TweepError: [{'code': 89, 'message': 'Invalid or expired token.'}]\"}, {'error': \"TweepError: [{'code': 89, 'message': 'Invalid or expired token.'}]\"}, {'error': \"TweepError: [{'code': 89, 'message': 'Invalid or expired token.'}]\"}, {'error': \"TweepError: [{'code': 89, 'message': 'Invalid or expired token.'}]\"}, {'error': \"TweepError: [{'code': 89, 'message': 'Invalid or expired token.'}]\"}, {'error': \"TweepError: [{'code': 89, 'message': 'Invalid or expired token.'}]\"}, {'error': \"TweepError: [{'code': 89, 'message': 'Invalid or expired token.'}]\"}, {'error': \"TweepError: [{'code': 89, 'message': 'Invalid or expired token.'}]\"}, {'error': \"TweepError: [{'code': 89, 'message': 'Invalid or expired token.'}]\"}, {'error': \"TweepError: [{'code': 89, 'message': 'Invalid or expired token.'}]\"}, {'error': \"TweepError: [{'code': 89, 'message': 'Invalid or expired token.'}]\"}, {'error': \"TweepError: [{'code': 89, 'message': 'Invalid or expired token.'}]\"}, {'error': \"TweepError: [{'code': 89, 'message': 'Invalid or expired token.'}]\"}, {'error': \"TweepError: [{'code': 89, 'message': 'Invalid or expired token.'}]\"}, {'error': \"TweepError: [{'code': 89, 'message': 'Invalid or expired token.'}]\"}, {'error': \"TweepError: [{'code': 89, 'message': 'Invalid or expired token.'}]\"}, {'error': \"TweepError: [{'code': 89, 'message': 'Invalid or expired token.'}]\"}, {'error': \"TweepError: [{'code': 89, 'message': 'Invalid or expired token.'}]\"}, {'error': \"TweepError: [{'code': 89, 'message': 'Invalid or expired token.'}]\"}, {'error': \"TweepError: [{'code': 89, 'message': 'Invalid or expired token.'}]\"}, {'error': \"TweepError: [{'code': 89, 'message': 'Invalid or expired token.'}]\"}, {'error': \"TweepError: [{'code': 89, 'message': 'Invalid or expired token.'}]\"}, {'error': \"TweepError: [{'code': 89, 'message': 'Invalid or expired token.'}]\"}, {'error': \"TweepError: [{'code': 89, 'message': 'Invalid or expired token.'}]\"}, {'error': \"TweepError: [{'code': 89, 'message': 'Invalid or expired token.'}]\"}, {'error': \"TweepError: [{'code': 89, 'message': 'Invalid or expired token.'}]\"}, {'error': \"TweepError: [{'code': 89, 'message': 'Invalid or expired token.'}]\"}, {'error': \"TweepError: [{'code': 89, 'message': 'Invalid or expired token.'}]\"}, {'error': \"TweepError: [{'code': 89, 'message': 'Invalid or expired token.'}]\"}, {'error': \"TweepError: [{'code': 89, 'message': 'Invalid or expired token.'}]\"}, {'error': \"TweepError: [{'code': 89, 'message': 'Invalid or expired token.'}]\"}, {'error': \"TweepError: [{'code': 89, 'message': 'Invalid or expired token.'}]\"}, {'error': \"TweepError: [{'code': 89, 'message': 'Invalid or expired token.'}]\"}, {'error': \"TweepError: [{'code': 89, 'message': 'Invalid or expired token.'}]\"}, {'error': \"TweepError: [{'code': 89, 'message': 'Invalid or expired token.'}]\"}, {'error': \"TweepError: [{'code': 89, 'message': 'Invalid or expired token.'}]\"}, {'error': \"TweepError: [{'code': 89, 'message': 'Invalid or expired token.'}]\"}, {'error': \"TweepError: [{'code': 89, 'message': 'Invalid or expired token.'}]\"}, {'error': \"TweepError: [{'code': 89, 'message': 'Invalid or expired token.'}]\"}, {'error': \"TweepError: [{'code': 89, 'message': 'Invalid or expired token.'}]\"}, {'error': \"TweepError: [{'code': 89, 'message': 'Invalid or expired token.'}]\"}, {'error': \"TweepError: [{'code': 89, 'message': 'Invalid or expired token.'}]\"}, {'error': \"TweepError: [{'code': 89, 'message': 'Invalid or expired token.'}]\"}, {'error': \"TweepError: [{'code': 89, 'message': 'Invalid or expired token.'}]\"}, {'error': \"TweepError: [{'code': 89, 'message': 'Invalid or expired token.'}]\"}, {'error': \"TweepError: [{'code': 89, 'message': 'Invalid or expired token.'}]\"}, {'error': \"TweepError: [{'code': 89, 'message': 'Invalid or expired token.'}]\"}, {'error': \"TweepError: [{'code': 89, 'message': 'Invalid or expired token.'}]\"}, {'error': \"TweepError: [{'code': 89, 'message': 'Invalid or expired token.'}]\"}, {'error': \"TweepError: [{'code': 89, 'message': 'Invalid or expired token.'}]\"}, {'error': \"TweepError: [{'code': 89, 'message': 'Invalid or expired token.'}]\"}, {'error': \"TweepError: [{'code': 89, 'message': 'Invalid or expired token.'}]\"}, {'error': \"TweepError: [{'code': 89, 'message': 'Invalid or expired token.'}]\"}, {'error': \"TweepError: [{'code': 89, 'message': 'Invalid or expired token.'}]\"}, {'error': \"TweepError: [{'code': 89, 'message': 'Invalid or expired token.'}]\"}, {'error': \"TweepError: [{'code': 89, 'message': 'Invalid or expired token.'}]\"}, {'error': \"TweepError: [{'code': 89, 'message': 'Invalid or expired token.'}]\"}, {'error': \"TweepError: [{'code': 89, 'message': 'Invalid or expired token.'}]\"}, {'error': \"TweepError: [{'code': 89, 'message': 'Invalid or expired token.'}]\"}, {'error': \"TweepError: [{'code': 89, 'message': 'Invalid or expired token.'}]\"}, {'error': \"TweepError: [{'code': 89, 'message': 'Invalid or expired token.'}]\"}, {'error': \"TweepError: [{'code': 89, 'message': 'Invalid or expired token.'}]\"}, {'error': \"TweepError: [{'code': 89, 'message': 'Invalid or expired token.'}]\"}, {'error': \"TweepError: [{'code': 89, 'message': 'Invalid or expired token.'}]\"}, {'error': \"TweepError: [{'code': 89, 'message': 'Invalid or expired token.'}]\"}, {'error': \"TweepError: [{'code': 89, 'message': 'Invalid or expired token.'}]\"}, {'error': \"TweepError: [{'code': 89, 'message': 'Invalid or expired token.'}]\"}, {'error': \"TweepError: [{'code': 89, 'message': 'Invalid or expired token.'}]\"}, {'error': \"TweepError: [{'code': 89, 'message': 'Invalid or expired token.'}]\"}, {'error': \"TweepError: [{'code': 89, 'message': 'Invalid or expired token.'}]\"}, {'error': \"TweepError: [{'code': 89, 'message': 'Invalid or expired token.'}]\"}, {'error': \"TweepError: [{'code': 89, 'message': 'Invalid or expired token.'}]\"}, {'error': \"TweepError: [{'code': 89, 'message': 'Invalid or expired token.'}]\"}, {'error': \"TweepError: [{'code': 89, 'message': 'Invalid or expired token.'}]\"}, {'error': \"TweepError: [{'code': 89, 'message': 'Invalid or expired token.'}]\"}, {'error': \"TweepError: [{'code': 89, 'message': 'Invalid or expired token.'}]\"}, {'error': \"TweepError: [{'code': 89, 'message': 'Invalid or expired token.'}]\"}, {'error': \"TweepError: [{'code': 89, 'message': 'Invalid or expired token.'}]\"}, {'error': \"TweepError: [{'code': 89, 'message': 'Invalid or expired token.'}]\"}, {'error': \"TweepError: [{'code': 89, 'message': 'Invalid or expired token.'}]\"}, {'error': \"TweepError: [{'code': 89, 'message': 'Invalid or expired token.'}]\"}, {'error': \"TweepError: [{'code': 89, 'message': 'Invalid or expired token.'}]\"}, {'error': \"TweepError: [{'code': 89, 'message': 'Invalid or expired token.'}]\"}, {'error': \"TweepError: [{'code': 89, 'message': 'Invalid or expired token.'}]\"}, {'error': \"TweepError: [{'code': 89, 'message': 'Invalid or expired token.'}]\"}, {'error': \"TweepError: [{'code': 89, 'message': 'Invalid or expired token.'}]\"}, {'error': \"TweepError: [{'code': 89, 'message': 'Invalid or expired token.'}]\"}, {'error': \"TweepError: [{'code': 89, 'message': 'Invalid or expired token.'}]\"}, {'error': \"TweepError: [{'code': 89, 'message': 'Invalid or expired token.'}]\"}, {'error': \"TweepError: [{'code': 89, 'message': 'Invalid or expired token.'}]\"}, {'error': \"TweepError: [{'code': 89, 'message': 'Invalid or expired token.'}]\"}, {'error': \"TweepError: [{'code': 89, 'message': 'Invalid or expired token.'}]\"}, {'error': \"TweepError: [{'code': 89, 'message': 'Invalid or expired token.'}]\"}, {'error': \"TweepError: [{'code': 89, 'message': 'Invalid or expired token.'}]\"}, {'error': \"TweepError: [{'code': 89, 'message': 'Invalid or expired token.'}]\"}, {'error': \"TweepError: [{'code': 89, 'message': 'Invalid or expired token.'}]\"}, {'error': \"TweepError: [{'code': 89, 'message': 'Invalid or expired token.'}]\"}, {'error': \"TweepError: [{'code': 89, 'message': 'Invalid or expired token.'}]\"}, {'error': \"TweepError: [{'code': 89, 'message': 'Invalid or expired token.'}]\"}, {'error': \"TweepError: [{'code': 89, 'message': 'Invalid or expired token.'}]\"}, {'error': \"TweepError: [{'code': 89, 'message': 'Invalid or expired token.'}]\"}, {'error': \"TweepError: [{'code': 89, 'message': 'Invalid or expired token.'}]\"}, {'error': \"TweepError: [{'code': 89, 'message': 'Invalid or expired token.'}]\"}, {'error': \"TweepError: [{'code': 89, 'message': 'Invalid or expired token.'}]\"}, {'error': \"TweepError: [{'code': 89, 'message': 'Invalid or expired token.'}]\"}, {'error': \"TweepError: [{'code': 89, 'message': 'Invalid or expired token.'}]\"}, {'error': \"TweepError: [{'code': 89, 'message': 'Invalid or expired token.'}]\"}, {'error': \"TweepError: [{'code': 89, 'message': 'Invalid or expired token.'}]\"}, {'error': \"TweepError: [{'code': 89, 'message': 'Invalid or expired token.'}]\"}, {'error': \"TweepError: [{'code': 89, 'message': 'Invalid or expired token.'}]\"}, {'error': \"TweepError: [{'code': 89, 'message': 'Invalid or expired token.'}]\"}, {'error': \"TweepError: [{'code': 89, 'message': 'Invalid or expired token.'}]\"}, {'error': \"TweepError: [{'code': 89, 'message': 'Invalid or expired token.'}]\"}, {'error': \"TweepError: [{'code': 89, 'message': 'Invalid or expired token.'}]\"}, {'error': \"TweepError: [{'code': 89, 'message': 'Invalid or expired token.'}]\"}, {'error': \"TweepError: [{'code': 89, 'message': 'Invalid or expired token.'}]\"}, {'error': \"TweepError: [{'code': 89, 'message': 'Invalid or expired token.'}]\"}, {'error': \"TweepError: [{'code': 89, 'message': 'Invalid or expired token.'}]\"}, {'error': \"TweepError: [{'code': 89, 'message': 'Invalid or expired token.'}]\"}, {'error': \"TweepError: [{'code': 89, 'message': 'Invalid or expired token.'}]\"}, {'error': \"TweepError: [{'code': 89, 'message': 'Invalid or expired token.'}]\"}, {'error': \"TweepError: [{'code': 89, 'message': 'Invalid or expired token.'}]\"}, {'error': \"TweepError: [{'code': 89, 'message': 'Invalid or expired token.'}]\"}, {'error': \"TweepError: [{'code': 89, 'message': 'Invalid or expired token.'}]\"}, {'error': \"TweepError: [{'code': 89, 'message': 'Invalid or expired token.'}]\"}, {'error': \"TweepError: [{'code': 89, 'message': 'Invalid or expired token.'}]\"}, {'error': \"TweepError: [{'code': 89, 'message': 'Invalid or expired token.'}]\"}, {'error': \"TweepError: [{'code': 89, 'message': 'Invalid or expired token.'}]\"}, {'error': \"TweepError: [{'code': 89, 'message': 'Invalid or expired token.'}]\"}, {'error': \"TweepError: [{'code': 89, 'message': 'Invalid or expired token.'}]\"}, {'error': \"TweepError: [{'code': 89, 'message': 'Invalid or expired token.'}]\"}, {'error': \"TweepError: [{'code': 89, 'message': 'Invalid or expired token.'}]\"}, {'error': \"TweepError: [{'code': 89, 'message': 'Invalid or expired token.'}]\"}, {'error': \"TweepError: [{'code': 89, 'message': 'Invalid or expired token.'}]\"}, {'error': \"TweepError: [{'code': 89, 'message': 'Invalid or expired token.'}]\"}, {'error': \"TweepError: [{'code': 89, 'message': 'Invalid or expired token.'}]\"}, {'error': \"TweepError: [{'code': 89, 'message': 'Invalid or expired token.'}]\"}, {'error': \"TweepError: [{'code': 89, 'message': 'Invalid or expired token.'}]\"}, {'error': \"TweepError: [{'code': 89, 'message': 'Invalid or expired token.'}]\"}, {'error': \"TweepError: [{'code': 89, 'message': 'Invalid or expired token.'}]\"}, {'error': \"TweepError: [{'code': 89, 'message': 'Invalid or expired token.'}]\"}, {'error': \"TweepError: [{'code': 89, 'message': 'Invalid or expired token.'}]\"}, {'error': \"TweepError: [{'code': 89, 'message': 'Invalid or expired token.'}]\"}, {'error': \"TweepError: [{'code': 89, 'message': 'Invalid or expired token.'}]\"}, {'error': \"TweepError: [{'code': 89, 'message': 'Invalid or expired token.'}]\"}, {'error': \"TweepError: [{'code': 89, 'message': 'Invalid or expired token.'}]\"}, {'error': \"TweepError: [{'code': 89, 'message': 'Invalid or expired token.'}]\"}, {'error': \"TweepError: [{'code': 89, 'message': 'Invalid or expired token.'}]\"}, {'error': \"TweepError: [{'code': 89, 'message': 'Invalid or expired token.'}]\"}, {'error': \"TweepError: [{'code': 89, 'message': 'Invalid or expired token.'}]\"}, {'error': \"TweepError: [{'code': 89, 'message': 'Invalid or expired token.'}]\"}, {'error': \"TweepError: [{'code': 89, 'message': 'Invalid or expired token.'}]\"}, {'error': \"TweepError: [{'code': 89, 'message': 'Invalid or expired token.'}]\"}, {'error': \"TweepError: [{'code': 89, 'message': 'Invalid or expired token.'}]\"}, {'error': \"TweepError: [{'code': 89, 'message': 'Invalid or expired token.'}]\"}, {'error': \"TweepError: [{'code': 89, 'message': 'Invalid or expired token.'}]\"}, {'error': \"TweepError: [{'code': 89, 'message': 'Invalid or expired token.'}]\"}, {'error': \"TweepError: [{'code': 89, 'message': 'Invalid or expired token.'}]\"}, {'error': \"TweepError: [{'code': 89, 'message': 'Invalid or expired token.'}]\"}, {'error': \"TweepError: [{'code': 89, 'message': 'Invalid or expired token.'}]\"}, {'error': \"TweepError: [{'code': 89, 'message': 'Invalid or expired token.'}]\"}, {'error': \"TweepError: [{'code': 89, 'message': 'Invalid or expired token.'}]\"}, {'error': \"TweepError: [{'code': 89, 'message': 'Invalid or expired token.'}]\"}, {'error': \"TweepError: [{'code': 89, 'message': 'Invalid or expired token.'}]\"}, {'error': \"TweepError: [{'code': 89, 'message': 'Invalid or expired token.'}]\"}, {'error': \"TweepError: [{'code': 89, 'message': 'Invalid or expired token.'}]\"}, {'error': \"TweepError: [{'code': 89, 'message': 'Invalid or expired token.'}]\"}, {'error': \"TweepError: [{'code': 89, 'message': 'Invalid or expired token.'}]\"}, {'error': \"TweepError: [{'code': 89, 'message': 'Invalid or expired token.'}]\"}, {'error': \"TweepError: [{'code': 89, 'message': 'Invalid or expired token.'}]\"}, {'error': \"TweepError: [{'code': 89, 'message': 'Invalid or expired token.'}]\"}, {'error': \"TweepError: [{'code': 89, 'message': 'Invalid or expired token.'}]\"}, {'error': \"TweepError: [{'code': 89, 'message': 'Invalid or expired token.'}]\"}, {'error': \"TweepError: [{'code': 89, 'message': 'Invalid or expired token.'}]\"}, {'error': \"TweepError: [{'code': 89, 'message': 'Invalid or expired token.'}]\"}, {'error': \"TweepError: [{'code': 89, 'message': 'Invalid or expired token.'}]\"}, {'error': \"TweepError: [{'code': 89, 'message': 'Invalid or expired token.'}]\"}, {'error': \"TweepError: [{'code': 89, 'message': 'Invalid or expired token.'}]\"}, {'error': \"TweepError: [{'code': 89, 'message': 'Invalid or expired token.'}]\"}, {'error': \"TweepError: [{'code': 89, 'message': 'Invalid or expired token.'}]\"}, {'error': \"TweepError: [{'code': 89, 'message': 'Invalid or expired token.'}]\"}, {'error': \"TweepError: [{'code': 89, 'message': 'Invalid or expired token.'}]\"}, {'error': \"TweepError: [{'code': 89, 'message': 'Invalid or expired token.'}]\"}, {'error': \"TweepError: [{'code': 89, 'message': 'Invalid or expired token.'}]\"}, {'error': \"TweepError: [{'code': 89, 'message': 'Invalid or expired token.'}]\"}, {'error': \"TweepError: [{'code': 89, 'message': 'Invalid or expired token.'}]\"}, {'error': \"TweepError: [{'code': 89, 'message': 'Invalid or expired token.'}]\"}, {'error': \"TweepError: [{'code': 89, 'message': 'Invalid or expired token.'}]\"}, {'error': \"TweepError: [{'code': 89, 'message': 'Invalid or expired token.'}]\"}, {'error': \"TweepError: [{'code': 89, 'message': 'Invalid or expired token.'}]\"}, {'error': \"TweepError: [{'code': 89, 'message': 'Invalid or expired token.'}]\"}, {'error': \"TweepError: [{'code': 89, 'message': 'Invalid or expired token.'}]\"}, {'error': \"TweepError: [{'code': 89, 'message': 'Invalid or expired token.'}]\"}, {'error': \"TweepError: [{'code': 89, 'message': 'Invalid or expired token.'}]\"}, {'error': \"TweepError: [{'code': 89, 'message': 'Invalid or expired token.'}]\"}, {'error': \"TweepError: [{'code': 89, 'message': 'Invalid or expired token.'}]\"}, {'error': \"TweepError: [{'code': 89, 'message': 'Invalid or expired token.'}]\"}, {'error': \"TweepError: [{'code': 89, 'message': 'Invalid or expired token.'}]\"}, {'error': \"TweepError: [{'code': 89, 'message': 'Invalid or expired token.'}]\"}, {'error': \"TweepError: [{'code': 89, 'message': 'Invalid or expired token.'}]\"}, {'error': \"TweepError: [{'code': 89, 'message': 'Invalid or expired token.'}]\"}, {'error': \"TweepError: [{'code': 89, 'message': 'Invalid or expired token.'}]\"}, {'error': \"TweepError: [{'code': 89, 'message': 'Invalid or expired token.'}]\"}, {'error': \"TweepError: [{'code': 89, 'message': 'Invalid or expired token.'}]\"}, {'error': \"TweepError: [{'code': 89, 'message': 'Invalid or expired token.'}]\"}, {'error': \"TweepError: [{'code': 89, 'message': 'Invalid or expired token.'}]\"}, {'error': \"TweepError: [{'code': 89, 'message': 'Invalid or expired token.'}]\"}, {'error': \"TweepError: [{'code': 89, 'message': 'Invalid or expired token.'}]\"}, {'error': \"TweepError: [{'code': 89, 'message': 'Invalid or expired token.'}]\"}, {'error': \"TweepError: [{'code': 89, 'message': 'Invalid or expired token.'}]\"}, {'error': \"TweepError: [{'code': 89, 'message': 'Invalid or expired token.'}]\"}, {'error': \"TweepError: [{'code': 89, 'message': 'Invalid or expired token.'}]\"}, {'error': \"TweepError: [{'code': 89, 'message': 'Invalid or expired token.'}]\"}, {'error': \"TweepError: [{'code': 89, 'message': 'Invalid or expired token.'}]\"}, {'error': \"TweepError: [{'code': 89, 'message': 'Invalid or expired token.'}]\"}, {'error': \"TweepError: [{'code': 89, 'message': 'Invalid or expired token.'}]\"}, {'error': \"TweepError: [{'code': 89, 'message': 'Invalid or expired token.'}]\"}, {'error': \"TweepError: [{'code': 89, 'message': 'Invalid or expired token.'}]\"}, {'error': \"TweepError: [{'code': 89, 'message': 'Invalid or expired token.'}]\"}, {'error': \"TweepError: [{'code': 89, 'message': 'Invalid or expired token.'}]\"}, {'error': \"TweepError: [{'code': 89, 'message': 'Invalid or expired token.'}]\"}, {'error': \"TweepError: [{'code': 89, 'message': 'Invalid or expired token.'}]\"}, {'error': \"TweepError: [{'code': 89, 'message': 'Invalid or expired token.'}]\"}, {'error': \"TweepError: [{'code': 89, 'message': 'Invalid or expired token.'}]\"}, {'error': \"TweepError: [{'code': 89, 'message': 'Invalid or expired token.'}]\"}, {'error': \"TweepError: [{'code': 89, 'message': 'Invalid or expired token.'}]\"}, {'error': \"TweepError: [{'code': 89, 'message': 'Invalid or expired token.'}]\"}, {'error': \"TweepError: [{'code': 89, 'message': 'Invalid or expired token.'}]\"}, {'error': \"TweepError: [{'code': 89, 'message': 'Invalid or expired token.'}]\"}, {'error': \"TweepError: [{'code': 89, 'message': 'Invalid or expired token.'}]\"}, {'error': \"TweepError: [{'code': 89, 'message': 'Invalid or expired token.'}]\"}, {'error': \"TweepError: [{'code': 89, 'message': 'Invalid or expired token.'}]\"}, {'error': \"TweepError: [{'code': 89, 'message': 'Invalid or expired token.'}]\"}, {'error': \"TweepError: [{'code': 89, 'message': 'Invalid or expired token.'}]\"}, {'error': \"TweepError: [{'code': 89, 'message': 'Invalid or expired token.'}]\"}, {'error': \"TweepError: [{'code': 89, 'message': 'Invalid or expired token.'}]\"}, {'error': \"TweepError: [{'code': 89, 'message': 'Invalid or expired token.'}]\"}, {'error': \"TweepError: [{'code': 89, 'message': 'Invalid or expired token.'}]\"}, {'error': \"TweepError: [{'code': 89, 'message': 'Invalid or expired token.'}]\"}, {'error': \"TweepError: [{'code': 89, 'message': 'Invalid or expired token.'}]\"}, {'error': \"TweepError: [{'code': 89, 'message': 'Invalid or expired token.'}]\"}, {'error': \"TweepError: [{'code': 89, 'message': 'Invalid or expired token.'}]\"}, {'error': \"TweepError: [{'code': 89, 'message': 'Invalid or expired token.'}]\"}, {'error': \"TweepError: [{'code': 89, 'message': 'Invalid or expired token.'}]\"}, {'error': \"TweepError: [{'code': 89, 'message': 'Invalid or expired token.'}]\"}, {'error': \"TweepError: [{'code': 89, 'message': 'Invalid or expired token.'}]\"}, {'error': \"TweepError: [{'code': 89, 'message': 'Invalid or expired token.'}]\"}, {'error': \"TweepError: [{'code': 89, 'message': 'Invalid or expired token.'}]\"}, {'error': \"TweepError: [{'code': 89, 'message': 'Invalid or expired token.'}]\"}, {'error': \"TweepError: [{'code': 89, 'message': 'Invalid or expired token.'}]\"}, {'error': \"TweepError: [{'code': 89, 'message': 'Invalid or expired token.'}]\"}, {'error': \"TweepError: [{'code': 89, 'message': 'Invalid or expired token.'}]\"}, {'error': \"TweepError: [{'code': 89, 'message': 'Invalid or expired token.'}]\"}, {'error': \"TweepError: [{'code': 89, 'message': 'Invalid or expired token.'}]\"}, {'error': \"TweepError: [{'code': 89, 'message': 'Invalid or expired token.'}]\"}, {'error': \"TweepError: [{'code': 89, 'message': 'Invalid or expired token.'}]\"}, {'error': \"TweepError: [{'code': 89, 'message': 'Invalid or expired token.'}]\"}, {'error': \"TweepError: [{'code': 89, 'message': 'Invalid or expired token.'}]\"}, {'error': \"TweepError: [{'code': 89, 'message': 'Invalid or expired token.'}]\"}, {'error': \"TweepError: [{'code': 89, 'message': 'Invalid or expired token.'}]\"}, {'error': \"TweepError: [{'code': 89, 'message': 'Invalid or expired token.'}]\"}, {'error': \"TweepError: [{'code': 89, 'message': 'Invalid or expired token.'}]\"}, {'error': \"TweepError: [{'code': 89, 'message': 'Invalid or expired token.'}]\"}, {'error': \"TweepError: [{'code': 89, 'message': 'Invalid or expired token.'}]\"}, {'error': \"TweepError: [{'code': 89, 'message': 'Invalid or expired token.'}]\"}, {'error': \"TweepError: [{'code': 89, 'message': 'Invalid or expired token.'}]\"}, {'error': \"TweepError: [{'code': 89, 'message': 'Invalid or expired token.'}]\"}, {'error': \"TweepError: [{'code': 89, 'message': 'Invalid or expired token.'}]\"}, {'error': \"TweepError: [{'code': 89, 'message': 'Invalid or expired token.'}]\"}, {'error': \"TweepError: [{'code': 89, 'message': 'Invalid or expired token.'}]\"}, {'error': \"TweepError: [{'code': 89, 'message': 'Invalid or expired token.'}]\"}, {'error': \"TweepError: [{'code': 89, 'message': 'Invalid or expired token.'}]\"}, {'error': \"TweepError: [{'code': 89, 'message': 'Invalid or expired token.'}]\"}, {'error': \"TweepError: [{'code': 89, 'message': 'Invalid or expired token.'}]\"}, {'error': \"TweepError: [{'code': 89, 'message': 'Invalid or expired token.'}]\"}, {'error': \"TweepError: [{'code': 89, 'message': 'Invalid or expired token.'}]\"}, {'error': \"TweepError: [{'code': 89, 'message': 'Invalid or expired token.'}]\"}, {'error': \"TweepError: [{'code': 89, 'message': 'Invalid or expired token.'}]\"}, {'error': \"TweepError: [{'code': 89, 'message': 'Invalid or expired token.'}]\"}, {'error': \"TweepError: [{'code': 89, 'message': 'Invalid or expired token.'}]\"}, {'error': \"TweepError: [{'code': 89, 'message': 'Invalid or expired token.'}]\"}, {'error': \"TweepError: [{'code': 89, 'message': 'Invalid or expired token.'}]\"}, {'error': \"TweepError: [{'code': 89, 'message': 'Invalid or expired token.'}]\"}, {'error': \"TweepError: [{'code': 89, 'message': 'Invalid or expired token.'}]\"}, {'error': \"TweepError: [{'code': 89, 'message': 'Invalid or expired token.'}]\"}, {'error': \"TweepError: [{'code': 89, 'message': 'Invalid or expired token.'}]\"}, {'error': \"TweepError: [{'code': 89, 'message': 'Invalid or expired token.'}]\"}, {'error': \"TweepError: [{'code': 89, 'message': 'Invalid or expired token.'}]\"}, {'error': \"TweepError: [{'code': 89, 'message': 'Invalid or expired token.'}]\"}, {'error': \"TweepError: [{'code': 89, 'message': 'Invalid or expired token.'}]\"}, {'error': \"TweepError: [{'code': 89, 'message': 'Invalid or expired token.'}]\"}, {'error': \"TweepError: [{'code': 89, 'message': 'Invalid or expired token.'}]\"}, {'error': \"TweepError: [{'code': 89, 'message': 'Invalid or expired token.'}]\"}, {'error': \"TweepError: [{'code': 89, 'message': 'Invalid or expired token.'}]\"}, {'error': \"TweepError: [{'code': 89, 'message': 'Invalid or expired token.'}]\"}, {'error': \"TweepError: [{'code': 89, 'message': 'Invalid or expired token.'}]\"}, {'error': \"TweepError: [{'code': 89, 'message': 'Invalid or expired token.'}]\"}, {'error': \"TweepError: [{'code': 89, 'message': 'Invalid or expired token.'}]\"}, {'error': \"TweepError: [{'code': 89, 'message': 'Invalid or expired token.'}]\"}, {'error': \"TweepError: [{'code': 89, 'message': 'Invalid or expired token.'}]\"}, {'error': \"TweepError: [{'code': 89, 'message': 'Invalid or expired token.'}]\"}, {'error': \"TweepError: [{'code': 89, 'message': 'Invalid or expired token.'}]\"}, {'error': \"TweepError: [{'code': 89, 'message': 'Invalid or expired token.'}]\"}, {'error': \"TweepError: [{'code': 89, 'message': 'Invalid or expired token.'}]\"}, {'error': \"TweepError: [{'code': 89, 'message': 'Invalid or expired token.'}]\"}, {'error': \"TweepError: [{'code': 89, 'message': 'Invalid or expired token.'}]\"}, {'error': \"TweepError: [{'code': 89, 'message': 'Invalid or expired token.'}]\"}, {'error': \"TweepError: [{'code': 89, 'message': 'Invalid or expired token.'}]\"}, {'error': \"TweepError: [{'code': 89, 'message': 'Invalid or expired token.'}]\"}, {'error': \"TweepError: [{'code': 89, 'message': 'Invalid or expired token.'}]\"}, {'error': \"TweepError: [{'code': 89, 'message': 'Invalid or expired token.'}]\"}, {'error': \"TweepError: [{'code': 89, 'message': 'Invalid or expired token.'}]\"}, {'error': \"TweepError: [{'code': 89, 'message': 'Invalid or expired token.'}]\"}, {'error': \"TweepError: [{'code': 89, 'message': 'Invalid or expired token.'}]\"}, {'error': \"TweepError: [{'code': 89, 'message': 'Invalid or expired token.'}]\"}, {'error': \"TweepError: [{'code': 89, 'message': 'Invalid or expired token.'}]\"}, {'error': \"TweepError: [{'code': 89, 'message': 'Invalid or expired token.'}]\"}, {'error': \"TweepError: [{'code': 89, 'message': 'Invalid or expired token.'}]\"}, {'error': \"TweepError: [{'code': 89, 'message': 'Invalid or expired token.'}]\"}, {'error': \"TweepError: [{'code': 89, 'message': 'Invalid or expired token.'}]\"}, {'error': \"TweepError: [{'code': 89, 'message': 'Invalid or expired token.'}]\"}, {'error': \"TweepError: [{'code': 89, 'message': 'Invalid or expired token.'}]\"}, {'error': \"TweepError: [{'code': 89, 'message': 'Invalid or expired token.'}]\"}, {'error': \"TweepError: [{'code': 89, 'message': 'Invalid or expired token.'}]\"}, {'error': \"TweepError: [{'code': 89, 'message': 'Invalid or expired token.'}]\"}, {'error': \"TweepError: [{'code': 89, 'message': 'Invalid or expired token.'}]\"}, {'error': \"TweepError: [{'code': 89, 'message': 'Invalid or expired token.'}]\"}, {'error': \"TweepError: [{'code': 89, 'message': 'Invalid or expired token.'}]\"}, {'error': \"TweepError: [{'code': 89, 'message': 'Invalid or expired token.'}]\"}, {'error': \"TweepError: [{'code': 89, 'message': 'Invalid or expired token.'}]\"}, {'error': \"TweepError: [{'code': 89, 'message': 'Invalid or expired token.'}]\"}, {'error': \"TweepError: [{'code': 89, 'message': 'Invalid or expired token.'}]\"}, {'error': \"TweepError: [{'code': 89, 'message': 'Invalid or expired token.'}]\"}, {'error': \"TweepError: [{'code': 89, 'message': 'Invalid or expired token.'}]\"}, {'error': \"TweepError: [{'code': 89, 'message': 'Invalid or expired token.'}]\"}, {'error': \"TweepError: [{'code': 89, 'message': 'Invalid or expired token.'}]\"}, {'error': \"TweepError: [{'code': 89, 'message': 'Invalid or expired token.'}]\"}, {'error': \"TweepError: [{'code': 89, 'message': 'Invalid or expired token.'}]\"}, {'error': \"TweepError: [{'code': 89, 'message': 'Invalid or expired token.'}]\"}, {'error': \"TweepError: [{'code': 89, 'message': 'Invalid or expired token.'}]\"}, {'error': \"TweepError: [{'code': 89, 'message': 'Invalid or expired token.'}]\"}, {'error': \"TweepError: [{'code': 89, 'message': 'Invalid or expired token.'}]\"}, {'error': \"TweepError: [{'code': 89, 'message': 'Invalid or expired token.'}]\"}, {'error': \"TweepError: [{'code': 89, 'message': 'Invalid or expired token.'}]\"}, {'error': \"TweepError: [{'code': 89, 'message': 'Invalid or expired token.'}]\"}, {'error': \"TweepError: [{'code': 89, 'message': 'Invalid or expired token.'}]\"}, {'error': \"TweepError: [{'code': 89, 'message': 'Invalid or expired token.'}]\"}, {'error': \"TweepError: [{'code': 89, 'message': 'Invalid or expired token.'}]\"}, {'error': \"TweepError: [{'code': 89, 'message': 'Invalid or expired token.'}]\"}, {'error': \"TweepError: [{'code': 89, 'message': 'Invalid or expired token.'}]\"}, {'error': \"TweepError: [{'code': 89, 'message': 'Invalid or expired token.'}]\"}, {'error': \"TweepError: [{'code': 89, 'message': 'Invalid or expired token.'}]\"}, {'error': \"TweepError: [{'code': 89, 'message': 'Invalid or expired token.'}]\"}, {'error': \"TweepError: [{'code': 89, 'message': 'Invalid or expired token.'}]\"}, {'error': \"TweepError: [{'code': 89, 'message': 'Invalid or expired token.'}]\"}, {'error': \"TweepError: [{'code': 89, 'message': 'Invalid or expired token.'}]\"}, {'error': \"TweepError: [{'code': 89, 'message': 'Invalid or expired token.'}]\"}, {'error': \"TweepError: [{'code': 89, 'message': 'Invalid or expired token.'}]\"}, {'error': \"TweepError: [{'code': 89, 'message': 'Invalid or expired token.'}]\"}, {'error': \"TweepError: [{'code': 89, 'message': 'Invalid or expired token.'}]\"}, {'error': \"TweepError: [{'code': 89, 'message': 'Invalid or expired token.'}]\"}, {'error': \"TweepError: [{'code': 89, 'message': 'Invalid or expired token.'}]\"}, {'error': \"TweepError: [{'code': 89, 'message': 'Invalid or expired token.'}]\"}, {'error': \"TweepError: [{'code': 89, 'message': 'Invalid or expired token.'}]\"}, {'error': \"TweepError: [{'code': 89, 'message': 'Invalid or expired token.'}]\"}, {'error': \"TweepError: [{'code': 89, 'message': 'Invalid or expired token.'}]\"}, {'error': \"TweepError: [{'code': 89, 'message': 'Invalid or expired token.'}]\"}, {'error': \"TweepError: [{'code': 89, 'message': 'Invalid or expired token.'}]\"}, {'error': \"TweepError: [{'code': 89, 'message': 'Invalid or expired token.'}]\"}, {'error': \"TweepError: [{'code': 89, 'message': 'Invalid or expired token.'}]\"}, {'error': \"TweepError: [{'code': 89, 'message': 'Invalid or expired token.'}]\"}, {'error': \"TweepError: [{'code': 89, 'message': 'Invalid or expired token.'}]\"}, {'error': \"TweepError: [{'code': 89, 'message': 'Invalid or expired token.'}]\"}, {'error': \"TweepError: [{'code': 89, 'message': 'Invalid or expired token.'}]\"}, {'error': \"TweepError: [{'code': 89, 'message': 'Invalid or expired token.'}]\"}, {'error': \"TweepError: [{'code': 89, 'message': 'Invalid or expired token.'}]\"}, {'error': \"TweepError: [{'code': 89, 'message': 'Invalid or expired token.'}]\"}, {'error': \"TweepError: [{'code': 89, 'message': 'Invalid or expired token.'}]\"}, {'error': \"TweepError: [{'code': 89, 'message': 'Invalid or expired token.'}]\"}, {'error': \"TweepError: [{'code': 89, 'message': 'Invalid or expired token.'}]\"}, {'error': \"TweepError: [{'code': 89, 'message': 'Invalid or expired token.'}]\"}, {'error': \"TweepError: [{'code': 89, 'message': 'Invalid or expired token.'}]\"}, {'error': \"TweepError: [{'code': 89, 'message': 'Invalid or expired token.'}]\"}, {'error': \"TweepError: [{'code': 89, 'message': 'Invalid or expired token.'}]\"}, {'error': \"TweepError: [{'code': 89, 'message': 'Invalid or expired token.'}]\"}, {'error': \"TweepError: [{'code': 89, 'message': 'Invalid or expired token.'}]\"}, {'error': \"TweepError: [{'code': 89, 'message': 'Invalid or expired token.'}]\"}, {'error': \"TweepError: [{'code': 89, 'message': 'Invalid or expired token.'}]\"}, {'error': \"TweepError: [{'code': 89, 'message': 'Invalid or expired token.'}]\"}, {'error': \"TweepError: [{'code': 89, 'message': 'Invalid or expired token.'}]\"}, {'error': \"TweepError: [{'code': 89, 'message': 'Invalid or expired token.'}]\"}, {'error': \"TweepError: [{'code': 89, 'message': 'Invalid or expired token.'}]\"}, {'error': \"TweepError: [{'code': 89, 'message': 'Invalid or expired token.'}]\"}, {'error': \"TweepError: [{'code': 89, 'message': 'Invalid or expired token.'}]\"}, {'error': \"TweepError: [{'code': 89, 'message': 'Invalid or expired token.'}]\"}, {'error': \"TweepError: [{'code': 89, 'message': 'Invalid or expired token.'}]\"}, {'error': \"TweepError: [{'code': 89, 'message': 'Invalid or expired token.'}]\"}, {'error': \"TweepError: [{'code': 89, 'message': 'Invalid or expired token.'}]\"}, {'error': \"TweepError: [{'code': 89, 'message': 'Invalid or expired token.'}]\"}, {'error': \"TweepError: [{'code': 89, 'message': 'Invalid or expired token.'}]\"}, {'error': \"TweepError: [{'code': 89, 'message': 'Invalid or expired token.'}]\"}, {'error': \"TweepError: [{'code': 89, 'message': 'Invalid or expired token.'}]\"}, {'error': \"TweepError: [{'code': 89, 'message': 'Invalid or expired token.'}]\"}, {'error': \"TweepError: [{'code': 89, 'message': 'Invalid or expired token.'}]\"}, {'error': \"TweepError: [{'code': 89, 'message': 'Invalid or expired token.'}]\"}, {'error': \"TweepError: [{'code': 89, 'message': 'Invalid or expired token.'}]\"}, {'error': \"TweepError: [{'code': 89, 'message': 'Invalid or expired token.'}]\"}, {'error': \"TweepError: [{'code': 89, 'message': 'Invalid or expired token.'}]\"}, {'error': \"TweepError: [{'code': 89, 'message': 'Invalid or expired token.'}]\"}, {'error': \"TweepError: [{'code': 89, 'message': 'Invalid or expired token.'}]\"}, {'error': \"TweepError: [{'code': 89, 'message': 'Invalid or expired token.'}]\"}, {'error': \"TweepError: [{'code': 89, 'message': 'Invalid or expired token.'}]\"}, {'error': \"TweepError: [{'code': 89, 'message': 'Invalid or expired token.'}]\"}, {'error': \"TweepError: [{'code': 89, 'message': 'Invalid or expired token.'}]\"}, {'error': \"TweepError: [{'code': 89, 'message': 'Invalid or expired token.'}]\"}, {'error': \"TweepError: [{'code': 89, 'message': 'Invalid or expired token.'}]\"}, {'error': \"TweepError: [{'code': 89, 'message': 'Invalid or expired token.'}]\"}, {'error': \"TweepError: [{'code': 89, 'message': 'Invalid or expired token.'}]\"}, {'error': \"TweepError: [{'code': 89, 'message': 'Invalid or expired token.'}]\"}, {'error': \"TweepError: [{'code': 89, 'message': 'Invalid or expired token.'}]\"}, {'error': \"TweepError: [{'code': 89, 'message': 'Invalid or expired token.'}]\"}, {'error': \"TweepError: [{'code': 89, 'message': 'Invalid or expired token.'}]\"}, {'error': \"TweepError: [{'code': 89, 'message': 'Invalid or expired token.'}]\"}, {'error': \"TweepError: [{'code': 89, 'message': 'Invalid or expired token.'}]\"}, {'error': \"TweepError: [{'code': 89, 'message': 'Invalid or expired token.'}]\"}, {'error': \"TweepError: [{'code': 89, 'message': 'Invalid or expired token.'}]\"}, {'error': \"TweepError: [{'code': 89, 'message': 'Invalid or expired token.'}]\"}, {'error': \"TweepError: [{'code': 89, 'message': 'Invalid or expired token.'}]\"}, {'error': \"TweepError: [{'code': 89, 'message': 'Invalid or expired token.'}]\"}, {'error': \"TweepError: [{'code': 89, 'message': 'Invalid or expired token.'}]\"}, {'error': \"TweepError: [{'code': 89, 'message': 'Invalid or expired token.'}]\"}, {'error': \"TweepError: [{'code': 89, 'message': 'Invalid or expired token.'}]\"}, {'error': \"TweepError: [{'code': 89, 'message': 'Invalid or expired token.'}]\"}, {'error': \"TweepError: [{'code': 89, 'message': 'Invalid or expired token.'}]\"}, {'error': \"TweepError: [{'code': 89, 'message': 'Invalid or expired token.'}]\"}, {'error': \"TweepError: [{'code': 89, 'message': 'Invalid or expired token.'}]\"}, {'error': \"TweepError: [{'code': 89, 'message': 'Invalid or expired token.'}]\"}, {'error': \"TweepError: [{'code': 89, 'message': 'Invalid or expired token.'}]\"}, {'error': \"TweepError: [{'code': 89, 'message': 'Invalid or expired token.'}]\"}, {'error': \"TweepError: [{'code': 89, 'message': 'Invalid or expired token.'}]\"}, {'error': \"TweepError: [{'code': 89, 'message': 'Invalid or expired token.'}]\"}, {'error': \"TweepError: [{'code': 89, 'message': 'Invalid or expired token.'}]\"}, {'error': \"TweepError: [{'code': 89, 'message': 'Invalid or expired token.'}]\"}, {'error': \"TweepError: [{'code': 89, 'message': 'Invalid or expired token.'}]\"}, {'error': \"TweepError: [{'code': 89, 'message': 'Invalid or expired token.'}]\"}, {'error': \"TweepError: [{'code': 89, 'message': 'Invalid or expired token.'}]\"}, {'error': \"TweepError: [{'code': 89, 'message': 'Invalid or expired token.'}]\"}, {'error': \"TweepError: [{'code': 89, 'message': 'Invalid or expired token.'}]\"}, {'error': \"TweepError: [{'code': 89, 'message': 'Invalid or expired token.'}]\"}, {'error': \"TweepError: [{'code': 89, 'message': 'Invalid or expired token.'}]\"}, {'error': \"TweepError: [{'code': 89, 'message': 'Invalid or expired token.'}]\"}, {'error': \"TweepError: [{'code': 89, 'message': 'Invalid or expired token.'}]\"}, {'error': \"TweepError: [{'code': 89, 'message': 'Invalid or expired token.'}]\"}, {'error': \"TweepError: [{'code': 89, 'message': 'Invalid or expired token.'}]\"}, {'error': \"TweepError: [{'code': 89, 'message': 'Invalid or expired token.'}]\"}, {'error': \"TweepError: [{'code': 89, 'message': 'Invalid or expired token.'}]\"}, {'error': \"TweepError: [{'code': 89, 'message': 'Invalid or expired token.'}]\"}, {'error': \"TweepError: [{'code': 89, 'message': 'Invalid or expired token.'}]\"}, {'error': \"TweepError: [{'code': 89, 'message': 'Invalid or expired token.'}]\"}, {'error': \"TweepError: [{'code': 89, 'message': 'Invalid or expired token.'}]\"}, {'error': \"TweepError: [{'code': 89, 'message': 'Invalid or expired token.'}]\"}, {'error': \"TweepError: [{'code': 89, 'message': 'Invalid or expired token.'}]\"}, {'error': \"TweepError: [{'code': 89, 'message': 'Invalid or expired token.'}]\"}, {'error': \"TweepError: [{'code': 89, 'message': 'Invalid or expired token.'}]\"}, {'error': \"TweepError: [{'code': 89, 'message': 'Invalid or expired token.'}]\"}, {'error': \"TweepError: [{'code': 89, 'message': 'Invalid or expired token.'}]\"}, {'error': \"TweepError: [{'code': 89, 'message': 'Invalid or expired token.'}]\"}, {'error': \"TweepError: [{'code': 89, 'message': 'Invalid or expired token.'}]\"}, {'error': \"TweepError: [{'code': 89, 'message': 'Invalid or expired token.'}]\"}, {'error': \"TweepError: [{'code': 89, 'message': 'Invalid or expired token.'}]\"}, {'error': \"TweepError: [{'code': 89, 'message': 'Invalid or expired token.'}]\"}, {'error': \"TweepError: [{'code': 89, 'message': 'Invalid or expired token.'}]\"}, {'error': \"TweepError: [{'code': 89, 'message': 'Invalid or expired token.'}]\"}, {'error': \"TweepError: [{'code': 89, 'message': 'Invalid or expired token.'}]\"}, {'error': \"TweepError: [{'code': 89, 'message': 'Invalid or expired token.'}]\"}, {'error': \"TweepError: [{'code': 89, 'message': 'Invalid or expired token.'}]\"}, {'error': \"TweepError: [{'code': 89, 'message': 'Invalid or expired token.'}]\"}, {'error': \"TweepError: [{'code': 89, 'message': 'Invalid or expired token.'}]\"}, {'error': \"TweepError: [{'code': 89, 'message': 'Invalid or expired token.'}]\"}, {'error': \"TweepError: [{'code': 89, 'message': 'Invalid or expired token.'}]\"}, {'error': \"TweepError: [{'code': 89, 'message': 'Invalid or expired token.'}]\"}, {'error': \"TweepError: [{'code': 89, 'message': 'Invalid or expired token.'}]\"}, {'error': \"TweepError: [{'code': 89, 'message': 'Invalid or expired token.'}]\"}, {'error': \"TweepError: [{'code': 89, 'message': 'Invalid or expired token.'}]\"}, {'error': \"TweepError: [{'code': 89, 'message': 'Invalid or expired token.'}]\"}, {'error': \"TweepError: [{'code': 89, 'message': 'Invalid or expired token.'}]\"}, {'error': \"TweepError: [{'code': 89, 'message': 'Invalid or expired token.'}]\"}, {'error': \"TweepError: [{'code': 89, 'message': 'Invalid or expired token.'}]\"}, {'error': \"TweepError: [{'code': 89, 'message': 'Invalid or expired token.'}]\"}, {'error': \"TweepError: [{'code': 89, 'message': 'Invalid or expired token.'}]\"}, {'error': \"TweepError: [{'code': 89, 'message': 'Invalid or expired token.'}]\"}, {'error': \"TweepError: [{'code': 89, 'message': 'Invalid or expired token.'}]\"}, {'error': \"TweepError: [{'code': 89, 'message': 'Invalid or expired token.'}]\"}, {'error': \"TweepError: [{'code': 89, 'message': 'Invalid or expired token.'}]\"}, {'error': \"TweepError: [{'code': 89, 'message': 'Invalid or expired token.'}]\"}, {'error': \"TweepError: [{'code': 89, 'message': 'Invalid or expired token.'}]\"}, {'error': \"TweepError: [{'code': 89, 'message': 'Invalid or expired token.'}]\"}, {'error': \"TweepError: [{'code': 89, 'message': 'Invalid or expired token.'}]\"}, {'error': \"TweepError: [{'code': 89, 'message': 'Invalid or expired token.'}]\"}, {'error': \"TweepError: [{'code': 89, 'message': 'Invalid or expired token.'}]\"}, {'error': \"TweepError: [{'code': 89, 'message': 'Invalid or expired token.'}]\"}, {'error': \"TweepError: [{'code': 89, 'message': 'Invalid or expired token.'}]\"}, {'error': \"TweepError: [{'code': 89, 'message': 'Invalid or expired token.'}]\"}, {'error': \"TweepError: [{'code': 89, 'message': 'Invalid or expired token.'}]\"}, {'error': \"TweepError: [{'code': 89, 'message': 'Invalid or expired token.'}]\"}, {'error': \"TweepError: [{'code': 89, 'message': 'Invalid or expired token.'}]\"}, {'error': \"TweepError: [{'code': 89, 'message': 'Invalid or expired token.'}]\"}, {'error': \"TweepError: [{'code': 89, 'message': 'Invalid or expired token.'}]\"}, {'error': \"TweepError: [{'code': 89, 'message': 'Invalid or expired token.'}]\"}, {'error': \"TweepError: [{'code': 89, 'message': 'Invalid or expired token.'}]\"}, {'error': \"TweepError: [{'code': 89, 'message': 'Invalid or expired token.'}]\"}, {'error': \"TweepError: [{'code': 89, 'message': 'Invalid or expired token.'}]\"}, {'error': \"TweepError: [{'code': 89, 'message': 'Invalid or expired token.'}]\"}, {'error': \"TweepError: [{'code': 89, 'message': 'Invalid or expired token.'}]\"}, {'error': \"TweepError: [{'code': 89, 'message': 'Invalid or expired token.'}]\"}, {'error': \"TweepError: [{'code': 89, 'message': 'Invalid or expired token.'}]\"}, {'error': \"TweepError: [{'code': 89, 'message': 'Invalid or expired token.'}]\"}, {'error': \"TweepError: [{'code': 89, 'message': 'Invalid or expired token.'}]\"}, {'error': \"TweepError: [{'code': 89, 'message': 'Invalid or expired token.'}]\"}, {'error': \"TweepError: [{'code': 89, 'message': 'Invalid or expired token.'}]\"}, {'error': \"TweepError: [{'code': 89, 'message': 'Invalid or expired token.'}]\"}, {'error': \"TweepError: [{'code': 89, 'message': 'Invalid or expired token.'}]\"}, {'error': \"TweepError: [{'code': 89, 'message': 'Invalid or expired token.'}]\"}, {'error': \"TweepError: [{'code': 89, 'message': 'Invalid or expired token.'}]\"}, {'error': \"TweepError: [{'code': 89, 'message': 'Invalid or expired token.'}]\"}, {'error': \"TweepError: [{'code': 89, 'message': 'Invalid or expired token.'}]\"}, {'error': \"TweepError: [{'code': 89, 'message': 'Invalid or expired token.'}]\"}, {'error': \"TweepError: [{'code': 89, 'message': 'Invalid or expired token.'}]\"}, {'error': \"TweepError: [{'code': 89, 'message': 'Invalid or expired token.'}]\"}, {'error': \"TweepError: [{'code': 89, 'message': 'Invalid or expired token.'}]\"}, {'error': \"TweepError: [{'code': 89, 'message': 'Invalid or expired token.'}]\"}, {'error': \"TweepError: [{'code': 89, 'message': 'Invalid or expired token.'}]\"}, {'error': \"TweepError: [{'code': 89, 'message': 'Invalid or expired token.'}]\"}, {'error': \"TweepError: [{'code': 89, 'message': 'Invalid or expired token.'}]\"}, {'error': \"TweepError: [{'code': 89, 'message': 'Invalid or expired token.'}]\"}, {'error': \"TweepError: [{'code': 89, 'message': 'Invalid or expired token.'}]\"}, {'error': \"TweepError: [{'code': 89, 'message': 'Invalid or expired token.'}]\"}, {'error': \"TweepError: [{'code': 89, 'message': 'Invalid or expired token.'}]\"}, {'error': \"TweepError: [{'code': 89, 'message': 'Invalid or expired token.'}]\"}, {'error': \"TweepError: [{'code': 89, 'message': 'Invalid or expired token.'}]\"}, {'error': \"TweepError: [{'code': 89, 'message': 'Invalid or expired token.'}]\"}, {'error': \"TweepError: [{'code': 89, 'message': 'Invalid or expired token.'}]\"}, {'error': \"TweepError: [{'code': 89, 'message': 'Invalid or expired token.'}]\"}, {'error': \"TweepError: [{'code': 89, 'message': 'Invalid or expired token.'}]\"}, {'error': \"TweepError: [{'code': 89, 'message': 'Invalid or expired token.'}]\"}, {'error': \"TweepError: [{'code': 89, 'message': 'Invalid or expired token.'}]\"}, {'error': \"TweepError: [{'code': 89, 'message': 'Invalid or expired token.'}]\"}, {'error': \"TweepError: [{'code': 89, 'message': 'Invalid or expired token.'}]\"}, {'error': \"TweepError: [{'code': 89, 'message': 'Invalid or expired token.'}]\"}, {'error': \"TweepError: [{'code': 89, 'message': 'Invalid or expired token.'}]\"}, {'error': \"TweepError: [{'code': 89, 'message': 'Invalid or expired token.'}]\"}, {'error': \"TweepError: [{'code': 89, 'message': 'Invalid or expired token.'}]\"}, {'error': \"TweepError: [{'code': 89, 'message': 'Invalid or expired token.'}]\"}, {'error': \"TweepError: [{'code': 89, 'message': 'Invalid or expired token.'}]\"}, {'error': \"TweepError: [{'code': 89, 'message': 'Invalid or expired token.'}]\"}, {'error': \"TweepError: [{'code': 89, 'message': 'Invalid or expired token.'}]\"}, {'error': \"TweepError: [{'code': 89, 'message': 'Invalid or expired token.'}]\"}, {'error': \"TweepError: [{'code': 89, 'message': 'Invalid or expired token.'}]\"}, {'error': \"TweepError: [{'code': 89, 'message': 'Invalid or expired token.'}]\"}, {'error': \"TweepError: [{'code': 89, 'message': 'Invalid or expired token.'}]\"}, {'error': \"TweepError: [{'code': 89, 'message': 'Invalid or expired token.'}]\"}, {'error': \"TweepError: [{'code': 89, 'message': 'Invalid or expired token.'}]\"}, {'error': \"TweepError: [{'code': 89, 'message': 'Invalid or expired token.'}]\"}, {'error': \"TweepError: [{'code': 89, 'message': 'Invalid or expired token.'}]\"}, {'error': \"TweepError: [{'code': 89, 'message': 'Invalid or expired token.'}]\"}, {'error': \"TweepError: [{'code': 89, 'message': 'Invalid or expired token.'}]\"}, {'error': \"TweepError: [{'code': 89, 'message': 'Invalid or expired token.'}]\"}, {'error': \"TweepError: [{'code': 89, 'message': 'Invalid or expired token.'}]\"}, {'error': \"TweepError: [{'code': 89, 'message': 'Invalid or expired token.'}]\"}, {'error': \"TweepError: [{'code': 89, 'message': 'Invalid or expired token.'}]\"}, {'error': \"TweepError: [{'code': 89, 'message': 'Invalid or expired token.'}]\"}, {'error': \"TweepError: [{'code': 89, 'message': 'Invalid or expired token.'}]\"}, {'error': \"TweepError: [{'code': 89, 'message': 'Invalid or expired token.'}]\"}, {'error': \"TweepError: [{'code': 89, 'message': 'Invalid or expired token.'}]\"}, {'error': \"TweepError: [{'code': 89, 'message': 'Invalid or expired token.'}]\"}, {'error': \"TweepError: [{'code': 89, 'message': 'Invalid or expired token.'}]\"}, {'error': \"TweepError: [{'code': 89, 'message': 'Invalid or expired token.'}]\"}, {'error': \"TweepError: [{'code': 89, 'message': 'Invalid or expired token.'}]\"}, {'error': \"TweepError: [{'code': 89, 'message': 'Invalid or expired token.'}]\"}, {'error': \"TweepError: [{'code': 89, 'message': 'Invalid or expired token.'}]\"}, {'error': \"TweepError: [{'code': 89, 'message': 'Invalid or expired token.'}]\"}, {'error': \"TweepError: [{'code': 89, 'message': 'Invalid or expired token.'}]\"}, {'error': \"TweepError: [{'code': 89, 'message': 'Invalid or expired token.'}]\"}, {'error': \"TweepError: [{'code': 89, 'message': 'Invalid or expired token.'}]\"}, {'error': \"TweepError: [{'code': 89, 'message': 'Invalid or expired token.'}]\"}, {'error': \"TweepError: [{'code': 89, 'message': 'Invalid or expired token.'}]\"}, {'error': \"TweepError: [{'code': 89, 'message': 'Invalid or expired token.'}]\"}, {'error': \"TweepError: [{'code': 89, 'message': 'Invalid or expired token.'}]\"}, {'error': \"TweepError: [{'code': 89, 'message': 'Invalid or expired token.'}]\"}, {'error': \"TweepError: [{'code': 89, 'message': 'Invalid or expired token.'}]\"}, {'error': \"TweepError: [{'code': 89, 'message': 'Invalid or expired token.'}]\"}, {'error': \"TweepError: [{'code': 89, 'message': 'Invalid or expired token.'}]\"}, {'error': \"TweepError: [{'code': 89, 'message': 'Invalid or expired token.'}]\"}, {'error': \"TweepError: [{'code': 89, 'message': 'Invalid or expired token.'}]\"}, {'error': \"TweepError: [{'code': 89, 'message': 'Invalid or expired token.'}]\"}, {'error': \"TweepError: [{'code': 89, 'message': 'Invalid or expired token.'}]\"}, {'error': \"TweepError: [{'code': 89, 'message': 'Invalid or expired token.'}]\"}, {'error': \"TweepError: [{'code': 89, 'message': 'Invalid or expired token.'}]\"}, {'error': \"TweepError: [{'code': 89, 'message': 'Invalid or expired token.'}]\"}, {'error': \"TweepError: [{'code': 89, 'message': 'Invalid or expired token.'}]\"}, {'error': \"TweepError: [{'code': 89, 'message': 'Invalid or expired token.'}]\"}, {'error': \"TweepError: [{'code': 89, 'message': 'Invalid or expired token.'}]\"}, {'error': \"TweepError: [{'code': 89, 'message': 'Invalid or expired token.'}]\"}, {'error': \"TweepError: [{'code': 89, 'message': 'Invalid or expired token.'}]\"}, {'error': \"TweepError: [{'code': 89, 'message': 'Invalid or expired token.'}]\"}, {'error': \"TweepError: [{'code': 89, 'message': 'Invalid or expired token.'}]\"}, {'error': \"TweepError: [{'code': 89, 'message': 'Invalid or expired token.'}]\"}, {'error': \"TweepError: [{'code': 89, 'message': 'Invalid or expired token.'}]\"}, {'error': \"TweepError: [{'code': 89, 'message': 'Invalid or expired token.'}]\"}, {'error': \"TweepError: [{'code': 89, 'message': 'Invalid or expired token.'}]\"}, {'error': \"TweepError: [{'code': 89, 'message': 'Invalid or expired token.'}]\"}, {'error': \"TweepError: [{'code': 89, 'message': 'Invalid or expired token.'}]\"}, {'error': \"TweepError: [{'code': 89, 'message': 'Invalid or expired token.'}]\"}, {'error': \"TweepError: [{'code': 89, 'message': 'Invalid or expired token.'}]\"}, {'error': \"TweepError: [{'code': 89, 'message': 'Invalid or expired token.'}]\"}, {'error': \"TweepError: [{'code': 89, 'message': 'Invalid or expired token.'}]\"}, {'error': \"TweepError: [{'code': 89, 'message': 'Invalid or expired token.'}]\"}, {'error': \"TweepError: [{'code': 89, 'message': 'Invalid or expired token.'}]\"}, {'error': \"TweepError: [{'code': 89, 'message': 'Invalid or expired token.'}]\"}, {'error': \"TweepError: [{'code': 89, 'message': 'Invalid or expired token.'}]\"}, {'error': \"TweepError: [{'code': 89, 'message': 'Invalid or expired token.'}]\"}, {'error': \"TweepError: [{'code': 89, 'message': 'Invalid or expired token.'}]\"}, {'error': \"TweepError: [{'code': 89, 'message': 'Invalid or expired token.'}]\"}, {'error': \"TweepError: [{'code': 89, 'message': 'Invalid or expired token.'}]\"}, {'error': \"TweepError: [{'code': 89, 'message': 'Invalid or expired token.'}]\"}, {'error': \"TweepError: [{'code': 89, 'message': 'Invalid or expired token.'}]\"}, {'error': \"TweepError: [{'code': 89, 'message': 'Invalid or expired token.'}]\"}, {'error': \"TweepError: [{'code': 89, 'message': 'Invalid or expired token.'}]\"}, {'error': \"TweepError: [{'code': 89, 'message': 'Invalid or expired token.'}]\"}, {'error': \"TweepError: [{'code': 89, 'message': 'Invalid or expired token.'}]\"}, {'error': \"TweepError: [{'code': 89, 'message': 'Invalid or expired token.'}]\"}, {'error': \"TweepError: [{'code': 89, 'message': 'Invalid or expired token.'}]\"}, {'error': \"TweepError: [{'code': 89, 'message': 'Invalid or expired token.'}]\"}, {'error': \"TweepError: [{'code': 89, 'message': 'Invalid or expired token.'}]\"}, {'error': \"TweepError: [{'code': 89, 'message': 'Invalid or expired token.'}]\"}, {'error': \"TweepError: [{'code': 89, 'message': 'Invalid or expired token.'}]\"}, {'error': \"TweepError: [{'code': 89, 'message': 'Invalid or expired token.'}]\"}, {'error': \"TweepError: [{'code': 89, 'message': 'Invalid or expired token.'}]\"}, {'error': \"TweepError: [{'code': 89, 'message': 'Invalid or expired token.'}]\"}, {'error': \"TweepError: [{'code': 89, 'message': 'Invalid or expired token.'}]\"}, {'error': \"TweepError: [{'code': 89, 'message': 'Invalid or expired token.'}]\"}, {'error': \"TweepError: [{'code': 89, 'message': 'Invalid or expired token.'}]\"}, {'error': \"TweepError: [{'code': 89, 'message': 'Invalid or expired token.'}]\"}, {'error': \"TweepError: [{'code': 89, 'message': 'Invalid or expired token.'}]\"}, {'error': \"TweepError: [{'code': 89, 'message': 'Invalid or expired token.'}]\"}, {'error': \"TweepError: [{'code': 89, 'message': 'Invalid or expired token.'}]\"}, {'error': \"TweepError: [{'code': 89, 'message': 'Invalid or expired token.'}]\"}, {'error': \"TweepError: [{'code': 89, 'message': 'Invalid or expired token.'}]\"}, {'error': \"TweepError: [{'code': 89, 'message': 'Invalid or expired token.'}]\"}, {'error': \"TweepError: [{'code': 89, 'message': 'Invalid or expired token.'}]\"}, {'error': \"TweepError: [{'code': 89, 'message': 'Invalid or expired token.'}]\"}, {'error': \"TweepError: [{'code': 89, 'message': 'Invalid or expired token.'}]\"}, {'error': \"TweepError: [{'code': 89, 'message': 'Invalid or expired token.'}]\"}, {'error': \"TweepError: [{'code': 89, 'message': 'Invalid or expired token.'}]\"}, {'error': \"TweepError: [{'code': 89, 'message': 'Invalid or expired token.'}]\"}, {'error': \"TweepError: [{'code': 89, 'message': 'Invalid or expired token.'}]\"}, {'error': \"TweepError: [{'code': 89, 'message': 'Invalid or expired token.'}]\"}, {'error': \"TweepError: [{'code': 89, 'message': 'Invalid or expired token.'}]\"}, {'error': \"TweepError: [{'code': 89, 'message': 'Invalid or expired token.'}]\"}, {'error': \"TweepError: [{'code': 89, 'message': 'Invalid or expired token.'}]\"}, {'error': \"TweepError: [{'code': 89, 'message': 'Invalid or expired token.'}]\"}, {'error': \"TweepError: [{'code': 89, 'message': 'Invalid or expired token.'}]\"}, {'error': \"TweepError: [{'code': 89, 'message': 'Invalid or expired token.'}]\"}, {'error': \"TweepError: [{'code': 89, 'message': 'Invalid or expired token.'}]\"}, {'error': \"TweepError: [{'code': 89, 'message': 'Invalid or expired token.'}]\"}, {'error': \"TweepError: [{'code': 89, 'message': 'Invalid or expired token.'}]\"}, {'error': \"TweepError: [{'code': 89, 'message': 'Invalid or expired token.'}]\"}, {'error': \"TweepError: [{'code': 89, 'message': 'Invalid or expired token.'}]\"}, {'error': \"TweepError: [{'code': 89, 'message': 'Invalid or expired token.'}]\"}, {'error': \"TweepError: [{'code': 89, 'message': 'Invalid or expired token.'}]\"}, {'error': \"TweepError: [{'code': 89, 'message': 'Invalid or expired token.'}]\"}, {'error': \"TweepError: [{'code': 89, 'message': 'Invalid or expired token.'}]\"}, {'error': \"TweepError: [{'code': 89, 'message': 'Invalid or expired token.'}]\"}, {'error': \"TweepError: [{'code': 89, 'message': 'Invalid or expired token.'}]\"}, {'error': \"TweepError: [{'code': 89, 'message': 'Invalid or expired token.'}]\"}, {'error': \"TweepError: [{'code': 89, 'message': 'Invalid or expired token.'}]\"}, {'error': \"TweepError: [{'code': 89, 'message': 'Invalid or expired token.'}]\"}, {'error': \"TweepError: [{'code': 89, 'message': 'Invalid or expired token.'}]\"}, {'error': \"TweepError: [{'code': 89, 'message': 'Invalid or expired token.'}]\"}, {'error': \"TweepError: [{'code': 89, 'message': 'Invalid or expired token.'}]\"}, {'error': \"TweepError: [{'code': 89, 'message': 'Invalid or expired token.'}]\"}, {'error': \"TweepError: [{'code': 89, 'message': 'Invalid or expired token.'}]\"}, {'error': \"TweepError: [{'code': 89, 'message': 'Invalid or expired token.'}]\"}, {'error': \"TweepError: [{'code': 89, 'message': 'Invalid or expired token.'}]\"}, {'error': \"TweepError: [{'code': 89, 'message': 'Invalid or expired token.'}]\"}, {'error': \"TweepError: [{'code': 89, 'message': 'Invalid or expired token.'}]\"}, {'error': \"TweepError: [{'code': 89, 'message': 'Invalid or expired token.'}]\"}, {'error': \"TweepError: [{'code': 89, 'message': 'Invalid or expired token.'}]\"}, {'error': \"TweepError: [{'code': 89, 'message': 'Invalid or expired token.'}]\"}, {'error': \"TweepError: [{'code': 89, 'message': 'Invalid or expired token.'}]\"}, {'error': \"TweepError: [{'code': 89, 'message': 'Invalid or expired token.'}]\"}, {'error': \"TweepError: [{'code': 89, 'message': 'Invalid or expired token.'}]\"}, {'error': \"TweepError: [{'code': 89, 'message': 'Invalid or expired token.'}]\"}, {'error': \"TweepError: [{'code': 89, 'message': 'Invalid or expired token.'}]\"}, {'error': \"TweepError: [{'code': 89, 'message': 'Invalid or expired token.'}]\"}, {'error': \"TweepError: [{'code': 89, 'message': 'Invalid or expired token.'}]\"}, {'error': \"TweepError: [{'code': 89, 'message': 'Invalid or expired token.'}]\"}, {'error': \"TweepError: [{'code': 89, 'message': 'Invalid or expired token.'}]\"}, {'error': \"TweepError: [{'code': 89, 'message': 'Invalid or expired token.'}]\"}, {'error': \"TweepError: [{'code': 89, 'message': 'Invalid or expired token.'}]\"}, {'error': \"TweepError: [{'code': 89, 'message': 'Invalid or expired token.'}]\"}, {'error': \"TweepError: [{'code': 89, 'message': 'Invalid or expired token.'}]\"}, {'error': \"TweepError: [{'code': 89, 'message': 'Invalid or expired token.'}]\"}, {'error': \"TweepError: [{'code': 89, 'message': 'Invalid or expired token.'}]\"}, {'error': \"TweepError: [{'code': 89, 'message': 'Invalid or expired token.'}]\"}, {'error': \"TweepError: [{'code': 89, 'message': 'Invalid or expired token.'}]\"}, {'error': \"TweepError: [{'code': 89, 'message': 'Invalid or expired token.'}]\"}, {'error': \"TweepError: [{'code': 89, 'message': 'Invalid or expired token.'}]\"}, {'error': \"TweepError: [{'code': 89, 'message': 'Invalid or expired token.'}]\"}, {'error': \"TweepError: [{'code': 89, 'message': 'Invalid or expired token.'}]\"}, {'error': \"TweepError: [{'code': 89, 'message': 'Invalid or expired token.'}]\"}, {'error': \"TweepError: [{'code': 89, 'message': 'Invalid or expired token.'}]\"}, {'error': \"TweepError: [{'code': 89, 'message': 'Invalid or expired token.'}]\"}, {'error': \"TweepError: [{'code': 89, 'message': 'Invalid or expired token.'}]\"}, {'error': \"TweepError: [{'code': 89, 'message': 'Invalid or expired token.'}]\"}, {'error': \"TweepError: [{'code': 89, 'message': 'Invalid or expired token.'}]\"}, {'error': \"TweepError: [{'code': 89, 'message': 'Invalid or expired token.'}]\"}, {'error': \"TweepError: [{'code': 89, 'message': 'Invalid or expired token.'}]\"}, {'error': \"TweepError: [{'code': 89, 'message': 'Invalid or expired token.'}]\"}, {'error': \"TweepError: [{'code': 89, 'message': 'Invalid or expired token.'}]\"}, {'error': \"TweepError: [{'code': 89, 'message': 'Invalid or expired token.'}]\"}, {'error': \"TweepError: [{'code': 89, 'message': 'Invalid or expired token.'}]\"}, {'error': \"TweepError: [{'code': 89, 'message': 'Invalid or expired token.'}]\"}, {'error': \"TweepError: [{'code': 89, 'message': 'Invalid or expired token.'}]\"}, {'error': \"TweepError: [{'code': 89, 'message': 'Invalid or expired token.'}]\"}, {'error': \"TweepError: [{'code': 89, 'message': 'Invalid or expired token.'}]\"}, {'error': \"TweepError: [{'code': 89, 'message': 'Invalid or expired token.'}]\"}, {'error': \"TweepError: [{'code': 89, 'message': 'Invalid or expired token.'}]\"}, {'error': \"TweepError: [{'code': 89, 'message': 'Invalid or expired token.'}]\"}, {'error': \"TweepError: [{'code': 89, 'message': 'Invalid or expired token.'}]\"}, {'error': \"TweepError: [{'code': 89, 'message': 'Invalid or expired token.'}]\"}, {'error': \"TweepError: [{'code': 89, 'message': 'Invalid or expired token.'}]\"}, {'error': \"TweepError: [{'code': 89, 'message': 'Invalid or expired token.'}]\"}, {'error': \"TweepError: [{'code': 89, 'message': 'Invalid or expired token.'}]\"}, {'error': \"TweepError: [{'code': 89, 'message': 'Invalid or expired token.'}]\"}, {'error': \"TweepError: [{'code': 89, 'message': 'Invalid or expired token.'}]\"}, {'error': \"TweepError: [{'code': 89, 'message': 'Invalid or expired token.'}]\"}, {'error': \"TweepError: [{'code': 89, 'message': 'Invalid or expired token.'}]\"}, {'error': \"TweepError: [{'code': 89, 'message': 'Invalid or expired token.'}]\"}, {'error': \"TweepError: [{'code': 89, 'message': 'Invalid or expired token.'}]\"}, {'error': \"TweepError: [{'code': 89, 'message': 'Invalid or expired token.'}]\"}, {'error': \"TweepError: [{'code': 89, 'message': 'Invalid or expired token.'}]\"}, {'error': \"TweepError: [{'code': 89, 'message': 'Invalid or expired token.'}]\"}, {'error': \"TweepError: [{'code': 89, 'message': 'Invalid or expired token.'}]\"}, {'error': \"TweepError: [{'code': 89, 'message': 'Invalid or expired token.'}]\"}, {'error': \"TweepError: [{'code': 89, 'message': 'Invalid or expired token.'}]\"}, {'error': \"TweepError: [{'code': 89, 'message': 'Invalid or expired token.'}]\"}, {'error': \"TweepError: [{'code': 89, 'message': 'Invalid or expired token.'}]\"}, {'error': \"TweepError: [{'code': 89, 'message': 'Invalid or expired token.'}]\"}, {'error': \"TweepError: [{'code': 89, 'message': 'Invalid or expired token.'}]\"}, {'error': \"TweepError: [{'code': 89, 'message': 'Invalid or expired token.'}]\"}, {'error': \"TweepError: [{'code': 89, 'message': 'Invalid or expired token.'}]\"}, {'error': \"TweepError: [{'code': 89, 'message': 'Invalid or expired token.'}]\"}, {'error': \"TweepError: [{'code': 89, 'message': 'Invalid or expired token.'}]\"}, {'error': \"TweepError: [{'code': 89, 'message': 'Invalid or expired token.'}]\"}, {'error': \"TweepError: [{'code': 89, 'message': 'Invalid or expired token.'}]\"}, {'error': \"TweepError: [{'code': 89, 'message': 'Invalid or expired token.'}]\"}, {'error': \"TweepError: [{'code': 89, 'message': 'Invalid or expired token.'}]\"}, {'error': \"TweepError: [{'code': 89, 'message': 'Invalid or expired token.'}]\"}, {'error': \"TweepError: [{'code': 89, 'message': 'Invalid or expired token.'}]\"}, {'error': \"TweepError: [{'code': 89, 'message': 'Invalid or expired token.'}]\"}, {'error': \"TweepError: [{'code': 89, 'message': 'Invalid or expired token.'}]\"}, {'error': \"TweepError: [{'code': 89, 'message': 'Invalid or expired token.'}]\"}, {'error': \"TweepError: [{'code': 89, 'message': 'Invalid or expired token.'}]\"}, {'error': \"TweepError: [{'code': 89, 'message': 'Invalid or expired token.'}]\"}, {'error': \"TweepError: [{'code': 89, 'message': 'Invalid or expired token.'}]\"}, {'error': \"TweepError: [{'code': 89, 'message': 'Invalid or expired token.'}]\"}, {'error': \"TweepError: [{'code': 89, 'message': 'Invalid or expired token.'}]\"}, {'error': \"TweepError: [{'code': 89, 'message': 'Invalid or expired token.'}]\"}, {'error': \"TweepError: [{'code': 89, 'message': 'Invalid or expired token.'}]\"}, {'error': \"TweepError: [{'code': 89, 'message': 'Invalid or expired token.'}]\"}, {'error': \"TweepError: [{'code': 89, 'message': 'Invalid or expired token.'}]\"}, {'error': \"TweepError: [{'code': 89, 'message': 'Invalid or expired token.'}]\"}, {'error': \"TweepError: [{'code': 89, 'message': 'Invalid or expired token.'}]\"}, {'error': \"TweepError: [{'code': 89, 'message': 'Invalid or expired token.'}]\"}, {'error': \"TweepError: [{'code': 89, 'message': 'Invalid or expired token.'}]\"}, {'error': \"TweepError: [{'code': 89, 'message': 'Invalid or expired token.'}]\"}, {'error': \"TweepError: [{'code': 89, 'message': 'Invalid or expired token.'}]\"}, {'error': \"TweepError: [{'code': 89, 'message': 'Invalid or expired token.'}]\"}, {'error': \"TweepError: [{'code': 89, 'message': 'Invalid or expired token.'}]\"}, {'error': \"TweepError: [{'code': 89, 'message': 'Invalid or expired token.'}]\"}, {'error': \"TweepError: [{'code': 89, 'message': 'Invalid or expired token.'}]\"}, {'error': \"TweepError: [{'code': 89, 'message': 'Invalid or expired token.'}]\"}, {'error': \"TweepError: [{'code': 89, 'message': 'Invalid or expired token.'}]\"}, {'error': \"TweepError: [{'code': 89, 'message': 'Invalid or expired token.'}]\"}, {'error': \"TweepError: [{'code': 89, 'message': 'Invalid or expired token.'}]\"}, {'error': \"TweepError: [{'code': 89, 'message': 'Invalid or expired token.'}]\"}, {'error': \"TweepError: [{'code': 89, 'message': 'Invalid or expired token.'}]\"}, {'error': \"TweepError: [{'code': 89, 'message': 'Invalid or expired token.'}]\"}, {'error': \"TweepError: [{'code': 89, 'message': 'Invalid or expired token.'}]\"}, {'error': \"TweepError: [{'code': 89, 'message': 'Invalid or expired token.'}]\"}, {'error': \"TweepError: [{'code': 89, 'message': 'Invalid or expired token.'}]\"}, {'error': \"TweepError: [{'code': 89, 'message': 'Invalid or expired token.'}]\"}, {'error': \"TweepError: [{'code': 89, 'message': 'Invalid or expired token.'}]\"}, {'error': \"TweepError: [{'code': 89, 'message': 'Invalid or expired token.'}]\"}, {'error': \"TweepError: [{'code': 89, 'message': 'Invalid or expired token.'}]\"}, {'error': \"TweepError: [{'code': 89, 'message': 'Invalid or expired token.'}]\"}, {'error': \"TweepError: [{'code': 89, 'message': 'Invalid or expired token.'}]\"}, {'error': \"TweepError: [{'code': 89, 'message': 'Invalid or expired token.'}]\"}, {'error': \"TweepError: [{'code': 89, 'message': 'Invalid or expired token.'}]\"}, {'error': \"TweepError: [{'code': 89, 'message': 'Invalid or expired token.'}]\"}, {'error': \"TweepError: [{'code': 89, 'message': 'Invalid or expired token.'}]\"}, {'error': \"TweepError: [{'code': 89, 'message': 'Invalid or expired token.'}]\"}, {'error': \"TweepError: [{'code': 89, 'message': 'Invalid or expired token.'}]\"}, {'error': \"TweepError: [{'code': 89, 'message': 'Invalid or expired token.'}]\"}, {'error': \"TweepError: [{'code': 89, 'message': 'Invalid or expired token.'}]\"}, {'error': \"TweepError: [{'code': 89, 'message': 'Invalid or expired token.'}]\"}, {'error': \"TweepError: [{'code': 89, 'message': 'Invalid or expired token.'}]\"}, {'error': \"TweepError: [{'code': 89, 'message': 'Invalid or expired token.'}]\"}, {'error': \"TweepError: [{'code': 89, 'message': 'Invalid or expired token.'}]\"}, {'error': \"TweepError: [{'code': 89, 'message': 'Invalid or expired token.'}]\"}, {'error': \"TweepError: [{'code': 89, 'message': 'Invalid or expired token.'}]\"}, {'error': \"TweepError: [{'code': 89, 'message': 'Invalid or expired token.'}]\"}, {'error': \"TweepError: [{'code': 89, 'message': 'Invalid or expired token.'}]\"}, {'error': \"TweepError: [{'code': 89, 'message': 'Invalid or expired token.'}]\"}, {'error': \"TweepError: [{'code': 89, 'message': 'Invalid or expired token.'}]\"}, {'error': \"TweepError: [{'code': 89, 'message': 'Invalid or expired token.'}]\"}, {'error': \"TweepError: [{'code': 89, 'message': 'Invalid or expired token.'}]\"}, {'error': \"TweepError: [{'code': 89, 'message': 'Invalid or expired token.'}]\"}, {'error': \"TweepError: [{'code': 89, 'message': 'Invalid or expired token.'}]\"}, {'error': \"TweepError: [{'code': 89, 'message': 'Invalid or expired token.'}]\"}, {'error': \"TweepError: [{'code': 89, 'message': 'Invalid or expired token.'}]\"}, {'error': \"TweepError: [{'code': 89, 'message': 'Invalid or expired token.'}]\"}, {'error': \"TweepError: [{'code': 89, 'message': 'Invalid or expired token.'}]\"}, {'error': \"TweepError: [{'code': 89, 'message': 'Invalid or expired token.'}]\"}, {'error': \"TweepError: [{'code': 89, 'message': 'Invalid or expired token.'}]\"}, {'error': \"TweepError: [{'code': 89, 'message': 'Invalid or expired token.'}]\"}, {'error': \"TweepError: [{'code': 89, 'message': 'Invalid or expired token.'}]\"}, {'error': \"TweepError: [{'code': 89, 'message': 'Invalid or expired token.'}]\"}, {'error': \"TweepError: [{'code': 89, 'message': 'Invalid or expired token.'}]\"}, {'error': \"TweepError: [{'code': 89, 'message': 'Invalid or expired token.'}]\"}, {'error': \"TweepError: [{'code': 89, 'message': 'Invalid or expired token.'}]\"}, {'error': \"TweepError: [{'code': 89, 'message': 'Invalid or expired token.'}]\"}, {'error': \"TweepError: [{'code': 89, 'message': 'Invalid or expired token.'}]\"}, {'error': \"TweepError: [{'code': 89, 'message': 'Invalid or expired token.'}]\"}, {'error': \"TweepError: [{'code': 89, 'message': 'Invalid or expired token.'}]\"}, {'error': \"TweepError: [{'code': 89, 'message': 'Invalid or expired token.'}]\"}, {'error': \"TweepError: [{'code': 89, 'message': 'Invalid or expired token.'}]\"}, {'error': \"TweepError: [{'code': 89, 'message': 'Invalid or expired token.'}]\"}, {'error': \"TweepError: [{'code': 89, 'message': 'Invalid or expired token.'}]\"}, {'error': \"TweepError: [{'code': 89, 'message': 'Invalid or expired token.'}]\"}, {'error': \"TweepError: [{'code': 89, 'message': 'Invalid or expired token.'}]\"}, {'error': \"TweepError: [{'code': 89, 'message': 'Invalid or expired token.'}]\"}, {'error': \"TweepError: [{'code': 89, 'message': 'Invalid or expired token.'}]\"}, {'error': \"TweepError: [{'code': 89, 'message': 'Invalid or expired token.'}]\"}, {'error': \"TweepError: [{'code': 89, 'message': 'Invalid or expired token.'}]\"}, {'error': \"TweepError: [{'code': 89, 'message': 'Invalid or expired token.'}]\"}, {'error': \"TweepError: [{'code': 89, 'message': 'Invalid or expired token.'}]\"}, {'error': \"TweepError: [{'code': 89, 'message': 'Invalid or expired token.'}]\"}, {'error': \"TweepError: [{'code': 89, 'message': 'Invalid or expired token.'}]\"}, {'error': \"TweepError: [{'code': 89, 'message': 'Invalid or expired token.'}]\"}, {'error': \"TweepError: [{'code': 89, 'message': 'Invalid or expired token.'}]\"}, {'error': \"TweepError: [{'code': 89, 'message': 'Invalid or expired token.'}]\"}, {'error': \"TweepError: [{'code': 89, 'message': 'Invalid or expired token.'}]\"}, {'error': \"TweepError: [{'code': 89, 'message': 'Invalid or expired token.'}]\"}, {'error': \"TweepError: [{'code': 89, 'message': 'Invalid or expired token.'}]\"}, {'error': \"TweepError: [{'code': 89, 'message': 'Invalid or expired token.'}]\"}, {'error': \"TweepError: [{'code': 89, 'message': 'Invalid or expired token.'}]\"}, {'error': \"TweepError: [{'code': 89, 'message': 'Invalid or expired token.'}]\"}, {'error': \"TweepError: [{'code': 89, 'message': 'Invalid or expired token.'}]\"}, {'error': \"TweepError: [{'code': 89, 'message': 'Invalid or expired token.'}]\"}, {'error': \"TweepError: [{'code': 89, 'message': 'Invalid or expired token.'}]\"}, {'error': \"TweepError: [{'code': 89, 'message': 'Invalid or expired token.'}]\"}, {'error': \"TweepError: [{'code': 89, 'message': 'Invalid or expired token.'}]\"}, {'error': \"TweepError: [{'code': 89, 'message': 'Invalid or expired token.'}]\"}, {'error': \"TweepError: [{'code': 89, 'message': 'Invalid or expired token.'}]\"}, {'error': \"TweepError: [{'code': 89, 'message': 'Invalid or expired token.'}]\"}, {'error': \"TweepError: [{'code': 89, 'message': 'Invalid or expired token.'}]\"}, {'error': \"TweepError: [{'code': 89, 'message': 'Invalid or expired token.'}]\"}, {'error': \"TweepError: [{'code': 89, 'message': 'Invalid or expired token.'}]\"}, {'error': \"TweepError: [{'code': 89, 'message': 'Invalid or expired token.'}]\"}, {'error': \"TweepError: [{'code': 89, 'message': 'Invalid or expired token.'}]\"}, {'error': \"TweepError: [{'code': 89, 'message': 'Invalid or expired token.'}]\"}, {'error': \"TweepError: [{'code': 89, 'message': 'Invalid or expired token.'}]\"}, {'error': \"TweepError: [{'code': 89, 'message': 'Invalid or expired token.'}]\"}, {'error': \"TweepError: [{'code': 89, 'message': 'Invalid or expired token.'}]\"}, {'error': \"TweepError: [{'code': 89, 'message': 'Invalid or expired token.'}]\"}, {'error': \"TweepError: [{'code': 89, 'message': 'Invalid or expired token.'}]\"}, {'error': \"TweepError: [{'code': 89, 'message': 'Invalid or expired token.'}]\"}, {'error': \"TweepError: [{'code': 89, 'message': 'Invalid or expired token.'}]\"}, {'error': \"TweepError: [{'code': 89, 'message': 'Invalid or expired token.'}]\"}, {'error': \"TweepError: [{'code': 89, 'message': 'Invalid or expired token.'}]\"}, {'error': \"TweepError: [{'code': 89, 'message': 'Invalid or expired token.'}]\"}, {'error': \"TweepError: [{'code': 89, 'message': 'Invalid or expired token.'}]\"}, {'error': \"TweepError: [{'code': 89, 'message': 'Invalid or expired token.'}]\"}, {'error': \"TweepError: [{'code': 89, 'message': 'Invalid or expired token.'}]\"}, {'error': \"TweepError: [{'code': 89, 'message': 'Invalid or expired token.'}]\"}, {'error': \"TweepError: [{'code': 89, 'message': 'Invalid or expired token.'}]\"}, {'error': \"TweepError: [{'code': 89, 'message': 'Invalid or expired token.'}]\"}, {'error': \"TweepError: [{'code': 89, 'message': 'Invalid or expired token.'}]\"}, {'error': \"TweepError: [{'code': 89, 'message': 'Invalid or expired token.'}]\"}, {'error': \"TweepError: [{'code': 89, 'message': 'Invalid or expired token.'}]\"}, {'error': \"TweepError: [{'code': 89, 'message': 'Invalid or expired token.'}]\"}, {'error': \"TweepError: [{'code': 89, 'message': 'Invalid or expired token.'}]\"}, {'error': \"TweepError: [{'code': 89, 'message': 'Invalid or expired token.'}]\"}, {'error': \"TweepError: [{'code': 89, 'message': 'Invalid or expired token.'}]\"}, {'error': \"TweepError: [{'code': 89, 'message': 'Invalid or expired token.'}]\"}, {'error': \"TweepError: [{'code': 89, 'message': 'Invalid or expired token.'}]\"}, {'error': \"TweepError: [{'code': 89, 'message': 'Invalid or expired token.'}]\"}, {'error': \"TweepError: [{'code': 89, 'message': 'Invalid or expired token.'}]\"}, {'error': \"TweepError: [{'code': 89, 'message': 'Invalid or expired token.'}]\"}, {'error': \"TweepError: [{'code': 89, 'message': 'Invalid or expired token.'}]\"}, {'error': \"TweepError: [{'code': 89, 'message': 'Invalid or expired token.'}]\"}, {'error': \"TweepError: [{'code': 89, 'message': 'Invalid or expired token.'}]\"}, {'error': \"TweepError: [{'code': 89, 'message': 'Invalid or expired token.'}]\"}, {'error': \"TweepError: [{'code': 89, 'message': 'Invalid or expired token.'}]\"}, {'error': \"TweepError: [{'code': 89, 'message': 'Invalid or expired token.'}]\"}, {'error': \"TweepError: [{'code': 89, 'message': 'Invalid or expired token.'}]\"}, {'error': \"TweepError: [{'code': 89, 'message': 'Invalid or expired token.'}]\"}, {'error': \"TweepError: [{'code': 89, 'message': 'Invalid or expired token.'}]\"}, {'error': \"TweepError: [{'code': 89, 'message': 'Invalid or expired token.'}]\"}, {'error': \"TweepError: [{'code': 89, 'message': 'Invalid or expired token.'}]\"}, {'error': \"TweepError: [{'code': 89, 'message': 'Invalid or expired token.'}]\"}, {'error': \"TweepError: [{'code': 89, 'message': 'Invalid or expired token.'}]\"}, {'error': \"TweepError: [{'code': 89, 'message': 'Invalid or expired token.'}]\"}, {'error': \"TweepError: [{'code': 89, 'message': 'Invalid or expired token.'}]\"}, {'error': \"TweepError: [{'code': 89, 'message': 'Invalid or expired token.'}]\"}, {'error': \"TweepError: [{'code': 89, 'message': 'Invalid or expired token.'}]\"}, {'error': \"TweepError: [{'code': 89, 'message': 'Invalid or expired token.'}]\"}, {'error': \"TweepError: [{'code': 89, 'message': 'Invalid or expired token.'}]\"}, {'error': \"TweepError: [{'code': 89, 'message': 'Invalid or expired token.'}]\"}, {'error': \"TweepError: [{'code': 89, 'message': 'Invalid or expired token.'}]\"}, {'error': \"TweepError: [{'code': 89, 'message': 'Invalid or expired token.'}]\"}, {'error': \"TweepError: [{'code': 89, 'message': 'Invalid or expired token.'}]\"}, {'error': \"TweepError: [{'code': 89, 'message': 'Invalid or expired token.'}]\"}, {'error': \"TweepError: [{'code': 89, 'message': 'Invalid or expired token.'}]\"}, {'error': \"TweepError: [{'code': 89, 'message': 'Invalid or expired token.'}]\"}, {'error': \"TweepError: [{'code': 89, 'message': 'Invalid or expired token.'}]\"}, {'error': \"TweepError: [{'code': 89, 'message': 'Invalid or expired token.'}]\"}, {'error': \"TweepError: [{'code': 89, 'message': 'Invalid or expired token.'}]\"}, {'error': \"TweepError: [{'code': 89, 'message': 'Invalid or expired token.'}]\"}, {'error': \"TweepError: [{'code': 89, 'message': 'Invalid or expired token.'}]\"}, {'error': \"TweepError: [{'code': 89, 'message': 'Invalid or expired token.'}]\"}, {'error': \"TweepError: [{'code': 89, 'message': 'Invalid or expired token.'}]\"}, {'error': \"TweepError: [{'code': 89, 'message': 'Invalid or expired token.'}]\"}, {'error': \"TweepError: [{'code': 89, 'message': 'Invalid or expired token.'}]\"}, {'error': \"TweepError: [{'code': 89, 'message': 'Invalid or expired token.'}]\"}, {'error': \"TweepError: [{'code': 89, 'message': 'Invalid or expired token.'}]\"}, {'error': \"TweepError: [{'code': 89, 'message': 'Invalid or expired token.'}]\"}, {'error': \"TweepError: [{'code': 89, 'message': 'Invalid or expired token.'}]\"}, {'error': \"TweepError: [{'code': 89, 'message': 'Invalid or expired token.'}]\"}, {'error': \"TweepError: [{'code': 89, 'message': 'Invalid or expired token.'}]\"}, {'error': \"TweepError: [{'code': 89, 'message': 'Invalid or expired token.'}]\"}, {'error': \"TweepError: [{'code': 89, 'message': 'Invalid or expired token.'}]\"}, {'error': \"TweepError: [{'code': 89, 'message': 'Invalid or expired token.'}]\"}, {'error': \"TweepError: [{'code': 89, 'message': 'Invalid or expired token.'}]\"}, {'error': \"TweepError: [{'code': 89, 'message': 'Invalid or expired token.'}]\"}, {'error': \"TweepError: [{'code': 89, 'message': 'Invalid or expired token.'}]\"}, {'error': \"TweepError: [{'code': 89, 'message': 'Invalid or expired token.'}]\"}, {'error': \"TweepError: [{'code': 89, 'message': 'Invalid or expired token.'}]\"}, {'error': \"TweepError: [{'code': 89, 'message': 'Invalid or expired token.'}]\"}, {'error': \"TweepError: [{'code': 89, 'message': 'Invalid or expired token.'}]\"}, {'error': \"TweepError: [{'code': 89, 'message': 'Invalid or expired token.'}]\"}, {'error': \"TweepError: [{'code': 89, 'message': 'Invalid or expired token.'}]\"}, {'error': \"TweepError: [{'code': 89, 'message': 'Invalid or expired token.'}]\"}, {'error': \"TweepError: [{'code': 89, 'message': 'Invalid or expired token.'}]\"}, {'error': \"TweepError: [{'code': 89, 'message': 'Invalid or expired token.'}]\"}, {'error': \"TweepError: [{'code': 89, 'message': 'Invalid or expired token.'}]\"}, {'error': \"TweepError: [{'code': 89, 'message': 'Invalid or expired token.'}]\"}, {'error': \"TweepError: [{'code': 89, 'message': 'Invalid or expired token.'}]\"}, {'error': \"TweepError: [{'code': 89, 'message': 'Invalid or expired token.'}]\"}, {'error': \"TweepError: [{'code': 89, 'message': 'Invalid or expired token.'}]\"}, {'error': \"TweepError: [{'code': 89, 'message': 'Invalid or expired token.'}]\"}, {'error': \"TweepError: [{'code': 89, 'message': 'Invalid or expired token.'}]\"}, {'error': \"TweepError: [{'code': 89, 'message': 'Invalid or expired token.'}]\"}, {'error': \"TweepError: [{'code': 89, 'message': 'Invalid or expired token.'}]\"}, {'error': \"TweepError: [{'code': 89, 'message': 'Invalid or expired token.'}]\"}, {'error': \"TweepError: [{'code': 89, 'message': 'Invalid or expired token.'}]\"}, {'error': \"TweepError: [{'code': 89, 'message': 'Invalid or expired token.'}]\"}, {'error': \"TweepError: [{'code': 89, 'message': 'Invalid or expired token.'}]\"}, {'error': \"TweepError: [{'code': 89, 'message': 'Invalid or expired token.'}]\"}, {'error': \"TweepError: [{'code': 89, 'message': 'Invalid or expired token.'}]\"}, {'error': \"TweepError: [{'code': 89, 'message': 'Invalid or expired token.'}]\"}, {'error': \"TweepError: [{'code': 89, 'message': 'Invalid or expired token.'}]\"}, {'error': \"TweepError: [{'code': 89, 'message': 'Invalid or expired token.'}]\"}, {'error': \"TweepError: [{'code': 89, 'message': 'Invalid or expired token.'}]\"}, {'error': \"TweepError: [{'code': 89, 'message': 'Invalid or expired token.'}]\"}, {'error': \"TweepError: [{'code': 89, 'message': 'Invalid or expired token.'}]\"}, {'error': \"TweepError: [{'code': 89, 'message': 'Invalid or expired token.'}]\"}, {'error': \"TweepError: [{'code': 89, 'message': 'Invalid or expired token.'}]\"}, {'error': \"TweepError: [{'code': 89, 'message': 'Invalid or expired token.'}]\"}, {'error': \"TweepError: [{'code': 89, 'message': 'Invalid or expired token.'}]\"}, {'error': \"TweepError: [{'code': 89, 'message': 'Invalid or expired token.'}]\"}, {'error': \"TweepError: [{'code': 89, 'message': 'Invalid or expired token.'}]\"}, {'error': \"TweepError: [{'code': 89, 'message': 'Invalid or expired token.'}]\"}, {'error': \"TweepError: [{'code': 89, 'message': 'Invalid or expired token.'}]\"}, {'error': \"TweepError: [{'code': 89, 'message': 'Invalid or expired token.'}]\"}, {'error': \"TweepError: [{'code': 89, 'message': 'Invalid or expired token.'}]\"}, {'error': \"TweepError: [{'code': 89, 'message': 'Invalid or expired token.'}]\"}, {'error': \"TweepError: [{'code': 89, 'message': 'Invalid or expired token.'}]\"}, {'error': \"TweepError: [{'code': 89, 'message': 'Invalid or expired token.'}]\"}, {'error': \"TweepError: [{'code': 89, 'message': 'Invalid or expired token.'}]\"}, {'error': \"TweepError: [{'code': 89, 'message': 'Invalid or expired token.'}]\"}, {'error': \"TweepError: [{'code': 89, 'message': 'Invalid or expired token.'}]\"}, {'error': \"TweepError: [{'code': 89, 'message': 'Invalid or expired token.'}]\"}, {'error': \"TweepError: [{'code': 89, 'message': 'Invalid or expired token.'}]\"}, {'error': \"TweepError: [{'code': 89, 'message': 'Invalid or expired token.'}]\"}, {'error': \"TweepError: [{'code': 89, 'message': 'Invalid or expired token.'}]\"}, {'error': \"TweepError: [{'code': 89, 'message': 'Invalid or expired token.'}]\"}, {'error': \"TweepError: [{'code': 89, 'message': 'Invalid or expired token.'}]\"}, {'error': \"TweepError: [{'code': 89, 'message': 'Invalid or expired token.'}]\"}, {'error': \"TweepError: [{'code': 89, 'message': 'Invalid or expired token.'}]\"}, {'error': \"TweepError: [{'code': 89, 'message': 'Invalid or expired token.'}]\"}, {'error': \"TweepError: [{'code': 89, 'message': 'Invalid or expired token.'}]\"}, {'error': \"TweepError: [{'code': 89, 'message': 'Invalid or expired token.'}]\"}, {'error': \"TweepError: [{'code': 89, 'message': 'Invalid or expired token.'}]\"}, {'error': \"TweepError: [{'code': 89, 'message': 'Invalid or expired token.'}]\"}, {'error': \"TweepError: [{'code': 89, 'message': 'Invalid or expired token.'}]\"}, {'error': \"TweepError: [{'code': 89, 'message': 'Invalid or expired token.'}]\"}, {'error': \"TweepError: [{'code': 89, 'message': 'Invalid or expired token.'}]\"}, {'error': \"TweepError: [{'code': 89, 'message': 'Invalid or expired token.'}]\"}, {'error': \"TweepError: [{'code': 89, 'message': 'Invalid or expired token.'}]\"}, {'error': \"TweepError: [{'code': 89, 'message': 'Invalid or expired token.'}]\"}, {'error': \"TweepError: [{'code': 89, 'message': 'Invalid or expired token.'}]\"}, {'error': \"TweepError: [{'code': 89, 'message': 'Invalid or expired token.'}]\"}, {'error': \"TweepError: [{'code': 89, 'message': 'Invalid or expired token.'}]\"}, {'error': \"TweepError: [{'code': 89, 'message': 'Invalid or expired token.'}]\"}, {'error': \"TweepError: [{'code': 89, 'message': 'Invalid or expired token.'}]\"}, {'error': \"TweepError: [{'code': 89, 'message': 'Invalid or expired token.'}]\"}, {'error': \"TweepError: [{'code': 89, 'message': 'Invalid or expired token.'}]\"}, {'error': \"TweepError: [{'code': 89, 'message': 'Invalid or expired token.'}]\"}, {'error': \"TweepError: [{'code': 89, 'message': 'Invalid or expired token.'}]\"}, {'error': \"TweepError: [{'code': 89, 'message': 'Invalid or expired token.'}]\"}, {'error': \"TweepError: [{'code': 89, 'message': 'Invalid or expired token.'}]\"}, {'error': \"TweepError: [{'code': 89, 'message': 'Invalid or expired token.'}]\"}, {'error': \"TweepError: [{'code': 89, 'message': 'Invalid or expired token.'}]\"}, {'error': \"TweepError: [{'code': 89, 'message': 'Invalid or expired token.'}]\"}, {'error': \"TweepError: [{'code': 89, 'message': 'Invalid or expired token.'}]\"}, {'error': \"TweepError: [{'code': 89, 'message': 'Invalid or expired token.'}]\"}, {'error': \"TweepError: [{'code': 89, 'message': 'Invalid or expired token.'}]\"}, {'error': \"TweepError: [{'code': 89, 'message': 'Invalid or expired token.'}]\"}, {'error': \"TweepError: [{'code': 89, 'message': 'Invalid or expired token.'}]\"}, {'error': \"TweepError: [{'code': 89, 'message': 'Invalid or expired token.'}]\"}, {'error': \"TweepError: [{'code': 89, 'message': 'Invalid or expired token.'}]\"}, {'error': \"TweepError: [{'code': 89, 'message': 'Invalid or expired token.'}]\"}, {'error': \"TweepError: [{'code': 89, 'message': 'Invalid or expired token.'}]\"}, {'error': \"TweepError: [{'code': 89, 'message': 'Invalid or expired token.'}]\"}, {'error': \"TweepError: [{'code': 89, 'message': 'Invalid or expired token.'}]\"}, {'error': \"TweepError: [{'code': 89, 'message': 'Invalid or expired token.'}]\"}, {'error': \"TweepError: [{'code': 89, 'message': 'Invalid or expired token.'}]\"}, {'error': \"TweepError: [{'code': 89, 'message': 'Invalid or expired token.'}]\"}, {'error': \"TweepError: [{'code': 89, 'message': 'Invalid or expired token.'}]\"}, {'error': \"TweepError: [{'code': 89, 'message': 'Invalid or expired token.'}]\"}, {'error': \"TweepError: [{'code': 89, 'message': 'Invalid or expired token.'}]\"}, {'error': \"TweepError: [{'code': 89, 'message': 'Invalid or expired token.'}]\"}, {'error': \"TweepError: [{'code': 89, 'message': 'Invalid or expired token.'}]\"}, {'error': \"TweepError: [{'code': 89, 'message': 'Invalid or expired token.'}]\"}, {'error': \"TweepError: [{'code': 89, 'message': 'Invalid or expired token.'}]\"}, {'error': \"TweepError: [{'code': 89, 'message': 'Invalid or expired token.'}]\"}, {'error': \"TweepError: [{'code': 89, 'message': 'Invalid or expired token.'}]\"}, {'error': \"TweepError: [{'code': 89, 'message': 'Invalid or expired token.'}]\"}, {'error': \"TweepError: [{'code': 89, 'message': 'Invalid or expired token.'}]\"}, {'error': \"TweepError: [{'code': 89, 'message': 'Invalid or expired token.'}]\"}, {'error': \"TweepError: [{'code': 89, 'message': 'Invalid or expired token.'}]\"}, {'error': \"TweepError: [{'code': 89, 'message': 'Invalid or expired token.'}]\"}, {'error': \"TweepError: [{'code': 89, 'message': 'Invalid or expired token.'}]\"}, {'error': \"TweepError: [{'code': 89, 'message': 'Invalid or expired token.'}]\"}, {'error': \"TweepError: [{'code': 89, 'message': 'Invalid or expired token.'}]\"}, {'error': \"TweepError: [{'code': 89, 'message': 'Invalid or expired token.'}]\"}, {'error': \"TweepError: [{'code': 89, 'message': 'Invalid or expired token.'}]\"}, {'error': \"TweepError: [{'code': 89, 'message': 'Invalid or expired token.'}]\"}, {'error': \"TweepError: [{'code': 89, 'message': 'Invalid or expired token.'}]\"}, {'error': \"TweepError: [{'code': 89, 'message': 'Invalid or expired token.'}]\"}, {'error': \"TweepError: [{'code': 89, 'message': 'Invalid or expired token.'}]\"}, {'error': \"TweepError: [{'code': 89, 'message': 'Invalid or expired token.'}]\"}, {'error': \"TweepError: [{'code': 89, 'message': 'Invalid or expired token.'}]\"}, {'error': \"TweepError: [{'code': 89, 'message': 'Invalid or expired token.'}]\"}, {'error': \"TweepError: [{'code': 89, 'message': 'Invalid or expired token.'}]\"}, {'error': \"TweepError: [{'code': 89, 'message': 'Invalid or expired token.'}]\"}, {'error': \"TweepError: [{'code': 89, 'message': 'Invalid or expired token.'}]\"}, {'error': \"TweepError: [{'code': 89, 'message': 'Invalid or expired token.'}]\"}, {'error': \"TweepError: [{'code': 89, 'message': 'Invalid or expired token.'}]\"}, {'error': \"TweepError: [{'code': 89, 'message': 'Invalid or expired token.'}]\"}, {'error': \"TweepError: [{'code': 89, 'message': 'Invalid or expired token.'}]\"}, {'error': \"TweepError: [{'code': 89, 'message': 'Invalid or expired token.'}]\"}, {'error': \"TweepError: [{'code': 89, 'message': 'Invalid or expired token.'}]\"}, {'error': \"TweepError: [{'code': 89, 'message': 'Invalid or expired token.'}]\"}, {'error': \"TweepError: [{'code': 89, 'message': 'Invalid or expired token.'}]\"}, {'error': \"TweepError: [{'code': 89, 'message': 'Invalid or expired token.'}]\"}, {'error': \"TweepError: [{'code': 89, 'message': 'Invalid or expired token.'}]\"}, {'error': \"TweepError: [{'code': 89, 'message': 'Invalid or expired token.'}]\"}, {'error': \"TweepError: [{'code': 89, 'message': 'Invalid or expired token.'}]\"}, {'error': \"TweepError: [{'code': 89, 'message': 'Invalid or expired token.'}]\"}, {'error': \"TweepError: [{'code': 89, 'message': 'Invalid or expired token.'}]\"}, {'error': \"TweepError: [{'code': 89, 'message': 'Invalid or expired token.'}]\"}, {'error': \"TweepError: [{'code': 89, 'message': 'Invalid or expired token.'}]\"}, {'error': \"TweepError: [{'code': 89, 'message': 'Invalid or expired token.'}]\"}, {'error': \"TweepError: [{'code': 89, 'message': 'Invalid or expired token.'}]\"}, {'error': \"TweepError: [{'code': 89, 'message': 'Invalid or expired token.'}]\"}, {'error': \"TweepError: [{'code': 89, 'message': 'Invalid or expired token.'}]\"}, {'error': \"TweepError: [{'code': 89, 'message': 'Invalid or expired token.'}]\"}, {'error': \"TweepError: [{'code': 89, 'message': 'Invalid or expired token.'}]\"}, {'error': \"TweepError: [{'code': 89, 'message': 'Invalid or expired token.'}]\"}, {'error': \"TweepError: [{'code': 89, 'message': 'Invalid or expired token.'}]\"}, {'error': \"TweepError: [{'code': 89, 'message': 'Invalid or expired token.'}]\"}, {'error': \"TweepError: [{'code': 89, 'message': 'Invalid or expired token.'}]\"}, {'error': \"TweepError: [{'code': 89, 'message': 'Invalid or expired token.'}]\"}, {'error': \"TweepError: [{'code': 89, 'message': 'Invalid or expired token.'}]\"}, {'error': \"TweepError: [{'code': 89, 'message': 'Invalid or expired token.'}]\"}, {'error': \"TweepError: [{'code': 89, 'message': 'Invalid or expired token.'}]\"}, {'error': \"TweepError: [{'code': 89, 'message': 'Invalid or expired token.'}]\"}, {'error': \"TweepError: [{'code': 89, 'message': 'Invalid or expired token.'}]\"}, {'error': \"TweepError: [{'code': 89, 'message': 'Invalid or expired token.'}]\"}, {'error': \"TweepError: [{'code': 89, 'message': 'Invalid or expired token.'}]\"}, {'error': \"TweepError: [{'code': 89, 'message': 'Invalid or expired token.'}]\"}, {'error': \"TweepError: [{'code': 89, 'message': 'Invalid or expired token.'}]\"}, {'error': \"TweepError: [{'code': 89, 'message': 'Invalid or expired token.'}]\"}, {'error': \"TweepError: [{'code': 89, 'message': 'Invalid or expired token.'}]\"}, {'error': \"TweepError: [{'code': 89, 'message': 'Invalid or expired token.'}]\"}, {'error': \"TweepError: [{'code': 89, 'message': 'Invalid or expired token.'}]\"}, {'error': \"TweepError: [{'code': 89, 'message': 'Invalid or expired token.'}]\"}, {'error': \"TweepError: [{'code': 89, 'message': 'Invalid or expired token.'}]\"}, {'error': \"TweepError: [{'code': 89, 'message': 'Invalid or expired token.'}]\"}, {'error': \"TweepError: [{'code': 89, 'message': 'Invalid or expired token.'}]\"}, {'error': \"TweepError: [{'code': 89, 'message': 'Invalid or expired token.'}]\"}, {'error': \"TweepError: [{'code': 89, 'message': 'Invalid or expired token.'}]\"}, {'error': \"TweepError: [{'code': 89, 'message': 'Invalid or expired token.'}]\"}, {'error': \"TweepError: [{'code': 89, 'message': 'Invalid or expired token.'}]\"}, {'error': \"TweepError: [{'code': 89, 'message': 'Invalid or expired token.'}]\"}, {'error': \"TweepError: [{'code': 89, 'message': 'Invalid or expired token.'}]\"}, {'error': \"TweepError: [{'code': 89, 'message': 'Invalid or expired token.'}]\"}, {'error': \"TweepError: [{'code': 89, 'message': 'Invalid or expired token.'}]\"}, {'error': \"TweepError: [{'code': 89, 'message': 'Invalid or expired token.'}]\"}, {'error': \"TweepError: [{'code': 89, 'message': 'Invalid or expired token.'}]\"}, {'error': \"TweepError: [{'code': 89, 'message': 'Invalid or expired token.'}]\"}, {'error': \"TweepError: [{'code': 89, 'message': 'Invalid or expired token.'}]\"}, {'error': \"TweepError: [{'code': 89, 'message': 'Invalid or expired token.'}]\"}, {'error': \"TweepError: [{'code': 89, 'message': 'Invalid or expired token.'}]\"}, {'error': \"TweepError: [{'code': 89, 'message': 'Invalid or expired token.'}]\"}, {'error': \"TweepError: [{'code': 89, 'message': 'Invalid or expired token.'}]\"}, {'error': \"TweepError: [{'code': 89, 'message': 'Invalid or expired token.'}]\"}, {'error': \"TweepError: [{'code': 89, 'message': 'Invalid or expired token.'}]\"}, {'error': \"TweepError: [{'code': 89, 'message': 'Invalid or expired token.'}]\"}, {'error': \"TweepError: [{'code': 89, 'message': 'Invalid or expired token.'}]\"}, {'error': \"TweepError: [{'code': 89, 'message': 'Invalid or expired token.'}]\"}, {'error': \"TweepError: [{'code': 89, 'message': 'Invalid or expired token.'}]\"}, {'error': \"TweepError: [{'code': 89, 'message': 'Invalid or expired token.'}]\"}, {'error': \"TweepError: [{'code': 89, 'message': 'Invalid or expired token.'}]\"}, {'error': \"TweepError: [{'code': 89, 'message': 'Invalid or expired token.'}]\"}, {'error': \"TweepError: [{'code': 89, 'message': 'Invalid or expired token.'}]\"}, {'error': \"TweepError: [{'code': 89, 'message': 'Invalid or expired token.'}]\"}, {'error': \"TweepError: [{'code': 89, 'message': 'Invalid or expired token.'}]\"}, {'error': \"TweepError: [{'code': 89, 'message': 'Invalid or expired token.'}]\"}, {'error': \"TweepError: [{'code': 89, 'message': 'Invalid or expired token.'}]\"}, {'error': \"TweepError: [{'code': 89, 'message': 'Invalid or expired token.'}]\"}, {'error': \"TweepError: [{'code': 89, 'message': 'Invalid or expired token.'}]\"}, {'error': \"TweepError: [{'code': 89, 'message': 'Invalid or expired token.'}]\"}, {'error': \"TweepError: [{'code': 89, 'message': 'Invalid or expired token.'}]\"}, {'error': \"TweepError: [{'code': 89, 'message': 'Invalid or expired token.'}]\"}, {'error': \"TweepError: [{'code': 89, 'message': 'Invalid or expired token.'}]\"}, {'error': \"TweepError: [{'code': 89, 'message': 'Invalid or expired token.'}]\"}, {'error': \"TweepError: [{'code': 89, 'message': 'Invalid or expired token.'}]\"}, {'error': \"TweepError: [{'code': 89, 'message': 'Invalid or expired token.'}]\"}, {'error': \"TweepError: [{'code': 89, 'message': 'Invalid or expired token.'}]\"}, {'error': \"TweepError: [{'code': 89, 'message': 'Invalid or expired token.'}]\"}, {'error': \"TweepError: [{'code': 89, 'message': 'Invalid or expired token.'}]\"}, {'error': \"TweepError: [{'code': 89, 'message': 'Invalid or expired token.'}]\"}, {'error': \"TweepError: [{'code': 89, 'message': 'Invalid or expired token.'}]\"}, {'error': \"TweepError: [{'code': 89, 'message': 'Invalid or expired token.'}]\"}, {'error': \"TweepError: [{'code': 89, 'message': 'Invalid or expired token.'}]\"}, {'error': \"TweepError: [{'code': 89, 'message': 'Invalid or expired token.'}]\"}, {'error': \"TweepError: [{'code': 89, 'message': 'Invalid or expired token.'}]\"}, {'error': \"TweepError: [{'code': 89, 'message': 'Invalid or expired token.'}]\"}, {'error': \"TweepError: [{'code': 89, 'message': 'Invalid or expired token.'}]\"}, {'error': \"TweepError: [{'code': 89, 'message': 'Invalid or expired token.'}]\"}, {'error': \"TweepError: [{'code': 89, 'message': 'Invalid or expired token.'}]\"}, {'error': \"TweepError: [{'code': 89, 'message': 'Invalid or expired token.'}]\"}, {'error': \"TweepError: [{'code': 89, 'message': 'Invalid or expired token.'}]\"}, {'error': \"TweepError: [{'code': 89, 'message': 'Invalid or expired token.'}]\"}, {'error': \"TweepError: [{'code': 89, 'message': 'Invalid or expired token.'}]\"}, {'error': \"TweepError: [{'code': 89, 'message': 'Invalid or expired token.'}]\"}, {'error': \"TweepError: [{'code': 89, 'message': 'Invalid or expired token.'}]\"}, {'error': \"TweepError: [{'code': 89, 'message': 'Invalid or expired token.'}]\"}, {'error': \"TweepError: [{'code': 89, 'message': 'Invalid or expired token.'}]\"}, {'error': \"TweepError: [{'code': 89, 'message': 'Invalid or expired token.'}]\"}, {'error': \"TweepError: [{'code': 89, 'message': 'Invalid or expired token.'}]\"}, {'error': \"TweepError: [{'code': 89, 'message': 'Invalid or expired token.'}]\"}, {'error': \"TweepError: [{'code': 89, 'message': 'Invalid or expired token.'}]\"}, {'error': \"TweepError: [{'code': 89, 'message': 'Invalid or expired token.'}]\"}, {'error': \"TweepError: [{'code': 89, 'message': 'Invalid or expired token.'}]\"}, {'error': \"TweepError: [{'code': 89, 'message': 'Invalid or expired token.'}]\"}, {'error': \"TweepError: [{'code': 89, 'message': 'Invalid or expired token.'}]\"}, {'error': \"TweepError: [{'code': 89, 'message': 'Invalid or expired token.'}]\"}, {'error': \"TweepError: [{'code': 89, 'message': 'Invalid or expired token.'}]\"}, {'error': \"TweepError: [{'code': 89, 'message': 'Invalid or expired token.'}]\"}, {'error': \"TweepError: [{'code': 89, 'message': 'Invalid or expired token.'}]\"}, {'error': \"TweepError: [{'code': 89, 'message': 'Invalid or expired token.'}]\"}, {'error': \"TweepError: [{'code': 89, 'message': 'Invalid or expired token.'}]\"}, {'error': \"TweepError: [{'code': 89, 'message': 'Invalid or expired token.'}]\"}, {'error': \"TweepError: [{'code': 89, 'message': 'Invalid or expired token.'}]\"}, {'error': \"TweepError: [{'code': 89, 'message': 'Invalid or expired token.'}]\"}, {'error': \"TweepError: [{'code': 89, 'message': 'Invalid or expired token.'}]\"}, {'error': \"TweepError: [{'code': 89, 'message': 'Invalid or expired token.'}]\"}, {'error': \"TweepError: [{'code': 89, 'message': 'Invalid or expired token.'}]\"}, {'error': \"TweepError: [{'code': 89, 'message': 'Invalid or expired token.'}]\"}, {'error': \"TweepError: [{'code': 89, 'message': 'Invalid or expired token.'}]\"}, {'error': \"TweepError: [{'code': 89, 'message': 'Invalid or expired token.'}]\"}, {'error': \"TweepError: [{'code': 89, 'message': 'Invalid or expired token.'}]\"}, {'error': \"TweepError: [{'code': 89, 'message': 'Invalid or expired token.'}]\"}, {'error': \"TweepError: [{'code': 89, 'message': 'Invalid or expired token.'}]\"}, {'error': \"TweepError: [{'code': 89, 'message': 'Invalid or expired token.'}]\"}, {'error': \"TweepError: [{'code': 89, 'message': 'Invalid or expired token.'}]\"}, {'error': \"TweepError: [{'code': 89, 'message': 'Invalid or expired token.'}]\"}, {'error': \"TweepError: [{'code': 89, 'message': 'Invalid or expired token.'}]\"}, {'error': \"TweepError: [{'code': 89, 'message': 'Invalid or expired token.'}]\"}, {'error': \"TweepError: [{'code': 89, 'message': 'Invalid or expired token.'}]\"}, {'error': \"TweepError: [{'code': 89, 'message': 'Invalid or expired token.'}]\"}, {'error': \"TweepError: [{'code': 89, 'message': 'Invalid or expired token.'}]\"}, {'error': \"TweepError: [{'code': 89, 'message': 'Invalid or expired token.'}]\"}, {'error': \"TweepError: [{'code': 89, 'message': 'Invalid or expired token.'}]\"}, {'error': \"TweepError: [{'code': 89, 'message': 'Invalid or expired token.'}]\"}, {'error': \"TweepError: [{'code': 89, 'message': 'Invalid or expired token.'}]\"}, {'error': \"TweepError: [{'code': 89, 'message': 'Invalid or expired token.'}]\"}, {'error': \"TweepError: [{'code': 89, 'message': 'Invalid or expired token.'}]\"}, {'error': \"TweepError: [{'code': 89, 'message': 'Invalid or expired token.'}]\"}, {'error': \"TweepError: [{'code': 89, 'message': 'Invalid or expired token.'}]\"}, {'error': \"TweepError: [{'code': 89, 'message': 'Invalid or expired token.'}]\"}, {'error': \"TweepError: [{'code': 89, 'message': 'Invalid or expired token.'}]\"}, {'error': \"TweepError: [{'code': 89, 'message': 'Invalid or expired token.'}]\"}, {'error': \"TweepError: [{'code': 89, 'message': 'Invalid or expired token.'}]\"}, {'error': \"TweepError: [{'code': 89, 'message': 'Invalid or expired token.'}]\"}, {'error': \"TweepError: [{'code': 89, 'message': 'Invalid or expired token.'}]\"}, {'error': \"TweepError: [{'code': 89, 'message': 'Invalid or expired token.'}]\"}, {'error': \"TweepError: [{'code': 89, 'message': 'Invalid or expired token.'}]\"}, {'error': \"TweepError: [{'code': 89, 'message': 'Invalid or expired token.'}]\"}, {'error': \"TweepError: [{'code': 89, 'message': 'Invalid or expired token.'}]\"}, {'error': \"TweepError: [{'code': 89, 'message': 'Invalid or expired token.'}]\"}, {'error': \"TweepError: [{'code': 89, 'message': 'Invalid or expired token.'}]\"}, {'error': \"TweepError: [{'code': 89, 'message': 'Invalid or expired token.'}]\"}, {'error': \"TweepError: [{'code': 89, 'message': 'Invalid or expired token.'}]\"}, {'error': \"TweepError: [{'code': 89, 'message': 'Invalid or expired token.'}]\"}, {'error': \"TweepError: [{'code': 89, 'message': 'Invalid or expired token.'}]\"}, {'error': \"TweepError: [{'code': 89, 'message': 'Invalid or expired token.'}]\"}, {'error': \"TweepError: [{'code': 89, 'message': 'Invalid or expired token.'}]\"}, {'error': \"TweepError: [{'code': 89, 'message': 'Invalid or expired token.'}]\"}, {'error': \"TweepError: [{'code': 89, 'message': 'Invalid or expired token.'}]\"}, {'error': \"TweepError: [{'code': 89, 'message': 'Invalid or expired token.'}]\"}, {'error': \"TweepError: [{'code': 89, 'message': 'Invalid or expired token.'}]\"}, {'error': \"TweepError: [{'code': 89, 'message': 'Invalid or expired token.'}]\"}, {'error': \"TweepError: [{'code': 89, 'message': 'Invalid or expired token.'}]\"}, {'error': \"TweepError: [{'code': 89, 'message': 'Invalid or expired token.'}]\"}, {'error': \"TweepError: [{'code': 89, 'message': 'Invalid or expired token.'}]\"}, {'error': \"TweepError: [{'code': 89, 'message': 'Invalid or expired token.'}]\"}, {'error': \"TweepError: [{'code': 89, 'message': 'Invalid or expired token.'}]\"}, {'error': \"TweepError: [{'code': 89, 'message': 'Invalid or expired token.'}]\"}, {'error': \"TweepError: [{'code': 89, 'message': 'Invalid or expired token.'}]\"}, {'error': \"TweepError: [{'code': 89, 'message': 'Invalid or expired token.'}]\"}, {'error': \"TweepError: [{'code': 89, 'message': 'Invalid or expired token.'}]\"}, {'error': \"TweepError: [{'code': 89, 'message': 'Invalid or expired token.'}]\"}, {'error': \"TweepError: [{'code': 89, 'message': 'Invalid or expired token.'}]\"}, {'error': \"TweepError: [{'code': 89, 'message': 'Invalid or expired token.'}]\"}, {'error': \"TweepError: [{'code': 89, 'message': 'Invalid or expired token.'}]\"}, {'error': \"TweepError: [{'code': 89, 'message': 'Invalid or expired token.'}]\"}, {'error': \"TweepError: [{'code': 89, 'message': 'Invalid or expired token.'}]\"}, {'error': \"TweepError: [{'code': 89, 'message': 'Invalid or expired token.'}]\"}, {'error': \"TweepError: [{'code': 89, 'message': 'Invalid or expired token.'}]\"}, {'error': \"TweepError: [{'code': 89, 'message': 'Invalid or expired token.'}]\"}, {'error': \"TweepError: [{'code': 89, 'message': 'Invalid or expired token.'}]\"}, {'error': \"TweepError: [{'code': 89, 'message': 'Invalid or expired token.'}]\"}, {'error': \"TweepError: [{'code': 89, 'message': 'Invalid or expired token.'}]\"}, {'error': \"TweepError: [{'code': 89, 'message': 'Invalid or expired token.'}]\"}, {'error': \"TweepError: [{'code': 89, 'message': 'Invalid or expired token.'}]\"}, {'error': \"TweepError: [{'code': 89, 'message': 'Invalid or expired token.'}]\"}, {'error': \"TweepError: [{'code': 89, 'message': 'Invalid or expired token.'}]\"}, {'error': \"TweepError: [{'code': 89, 'message': 'Invalid or expired token.'}]\"}, {'error': \"TweepError: [{'code': 89, 'message': 'Invalid or expired token.'}]\"}, {'error': \"TweepError: [{'code': 89, 'message': 'Invalid or expired token.'}]\"}, {'error': \"TweepError: [{'code': 89, 'message': 'Invalid or expired token.'}]\"}, {'error': \"TweepError: [{'code': 89, 'message': 'Invalid or expired token.'}]\"}, {'error': \"TweepError: [{'code': 89, 'message': 'Invalid or expired token.'}]\"}, {'error': \"TweepError: [{'code': 89, 'message': 'Invalid or expired token.'}]\"}, {'error': \"TweepError: [{'code': 89, 'message': 'Invalid or expired token.'}]\"}, {'error': \"TweepError: [{'code': 89, 'message': 'Invalid or expired token.'}]\"}, {'error': \"TweepError: [{'code': 89, 'message': 'Invalid or expired token.'}]\"}, {'error': \"TweepError: [{'code': 89, 'message': 'Invalid or expired token.'}]\"}, {'error': \"TweepError: [{'code': 89, 'message': 'Invalid or expired token.'}]\"}, {'error': \"TweepError: [{'code': 89, 'message': 'Invalid or expired token.'}]\"}, {'error': \"TweepError: [{'code': 89, 'message': 'Invalid or expired token.'}]\"}, {'error': \"TweepError: [{'code': 89, 'message': 'Invalid or expired token.'}]\"}, {'error': \"TweepError: [{'code': 89, 'message': 'Invalid or expired token.'}]\"}, {'error': \"TweepError: [{'code': 89, 'message': 'Invalid or expired token.'}]\"}, {'error': \"TweepError: [{'code': 89, 'message': 'Invalid or expired token.'}]\"}, {'error': \"TweepError: [{'code': 89, 'message': 'Invalid or expired token.'}]\"}, {'error': \"TweepError: [{'code': 89, 'message': 'Invalid or expired token.'}]\"}, {'error': \"TweepError: [{'code': 89, 'message': 'Invalid or expired token.'}]\"}, {'error': \"TweepError: [{'code': 89, 'message': 'Invalid or expired token.'}]\"}, {'error': \"TweepError: [{'code': 89, 'message': 'Invalid or expired token.'}]\"}, {'error': \"TweepError: [{'code': 89, 'message': 'Invalid or expired token.'}]\"}, {'error': \"TweepError: [{'code': 89, 'message': 'Invalid or expired token.'}]\"}, {'error': \"TweepError: [{'code': 89, 'message': 'Invalid or expired token.'}]\"}, {'error': \"TweepError: [{'code': 89, 'message': 'Invalid or expired token.'}]\"}, {'error': \"TweepError: [{'code': 89, 'message': 'Invalid or expired token.'}]\"}, {'error': \"TweepError: [{'code': 89, 'message': 'Invalid or expired token.'}]\"}, {'error': \"TweepError: [{'code': 89, 'message': 'Invalid or expired token.'}]\"}, {'error': \"TweepError: [{'code': 89, 'message': 'Invalid or expired token.'}]\"}, {'error': \"TweepError: [{'code': 89, 'message': 'Invalid or expired token.'}]\"}, {'error': \"TweepError: [{'code': 89, 'message': 'Invalid or expired token.'}]\"}, {'error': \"TweepError: [{'code': 89, 'message': 'Invalid or expired token.'}]\"}, {'error': \"TweepError: [{'code': 89, 'message': 'Invalid or expired token.'}]\"}, {'error': \"TweepError: [{'code': 89, 'message': 'Invalid or expired token.'}]\"}, {'error': \"TweepError: [{'code': 89, 'message': 'Invalid or expired token.'}]\"}, {'error': \"TweepError: [{'code': 89, 'message': 'Invalid or expired token.'}]\"}, {'error': \"TweepError: [{'code': 89, 'message': 'Invalid or expired token.'}]\"}, {'error': \"TweepError: [{'code': 89, 'message': 'Invalid or expired token.'}]\"}, {'error': \"TweepError: [{'code': 89, 'message': 'Invalid or expired token.'}]\"}, {'error': \"TweepError: [{'code': 89, 'message': 'Invalid or expired token.'}]\"}, {'error': \"TweepError: [{'code': 89, 'message': 'Invalid or expired token.'}]\"}, {'error': \"TweepError: [{'code': 89, 'message': 'Invalid or expired token.'}]\"}, {'error': \"TweepError: [{'code': 89, 'message': 'Invalid or expired token.'}]\"}, {'error': \"TweepError: [{'code': 89, 'message': 'Invalid or expired token.'}]\"}, {'error': \"TweepError: [{'code': 89, 'message': 'Invalid or expired token.'}]\"}, {'error': \"TweepError: [{'code': 89, 'message': 'Invalid or expired token.'}]\"}, {'error': \"TweepError: [{'code': 89, 'message': 'Invalid or expired token.'}]\"}, {'error': \"TweepError: [{'code': 89, 'message': 'Invalid or expired token.'}]\"}, {'error': \"TweepError: [{'code': 89, 'message': 'Invalid or expired token.'}]\"}, {'error': \"TweepError: [{'code': 89, 'message': 'Invalid or expired token.'}]\"}, {'error': \"TweepError: [{'code': 89, 'message': 'Invalid or expired token.'}]\"}, {'error': \"TweepError: [{'code': 89, 'message': 'Invalid or expired token.'}]\"}, {'error': \"TweepError: [{'code': 89, 'message': 'Invalid or expired token.'}]\"}, {'error': \"TweepError: [{'code': 89, 'message': 'Invalid or expired token.'}]\"}, {'error': \"TweepError: [{'code': 89, 'message': 'Invalid or expired token.'}]\"}, {'error': \"TweepError: [{'code': 89, 'message': 'Invalid or expired token.'}]\"}, {'error': \"TweepError: [{'code': 89, 'message': 'Invalid or expired token.'}]\"}, {'error': \"TweepError: [{'code': 89, 'message': 'Invalid or expired token.'}]\"}, {'error': \"TweepError: [{'code': 89, 'message': 'Invalid or expired token.'}]\"}, {'error': \"TweepError: [{'code': 89, 'message': 'Invalid or expired token.'}]\"}, {'error': \"TweepError: [{'code': 89, 'message': 'Invalid or expired token.'}]\"}, {'error': \"TweepError: [{'code': 89, 'message': 'Invalid or expired token.'}]\"}, {'error': \"TweepError: [{'code': 89, 'message': 'Invalid or expired token.'}]\"}, {'error': \"TweepError: [{'code': 89, 'message': 'Invalid or expired token.'}]\"}, {'error': \"TweepError: [{'code': 89, 'message': 'Invalid or expired token.'}]\"}, {'error': \"TweepError: [{'code': 89, 'message': 'Invalid or expired token.'}]\"}, {'error': \"TweepError: [{'code': 89, 'message': 'Invalid or expired token.'}]\"}, {'error': \"TweepError: [{'code': 89, 'message': 'Invalid or expired token.'}]\"}, {'error': \"TweepError: [{'code': 89, 'message': 'Invalid or expired token.'}]\"}, {'error': \"TweepError: [{'code': 89, 'message': 'Invalid or expired token.'}]\"}, {'error': \"TweepError: [{'code': 89, 'message': 'Invalid or expired token.'}]\"}, {'error': \"TweepError: [{'code': 89, 'message': 'Invalid or expired token.'}]\"}, {'error': \"TweepError: [{'code': 89, 'message': 'Invalid or expired token.'}]\"}, {'error': \"TweepError: [{'code': 89, 'message': 'Invalid or expired token.'}]\"}, {'error': \"TweepError: [{'code': 89, 'message': 'Invalid or expired token.'}]\"}, {'error': \"TweepError: [{'code': 89, 'message': 'Invalid or expired token.'}]\"}, {'error': \"TweepError: [{'code': 89, 'message': 'Invalid or expired token.'}]\"}, {'error': \"TweepError: [{'code': 89, 'message': 'Invalid or expired token.'}]\"}, {'error': \"TweepError: [{'code': 89, 'message': 'Invalid or expired token.'}]\"}, {'error': \"TweepError: [{'code': 89, 'message': 'Invalid or expired token.'}]\"}, {'error': \"TweepError: [{'code': 89, 'message': 'Invalid or expired token.'}]\"}, {'error': \"TweepError: [{'code': 89, 'message': 'Invalid or expired token.'}]\"}, {'error': \"TweepError: [{'code': 89, 'message': 'Invalid or expired token.'}]\"}, {'error': \"TweepError: [{'code': 89, 'message': 'Invalid or expired token.'}]\"}, {'error': \"TweepError: [{'code': 89, 'message': 'Invalid or expired token.'}]\"}, {'error': \"TweepError: [{'code': 89, 'message': 'Invalid or expired token.'}]\"}, {'error': \"TweepError: [{'code': 89, 'message': 'Invalid or expired token.'}]\"}, {'error': \"TweepError: [{'code': 89, 'message': 'Invalid or expired token.'}]\"}, {'error': \"TweepError: [{'code': 89, 'message': 'Invalid or expired token.'}]\"}, {'error': \"TweepError: [{'code': 89, 'message': 'Invalid or expired token.'}]\"}, {'error': \"TweepError: [{'code': 89, 'message': 'Invalid or expired token.'}]\"}, {'error': \"TweepError: [{'code': 89, 'message': 'Invalid or expired token.'}]\"}, {'error': \"TweepError: [{'code': 89, 'message': 'Invalid or expired token.'}]\"}, {'error': \"TweepError: [{'code': 89, 'message': 'Invalid or expired token.'}]\"}, {'error': \"TweepError: [{'code': 89, 'message': 'Invalid or expired token.'}]\"}, {'error': \"TweepError: [{'code': 89, 'message': 'Invalid or expired token.'}]\"}, {'error': \"TweepError: [{'code': 89, 'message': 'Invalid or expired token.'}]\"}, {'error': \"TweepError: [{'code': 89, 'message': 'Invalid or expired token.'}]\"}, {'error': \"TweepError: [{'code': 89, 'message': 'Invalid or expired token.'}]\"}, {'error': \"TweepError: [{'code': 89, 'message': 'Invalid or expired token.'}]\"}, {'error': \"TweepError: [{'code': 89, 'message': 'Invalid or expired token.'}]\"}, {'error': \"TweepError: [{'code': 89, 'message': 'Invalid or expired token.'}]\"}, {'error': \"TweepError: [{'code': 89, 'message': 'Invalid or expired token.'}]\"}, {'error': \"TweepError: [{'code': 89, 'message': 'Invalid or expired token.'}]\"}, {'error': \"TweepError: [{'code': 89, 'message': 'Invalid or expired token.'}]\"}, {'error': \"TweepError: [{'code': 89, 'message': 'Invalid or expired token.'}]\"}, {'error': \"TweepError: [{'code': 89, 'message': 'Invalid or expired token.'}]\"}, {'error': \"TweepError: [{'code': 89, 'message': 'Invalid or expired token.'}]\"}, {'error': \"TweepError: [{'code': 89, 'message': 'Invalid or expired token.'}]\"}, {'error': \"TweepError: [{'code': 89, 'message': 'Invalid or expired token.'}]\"}, {'error': \"TweepError: [{'code': 89, 'message': 'Invalid or expired token.'}]\"}, {'error': \"TweepError: [{'code': 89, 'message': 'Invalid or expired token.'}]\"}, {'error': \"TweepError: [{'code': 89, 'message': 'Invalid or expired token.'}]\"}, {'error': \"TweepError: [{'code': 89, 'message': 'Invalid or expired token.'}]\"}, {'error': \"TweepError: [{'code': 89, 'message': 'Invalid or expired token.'}]\"}, {'error': \"TweepError: [{'code': 89, 'message': 'Invalid or expired token.'}]\"}, {'error': \"TweepError: [{'code': 89, 'message': 'Invalid or expired token.'}]\"}, {'error': \"TweepError: [{'code': 89, 'message': 'Invalid or expired token.'}]\"}, {'error': \"TweepError: [{'code': 89, 'message': 'Invalid or expired token.'}]\"}, {'error': \"TweepError: [{'code': 89, 'message': 'Invalid or expired token.'}]\"}, {'error': \"TweepError: [{'code': 89, 'message': 'Invalid or expired token.'}]\"}, {'error': \"TweepError: [{'code': 89, 'message': 'Invalid or expired token.'}]\"}, {'error': \"TweepError: [{'code': 89, 'message': 'Invalid or expired token.'}]\"}, {'error': \"TweepError: [{'code': 89, 'message': 'Invalid or expired token.'}]\"}, {'error': \"TweepError: [{'code': 89, 'message': 'Invalid or expired token.'}]\"}, {'error': \"TweepError: [{'code': 89, 'message': 'Invalid or expired token.'}]\"}, {'error': \"TweepError: [{'code': 89, 'message': 'Invalid or expired token.'}]\"}, {'error': \"TweepError: [{'code': 89, 'message': 'Invalid or expired token.'}]\"}, {'error': \"TweepError: [{'code': 89, 'message': 'Invalid or expired token.'}]\"}, {'error': \"TweepError: [{'code': 89, 'message': 'Invalid or expired token.'}]\"}, {'error': \"TweepError: [{'code': 89, 'message': 'Invalid or expired token.'}]\"}, {'error': \"TweepError: [{'code': 89, 'message': 'Invalid or expired token.'}]\"}, {'error': \"TweepError: [{'code': 89, 'message': 'Invalid or expired token.'}]\"}, {'error': \"TweepError: [{'code': 89, 'message': 'Invalid or expired token.'}]\"}, {'error': \"TweepError: [{'code': 89, 'message': 'Invalid or expired token.'}]\"}, {'error': \"TweepError: [{'code': 89, 'message': 'Invalid or expired token.'}]\"}, {'error': \"TweepError: [{'code': 89, 'message': 'Invalid or expired token.'}]\"}, {'error': \"TweepError: [{'code': 89, 'message': 'Invalid or expired token.'}]\"}, {'error': \"TweepError: [{'code': 89, 'message': 'Invalid or expired token.'}]\"}, {'error': \"TweepError: [{'code': 89, 'message': 'Invalid or expired token.'}]\"}, {'error': \"TweepError: [{'code': 89, 'message': 'Invalid or expired token.'}]\"}, {'error': \"TweepError: [{'code': 89, 'message': 'Invalid or expired token.'}]\"}, {'error': \"TweepError: [{'code': 89, 'message': 'Invalid or expired token.'}]\"}, {'error': \"TweepError: [{'code': 89, 'message': 'Invalid or expired token.'}]\"}, {'error': \"TweepError: [{'code': 89, 'message': 'Invalid or expired token.'}]\"}, {'error': \"TweepError: [{'code': 89, 'message': 'Invalid or expired token.'}]\"}, {'error': \"TweepError: [{'code': 89, 'message': 'Invalid or expired token.'}]\"}, {'error': \"TweepError: [{'code': 89, 'message': 'Invalid or expired token.'}]\"}, {'error': \"TweepError: [{'code': 89, 'message': 'Invalid or expired token.'}]\"}, {'error': \"TweepError: [{'code': 89, 'message': 'Invalid or expired token.'}]\"}, {'error': \"TweepError: [{'code': 89, 'message': 'Invalid or expired token.'}]\"}, {'error': \"TweepError: [{'code': 89, 'message': 'Invalid or expired token.'}]\"}, {'error': \"TweepError: [{'code': 89, 'message': 'Invalid or expired token.'}]\"}, {'error': \"TweepError: [{'code': 89, 'message': 'Invalid or expired token.'}]\"}, {'error': \"TweepError: [{'code': 89, 'message': 'Invalid or expired token.'}]\"}, {'error': \"TweepError: [{'code': 89, 'message': 'Invalid or expired token.'}]\"}, {'error': \"TweepError: [{'code': 89, 'message': 'Invalid or expired token.'}]\"}, {'error': \"TweepError: [{'code': 89, 'message': 'Invalid or expired token.'}]\"}, {'error': \"TweepError: [{'code': 89, 'message': 'Invalid or expired token.'}]\"}, {'error': \"TweepError: [{'code': 89, 'message': 'Invalid or expired token.'}]\"}, {'error': \"TweepError: [{'code': 89, 'message': 'Invalid or expired token.'}]\"}, {'error': \"TweepError: [{'code': 89, 'message': 'Invalid or expired token.'}]\"}, {'error': \"TweepError: [{'code': 89, 'message': 'Invalid or expired token.'}]\"}, {'error': \"TweepError: [{'code': 89, 'message': 'Invalid or expired token.'}]\"}, {'error': \"TweepError: [{'code': 89, 'message': 'Invalid or expired token.'}]\"}, {'error': \"TweepError: [{'code': 89, 'message': 'Invalid or expired token.'}]\"}, {'error': \"TweepError: [{'code': 89, 'message': 'Invalid or expired token.'}]\"}, {'error': \"TweepError: [{'code': 89, 'message': 'Invalid or expired token.'}]\"}, {'error': \"TweepError: [{'code': 89, 'message': 'Invalid or expired token.'}]\"}, {'error': \"TweepError: [{'code': 89, 'message': 'Invalid or expired token.'}]\"}, {'error': \"TweepError: [{'code': 89, 'message': 'Invalid or expired token.'}]\"}, {'error': \"TweepError: [{'code': 89, 'message': 'Invalid or expired token.'}]\"}, {'error': \"TweepError: [{'code': 89, 'message': 'Invalid or expired token.'}]\"}, {'error': \"TweepError: [{'code': 89, 'message': 'Invalid or expired token.'}]\"}, {'error': \"TweepError: [{'code': 89, 'message': 'Invalid or expired token.'}]\"}, {'error': \"TweepError: [{'code': 89, 'message': 'Invalid or expired token.'}]\"}, {'error': \"TweepError: [{'code': 89, 'message': 'Invalid or expired token.'}]\"}, {'error': \"TweepError: [{'code': 89, 'message': 'Invalid or expired token.'}]\"}, {'error': \"TweepError: [{'code': 89, 'message': 'Invalid or expired token.'}]\"}, {'error': \"TweepError: [{'code': 89, 'message': 'Invalid or expired token.'}]\"}, {'error': \"TweepError: [{'code': 89, 'message': 'Invalid or expired token.'}]\"}, {'error': \"TweepError: [{'code': 89, 'message': 'Invalid or expired token.'}]\"}, {'error': \"TweepError: [{'code': 89, 'message': 'Invalid or expired token.'}]\"}, {'error': \"TweepError: [{'code': 89, 'message': 'Invalid or expired token.'}]\"}, {'error': \"TweepError: [{'code': 89, 'message': 'Invalid or expired token.'}]\"}, {'error': \"TweepError: [{'code': 89, 'message': 'Invalid or expired token.'}]\"}, {'error': \"TweepError: [{'code': 89, 'message': 'Invalid or expired token.'}]\"}, {'error': \"TweepError: [{'code': 89, 'message': 'Invalid or expired token.'}]\"}, {'error': \"TweepError: [{'code': 89, 'message': 'Invalid or expired token.'}]\"}, {'error': \"TweepError: [{'code': 89, 'message': 'Invalid or expired token.'}]\"}, {'error': \"TweepError: [{'code': 89, 'message': 'Invalid or expired token.'}]\"}, {'error': \"TweepError: [{'code': 89, 'message': 'Invalid or expired token.'}]\"}, {'error': \"TweepError: [{'code': 89, 'message': 'Invalid or expired token.'}]\"}, {'error': \"TweepError: [{'code': 89, 'message': 'Invalid or expired token.'}]\"}, {'error': \"TweepError: [{'code': 89, 'message': 'Invalid or expired token.'}]\"}, {'error': \"TweepError: [{'code': 89, 'message': 'Invalid or expired token.'}]\"}, {'error': \"TweepError: [{'code': 89, 'message': 'Invalid or expired token.'}]\"}, {'error': \"TweepError: [{'code': 89, 'message': 'Invalid or expired token.'}]\"}, {'error': \"TweepError: [{'code': 89, 'message': 'Invalid or expired token.'}]\"}, {'error': \"TweepError: [{'code': 89, 'message': 'Invalid or expired token.'}]\"}, {'error': \"TweepError: [{'code': 89, 'message': 'Invalid or expired token.'}]\"}, {'error': \"TweepError: [{'code': 89, 'message': 'Invalid or expired token.'}]\"}, {'error': \"TweepError: [{'code': 89, 'message': 'Invalid or expired token.'}]\"}, {'error': \"TweepError: [{'code': 89, 'message': 'Invalid or expired token.'}]\"}, {'error': \"TweepError: [{'code': 89, 'message': 'Invalid or expired token.'}]\"}, {'error': \"TweepError: [{'code': 89, 'message': 'Invalid or expired token.'}]\"}, {'error': \"TweepError: [{'code': 89, 'message': 'Invalid or expired token.'}]\"}, {'error': \"TweepError: [{'code': 89, 'message': 'Invalid or expired token.'}]\"}, {'error': \"TweepError: [{'code': 89, 'message': 'Invalid or expired token.'}]\"}, {'error': \"TweepError: [{'code': 89, 'message': 'Invalid or expired token.'}]\"}, {'error': \"TweepError: [{'code': 89, 'message': 'Invalid or expired token.'}]\"}, {'error': \"TweepError: [{'code': 89, 'message': 'Invalid or expired token.'}]\"}, {'error': \"TweepError: [{'code': 89, 'message': 'Invalid or expired token.'}]\"}, {'error': \"TweepError: [{'code': 89, 'message': 'Invalid or expired token.'}]\"}, {'error': \"TweepError: [{'code': 89, 'message': 'Invalid or expired token.'}]\"}, {'error': \"TweepError: [{'code': 89, 'message': 'Invalid or expired token.'}]\"}, {'error': \"TweepError: [{'code': 89, 'message': 'Invalid or expired token.'}]\"}, {'error': \"TweepError: [{'code': 89, 'message': 'Invalid or expired token.'}]\"}, {'error': \"TweepError: [{'code': 89, 'message': 'Invalid or expired token.'}]\"}, {'error': \"TweepError: [{'code': 89, 'message': 'Invalid or expired token.'}]\"}, {'error': \"TweepError: [{'code': 89, 'message': 'Invalid or expired token.'}]\"}, {'error': \"TweepError: [{'code': 89, 'message': 'Invalid or expired token.'}]\"}, {'error': \"TweepError: [{'code': 89, 'message': 'Invalid or expired token.'}]\"}, {'error': \"TweepError: [{'code': 89, 'message': 'Invalid or expired token.'}]\"}, {'error': \"TweepError: [{'code': 89, 'message': 'Invalid or expired token.'}]\"}, {'error': \"TweepError: [{'code': 89, 'message': 'Invalid or expired token.'}]\"}, {'error': \"TweepError: [{'code': 89, 'message': 'Invalid or expired token.'}]\"}, {'error': \"TweepError: [{'code': 89, 'message': 'Invalid or expired token.'}]\"}, {'error': \"TweepError: [{'code': 89, 'message': 'Invalid or expired token.'}]\"}, {'error': \"TweepError: [{'code': 89, 'message': 'Invalid or expired token.'}]\"}, {'error': \"TweepError: [{'code': 89, 'message': 'Invalid or expired token.'}]\"}, {'error': \"TweepError: [{'code': 89, 'message': 'Invalid or expired token.'}]\"}, {'error': \"TweepError: [{'code': 89, 'message': 'Invalid or expired token.'}]\"}, {'error': \"TweepError: [{'code': 89, 'message': 'Invalid or expired token.'}]\"}, {'error': \"TweepError: [{'code': 89, 'message': 'Invalid or expired token.'}]\"}, {'error': \"TweepError: [{'code': 89, 'message': 'Invalid or expired token.'}]\"}, {'error': \"TweepError: [{'code': 89, 'message': 'Invalid or expired token.'}]\"}, {'error': \"TweepError: [{'code': 89, 'message': 'Invalid or expired token.'}]\"}, {'error': \"TweepError: [{'code': 89, 'message': 'Invalid or expired token.'}]\"}, {'error': \"TweepError: [{'code': 89, 'message': 'Invalid or expired token.'}]\"}, {'error': \"TweepError: [{'code': 89, 'message': 'Invalid or expired token.'}]\"}, {'error': \"TweepError: [{'code': 89, 'message': 'Invalid or expired token.'}]\"}, {'error': \"TweepError: [{'code': 89, 'message': 'Invalid or expired token.'}]\"}, {'error': \"TweepError: [{'code': 89, 'message': 'Invalid or expired token.'}]\"}, {'error': \"TweepError: [{'code': 89, 'message': 'Invalid or expired token.'}]\"}, {'error': \"TweepError: [{'code': 89, 'message': 'Invalid or expired token.'}]\"}, {'error': \"TweepError: [{'code': 89, 'message': 'Invalid or expired token.'}]\"}, {'error': \"TweepError: [{'code': 89, 'message': 'Invalid or expired token.'}]\"}, {'error': \"TweepError: [{'code': 89, 'message': 'Invalid or expired token.'}]\"}, {'error': \"TweepError: [{'code': 89, 'message': 'Invalid or expired token.'}]\"}, {'error': \"TweepError: [{'code': 89, 'message': 'Invalid or expired token.'}]\"}, {'error': \"TweepError: [{'code': 89, 'message': 'Invalid or expired token.'}]\"}, {'error': \"TweepError: [{'code': 89, 'message': 'Invalid or expired token.'}]\"}, {'error': \"TweepError: [{'code': 89, 'message': 'Invalid or expired token.'}]\"}, {'error': \"TweepError: [{'code': 89, 'message': 'Invalid or expired token.'}]\"}, {'error': \"TweepError: [{'code': 89, 'message': 'Invalid or expired token.'}]\"}, {'error': \"TweepError: [{'code': 89, 'message': 'Invalid or expired token.'}]\"}, {'error': \"TweepError: [{'code': 89, 'message': 'Invalid or expired token.'}]\"}, {'error': \"TweepError: [{'code': 89, 'message': 'Invalid or expired token.'}]\"}, {'error': \"TweepError: [{'code': 89, 'message': 'Invalid or expired token.'}]\"}, {'error': \"TweepError: [{'code': 89, 'message': 'Invalid or expired token.'}]\"}, {'error': \"TweepError: [{'code': 89, 'message': 'Invalid or expired token.'}]\"}, {'error': \"TweepError: [{'code': 89, 'message': 'Invalid or expired token.'}]\"}, {'error': \"TweepError: [{'code': 89, 'message': 'Invalid or expired token.'}]\"}, {'error': \"TweepError: [{'code': 89, 'message': 'Invalid or expired token.'}]\"}, {'error': \"TweepError: [{'code': 89, 'message': 'Invalid or expired token.'}]\"}, {'error': \"TweepError: [{'code': 89, 'message': 'Invalid or expired token.'}]\"}, {'error': \"TweepError: [{'code': 89, 'message': 'Invalid or expired token.'}]\"}, {'error': \"TweepError: [{'code': 89, 'message': 'Invalid or expired token.'}]\"}, {'error': \"TweepError: [{'code': 89, 'message': 'Invalid or expired token.'}]\"}, {'error': \"TweepError: [{'code': 89, 'message': 'Invalid or expired token.'}]\"}, {'error': \"TweepError: [{'code': 89, 'message': 'Invalid or expired token.'}]\"}, {'error': \"TweepError: [{'code': 89, 'message': 'Invalid or expired token.'}]\"}, {'error': \"TweepError: [{'code': 89, 'message': 'Invalid or expired token.'}]\"}, {'error': \"TweepError: [{'code': 89, 'message': 'Invalid or expired token.'}]\"}, {'error': \"TweepError: [{'code': 89, 'message': 'Invalid or expired token.'}]\"}, {'error': \"TweepError: [{'code': 89, 'message': 'Invalid or expired token.'}]\"}, {'error': \"TweepError: [{'code': 89, 'message': 'Invalid or expired token.'}]\"}, {'error': \"TweepError: [{'code': 89, 'message': 'Invalid or expired token.'}]\"}, {'error': \"TweepError: [{'code': 89, 'message': 'Invalid or expired token.'}]\"}, {'error': \"TweepError: [{'code': 89, 'message': 'Invalid or expired token.'}]\"}, {'error': \"TweepError: [{'code': 89, 'message': 'Invalid or expired token.'}]\"}, {'error': \"TweepError: [{'code': 89, 'message': 'Invalid or expired token.'}]\"}, {'error': \"TweepError: [{'code': 89, 'message': 'Invalid or expired token.'}]\"}, {'error': \"TweepError: [{'code': 89, 'message': 'Invalid or expired token.'}]\"}, {'error': \"TweepError: [{'code': 89, 'message': 'Invalid or expired token.'}]\"}, {'error': \"TweepError: [{'code': 89, 'message': 'Invalid or expired token.'}]\"}, {'error': \"TweepError: [{'code': 89, 'message': 'Invalid or expired token.'}]\"}, {'error': \"TweepError: [{'code': 89, 'message': 'Invalid or expired token.'}]\"}, {'error': \"TweepError: [{'code': 89, 'message': 'Invalid or expired token.'}]\"}, {'error': \"TweepError: [{'code': 89, 'message': 'Invalid or expired token.'}]\"}, {'error': \"TweepError: [{'code': 89, 'message': 'Invalid or expired token.'}]\"}, {'error': \"TweepError: [{'code': 89, 'message': 'Invalid or expired token.'}]\"}, {'error': \"TweepError: [{'code': 89, 'message': 'Invalid or expired token.'}]\"}, {'error': \"TweepError: [{'code': 89, 'message': 'Invalid or expired token.'}]\"}, {'error': \"TweepError: [{'code': 89, 'message': 'Invalid or expired token.'}]\"}, {'error': \"TweepError: [{'code': 89, 'message': 'Invalid or expired token.'}]\"}, {'error': \"TweepError: [{'code': 89, 'message': 'Invalid or expired token.'}]\"}, {'error': \"TweepError: [{'code': 89, 'message': 'Invalid or expired token.'}]\"}, {'error': \"TweepError: [{'code': 89, 'message': 'Invalid or expired token.'}]\"}, {'error': \"TweepError: [{'code': 89, 'message': 'Invalid or expired token.'}]\"}, {'error': \"TweepError: [{'code': 89, 'message': 'Invalid or expired token.'}]\"}, {'error': \"TweepError: [{'code': 89, 'message': 'Invalid or expired token.'}]\"}, {'error': \"TweepError: [{'code': 89, 'message': 'Invalid or expired token.'}]\"}, {'error': \"TweepError: [{'code': 89, 'message': 'Invalid or expired token.'}]\"}, {'error': \"TweepError: [{'code': 89, 'message': 'Invalid or expired token.'}]\"}, {'error': \"TweepError: [{'code': 89, 'message': 'Invalid or expired token.'}]\"}, {'error': \"TweepError: [{'code': 89, 'message': 'Invalid or expired token.'}]\"}, {'error': \"TweepError: [{'code': 89, 'message': 'Invalid or expired token.'}]\"}, {'error': \"TweepError: [{'code': 89, 'message': 'Invalid or expired token.'}]\"}, {'error': \"TweepError: [{'code': 89, 'message': 'Invalid or expired token.'}]\"}, {'error': \"TweepError: [{'code': 89, 'message': 'Invalid or expired token.'}]\"}, {'error': \"TweepError: [{'code': 89, 'message': 'Invalid or expired token.'}]\"}, {'error': \"TweepError: [{'code': 89, 'message': 'Invalid or expired token.'}]\"}, {'error': \"TweepError: [{'code': 89, 'message': 'Invalid or expired token.'}]\"}, {'error': \"TweepError: [{'code': 89, 'message': 'Invalid or expired token.'}]\"}, {'error': \"TweepError: [{'code': 89, 'message': 'Invalid or expired token.'}]\"}, {'error': \"TweepError: [{'code': 89, 'message': 'Invalid or expired token.'}]\"}, {'error': \"TweepError: [{'code': 89, 'message': 'Invalid or expired token.'}]\"}, {'error': \"TweepError: [{'code': 89, 'message': 'Invalid or expired token.'}]\"}, {'error': \"TweepError: [{'code': 89, 'message': 'Invalid or expired token.'}]\"}, {'error': \"TweepError: [{'code': 89, 'message': 'Invalid or expired token.'}]\"}, {'error': \"TweepError: [{'code': 89, 'message': 'Invalid or expired token.'}]\"}, {'error': \"TweepError: [{'code': 89, 'message': 'Invalid or expired token.'}]\"}, {'error': \"TweepError: [{'code': 89, 'message': 'Invalid or expired token.'}]\"}, {'error': \"TweepError: [{'code': 89, 'message': 'Invalid or expired token.'}]\"}, {'error': \"TweepError: [{'code': 89, 'message': 'Invalid or expired token.'}]\"}, {'error': \"TweepError: [{'code': 89, 'message': 'Invalid or expired token.'}]\"}, {'error': \"TweepError: [{'code': 89, 'message': 'Invalid or expired token.'}]\"}, {'error': \"TweepError: [{'code': 89, 'message': 'Invalid or expired token.'}]\"}, {'error': \"TweepError: [{'code': 89, 'message': 'Invalid or expired token.'}]\"}, {'error': \"TweepError: [{'code': 89, 'message': 'Invalid or expired token.'}]\"}, {'error': \"TweepError: [{'code': 89, 'message': 'Invalid or expired token.'}]\"}, {'error': \"TweepError: [{'code': 89, 'message': 'Invalid or expired token.'}]\"}, {'error': \"TweepError: [{'code': 89, 'message': 'Invalid or expired token.'}]\"}, {'error': \"TweepError: [{'code': 89, 'message': 'Invalid or expired token.'}]\"}, {'error': \"TweepError: [{'code': 89, 'message': 'Invalid or expired token.'}]\"}, {'error': \"TweepError: [{'code': 89, 'message': 'Invalid or expired token.'}]\"}, {'error': \"TweepError: [{'code': 89, 'message': 'Invalid or expired token.'}]\"}, {'error': \"TweepError: [{'code': 89, 'message': 'Invalid or expired token.'}]\"}, {'error': \"TweepError: [{'code': 89, 'message': 'Invalid or expired token.'}]\"}, {'error': \"TweepError: [{'code': 89, 'message': 'Invalid or expired token.'}]\"}, {'error': \"TweepError: [{'code': 89, 'message': 'Invalid or expired token.'}]\"}, {'error': \"TweepError: [{'code': 89, 'message': 'Invalid or expired token.'}]\"}, {'error': \"TweepError: [{'code': 89, 'message': 'Invalid or expired token.'}]\"}, {'error': \"TweepError: [{'code': 89, 'message': 'Invalid or expired token.'}]\"}, {'error': \"TweepError: [{'code': 89, 'message': 'Invalid or expired token.'}]\"}, {'error': \"TweepError: [{'code': 89, 'message': 'Invalid or expired token.'}]\"}, {'error': \"TweepError: [{'code': 89, 'message': 'Invalid or expired token.'}]\"}, {'error': \"TweepError: [{'code': 89, 'message': 'Invalid or expired token.'}]\"}, {'error': \"TweepError: [{'code': 89, 'message': 'Invalid or expired token.'}]\"}, {'error': \"TweepError: [{'code': 89, 'message': 'Invalid or expired token.'}]\"}, {'error': \"TweepError: [{'code': 89, 'message': 'Invalid or expired token.'}]\"}, {'error': \"TweepError: [{'code': 89, 'message': 'Invalid or expired token.'}]\"}, {'error': \"TweepError: [{'code': 89, 'message': 'Invalid or expired token.'}]\"}, {'error': \"TweepError: [{'code': 89, 'message': 'Invalid or expired token.'}]\"}, {'error': \"TweepError: [{'code': 89, 'message': 'Invalid or expired token.'}]\"}, {'error': \"TweepError: [{'code': 89, 'message': 'Invalid or expired token.'}]\"}, {'error': \"TweepError: [{'code': 89, 'message': 'Invalid or expired token.'}]\"}, {'error': \"TweepError: [{'code': 89, 'message': 'Invalid or expired token.'}]\"}, {'error': \"TweepError: [{'code': 89, 'message': 'Invalid or expired token.'}]\"}, {'error': \"TweepError: [{'code': 89, 'message': 'Invalid or expired token.'}]\"}, {'error': \"TweepError: [{'code': 89, 'message': 'Invalid or expired token.'}]\"}, {'error': \"TweepError: [{'code': 89, 'message': 'Invalid or expired token.'}]\"}, {'error': \"TweepError: [{'code': 89, 'message': 'Invalid or expired token.'}]\"}, {'error': \"TweepError: [{'code': 89, 'message': 'Invalid or expired token.'}]\"}, {'error': \"TweepError: [{'code': 89, 'message': 'Invalid or expired token.'}]\"}, {'error': \"TweepError: [{'code': 89, 'message': 'Invalid or expired token.'}]\"}, {'error': \"TweepError: [{'code': 89, 'message': 'Invalid or expired token.'}]\"}, {'error': \"TweepError: [{'code': 89, 'message': 'Invalid or expired token.'}]\"}, {'error': \"TweepError: [{'code': 89, 'message': 'Invalid or expired token.'}]\"}, {'error': \"TweepError: [{'code': 89, 'message': 'Invalid or expired token.'}]\"}, {'error': \"TweepError: [{'code': 89, 'message': 'Invalid or expired token.'}]\"}, {'error': \"TweepError: [{'code': 89, 'message': 'Invalid or expired token.'}]\"}, {'error': \"TweepError: [{'code': 89, 'message': 'Invalid or expired token.'}]\"}, {'error': \"TweepError: [{'code': 89, 'message': 'Invalid or expired token.'}]\"}, {'error': \"TweepError: [{'code': 89, 'message': 'Invalid or expired token.'}]\"}, {'error': \"TweepError: [{'code': 89, 'message': 'Invalid or expired token.'}]\"}, {'error': \"TweepError: [{'code': 89, 'message': 'Invalid or expired token.'}]\"}, {'error': \"TweepError: [{'code': 89, 'message': 'Invalid or expired token.'}]\"}, {'error': \"TweepError: [{'code': 89, 'message': 'Invalid or expired token.'}]\"}, {'error': \"TweepError: [{'code': 89, 'message': 'Invalid or expired token.'}]\"}, {'error': \"TweepError: [{'code': 89, 'message': 'Invalid or expired token.'}]\"}, {'error': \"TweepError: [{'code': 89, 'message': 'Invalid or expired token.'}]\"}, {'error': \"TweepError: [{'code': 89, 'message': 'Invalid or expired token.'}]\"}, {'error': \"TweepError: [{'code': 89, 'message': 'Invalid or expired token.'}]\"}, {'error': \"TweepError: [{'code': 89, 'message': 'Invalid or expired token.'}]\"}, {'error': \"TweepError: [{'code': 89, 'message': 'Invalid or expired token.'}]\"}, {'error': \"TweepError: [{'code': 89, 'message': 'Invalid or expired token.'}]\"}, {'error': \"TweepError: [{'code': 89, 'message': 'Invalid or expired token.'}]\"}, {'error': \"TweepError: [{'code': 89, 'message': 'Invalid or expired token.'}]\"}, {'error': \"TweepError: [{'code': 89, 'message': 'Invalid or expired token.'}]\"}, {'error': \"TweepError: [{'code': 89, 'message': 'Invalid or expired token.'}]\"}, {'error': \"TweepError: [{'code': 89, 'message': 'Invalid or expired token.'}]\"}, {'error': \"TweepError: [{'code': 89, 'message': 'Invalid or expired token.'}]\"}, {'error': \"TweepError: [{'code': 89, 'message': 'Invalid or expired token.'}]\"}, {'error': \"TweepError: [{'code': 89, 'message': 'Invalid or expired token.'}]\"}, {'error': \"TweepError: [{'code': 89, 'message': 'Invalid or expired token.'}]\"}, {'error': \"TweepError: [{'code': 89, 'message': 'Invalid or expired token.'}]\"}, {'error': \"TweepError: [{'code': 89, 'message': 'Invalid or expired token.'}]\"}, {'error': \"TweepError: [{'code': 89, 'message': 'Invalid or expired token.'}]\"}, {'error': \"TweepError: [{'code': 89, 'message': 'Invalid or expired token.'}]\"}, {'error': \"TweepError: [{'code': 89, 'message': 'Invalid or expired token.'}]\"}, {'error': \"TweepError: [{'code': 89, 'message': 'Invalid or expired token.'}]\"}, {'error': \"TweepError: [{'code': 89, 'message': 'Invalid or expired token.'}]\"}, {'error': \"TweepError: [{'code': 89, 'message': 'Invalid or expired token.'}]\"}, {'error': \"TweepError: [{'code': 89, 'message': 'Invalid or expired token.'}]\"}, {'error': \"TweepError: [{'code': 89, 'message': 'Invalid or expired token.'}]\"}, {'error': \"TweepError: [{'code': 89, 'message': 'Invalid or expired token.'}]\"}, {'error': \"TweepError: [{'code': 89, 'message': 'Invalid or expired token.'}]\"}, {'error': \"TweepError: [{'code': 89, 'message': 'Invalid or expired token.'}]\"}, {'error': \"TweepError: [{'code': 89, 'message': 'Invalid or expired token.'}]\"}, {'error': \"TweepError: [{'code': 89, 'message': 'Invalid or expired token.'}]\"}, {'error': \"TweepError: [{'code': 89, 'message': 'Invalid or expired token.'}]\"}, {'error': \"TweepError: [{'code': 89, 'message': 'Invalid or expired token.'}]\"}, {'error': \"TweepError: [{'code': 89, 'message': 'Invalid or expired token.'}]\"}, {'error': \"TweepError: [{'code': 89, 'message': 'Invalid or expired token.'}]\"}, {'error': \"TweepError: [{'code': 89, 'message': 'Invalid or expired token.'}]\"}, {'error': \"TweepError: [{'code': 89, 'message': 'Invalid or expired token.'}]\"}, {'error': \"TweepError: [{'code': 89, 'message': 'Invalid or expired token.'}]\"}, {'error': \"TweepError: [{'code': 89, 'message': 'Invalid or expired token.'}]\"}, {'error': \"TweepError: [{'code': 89, 'message': 'Invalid or expired token.'}]\"}, {'error': \"TweepError: [{'code': 89, 'message': 'Invalid or expired token.'}]\"}, {'error': \"TweepError: [{'code': 89, 'message': 'Invalid or expired token.'}]\"}, {'error': \"TweepError: [{'code': 89, 'message': 'Invalid or expired token.'}]\"}, {'error': \"TweepError: [{'code': 89, 'message': 'Invalid or expired token.'}]\"}, {'error': \"TweepError: [{'code': 89, 'message': 'Invalid or expired token.'}]\"}, {'error': \"TweepError: [{'code': 89, 'message': 'Invalid or expired token.'}]\"}, {'error': \"TweepError: [{'code': 89, 'message': 'Invalid or expired token.'}]\"}, {'error': \"TweepError: [{'code': 89, 'message': 'Invalid or expired token.'}]\"}, {'error': \"TweepError: [{'code': 89, 'message': 'Invalid or expired token.'}]\"}, {'error': \"TweepError: [{'code': 89, 'message': 'Invalid or expired token.'}]\"}, {'error': \"TweepError: [{'code': 89, 'message': 'Invalid or expired token.'}]\"}, {'error': \"TweepError: [{'code': 89, 'message': 'Invalid or expired token.'}]\"}, {'error': \"TweepError: [{'code': 89, 'message': 'Invalid or expired token.'}]\"}, {'error': \"TweepError: [{'code': 89, 'message': 'Invalid or expired token.'}]\"}, {'error': \"TweepError: [{'code': 89, 'message': 'Invalid or expired token.'}]\"}, {'error': \"TweepError: [{'code': 89, 'message': 'Invalid or expired token.'}]\"}, {'error': \"TweepError: [{'code': 89, 'message': 'Invalid or expired token.'}]\"}, {'error': \"TweepError: [{'code': 89, 'message': 'Invalid or expired token.'}]\"}, {'error': \"TweepError: [{'code': 89, 'message': 'Invalid or expired token.'}]\"}, {'error': \"TweepError: [{'code': 89, 'message': 'Invalid or expired token.'}]\"}, {'error': \"TweepError: [{'code': 89, 'message': 'Invalid or expired token.'}]\"}, {'error': \"TweepError: [{'code': 89, 'message': 'Invalid or expired token.'}]\"}, {'error': \"TweepError: [{'code': 89, 'message': 'Invalid or expired token.'}]\"}, {'error': \"TweepError: [{'code': 89, 'message': 'Invalid or expired token.'}]\"}, {'error': \"TweepError: [{'code': 89, 'message': 'Invalid or expired token.'}]\"}, {'error': \"TweepError: [{'code': 89, 'message': 'Invalid or expired token.'}]\"}, {'error': \"TweepError: [{'code': 89, 'message': 'Invalid or expired token.'}]\"}, {'error': \"TweepError: [{'code': 89, 'message': 'Invalid or expired token.'}]\"}, {'error': \"TweepError: [{'code': 89, 'message': 'Invalid or expired token.'}]\"}, {'error': \"TweepError: [{'code': 89, 'message': 'Invalid or expired token.'}]\"}, {'error': \"TweepError: [{'code': 89, 'message': 'Invalid or expired token.'}]\"}, {'error': \"TweepError: [{'code': 89, 'message': 'Invalid or expired token.'}]\"}, {'error': \"TweepError: [{'code': 89, 'message': 'Invalid or expired token.'}]\"}, {'error': \"TweepError: [{'code': 89, 'message': 'Invalid or expired token.'}]\"}, {'error': \"TweepError: [{'code': 89, 'message': 'Invalid or expired token.'}]\"}, {'error': \"TweepError: [{'code': 89, 'message': 'Invalid or expired token.'}]\"}, {'error': \"TweepError: [{'code': 89, 'message': 'Invalid or expired token.'}]\"}, {'error': \"TweepError: [{'code': 89, 'message': 'Invalid or expired token.'}]\"}, {'error': \"TweepError: [{'code': 89, 'message': 'Invalid or expired token.'}]\"}, {'error': \"TweepError: [{'code': 89, 'message': 'Invalid or expired token.'}]\"}, {'error': \"TweepError: [{'code': 89, 'message': 'Invalid or expired token.'}]\"}, {'error': \"TweepError: [{'code': 89, 'message': 'Invalid or expired token.'}]\"}, {'error': \"TweepError: [{'code': 89, 'message': 'Invalid or expired token.'}]\"}, {'error': \"TweepError: [{'code': 89, 'message': 'Invalid or expired token.'}]\"}, {'error': \"TweepError: [{'code': 89, 'message': 'Invalid or expired token.'}]\"}, {'error': \"TweepError: [{'code': 89, 'message': 'Invalid or expired token.'}]\"}, {'error': \"TweepError: [{'code': 89, 'message': 'Invalid or expired token.'}]\"}, {'error': \"TweepError: [{'code': 89, 'message': 'Invalid or expired token.'}]\"}, {'error': \"TweepError: [{'code': 89, 'message': 'Invalid or expired token.'}]\"}, {'error': \"TweepError: [{'code': 89, 'message': 'Invalid or expired token.'}]\"}, {'error': \"TweepError: [{'code': 89, 'message': 'Invalid or expired token.'}]\"}, {'error': \"TweepError: [{'code': 89, 'message': 'Invalid or expired token.'}]\"}, {'error': \"TweepError: [{'code': 89, 'message': 'Invalid or expired token.'}]\"}, {'error': \"TweepError: [{'code': 89, 'message': 'Invalid or expired token.'}]\"}, {'error': \"TweepError: [{'code': 89, 'message': 'Invalid or expired token.'}]\"}, {'error': \"TweepError: [{'code': 89, 'message': 'Invalid or expired token.'}]\"}, {'error': \"TweepError: [{'code': 89, 'message': 'Invalid or expired token.'}]\"}, {'error': \"TweepError: [{'code': 89, 'message': 'Invalid or expired token.'}]\"}, {'error': \"TweepError: [{'code': 89, 'message': 'Invalid or expired token.'}]\"}, {'error': \"TweepError: [{'code': 89, 'message': 'Invalid or expired token.'}]\"}, {'error': \"TweepError: [{'code': 89, 'message': 'Invalid or expired token.'}]\"}, {'error': \"TweepError: [{'code': 89, 'message': 'Invalid or expired token.'}]\"}, {'error': \"TweepError: [{'code': 89, 'message': 'Invalid or expired token.'}]\"}, {'error': \"TweepError: [{'code': 89, 'message': 'Invalid or expired token.'}]\"}, {'error': \"TweepError: [{'code': 89, 'message': 'Invalid or expired token.'}]\"}, {'error': \"TweepError: [{'code': 89, 'message': 'Invalid or expired token.'}]\"}, {'error': \"TweepError: [{'code': 89, 'message': 'Invalid or expired token.'}]\"}, {'error': \"TweepError: [{'code': 89, 'message': 'Invalid or expired token.'}]\"}, {'error': \"TweepError: [{'code': 89, 'message': 'Invalid or expired token.'}]\"}, {'error': \"TweepError: [{'code': 89, 'message': 'Invalid or expired token.'}]\"}, {'error': \"TweepError: [{'code': 89, 'message': 'Invalid or expired token.'}]\"}, {'error': \"TweepError: [{'code': 89, 'message': 'Invalid or expired token.'}]\"}, {'error': \"TweepError: [{'code': 89, 'message': 'Invalid or expired token.'}]\"}, {'error': \"TweepError: [{'code': 89, 'message': 'Invalid or expired token.'}]\"}, {'error': \"TweepError: [{'code': 89, 'message': 'Invalid or expired token.'}]\"}, {'error': \"TweepError: [{'code': 89, 'message': 'Invalid or expired token.'}]\"}, {'error': \"TweepError: [{'code': 89, 'message': 'Invalid or expired token.'}]\"}, {'error': \"TweepError: [{'code': 89, 'message': 'Invalid or expired token.'}]\"}, {'error': \"TweepError: [{'code': 89, 'message': 'Invalid or expired token.'}]\"}, {'error': \"TweepError: [{'code': 89, 'message': 'Invalid or expired token.'}]\"}, {'error': \"TweepError: [{'code': 89, 'message': 'Invalid or expired token.'}]\"}, {'error': \"TweepError: [{'code': 89, 'message': 'Invalid or expired token.'}]\"}, {'error': \"TweepError: [{'code': 89, 'message': 'Invalid or expired token.'}]\"}, {'error': \"TweepError: [{'code': 89, 'message': 'Invalid or expired token.'}]\"}, {'error': \"TweepError: [{'code': 89, 'message': 'Invalid or expired token.'}]\"}, {'error': \"TweepError: [{'code': 89, 'message': 'Invalid or expired token.'}]\"}, {'error': \"TweepError: [{'code': 89, 'message': 'Invalid or expired token.'}]\"}, {'error': \"TweepError: [{'code': 89, 'message': 'Invalid or expired token.'}]\"}, {'error': \"TweepError: [{'code': 89, 'message': 'Invalid or expired token.'}]\"}]\n"
          ],
          "name": "stdout"
        }
      ]
    },
    {
      "cell_type": "markdown",
      "metadata": {
        "id": "_rCoMUaLV7W5",
        "colab_type": "text"
      },
      "source": [
        "Ботометр подходит только для оценки пользователей Твиттера."
      ]
    },
    {
      "cell_type": "code",
      "metadata": {
        "id": "wejlENcC0-wZ",
        "colab_type": "code",
        "outputId": "50bbb4e5-b18a-4a69-a244-6949ab8b2528",
        "colab": {
          "base_uri": "https://localhost:8080/",
          "height": 105
        }
      },
      "source": [
        "# Importing libraries needed for modeling\n",
        "import pandas as pd\n",
        "import numpy as np\n",
        "import matplotlib.pyplot as plt\n",
        "import seaborn as sns \n",
        "from sklearn.utils import resample\n",
        "from sklearn.model_selection import train_test_split, GridSearchCV, cross_val_score\n",
        "from sklearn.pipeline import Pipeline\n",
        "from sklearn.feature_extraction.text import TfidfVectorizer\n",
        "from sklearn.feature_extraction import stop_words\n",
        "from sklearn.naive_bayes import MultinomialNB\n",
        "from sklearn.tree import DecisionTreeClassifier\n",
        "from sklearn.preprocessing import StandardScaler\n",
        "from sklearn.ensemble import BaggingClassifier, RandomForestClassifier, ExtraTreesClassifier, AdaBoostClassifier\n",
        "import nltk\n",
        "nltk.download('stopwords')\n",
        "from nltk.corpus import stopwords"
      ],
      "execution_count": 0,
      "outputs": [
        {
          "output_type": "stream",
          "text": [
            "/usr/local/lib/python3.6/dist-packages/sklearn/utils/deprecation.py:144: FutureWarning: The sklearn.feature_extraction.stop_words module is  deprecated in version 0.22 and will be removed in version 0.24. The corresponding classes / functions should instead be imported from sklearn.feature_extraction.text. Anything that cannot be imported from sklearn.feature_extraction.text is now part of the private API.\n",
            "  warnings.warn(message, FutureWarning)\n"
          ],
          "name": "stderr"
        },
        {
          "output_type": "stream",
          "text": [
            "[nltk_data] Downloading package stopwords to /root/nltk_data...\n",
            "[nltk_data]   Unzipping corpora/stopwords.zip.\n"
          ],
          "name": "stdout"
        }
      ]
    },
    {
      "cell_type": "code",
      "metadata": {
        "id": "UP5Tc0t91XZX",
        "colab_type": "code",
        "colab": {}
      },
      "source": [
        "X = data[\"content\"]\n",
        "y = data[\"type_of_article\"]\n",
        "\n",
        "X_train, X_test, y_train, y_test = train_test_split(X,\n",
        "                                                    y,\n",
        "                                                    test_size=0.2,\n",
        "                                                    random_state=42,\n",
        "                                                    stratify=y)"
      ],
      "execution_count": 0,
      "outputs": []
    },
    {
      "cell_type": "code",
      "metadata": {
        "id": "F-ojR7gS2DKz",
        "colab_type": "code",
        "outputId": "777a93ff-16fb-4ccc-a34e-0c341cc722ec",
        "colab": {
          "base_uri": "https://localhost:8080/",
          "height": 68
        }
      },
      "source": [
        "y_test.value_counts(normalize=True)"
      ],
      "execution_count": 0,
      "outputs": [
        {
          "output_type": "execute_result",
          "data": {
            "text/plain": [
              "fake    0.582741\n",
              "real    0.417259\n",
              "Name: type_of_article, dtype: float64"
            ]
          },
          "metadata": {
            "tags": []
          },
          "execution_count": 14
        }
      ]
    },
    {
      "cell_type": "markdown",
      "metadata": {
        "id": "D86OPqD23x6F",
        "colab_type": "text"
      },
      "source": [
        "### **Multinomial Naive Bayes**\n"
      ]
    },
    {
      "cell_type": "code",
      "metadata": {
        "id": "g5N3bdTx2QFh",
        "colab_type": "code",
        "outputId": "17506d50-fffa-4140-86a8-90d0fb461f5a",
        "colab": {
          "base_uri": "https://localhost:8080/",
          "height": 544
        }
      },
      "source": [
        "# Building a pipeline\n",
        "pipe1 = Pipeline([('tfidf', TfidfVectorizer()),\n",
        "                     ('nb', MultinomialNB())\n",
        "                ])\n",
        "# Setting the parameters of the pipeline \n",
        "pipe_params1 = {\n",
        "    'tfidf__max_features': [100, 1000, 10000],\n",
        "    'tfidf__ngram_range': [(1,1), (1,2)],\n",
        "    'tfidf__stop_words' : [None, stopwords.words('russian')],\n",
        "}\n",
        "# Instantiated the grid search\n",
        "gs1 = GridSearchCV(pipe1, \n",
        "                  param_grid=pipe_params1\n",
        "                 ) \n",
        "# Fitting the model\n",
        "gs1.fit(X_train, y_train)"
      ],
      "execution_count": 0,
      "outputs": [
        {
          "output_type": "execute_result",
          "data": {
            "text/plain": [
              "GridSearchCV(cv=None, error_score=nan,\n",
              "             estimator=Pipeline(memory=None,\n",
              "                                steps=[('tfidf',\n",
              "                                        TfidfVectorizer(analyzer='word',\n",
              "                                                        binary=False,\n",
              "                                                        decode_error='strict',\n",
              "                                                        dtype=<class 'numpy.float64'>,\n",
              "                                                        encoding='utf-8',\n",
              "                                                        input='content',\n",
              "                                                        lowercase=True,\n",
              "                                                        max_df=1.0,\n",
              "                                                        max_features=None,\n",
              "                                                        min_df=1,\n",
              "                                                        ngram_range=(1, 1),\n",
              "                                                        norm='l2',\n",
              "                                                        preprocessor=None,\n",
              "                                                        smooth_idf=True,\n",
              "                                                        stop_words=None,\n",
              "                                                        strip_...\n",
              "             param_grid={'tfidf__max_features': [100, 1000, 10000],\n",
              "                         'tfidf__ngram_range': [(1, 1), (1, 2)],\n",
              "                         'tfidf__stop_words': [None,\n",
              "                                               ['и', 'в', 'во', 'не', 'что',\n",
              "                                                'он', 'на', 'я', 'с', 'со',\n",
              "                                                'как', 'а', 'то', 'все', 'она',\n",
              "                                                'так', 'его', 'но', 'да', 'ты',\n",
              "                                                'к', 'у', 'же', 'вы', 'за',\n",
              "                                                'бы', 'по', 'только', 'ее',\n",
              "                                                'мне', ...]]},\n",
              "             pre_dispatch='2*n_jobs', refit=True, return_train_score=False,\n",
              "             scoring=None, verbose=0)"
            ]
          },
          "metadata": {
            "tags": []
          },
          "execution_count": 15
        }
      ]
    },
    {
      "cell_type": "code",
      "metadata": {
        "id": "fRGeL1lk3h0g",
        "colab_type": "code",
        "outputId": "5d5ffc8b-4552-4c35-bb6d-91972dc9666a",
        "colab": {
          "base_uri": "https://localhost:8080/",
          "height": 34
        }
      },
      "source": [
        "# Checking the best score\n",
        "gs1.best_score_"
      ],
      "execution_count": 0,
      "outputs": [
        {
          "output_type": "execute_result",
          "data": {
            "text/plain": [
              "0.9873002921845473"
            ]
          },
          "metadata": {
            "tags": []
          },
          "execution_count": 16
        }
      ]
    },
    {
      "cell_type": "code",
      "metadata": {
        "id": "FzipN5tM3mIY",
        "colab_type": "code",
        "colab": {}
      },
      "source": [
        "# Setting the best estimator as the model \n",
        "gs_model = gs1.best_estimator_"
      ],
      "execution_count": 0,
      "outputs": []
    },
    {
      "cell_type": "code",
      "metadata": {
        "id": "bOlNJN353oOw",
        "colab_type": "code",
        "outputId": "22ba8e4d-8327-4bfa-c0c7-2c1b0c977a34",
        "colab": {
          "base_uri": "https://localhost:8080/",
          "height": 34
        }
      },
      "source": [
        "# Checking out the training score\n",
        "gs_model.score(X_train, y_train)"
      ],
      "execution_count": 0,
      "outputs": [
        {
          "output_type": "execute_result",
          "data": {
            "text/plain": [
              "0.9875539751079502"
            ]
          },
          "metadata": {
            "tags": []
          },
          "execution_count": 18
        }
      ]
    },
    {
      "cell_type": "code",
      "metadata": {
        "id": "R15bu8Cn3qBS",
        "colab_type": "code",
        "outputId": "35286b06-d3bc-458d-95fb-0c01aa7ea88d",
        "colab": {
          "base_uri": "https://localhost:8080/",
          "height": 34
        }
      },
      "source": [
        "# Checking out the testing score \n",
        "gs_model.score(X_test, y_test)"
      ],
      "execution_count": 0,
      "outputs": [
        {
          "output_type": "execute_result",
          "data": {
            "text/plain": [
              "0.9908629441624366"
            ]
          },
          "metadata": {
            "tags": []
          },
          "execution_count": 19
        }
      ]
    },
    {
      "cell_type": "markdown",
      "metadata": {
        "id": "X0GfcCpo3_C8",
        "colab_type": "text"
      },
      "source": [
        "### **Conclusions about this model:**\n",
        "The Naive Bayes is often a good model for NLP, but in this case it is outperformed by other models."
      ]
    },
    {
      "cell_type": "markdown",
      "metadata": {
        "id": "YndnDyWw4FL_",
        "colab_type": "text"
      },
      "source": [
        "\n",
        "### **Decision Tree**"
      ]
    },
    {
      "cell_type": "code",
      "metadata": {
        "id": "FCK1E9VT4Kqk",
        "colab_type": "code",
        "outputId": "f61cb487-fad1-4358-dae4-a209fb795d0c",
        "colab": {
          "base_uri": "https://localhost:8080/",
          "height": 544
        }
      },
      "source": [
        "pipe2 = Pipeline([('tfidf', TfidfVectorizer()),\n",
        "                     ('dt', DecisionTreeClassifier())\n",
        "                ])\n",
        "# I removed tfidf feature options so I could try more dt hyperparameters since there has been a lot of\n",
        "# consistency with hyperparametes that work best\n",
        "pipe_params2 = {\n",
        "    'tfidf__max_features': [10000],\n",
        "    'tfidf__ngram_range': [(1,1)],\n",
        "    'tfidf__stop_words' : [stopwords.words('russian')],\n",
        "    'dt__max_depth': [3, 10],\n",
        "    'dt__min_samples_split': [5, 20],\n",
        "    'dt__min_samples_leaf': [2, 7]\n",
        "}\n",
        "# Instantiated grid search\n",
        "gs2 = GridSearchCV(pipe2, \n",
        "                  param_grid=pipe_params2) \n",
        "# Fitting the model\n",
        "gs2.fit(X_train, y_train)"
      ],
      "execution_count": 0,
      "outputs": [
        {
          "output_type": "execute_result",
          "data": {
            "text/plain": [
              "GridSearchCV(cv=None, error_score=nan,\n",
              "             estimator=Pipeline(memory=None,\n",
              "                                steps=[('tfidf',\n",
              "                                        TfidfVectorizer(analyzer='word',\n",
              "                                                        binary=False,\n",
              "                                                        decode_error='strict',\n",
              "                                                        dtype=<class 'numpy.float64'>,\n",
              "                                                        encoding='utf-8',\n",
              "                                                        input='content',\n",
              "                                                        lowercase=True,\n",
              "                                                        max_df=1.0,\n",
              "                                                        max_features=None,\n",
              "                                                        min_df=1,\n",
              "                                                        ngram_range=(1, 1),\n",
              "                                                        norm='l2',\n",
              "                                                        preprocessor=None,\n",
              "                                                        smooth_idf=True,\n",
              "                                                        stop_words=None,\n",
              "                                                        strip_...\n",
              "                         'dt__min_samples_split': [5, 20],\n",
              "                         'tfidf__max_features': [10000],\n",
              "                         'tfidf__ngram_range': [(1, 1)],\n",
              "                         'tfidf__stop_words': [['и', 'в', 'во', 'не', 'что',\n",
              "                                                'он', 'на', 'я', 'с', 'со',\n",
              "                                                'как', 'а', 'то', 'все', 'она',\n",
              "                                                'так', 'его', 'но', 'да', 'ты',\n",
              "                                                'к', 'у', 'же', 'вы', 'за',\n",
              "                                                'бы', 'по', 'только', 'ее',\n",
              "                                                'мне', ...]]},\n",
              "             pre_dispatch='2*n_jobs', refit=True, return_train_score=False,\n",
              "             scoring=None, verbose=0)"
            ]
          },
          "metadata": {
            "tags": []
          },
          "execution_count": 20
        }
      ]
    },
    {
      "cell_type": "code",
      "metadata": {
        "id": "l9loRqLR4MMZ",
        "colab_type": "code",
        "outputId": "d6e0f90e-dfcb-46f2-bb40-7635ed31e9a1",
        "colab": {
          "base_uri": "https://localhost:8080/",
          "height": 34
        }
      },
      "source": [
        "# Checking the best score\n",
        "gs2.best_score_"
      ],
      "execution_count": 0,
      "outputs": [
        {
          "output_type": "execute_result",
          "data": {
            "text/plain": [
              "0.9972058643309103"
            ]
          },
          "metadata": {
            "tags": []
          },
          "execution_count": 21
        }
      ]
    },
    {
      "cell_type": "code",
      "metadata": {
        "id": "jTLqt36T4O7L",
        "colab_type": "code",
        "colab": {}
      },
      "source": [
        "# Setting the best estimator to be the model\n",
        "gs_model2 = gs2.best_estimator_"
      ],
      "execution_count": 0,
      "outputs": []
    },
    {
      "cell_type": "code",
      "metadata": {
        "id": "cJzfs-LK4Qpj",
        "colab_type": "code",
        "outputId": "6ac3cd62-70c7-4761-c3c0-f171be56561a",
        "colab": {
          "base_uri": "https://localhost:8080/",
          "height": 34
        }
      },
      "source": [
        "# Checking the training score for this model \n",
        "gs_model2.score(X_train, y_train)"
      ],
      "execution_count": 0,
      "outputs": [
        {
          "output_type": "execute_result",
          "data": {
            "text/plain": [
              "0.999491998983998"
            ]
          },
          "metadata": {
            "tags": []
          },
          "execution_count": 23
        }
      ]
    },
    {
      "cell_type": "code",
      "metadata": {
        "id": "-epFXTZu4Sdj",
        "colab_type": "code",
        "outputId": "6ae5e8da-3170-49ca-ded0-677b6d4f08e0",
        "colab": {
          "base_uri": "https://localhost:8080/",
          "height": 34
        }
      },
      "source": [
        "# Checking the testing score for this model \n",
        "gs_model2.score(X_test, y_test)"
      ],
      "execution_count": 0,
      "outputs": [
        {
          "output_type": "execute_result",
          "data": {
            "text/plain": [
              "1.0"
            ]
          },
          "metadata": {
            "tags": []
          },
          "execution_count": 24
        }
      ]
    },
    {
      "cell_type": "markdown",
      "metadata": {
        "id": "93xqTD9D4iUU",
        "colab_type": "text"
      },
      "source": [
        "### **Conclusions about this model:**\n",
        "The Decision Tree/TFIDF Vectorizer model performed stronger than its counterpart. It shows signs of overfitting, however, the score between train and test is not wide enough to draw any conclusions."
      ]
    },
    {
      "cell_type": "markdown",
      "metadata": {
        "id": "zO7UaYpD4j-3",
        "colab_type": "text"
      },
      "source": [
        "### **Bagging Classifier**"
      ]
    },
    {
      "cell_type": "code",
      "metadata": {
        "id": "qtMENSNk4mef",
        "colab_type": "code",
        "outputId": "2fcb6dda-3704-4347-e6a2-bf1602a0f044",
        "colab": {
          "base_uri": "https://localhost:8080/",
          "height": 544
        }
      },
      "source": [
        "# Building the pipeline for a bagging classifier \n",
        "pipe3 = Pipeline([('tfidf', TfidfVectorizer()),\n",
        "                     ('bag', BaggingClassifier())\n",
        "                ])\n",
        "# Setting the parameters\n",
        "pipe_params3 = {\n",
        "    'tfidf__max_features': [10000],\n",
        "    'tfidf__ngram_range': [(1,1)],\n",
        "    'tfidf__stop_words' : [stopwords.words('russian')],\n",
        "    'bag__max_samples' : [.5, 1.0, 10],\n",
        "    'bag__n_estimators' : [2, 6, 10]\n",
        "}\n",
        "# Instantiated the grid search\n",
        "gs3 = GridSearchCV(pipe3, \n",
        "                  param_grid=pipe_params3) \n",
        "# Fitting the model to the data\n",
        "gs3.fit(X_train, y_train)"
      ],
      "execution_count": 0,
      "outputs": [
        {
          "output_type": "execute_result",
          "data": {
            "text/plain": [
              "GridSearchCV(cv=None, error_score=nan,\n",
              "             estimator=Pipeline(memory=None,\n",
              "                                steps=[('tfidf',\n",
              "                                        TfidfVectorizer(analyzer='word',\n",
              "                                                        binary=False,\n",
              "                                                        decode_error='strict',\n",
              "                                                        dtype=<class 'numpy.float64'>,\n",
              "                                                        encoding='utf-8',\n",
              "                                                        input='content',\n",
              "                                                        lowercase=True,\n",
              "                                                        max_df=1.0,\n",
              "                                                        max_features=None,\n",
              "                                                        min_df=1,\n",
              "                                                        ngram_range=(1, 1),\n",
              "                                                        norm='l2',\n",
              "                                                        preprocessor=None,\n",
              "                                                        smooth_idf=True,\n",
              "                                                        stop_words=None,\n",
              "                                                        strip_...\n",
              "                         'bag__n_estimators': [2, 6, 10],\n",
              "                         'tfidf__max_features': [10000],\n",
              "                         'tfidf__ngram_range': [(1, 1)],\n",
              "                         'tfidf__stop_words': [['и', 'в', 'во', 'не', 'что',\n",
              "                                                'он', 'на', 'я', 'с', 'со',\n",
              "                                                'как', 'а', 'то', 'все', 'она',\n",
              "                                                'так', 'его', 'но', 'да', 'ты',\n",
              "                                                'к', 'у', 'же', 'вы', 'за',\n",
              "                                                'бы', 'по', 'только', 'ее',\n",
              "                                                'мне', ...]]},\n",
              "             pre_dispatch='2*n_jobs', refit=True, return_train_score=False,\n",
              "             scoring=None, verbose=0)"
            ]
          },
          "metadata": {
            "tags": []
          },
          "execution_count": 25
        }
      ]
    },
    {
      "cell_type": "code",
      "metadata": {
        "id": "Y6lPLmUM4oxu",
        "colab_type": "code",
        "outputId": "b684f698-191d-4e3d-de7e-f9640ec1a4fa",
        "colab": {
          "base_uri": "https://localhost:8080/",
          "height": 34
        }
      },
      "source": [
        "# Checking the best score\n",
        "gs3.best_score_"
      ],
      "execution_count": 0,
      "outputs": [
        {
          "output_type": "execute_result",
          "data": {
            "text/plain": [
              "0.995682054192816"
            ]
          },
          "metadata": {
            "tags": []
          },
          "execution_count": 26
        }
      ]
    },
    {
      "cell_type": "code",
      "metadata": {
        "id": "IfXHnrDs4qwm",
        "colab_type": "code",
        "colab": {}
      },
      "source": [
        "# Setting the model to the best estimator \n",
        "gs_model3 = gs3.best_estimator_"
      ],
      "execution_count": 0,
      "outputs": []
    },
    {
      "cell_type": "code",
      "metadata": {
        "id": "8VJ3w3Ye4tSl",
        "colab_type": "code",
        "outputId": "b485c554-b37a-4f01-93d5-d9985664a425",
        "colab": {
          "base_uri": "https://localhost:8080/",
          "height": 34
        }
      },
      "source": [
        "# Checking the training score\n",
        "gs_model3.score(X_train, y_train)"
      ],
      "execution_count": 0,
      "outputs": [
        {
          "output_type": "execute_result",
          "data": {
            "text/plain": [
              "0.999491998983998"
            ]
          },
          "metadata": {
            "tags": []
          },
          "execution_count": 28
        }
      ]
    },
    {
      "cell_type": "code",
      "metadata": {
        "id": "EebuQU004u6T",
        "colab_type": "code",
        "outputId": "e47305f3-a3ca-419f-c14d-2077b5039e1f",
        "colab": {
          "base_uri": "https://localhost:8080/",
          "height": 34
        }
      },
      "source": [
        "# Checking the testing score \n",
        "gs_model3.score(X_test, y_test)"
      ],
      "execution_count": 0,
      "outputs": [
        {
          "output_type": "execute_result",
          "data": {
            "text/plain": [
              "0.9949238578680203"
            ]
          },
          "metadata": {
            "tags": []
          },
          "execution_count": 29
        }
      ]
    },
    {
      "cell_type": "markdown",
      "metadata": {
        "id": "i4BjJ97m4wjf",
        "colab_type": "text"
      },
      "source": [
        "### **Conclusions about this model:**\n",
        "The Bagging Classifier/TFIDF Vectorizer model was one of the strongest models that was fit and tested. It shows signs of overfitting, however, the score between train and test is not wide enough to draw any conclusions."
      ]
    },
    {
      "cell_type": "markdown",
      "metadata": {
        "id": "pIQhEHjg4zYJ",
        "colab_type": "text"
      },
      "source": [
        "\n",
        "### **Random Forest**"
      ]
    },
    {
      "cell_type": "code",
      "metadata": {
        "id": "qDaRO0tN4_F-",
        "colab_type": "code",
        "outputId": "76dfa5d8-0e14-4ed0-aeee-931f100379d1",
        "colab": {
          "base_uri": "https://localhost:8080/",
          "height": 544
        }
      },
      "source": [
        "# Setting the pipeline for random forest \n",
        "pipe4 = Pipeline([('tfidf', TfidfVectorizer()),\n",
        "                     ('rf', RandomForestClassifier())\n",
        "                ])\n",
        "# Pipeline parameters\n",
        "pipe_params4 = {\n",
        "    'tfidf__max_features': [10000],\n",
        "    'tfidf__ngram_range': [(1,1)],\n",
        "    'tfidf__stop_words' : [stopwords.words('russian')],\n",
        "    'rf__n_estimators': [100, 150],\n",
        "    'rf__max_depth': [None, 5, 6]\n",
        "}\n",
        "# Instantiating a grid search\n",
        "gs4 = GridSearchCV(pipe4, \n",
        "                  param_grid=pipe_params4) \n",
        "# Fitting my model\n",
        "gs4.fit(X_train, y_train)"
      ],
      "execution_count": 0,
      "outputs": [
        {
          "output_type": "execute_result",
          "data": {
            "text/plain": [
              "GridSearchCV(cv=None, error_score=nan,\n",
              "             estimator=Pipeline(memory=None,\n",
              "                                steps=[('tfidf',\n",
              "                                        TfidfVectorizer(analyzer='word',\n",
              "                                                        binary=False,\n",
              "                                                        decode_error='strict',\n",
              "                                                        dtype=<class 'numpy.float64'>,\n",
              "                                                        encoding='utf-8',\n",
              "                                                        input='content',\n",
              "                                                        lowercase=True,\n",
              "                                                        max_df=1.0,\n",
              "                                                        max_features=None,\n",
              "                                                        min_df=1,\n",
              "                                                        ngram_range=(1, 1),\n",
              "                                                        norm='l2',\n",
              "                                                        preprocessor=None,\n",
              "                                                        smooth_idf=True,\n",
              "                                                        stop_words=None,\n",
              "                                                        strip_...\n",
              "                         'rf__n_estimators': [100, 150],\n",
              "                         'tfidf__max_features': [10000],\n",
              "                         'tfidf__ngram_range': [(1, 1)],\n",
              "                         'tfidf__stop_words': [['и', 'в', 'во', 'не', 'что',\n",
              "                                                'он', 'на', 'я', 'с', 'со',\n",
              "                                                'как', 'а', 'то', 'все', 'она',\n",
              "                                                'так', 'его', 'но', 'да', 'ты',\n",
              "                                                'к', 'у', 'же', 'вы', 'за',\n",
              "                                                'бы', 'по', 'только', 'ее',\n",
              "                                                'мне', ...]]},\n",
              "             pre_dispatch='2*n_jobs', refit=True, return_train_score=False,\n",
              "             scoring=None, verbose=0)"
            ]
          },
          "metadata": {
            "tags": []
          },
          "execution_count": 30
        }
      ]
    },
    {
      "cell_type": "code",
      "metadata": {
        "id": "Ini2FBqH5BTT",
        "colab_type": "code",
        "outputId": "7021837a-6497-4815-b74d-2a79df30329d",
        "colab": {
          "base_uri": "https://localhost:8080/",
          "height": 34
        }
      },
      "source": [
        "# The best score for this model\n",
        "gs4.best_score_"
      ],
      "execution_count": 0,
      "outputs": [
        {
          "output_type": "execute_result",
          "data": {
            "text/plain": [
              "1.0"
            ]
          },
          "metadata": {
            "tags": []
          },
          "execution_count": 31
        }
      ]
    },
    {
      "cell_type": "code",
      "metadata": {
        "id": "5WXSn0fV5DWU",
        "colab_type": "code",
        "colab": {}
      },
      "source": [
        "# Setting the best estimator as this model\n",
        "gs_model4 = gs4.best_estimator_"
      ],
      "execution_count": 0,
      "outputs": []
    },
    {
      "cell_type": "code",
      "metadata": {
        "id": "oEZbGDwj5E_S",
        "colab_type": "code",
        "outputId": "87396d26-6633-4898-a81c-4b8f67d79cb2",
        "colab": {
          "base_uri": "https://localhost:8080/",
          "height": 34
        }
      },
      "source": [
        "# Checking the training score\n",
        "gs_model4.score(X_train, y_train)"
      ],
      "execution_count": 0,
      "outputs": [
        {
          "output_type": "execute_result",
          "data": {
            "text/plain": [
              "1.0"
            ]
          },
          "metadata": {
            "tags": []
          },
          "execution_count": 33
        }
      ]
    },
    {
      "cell_type": "code",
      "metadata": {
        "id": "1jv-DDsl5G3O",
        "colab_type": "code",
        "outputId": "b68b76a0-0b4d-4955-f222-f36ba5176767",
        "colab": {
          "base_uri": "https://localhost:8080/",
          "height": 34
        }
      },
      "source": [
        "# Checking the testing score \n",
        "gs_model4.score(X_test, y_test)"
      ],
      "execution_count": 0,
      "outputs": [
        {
          "output_type": "execute_result",
          "data": {
            "text/plain": [
              "1.0"
            ]
          },
          "metadata": {
            "tags": []
          },
          "execution_count": 34
        }
      ]
    },
    {
      "cell_type": "markdown",
      "metadata": {
        "id": "Jh2PS6nx5IxM",
        "colab_type": "text"
      },
      "source": [
        "### **Conclusions about this model:**\n",
        "The Random Forest/TFIDF Vectorizer model performed outstandingly, in fact, it perform second best out of every model that was fit and tested."
      ]
    },
    {
      "cell_type": "markdown",
      "metadata": {
        "id": "H_VsX7iv5RI4",
        "colab_type": "text"
      },
      "source": [
        "### **Extra Trees**"
      ]
    },
    {
      "cell_type": "code",
      "metadata": {
        "id": "8tDriq3M5VHa",
        "colab_type": "code",
        "outputId": "6f4b50c7-9884-4c21-ff3c-ded1f386fe99",
        "colab": {
          "base_uri": "https://localhost:8080/",
          "height": 544
        }
      },
      "source": [
        "# Setting the pipeline for tfidf and extra trees\n",
        "pipe5 = Pipeline([('tfidf', TfidfVectorizer()),\n",
        "                     ('xt', ExtraTreesClassifier())\n",
        "                ])\n",
        "# Setting the pipeline parameters\n",
        "pipe_params5 = {\n",
        "    'tfidf__max_features': [10000],\n",
        "    'tfidf__ngram_range': [(1,1)],\n",
        "    'tfidf__stop_words' : [stopwords.words('russian')],\n",
        "    'xt__n_estimators': [100, 150],\n",
        "    'xt__max_depth': [None, 5, 6]\n",
        "}\n",
        "# Instantiating the grid search\n",
        "gs5 = GridSearchCV(pipe5, \n",
        "                  param_grid=pipe_params5) \n",
        "# Fitting the model\n",
        "gs5.fit(X_train, y_train)"
      ],
      "execution_count": 0,
      "outputs": [
        {
          "output_type": "execute_result",
          "data": {
            "text/plain": [
              "GridSearchCV(cv=None, error_score=nan,\n",
              "             estimator=Pipeline(memory=None,\n",
              "                                steps=[('tfidf',\n",
              "                                        TfidfVectorizer(analyzer='word',\n",
              "                                                        binary=False,\n",
              "                                                        decode_error='strict',\n",
              "                                                        dtype=<class 'numpy.float64'>,\n",
              "                                                        encoding='utf-8',\n",
              "                                                        input='content',\n",
              "                                                        lowercase=True,\n",
              "                                                        max_df=1.0,\n",
              "                                                        max_features=None,\n",
              "                                                        min_df=1,\n",
              "                                                        ngram_range=(1, 1),\n",
              "                                                        norm='l2',\n",
              "                                                        preprocessor=None,\n",
              "                                                        smooth_idf=True,\n",
              "                                                        stop_words=None,\n",
              "                                                        strip_...\n",
              "                         'tfidf__ngram_range': [(1, 1)],\n",
              "                         'tfidf__stop_words': [['и', 'в', 'во', 'не', 'что',\n",
              "                                                'он', 'на', 'я', 'с', 'со',\n",
              "                                                'как', 'а', 'то', 'все', 'она',\n",
              "                                                'так', 'его', 'но', 'да', 'ты',\n",
              "                                                'к', 'у', 'же', 'вы', 'за',\n",
              "                                                'бы', 'по', 'только', 'ее',\n",
              "                                                'мне', ...]],\n",
              "                         'xt__max_depth': [None, 5, 6],\n",
              "                         'xt__n_estimators': [100, 150]},\n",
              "             pre_dispatch='2*n_jobs', refit=True, return_train_score=False,\n",
              "             scoring=None, verbose=0)"
            ]
          },
          "metadata": {
            "tags": []
          },
          "execution_count": 35
        }
      ]
    },
    {
      "cell_type": "code",
      "metadata": {
        "id": "msCeCs4m5XVj",
        "colab_type": "code",
        "outputId": "2e24a375-29eb-4acc-83ec-a4306290f016",
        "colab": {
          "base_uri": "https://localhost:8080/",
          "height": 34
        }
      },
      "source": [
        "# Checking the best score \n",
        "gs5.best_score_"
      ],
      "execution_count": 0,
      "outputs": [
        {
          "output_type": "execute_result",
          "data": {
            "text/plain": [
              "1.0"
            ]
          },
          "metadata": {
            "tags": []
          },
          "execution_count": 36
        }
      ]
    },
    {
      "cell_type": "code",
      "metadata": {
        "id": "uRHvSCzl5ZDO",
        "colab_type": "code",
        "colab": {}
      },
      "source": [
        "# Setting the best estimator as the model \n",
        "gs_model5 = gs5.best_estimator_"
      ],
      "execution_count": 0,
      "outputs": []
    },
    {
      "cell_type": "code",
      "metadata": {
        "id": "5A38Vt3M5bH-",
        "colab_type": "code",
        "outputId": "b1b3d01e-138e-49c9-b8a5-c8ebcdceacca",
        "colab": {
          "base_uri": "https://localhost:8080/",
          "height": 34
        }
      },
      "source": [
        "# Checking the training score \n",
        "gs_model5.score(X_train, y_train)"
      ],
      "execution_count": 0,
      "outputs": [
        {
          "output_type": "execute_result",
          "data": {
            "text/plain": [
              "1.0"
            ]
          },
          "metadata": {
            "tags": []
          },
          "execution_count": 38
        }
      ]
    },
    {
      "cell_type": "code",
      "metadata": {
        "id": "9ll1Vy0f5d6H",
        "colab_type": "code",
        "outputId": "57b9e1a6-8145-4f5b-94dd-fa4c3a10c2e2",
        "colab": {
          "base_uri": "https://localhost:8080/",
          "height": 34
        }
      },
      "source": [
        "# Checking the testing score\n",
        "gs_model5.score(X_test, y_test)"
      ],
      "execution_count": 0,
      "outputs": [
        {
          "output_type": "execute_result",
          "data": {
            "text/plain": [
              "1.0"
            ]
          },
          "metadata": {
            "tags": []
          },
          "execution_count": 39
        }
      ]
    },
    {
      "cell_type": "markdown",
      "metadata": {
        "id": "grzx-a0N5fvh",
        "colab_type": "text"
      },
      "source": [
        "### **Conclusions about this model:**\n",
        "The Extra Trees/TFIDF Vectorizer model was the best performing model."
      ]
    },
    {
      "cell_type": "markdown",
      "metadata": {
        "id": "4B0CfrSo5lwt",
        "colab_type": "text"
      },
      "source": [
        "### **AdaBoost Classifier**"
      ]
    },
    {
      "cell_type": "code",
      "metadata": {
        "id": "bO5EPY_05o2I",
        "colab_type": "code",
        "outputId": "0a287b42-8889-47a0-8f24-a99128e5f02d",
        "colab": {
          "base_uri": "https://localhost:8080/",
          "height": 595
        }
      },
      "source": [
        "# Setting the pipeline \n",
        "pipe6 = Pipeline([('tfidf', TfidfVectorizer(max_features=10000, \n",
        "                                           ngram_range=(1, 1), \n",
        "                                           stop_words=stopwords.words('russian'))),\n",
        "                     ('ada', AdaBoostClassifier()),\n",
        "])\n",
        "# Setting the pipeline parameters\n",
        "pipe_params6 = {\n",
        "    'tfidf__max_df': (0.25, 0.5, 0.75),\n",
        "}\n",
        "# Instantiated a grid search\n",
        "gs6 = GridSearchCV(pipe6, \n",
        "                  param_grid=pipe_params6) \n",
        "# Fitting the model\n",
        "gs6.fit(X_train, y_train)"
      ],
      "execution_count": 0,
      "outputs": [
        {
          "output_type": "execute_result",
          "data": {
            "text/plain": [
              "GridSearchCV(cv=None, error_score=nan,\n",
              "             estimator=Pipeline(memory=None,\n",
              "                                steps=[('tfidf',\n",
              "                                        TfidfVectorizer(analyzer='word',\n",
              "                                                        binary=False,\n",
              "                                                        decode_error='strict',\n",
              "                                                        dtype=<class 'numpy.float64'>,\n",
              "                                                        encoding='utf-8',\n",
              "                                                        input='content',\n",
              "                                                        lowercase=True,\n",
              "                                                        max_df=1.0,\n",
              "                                                        max_features=10000,\n",
              "                                                        min_df=1,\n",
              "                                                        ngram_range=(1, 1),\n",
              "                                                        norm='l2',\n",
              "                                                        preprocessor=None,\n",
              "                                                        smooth_idf=True,\n",
              "                                                        stop_words=['и', 'в',\n",
              "                                                                    '...\n",
              "                                                        token_pattern='(?u)\\\\b\\\\w\\\\w+\\\\b',\n",
              "                                                        tokenizer=None,\n",
              "                                                        use_idf=True,\n",
              "                                                        vocabulary=None)),\n",
              "                                       ('ada',\n",
              "                                        AdaBoostClassifier(algorithm='SAMME.R',\n",
              "                                                           base_estimator=None,\n",
              "                                                           learning_rate=1.0,\n",
              "                                                           n_estimators=50,\n",
              "                                                           random_state=None))],\n",
              "                                verbose=False),\n",
              "             iid='deprecated', n_jobs=None,\n",
              "             param_grid={'tfidf__max_df': (0.25, 0.5, 0.75)},\n",
              "             pre_dispatch='2*n_jobs', refit=True, return_train_score=False,\n",
              "             scoring=None, verbose=0)"
            ]
          },
          "metadata": {
            "tags": []
          },
          "execution_count": 40
        }
      ]
    },
    {
      "cell_type": "code",
      "metadata": {
        "id": "5Lf8naSH5qzr",
        "colab_type": "code",
        "outputId": "3dc9f275-92e5-4284-ed58-2698e0c4bb7d",
        "colab": {
          "base_uri": "https://localhost:8080/",
          "height": 34
        }
      },
      "source": [
        "# Finding the best score for the model \n",
        "gs6.best_score_"
      ],
      "execution_count": 0,
      "outputs": [
        {
          "output_type": "execute_result",
          "data": {
            "text/plain": [
              "0.9997458703939008"
            ]
          },
          "metadata": {
            "tags": []
          },
          "execution_count": 41
        }
      ]
    },
    {
      "cell_type": "code",
      "metadata": {
        "id": "rE5qd7565s0H",
        "colab_type": "code",
        "colab": {}
      },
      "source": [
        "# Setting the best estimator to be the model\n",
        "gs_model6 = gs6.best_estimator_"
      ],
      "execution_count": 0,
      "outputs": []
    },
    {
      "cell_type": "code",
      "metadata": {
        "id": "NzaOZAhB5udp",
        "colab_type": "code",
        "outputId": "dd9c34fc-d972-421c-cc90-c16c825e0bba",
        "colab": {
          "base_uri": "https://localhost:8080/",
          "height": 34
        }
      },
      "source": [
        "# Checking the training score\n",
        "gs_model6.score(X_train, y_train)"
      ],
      "execution_count": 0,
      "outputs": [
        {
          "output_type": "execute_result",
          "data": {
            "text/plain": [
              "1.0"
            ]
          },
          "metadata": {
            "tags": []
          },
          "execution_count": 43
        }
      ]
    },
    {
      "cell_type": "code",
      "metadata": {
        "id": "NyUItBFF5vwv",
        "colab_type": "code",
        "outputId": "d3938e8b-f6d1-4c78-ddf8-4a8a429caca2",
        "colab": {
          "base_uri": "https://localhost:8080/",
          "height": 34
        }
      },
      "source": [
        "# Checking the testing score\n",
        "gs_model6.score(X_test, y_test)"
      ],
      "execution_count": 0,
      "outputs": [
        {
          "output_type": "execute_result",
          "data": {
            "text/plain": [
              "1.0"
            ]
          },
          "metadata": {
            "tags": []
          },
          "execution_count": 44
        }
      ]
    },
    {
      "cell_type": "markdown",
      "metadata": {
        "id": "1H3MIf9x5xUM",
        "colab_type": "text"
      },
      "source": [
        "### **Conclusions about this model:**\n",
        "The AdaBoostClassifier/TFIDF Vectorizer model performed well, but not nearly as well as Extra Trees and Random Forest."
      ]
    },
    {
      "cell_type": "markdown",
      "metadata": {
        "id": "oY3J5_Cl51cl",
        "colab_type": "text"
      },
      "source": [
        "\n",
        "### **Clustering Models**"
      ]
    },
    {
      "cell_type": "code",
      "metadata": {
        "id": "2CZF_mZW8vjZ",
        "colab_type": "code",
        "colab": {}
      },
      "source": [
        "import pandas as pd\n",
        "import matplotlib.pyplot as plt\n",
        "import re\n",
        "from sklearn.feature_extraction.text import CountVectorizer, TfidfVectorizer, TfidfTransformer\n",
        "from nltk.tokenize import RegexpTokenizer\n",
        "import numpy as np\n",
        "from sklearn.cluster import DBSCAN, AgglomerativeClustering\n",
        "from scipy.cluster.hierarchy import dendrogram, linkage,fcluster,cophenet\n",
        "from pylab import rcParams\n",
        "import seaborn as sns"
      ],
      "execution_count": 0,
      "outputs": []
    },
    {
      "cell_type": "markdown",
      "metadata": {
        "id": "6D5Okc5t9eoy",
        "colab_type": "text"
      },
      "source": [
        "\n",
        "### **Vectorizing and Modeling**"
      ]
    },
    {
      "cell_type": "code",
      "metadata": {
        "id": "YqUsVAJ49gY6",
        "colab_type": "code",
        "colab": {}
      },
      "source": [
        "cvectorizer = CountVectorizer()"
      ],
      "execution_count": 0,
      "outputs": []
    },
    {
      "cell_type": "code",
      "metadata": {
        "id": "xbFzqiyW9lBp",
        "colab_type": "code",
        "colab": {}
      },
      "source": [
        "# Getting a word count sparse matrix  \n",
        "tags = data['tags']\n",
        "word_count = cvectorizer.fit_transform(tags)"
      ],
      "execution_count": 0,
      "outputs": []
    },
    {
      "cell_type": "code",
      "metadata": {
        "id": "783wpCmm90Tk",
        "colab_type": "code",
        "outputId": "48809053-54cf-43b7-8831-5695b0b7b686",
        "colab": {
          "base_uri": "https://localhost:8080/",
          "height": 34
        }
      },
      "source": [
        "word_count.shape"
      ],
      "execution_count": 0,
      "outputs": [
        {
          "output_type": "execute_result",
          "data": {
            "text/plain": [
              "(4922, 198)"
            ]
          },
          "metadata": {
            "tags": []
          },
          "execution_count": 48
        }
      ]
    },
    {
      "cell_type": "code",
      "metadata": {
        "id": "zggdPlCy962M",
        "colab_type": "code",
        "colab": {}
      },
      "source": [
        "tags_df = pd.DataFrame(word_count.todense(), columns=cvectorizer.get_feature_names())"
      ],
      "execution_count": 0,
      "outputs": []
    },
    {
      "cell_type": "code",
      "metadata": {
        "id": "Zndjw3tD-AwZ",
        "colab_type": "code",
        "outputId": "4acaeae0-6006-48eb-e65a-55085f85b415",
        "colab": {
          "base_uri": "https://localhost:8080/",
          "height": 253
        }
      },
      "source": [
        "# Looking at the actual words \n",
        "tags_df.head()"
      ],
      "execution_count": 0,
      "outputs": [
        {
          "output_type": "execute_result",
          "data": {
            "text/html": [
              "<div>\n",
              "<style scoped>\n",
              "    .dataframe tbody tr th:only-of-type {\n",
              "        vertical-align: middle;\n",
              "    }\n",
              "\n",
              "    .dataframe tbody tr th {\n",
              "        vertical-align: top;\n",
              "    }\n",
              "\n",
              "    .dataframe thead th {\n",
              "        text-align: right;\n",
              "    }\n",
              "</style>\n",
              "<table border=\"1\" class=\"dataframe\">\n",
              "  <thead>\n",
              "    <tr style=\"text-align: right;\">\n",
              "      <th></th>\n",
              "      <th>абитуриента</th>\n",
              "      <th>автономный</th>\n",
              "      <th>академия</th>\n",
              "      <th>александр</th>\n",
              "      <th>алексей</th>\n",
              "      <th>алтай</th>\n",
              "      <th>алтайский</th>\n",
              "      <th>америка</th>\n",
              "      <th>андрей</th>\n",
              "      <th>артюхов</th>\n",
              "      <th>археологи</th>\n",
              "      <th>археология</th>\n",
              "      <th>астронавт</th>\n",
              "      <th>безопасность</th>\n",
              "      <th>белоруссия</th>\n",
              "      <th>большая</th>\n",
              "      <th>великобритания</th>\n",
              "      <th>видео</th>\n",
              "      <th>владимир</th>\n",
              "      <th>владимира</th>\n",
              "      <th>воронежская</th>\n",
              "      <th>вятский</th>\n",
              "      <th>гавайи</th>\n",
              "      <th>гвиана</th>\n",
              "      <th>генетика</th>\n",
              "      <th>геннадий</th>\n",
              "      <th>год</th>\n",
              "      <th>голикова</th>\n",
              "      <th>гомель</th>\n",
              "      <th>горбачев</th>\n",
              "      <th>гордеев</th>\n",
              "      <th>госдума</th>\n",
              "      <th>государственный</th>\n",
              "      <th>государство</th>\n",
              "      <th>греция</th>\n",
              "      <th>груди</th>\n",
              "      <th>дания</th>\n",
              "      <th>джессика</th>\n",
              "      <th>дмитрий</th>\n",
              "      <th>евразийская</th>\n",
              "      <th>...</th>\n",
              "      <th>статьи</th>\n",
              "      <th>сурайкин</th>\n",
              "      <th>сша</th>\n",
              "      <th>татьяна</th>\n",
              "      <th>теплоснабжение</th>\n",
              "      <th>технологии</th>\n",
              "      <th>токио</th>\n",
              "      <th>турчак</th>\n",
              "      <th>украина</th>\n",
              "      <th>украине</th>\n",
              "      <th>ульянов</th>\n",
              "      <th>университет</th>\n",
              "      <th>университетская</th>\n",
              "      <th>урала</th>\n",
              "      <th>фармсинтез</th>\n",
              "      <th>федеральный</th>\n",
              "      <th>федерации</th>\n",
              "      <th>федотов</th>\n",
              "      <th>физика</th>\n",
              "      <th>фонд</th>\n",
              "      <th>французская</th>\n",
              "      <th>хаббл</th>\n",
              "      <th>ханты</th>\n",
              "      <th>химия</th>\n",
              "      <th>хинштейн</th>\n",
              "      <th>хонсю</th>\n",
              "      <th>человека</th>\n",
              "      <th>челябинск</th>\n",
              "      <th>экологии</th>\n",
              "      <th>экономика</th>\n",
              "      <th>экономическая</th>\n",
              "      <th>эндрю</th>\n",
              "      <th>энергетики</th>\n",
              "      <th>энцемаб</th>\n",
              "      <th>эфире</th>\n",
              "      <th>юар</th>\n",
              "      <th>южная</th>\n",
              "      <th>южного</th>\n",
              "      <th>ямало</th>\n",
              "      <th>япония</th>\n",
              "    </tr>\n",
              "  </thead>\n",
              "  <tbody>\n",
              "    <tr>\n",
              "      <th>0</th>\n",
              "      <td>0</td>\n",
              "      <td>0</td>\n",
              "      <td>0</td>\n",
              "      <td>0</td>\n",
              "      <td>0</td>\n",
              "      <td>0</td>\n",
              "      <td>0</td>\n",
              "      <td>0</td>\n",
              "      <td>0</td>\n",
              "      <td>0</td>\n",
              "      <td>0</td>\n",
              "      <td>0</td>\n",
              "      <td>0</td>\n",
              "      <td>0</td>\n",
              "      <td>0</td>\n",
              "      <td>0</td>\n",
              "      <td>0</td>\n",
              "      <td>0</td>\n",
              "      <td>0</td>\n",
              "      <td>0</td>\n",
              "      <td>0</td>\n",
              "      <td>0</td>\n",
              "      <td>0</td>\n",
              "      <td>0</td>\n",
              "      <td>0</td>\n",
              "      <td>0</td>\n",
              "      <td>0</td>\n",
              "      <td>0</td>\n",
              "      <td>0</td>\n",
              "      <td>0</td>\n",
              "      <td>0</td>\n",
              "      <td>0</td>\n",
              "      <td>0</td>\n",
              "      <td>0</td>\n",
              "      <td>0</td>\n",
              "      <td>0</td>\n",
              "      <td>0</td>\n",
              "      <td>0</td>\n",
              "      <td>0</td>\n",
              "      <td>0</td>\n",
              "      <td>...</td>\n",
              "      <td>0</td>\n",
              "      <td>0</td>\n",
              "      <td>0</td>\n",
              "      <td>0</td>\n",
              "      <td>0</td>\n",
              "      <td>0</td>\n",
              "      <td>0</td>\n",
              "      <td>0</td>\n",
              "      <td>0</td>\n",
              "      <td>0</td>\n",
              "      <td>0</td>\n",
              "      <td>0</td>\n",
              "      <td>0</td>\n",
              "      <td>0</td>\n",
              "      <td>0</td>\n",
              "      <td>0</td>\n",
              "      <td>0</td>\n",
              "      <td>0</td>\n",
              "      <td>0</td>\n",
              "      <td>0</td>\n",
              "      <td>0</td>\n",
              "      <td>0</td>\n",
              "      <td>0</td>\n",
              "      <td>0</td>\n",
              "      <td>0</td>\n",
              "      <td>0</td>\n",
              "      <td>0</td>\n",
              "      <td>0</td>\n",
              "      <td>0</td>\n",
              "      <td>0</td>\n",
              "      <td>0</td>\n",
              "      <td>0</td>\n",
              "      <td>0</td>\n",
              "      <td>0</td>\n",
              "      <td>0</td>\n",
              "      <td>0</td>\n",
              "      <td>0</td>\n",
              "      <td>0</td>\n",
              "      <td>0</td>\n",
              "      <td>0</td>\n",
              "    </tr>\n",
              "    <tr>\n",
              "      <th>1</th>\n",
              "      <td>0</td>\n",
              "      <td>0</td>\n",
              "      <td>0</td>\n",
              "      <td>0</td>\n",
              "      <td>0</td>\n",
              "      <td>0</td>\n",
              "      <td>0</td>\n",
              "      <td>0</td>\n",
              "      <td>0</td>\n",
              "      <td>0</td>\n",
              "      <td>0</td>\n",
              "      <td>0</td>\n",
              "      <td>0</td>\n",
              "      <td>0</td>\n",
              "      <td>0</td>\n",
              "      <td>0</td>\n",
              "      <td>0</td>\n",
              "      <td>0</td>\n",
              "      <td>0</td>\n",
              "      <td>0</td>\n",
              "      <td>0</td>\n",
              "      <td>0</td>\n",
              "      <td>0</td>\n",
              "      <td>0</td>\n",
              "      <td>0</td>\n",
              "      <td>0</td>\n",
              "      <td>0</td>\n",
              "      <td>0</td>\n",
              "      <td>0</td>\n",
              "      <td>0</td>\n",
              "      <td>0</td>\n",
              "      <td>0</td>\n",
              "      <td>0</td>\n",
              "      <td>0</td>\n",
              "      <td>0</td>\n",
              "      <td>0</td>\n",
              "      <td>0</td>\n",
              "      <td>0</td>\n",
              "      <td>0</td>\n",
              "      <td>0</td>\n",
              "      <td>...</td>\n",
              "      <td>0</td>\n",
              "      <td>0</td>\n",
              "      <td>0</td>\n",
              "      <td>0</td>\n",
              "      <td>0</td>\n",
              "      <td>0</td>\n",
              "      <td>0</td>\n",
              "      <td>0</td>\n",
              "      <td>0</td>\n",
              "      <td>0</td>\n",
              "      <td>0</td>\n",
              "      <td>0</td>\n",
              "      <td>0</td>\n",
              "      <td>0</td>\n",
              "      <td>0</td>\n",
              "      <td>0</td>\n",
              "      <td>0</td>\n",
              "      <td>0</td>\n",
              "      <td>0</td>\n",
              "      <td>0</td>\n",
              "      <td>0</td>\n",
              "      <td>0</td>\n",
              "      <td>0</td>\n",
              "      <td>0</td>\n",
              "      <td>0</td>\n",
              "      <td>0</td>\n",
              "      <td>0</td>\n",
              "      <td>0</td>\n",
              "      <td>0</td>\n",
              "      <td>0</td>\n",
              "      <td>0</td>\n",
              "      <td>0</td>\n",
              "      <td>0</td>\n",
              "      <td>0</td>\n",
              "      <td>0</td>\n",
              "      <td>0</td>\n",
              "      <td>0</td>\n",
              "      <td>0</td>\n",
              "      <td>0</td>\n",
              "      <td>0</td>\n",
              "    </tr>\n",
              "    <tr>\n",
              "      <th>2</th>\n",
              "      <td>0</td>\n",
              "      <td>0</td>\n",
              "      <td>0</td>\n",
              "      <td>0</td>\n",
              "      <td>0</td>\n",
              "      <td>0</td>\n",
              "      <td>0</td>\n",
              "      <td>0</td>\n",
              "      <td>0</td>\n",
              "      <td>0</td>\n",
              "      <td>0</td>\n",
              "      <td>0</td>\n",
              "      <td>0</td>\n",
              "      <td>0</td>\n",
              "      <td>0</td>\n",
              "      <td>0</td>\n",
              "      <td>0</td>\n",
              "      <td>0</td>\n",
              "      <td>0</td>\n",
              "      <td>0</td>\n",
              "      <td>0</td>\n",
              "      <td>0</td>\n",
              "      <td>0</td>\n",
              "      <td>0</td>\n",
              "      <td>0</td>\n",
              "      <td>0</td>\n",
              "      <td>0</td>\n",
              "      <td>0</td>\n",
              "      <td>0</td>\n",
              "      <td>0</td>\n",
              "      <td>0</td>\n",
              "      <td>0</td>\n",
              "      <td>0</td>\n",
              "      <td>0</td>\n",
              "      <td>0</td>\n",
              "      <td>0</td>\n",
              "      <td>0</td>\n",
              "      <td>0</td>\n",
              "      <td>0</td>\n",
              "      <td>0</td>\n",
              "      <td>...</td>\n",
              "      <td>0</td>\n",
              "      <td>0</td>\n",
              "      <td>0</td>\n",
              "      <td>0</td>\n",
              "      <td>0</td>\n",
              "      <td>0</td>\n",
              "      <td>0</td>\n",
              "      <td>0</td>\n",
              "      <td>0</td>\n",
              "      <td>0</td>\n",
              "      <td>0</td>\n",
              "      <td>0</td>\n",
              "      <td>0</td>\n",
              "      <td>0</td>\n",
              "      <td>0</td>\n",
              "      <td>0</td>\n",
              "      <td>0</td>\n",
              "      <td>0</td>\n",
              "      <td>0</td>\n",
              "      <td>0</td>\n",
              "      <td>0</td>\n",
              "      <td>0</td>\n",
              "      <td>0</td>\n",
              "      <td>0</td>\n",
              "      <td>0</td>\n",
              "      <td>0</td>\n",
              "      <td>0</td>\n",
              "      <td>0</td>\n",
              "      <td>0</td>\n",
              "      <td>0</td>\n",
              "      <td>0</td>\n",
              "      <td>0</td>\n",
              "      <td>0</td>\n",
              "      <td>0</td>\n",
              "      <td>0</td>\n",
              "      <td>0</td>\n",
              "      <td>0</td>\n",
              "      <td>0</td>\n",
              "      <td>0</td>\n",
              "      <td>0</td>\n",
              "    </tr>\n",
              "    <tr>\n",
              "      <th>3</th>\n",
              "      <td>0</td>\n",
              "      <td>0</td>\n",
              "      <td>0</td>\n",
              "      <td>0</td>\n",
              "      <td>0</td>\n",
              "      <td>0</td>\n",
              "      <td>0</td>\n",
              "      <td>0</td>\n",
              "      <td>0</td>\n",
              "      <td>0</td>\n",
              "      <td>0</td>\n",
              "      <td>0</td>\n",
              "      <td>0</td>\n",
              "      <td>0</td>\n",
              "      <td>0</td>\n",
              "      <td>0</td>\n",
              "      <td>0</td>\n",
              "      <td>0</td>\n",
              "      <td>0</td>\n",
              "      <td>0</td>\n",
              "      <td>0</td>\n",
              "      <td>0</td>\n",
              "      <td>0</td>\n",
              "      <td>0</td>\n",
              "      <td>0</td>\n",
              "      <td>0</td>\n",
              "      <td>0</td>\n",
              "      <td>0</td>\n",
              "      <td>0</td>\n",
              "      <td>0</td>\n",
              "      <td>0</td>\n",
              "      <td>0</td>\n",
              "      <td>0</td>\n",
              "      <td>0</td>\n",
              "      <td>0</td>\n",
              "      <td>0</td>\n",
              "      <td>0</td>\n",
              "      <td>0</td>\n",
              "      <td>0</td>\n",
              "      <td>0</td>\n",
              "      <td>...</td>\n",
              "      <td>0</td>\n",
              "      <td>0</td>\n",
              "      <td>0</td>\n",
              "      <td>0</td>\n",
              "      <td>0</td>\n",
              "      <td>0</td>\n",
              "      <td>0</td>\n",
              "      <td>0</td>\n",
              "      <td>0</td>\n",
              "      <td>0</td>\n",
              "      <td>0</td>\n",
              "      <td>0</td>\n",
              "      <td>0</td>\n",
              "      <td>0</td>\n",
              "      <td>0</td>\n",
              "      <td>0</td>\n",
              "      <td>0</td>\n",
              "      <td>0</td>\n",
              "      <td>0</td>\n",
              "      <td>0</td>\n",
              "      <td>0</td>\n",
              "      <td>0</td>\n",
              "      <td>0</td>\n",
              "      <td>0</td>\n",
              "      <td>0</td>\n",
              "      <td>0</td>\n",
              "      <td>0</td>\n",
              "      <td>0</td>\n",
              "      <td>0</td>\n",
              "      <td>0</td>\n",
              "      <td>0</td>\n",
              "      <td>0</td>\n",
              "      <td>0</td>\n",
              "      <td>0</td>\n",
              "      <td>0</td>\n",
              "      <td>0</td>\n",
              "      <td>0</td>\n",
              "      <td>0</td>\n",
              "      <td>0</td>\n",
              "      <td>0</td>\n",
              "    </tr>\n",
              "    <tr>\n",
              "      <th>4</th>\n",
              "      <td>0</td>\n",
              "      <td>0</td>\n",
              "      <td>0</td>\n",
              "      <td>0</td>\n",
              "      <td>0</td>\n",
              "      <td>0</td>\n",
              "      <td>0</td>\n",
              "      <td>0</td>\n",
              "      <td>0</td>\n",
              "      <td>0</td>\n",
              "      <td>0</td>\n",
              "      <td>0</td>\n",
              "      <td>0</td>\n",
              "      <td>0</td>\n",
              "      <td>0</td>\n",
              "      <td>0</td>\n",
              "      <td>0</td>\n",
              "      <td>0</td>\n",
              "      <td>0</td>\n",
              "      <td>0</td>\n",
              "      <td>0</td>\n",
              "      <td>0</td>\n",
              "      <td>0</td>\n",
              "      <td>0</td>\n",
              "      <td>0</td>\n",
              "      <td>0</td>\n",
              "      <td>0</td>\n",
              "      <td>0</td>\n",
              "      <td>0</td>\n",
              "      <td>0</td>\n",
              "      <td>0</td>\n",
              "      <td>0</td>\n",
              "      <td>0</td>\n",
              "      <td>0</td>\n",
              "      <td>0</td>\n",
              "      <td>0</td>\n",
              "      <td>0</td>\n",
              "      <td>0</td>\n",
              "      <td>0</td>\n",
              "      <td>0</td>\n",
              "      <td>...</td>\n",
              "      <td>0</td>\n",
              "      <td>0</td>\n",
              "      <td>0</td>\n",
              "      <td>0</td>\n",
              "      <td>0</td>\n",
              "      <td>0</td>\n",
              "      <td>0</td>\n",
              "      <td>0</td>\n",
              "      <td>0</td>\n",
              "      <td>0</td>\n",
              "      <td>0</td>\n",
              "      <td>0</td>\n",
              "      <td>0</td>\n",
              "      <td>0</td>\n",
              "      <td>0</td>\n",
              "      <td>0</td>\n",
              "      <td>0</td>\n",
              "      <td>0</td>\n",
              "      <td>0</td>\n",
              "      <td>0</td>\n",
              "      <td>0</td>\n",
              "      <td>0</td>\n",
              "      <td>0</td>\n",
              "      <td>0</td>\n",
              "      <td>0</td>\n",
              "      <td>0</td>\n",
              "      <td>0</td>\n",
              "      <td>0</td>\n",
              "      <td>0</td>\n",
              "      <td>0</td>\n",
              "      <td>0</td>\n",
              "      <td>0</td>\n",
              "      <td>0</td>\n",
              "      <td>0</td>\n",
              "      <td>0</td>\n",
              "      <td>0</td>\n",
              "      <td>0</td>\n",
              "      <td>0</td>\n",
              "      <td>0</td>\n",
              "      <td>0</td>\n",
              "    </tr>\n",
              "  </tbody>\n",
              "</table>\n",
              "<p>5 rows × 198 columns</p>\n",
              "</div>"
            ],
            "text/plain": [
              "   абитуриента  автономный  академия  александр  ...  южная  южного  ямало  япония\n",
              "0            0           0         0          0  ...      0       0      0       0\n",
              "1            0           0         0          0  ...      0       0      0       0\n",
              "2            0           0         0          0  ...      0       0      0       0\n",
              "3            0           0         0          0  ...      0       0      0       0\n",
              "4            0           0         0          0  ...      0       0      0       0\n",
              "\n",
              "[5 rows x 198 columns]"
            ]
          },
          "metadata": {
            "tags": []
          },
          "execution_count": 50
        }
      ]
    },
    {
      "cell_type": "code",
      "metadata": {
        "id": "MpBc4IED-NpP",
        "colab_type": "code",
        "colab": {}
      },
      "source": [
        "# Trying the TFIDF vectorizer. Instantiating so that it excludes words that appear in \n",
        "# less than 5 documents. \n",
        "tfidfvectorizer = TfidfVectorizer(min_df= 5)"
      ],
      "execution_count": 0,
      "outputs": []
    },
    {
      "cell_type": "code",
      "metadata": {
        "id": "FSbzgMtc-uwe",
        "colab_type": "code",
        "colab": {}
      },
      "source": [
        "# Fitting it to the hashtags \n",
        "word_frequency = tfidfvectorizer.fit_transform(tags)"
      ],
      "execution_count": 0,
      "outputs": []
    },
    {
      "cell_type": "code",
      "metadata": {
        "id": "YqE5kqcW-0W4",
        "colab_type": "code",
        "outputId": "e397e77e-12b0-4a9f-9390-d43d9cffa108",
        "colab": {
          "base_uri": "https://localhost:8080/",
          "height": 34
        }
      },
      "source": [
        "# Getting the number of words it identified above the threshold\n",
        "word_frequency.shape"
      ],
      "execution_count": 0,
      "outputs": [
        {
          "output_type": "execute_result",
          "data": {
            "text/plain": [
              "(4922, 197)"
            ]
          },
          "metadata": {
            "tags": []
          },
          "execution_count": 53
        }
      ]
    },
    {
      "cell_type": "code",
      "metadata": {
        "id": "V9nL5Dt--5Z3",
        "colab_type": "code",
        "colab": {}
      },
      "source": [
        "# Turning them into a dataframe\n",
        "tagsfreq_df = pd.DataFrame(word_frequency.todense(), columns = tfidfvectorizer.get_feature_names())"
      ],
      "execution_count": 0,
      "outputs": []
    },
    {
      "cell_type": "code",
      "metadata": {
        "id": "WR3pAfK0--cM",
        "colab_type": "code",
        "outputId": "756abb6c-3ba5-46cc-fbf7-957c87300823",
        "colab": {
          "base_uri": "https://localhost:8080/",
          "height": 253
        }
      },
      "source": [
        "tagsfreq_df.head()"
      ],
      "execution_count": 0,
      "outputs": [
        {
          "output_type": "execute_result",
          "data": {
            "text/html": [
              "<div>\n",
              "<style scoped>\n",
              "    .dataframe tbody tr th:only-of-type {\n",
              "        vertical-align: middle;\n",
              "    }\n",
              "\n",
              "    .dataframe tbody tr th {\n",
              "        vertical-align: top;\n",
              "    }\n",
              "\n",
              "    .dataframe thead th {\n",
              "        text-align: right;\n",
              "    }\n",
              "</style>\n",
              "<table border=\"1\" class=\"dataframe\">\n",
              "  <thead>\n",
              "    <tr style=\"text-align: right;\">\n",
              "      <th></th>\n",
              "      <th>абитуриента</th>\n",
              "      <th>автономный</th>\n",
              "      <th>академия</th>\n",
              "      <th>александр</th>\n",
              "      <th>алексей</th>\n",
              "      <th>алтай</th>\n",
              "      <th>алтайский</th>\n",
              "      <th>америка</th>\n",
              "      <th>андрей</th>\n",
              "      <th>артюхов</th>\n",
              "      <th>археологи</th>\n",
              "      <th>археология</th>\n",
              "      <th>астронавт</th>\n",
              "      <th>безопасность</th>\n",
              "      <th>белоруссия</th>\n",
              "      <th>большая</th>\n",
              "      <th>великобритания</th>\n",
              "      <th>видео</th>\n",
              "      <th>владимир</th>\n",
              "      <th>владимира</th>\n",
              "      <th>воронежская</th>\n",
              "      <th>вятский</th>\n",
              "      <th>гавайи</th>\n",
              "      <th>гвиана</th>\n",
              "      <th>генетика</th>\n",
              "      <th>геннадий</th>\n",
              "      <th>год</th>\n",
              "      <th>голикова</th>\n",
              "      <th>гомель</th>\n",
              "      <th>горбачев</th>\n",
              "      <th>гордеев</th>\n",
              "      <th>госдума</th>\n",
              "      <th>государственный</th>\n",
              "      <th>государство</th>\n",
              "      <th>греция</th>\n",
              "      <th>груди</th>\n",
              "      <th>дания</th>\n",
              "      <th>джессика</th>\n",
              "      <th>дмитрий</th>\n",
              "      <th>евразийская</th>\n",
              "      <th>...</th>\n",
              "      <th>статьи</th>\n",
              "      <th>сурайкин</th>\n",
              "      <th>сша</th>\n",
              "      <th>татьяна</th>\n",
              "      <th>теплоснабжение</th>\n",
              "      <th>технологии</th>\n",
              "      <th>токио</th>\n",
              "      <th>турчак</th>\n",
              "      <th>украина</th>\n",
              "      <th>украине</th>\n",
              "      <th>ульянов</th>\n",
              "      <th>университет</th>\n",
              "      <th>университетская</th>\n",
              "      <th>урала</th>\n",
              "      <th>фармсинтез</th>\n",
              "      <th>федеральный</th>\n",
              "      <th>федерации</th>\n",
              "      <th>федотов</th>\n",
              "      <th>физика</th>\n",
              "      <th>фонд</th>\n",
              "      <th>французская</th>\n",
              "      <th>хаббл</th>\n",
              "      <th>ханты</th>\n",
              "      <th>химия</th>\n",
              "      <th>хинштейн</th>\n",
              "      <th>хонсю</th>\n",
              "      <th>человека</th>\n",
              "      <th>челябинск</th>\n",
              "      <th>экологии</th>\n",
              "      <th>экономика</th>\n",
              "      <th>экономическая</th>\n",
              "      <th>эндрю</th>\n",
              "      <th>энергетики</th>\n",
              "      <th>энцемаб</th>\n",
              "      <th>эфире</th>\n",
              "      <th>юар</th>\n",
              "      <th>южная</th>\n",
              "      <th>южного</th>\n",
              "      <th>ямало</th>\n",
              "      <th>япония</th>\n",
              "    </tr>\n",
              "  </thead>\n",
              "  <tbody>\n",
              "    <tr>\n",
              "      <th>0</th>\n",
              "      <td>0.0</td>\n",
              "      <td>0.0</td>\n",
              "      <td>0.0</td>\n",
              "      <td>0.0</td>\n",
              "      <td>0.0</td>\n",
              "      <td>0.0</td>\n",
              "      <td>0.0</td>\n",
              "      <td>0.0</td>\n",
              "      <td>0.0</td>\n",
              "      <td>0.0</td>\n",
              "      <td>0.0</td>\n",
              "      <td>0.0</td>\n",
              "      <td>0.0</td>\n",
              "      <td>0.0</td>\n",
              "      <td>0.0</td>\n",
              "      <td>0.0</td>\n",
              "      <td>0.0</td>\n",
              "      <td>0.0</td>\n",
              "      <td>0.0</td>\n",
              "      <td>0.0</td>\n",
              "      <td>0.0</td>\n",
              "      <td>0.0</td>\n",
              "      <td>0.0</td>\n",
              "      <td>0.0</td>\n",
              "      <td>0.0</td>\n",
              "      <td>0.0</td>\n",
              "      <td>0.0</td>\n",
              "      <td>0.0</td>\n",
              "      <td>0.0</td>\n",
              "      <td>0.0</td>\n",
              "      <td>0.0</td>\n",
              "      <td>0.0</td>\n",
              "      <td>0.0</td>\n",
              "      <td>0.0</td>\n",
              "      <td>0.0</td>\n",
              "      <td>0.0</td>\n",
              "      <td>0.0</td>\n",
              "      <td>0.0</td>\n",
              "      <td>0.0</td>\n",
              "      <td>0.0</td>\n",
              "      <td>...</td>\n",
              "      <td>0.0</td>\n",
              "      <td>0.0</td>\n",
              "      <td>0.0</td>\n",
              "      <td>0.0</td>\n",
              "      <td>0.0</td>\n",
              "      <td>0.0</td>\n",
              "      <td>0.0</td>\n",
              "      <td>0.0</td>\n",
              "      <td>0.0</td>\n",
              "      <td>0.0</td>\n",
              "      <td>0.0</td>\n",
              "      <td>0.0</td>\n",
              "      <td>0.0</td>\n",
              "      <td>0.0</td>\n",
              "      <td>0.0</td>\n",
              "      <td>0.0</td>\n",
              "      <td>0.0</td>\n",
              "      <td>0.0</td>\n",
              "      <td>0.0</td>\n",
              "      <td>0.0</td>\n",
              "      <td>0.0</td>\n",
              "      <td>0.0</td>\n",
              "      <td>0.0</td>\n",
              "      <td>0.0</td>\n",
              "      <td>0.0</td>\n",
              "      <td>0.0</td>\n",
              "      <td>0.0</td>\n",
              "      <td>0.0</td>\n",
              "      <td>0.0</td>\n",
              "      <td>0.0</td>\n",
              "      <td>0.0</td>\n",
              "      <td>0.0</td>\n",
              "      <td>0.0</td>\n",
              "      <td>0.0</td>\n",
              "      <td>0.0</td>\n",
              "      <td>0.0</td>\n",
              "      <td>0.0</td>\n",
              "      <td>0.0</td>\n",
              "      <td>0.0</td>\n",
              "      <td>0.0</td>\n",
              "    </tr>\n",
              "    <tr>\n",
              "      <th>1</th>\n",
              "      <td>0.0</td>\n",
              "      <td>0.0</td>\n",
              "      <td>0.0</td>\n",
              "      <td>0.0</td>\n",
              "      <td>0.0</td>\n",
              "      <td>0.0</td>\n",
              "      <td>0.0</td>\n",
              "      <td>0.0</td>\n",
              "      <td>0.0</td>\n",
              "      <td>0.0</td>\n",
              "      <td>0.0</td>\n",
              "      <td>0.0</td>\n",
              "      <td>0.0</td>\n",
              "      <td>0.0</td>\n",
              "      <td>0.0</td>\n",
              "      <td>0.0</td>\n",
              "      <td>0.0</td>\n",
              "      <td>0.0</td>\n",
              "      <td>0.0</td>\n",
              "      <td>0.0</td>\n",
              "      <td>0.0</td>\n",
              "      <td>0.0</td>\n",
              "      <td>0.0</td>\n",
              "      <td>0.0</td>\n",
              "      <td>0.0</td>\n",
              "      <td>0.0</td>\n",
              "      <td>0.0</td>\n",
              "      <td>0.0</td>\n",
              "      <td>0.0</td>\n",
              "      <td>0.0</td>\n",
              "      <td>0.0</td>\n",
              "      <td>0.0</td>\n",
              "      <td>0.0</td>\n",
              "      <td>0.0</td>\n",
              "      <td>0.0</td>\n",
              "      <td>0.0</td>\n",
              "      <td>0.0</td>\n",
              "      <td>0.0</td>\n",
              "      <td>0.0</td>\n",
              "      <td>0.0</td>\n",
              "      <td>...</td>\n",
              "      <td>0.0</td>\n",
              "      <td>0.0</td>\n",
              "      <td>0.0</td>\n",
              "      <td>0.0</td>\n",
              "      <td>0.0</td>\n",
              "      <td>0.0</td>\n",
              "      <td>0.0</td>\n",
              "      <td>0.0</td>\n",
              "      <td>0.0</td>\n",
              "      <td>0.0</td>\n",
              "      <td>0.0</td>\n",
              "      <td>0.0</td>\n",
              "      <td>0.0</td>\n",
              "      <td>0.0</td>\n",
              "      <td>0.0</td>\n",
              "      <td>0.0</td>\n",
              "      <td>0.0</td>\n",
              "      <td>0.0</td>\n",
              "      <td>0.0</td>\n",
              "      <td>0.0</td>\n",
              "      <td>0.0</td>\n",
              "      <td>0.0</td>\n",
              "      <td>0.0</td>\n",
              "      <td>0.0</td>\n",
              "      <td>0.0</td>\n",
              "      <td>0.0</td>\n",
              "      <td>0.0</td>\n",
              "      <td>0.0</td>\n",
              "      <td>0.0</td>\n",
              "      <td>0.0</td>\n",
              "      <td>0.0</td>\n",
              "      <td>0.0</td>\n",
              "      <td>0.0</td>\n",
              "      <td>0.0</td>\n",
              "      <td>0.0</td>\n",
              "      <td>0.0</td>\n",
              "      <td>0.0</td>\n",
              "      <td>0.0</td>\n",
              "      <td>0.0</td>\n",
              "      <td>0.0</td>\n",
              "    </tr>\n",
              "    <tr>\n",
              "      <th>2</th>\n",
              "      <td>0.0</td>\n",
              "      <td>0.0</td>\n",
              "      <td>0.0</td>\n",
              "      <td>0.0</td>\n",
              "      <td>0.0</td>\n",
              "      <td>0.0</td>\n",
              "      <td>0.0</td>\n",
              "      <td>0.0</td>\n",
              "      <td>0.0</td>\n",
              "      <td>0.0</td>\n",
              "      <td>0.0</td>\n",
              "      <td>0.0</td>\n",
              "      <td>0.0</td>\n",
              "      <td>0.0</td>\n",
              "      <td>0.0</td>\n",
              "      <td>0.0</td>\n",
              "      <td>0.0</td>\n",
              "      <td>0.0</td>\n",
              "      <td>0.0</td>\n",
              "      <td>0.0</td>\n",
              "      <td>0.0</td>\n",
              "      <td>0.0</td>\n",
              "      <td>0.0</td>\n",
              "      <td>0.0</td>\n",
              "      <td>0.0</td>\n",
              "      <td>0.0</td>\n",
              "      <td>0.0</td>\n",
              "      <td>0.0</td>\n",
              "      <td>0.0</td>\n",
              "      <td>0.0</td>\n",
              "      <td>0.0</td>\n",
              "      <td>0.0</td>\n",
              "      <td>0.0</td>\n",
              "      <td>0.0</td>\n",
              "      <td>0.0</td>\n",
              "      <td>0.0</td>\n",
              "      <td>0.0</td>\n",
              "      <td>0.0</td>\n",
              "      <td>0.0</td>\n",
              "      <td>0.0</td>\n",
              "      <td>...</td>\n",
              "      <td>0.0</td>\n",
              "      <td>0.0</td>\n",
              "      <td>0.0</td>\n",
              "      <td>0.0</td>\n",
              "      <td>0.0</td>\n",
              "      <td>0.0</td>\n",
              "      <td>0.0</td>\n",
              "      <td>0.0</td>\n",
              "      <td>0.0</td>\n",
              "      <td>0.0</td>\n",
              "      <td>0.0</td>\n",
              "      <td>0.0</td>\n",
              "      <td>0.0</td>\n",
              "      <td>0.0</td>\n",
              "      <td>0.0</td>\n",
              "      <td>0.0</td>\n",
              "      <td>0.0</td>\n",
              "      <td>0.0</td>\n",
              "      <td>0.0</td>\n",
              "      <td>0.0</td>\n",
              "      <td>0.0</td>\n",
              "      <td>0.0</td>\n",
              "      <td>0.0</td>\n",
              "      <td>0.0</td>\n",
              "      <td>0.0</td>\n",
              "      <td>0.0</td>\n",
              "      <td>0.0</td>\n",
              "      <td>0.0</td>\n",
              "      <td>0.0</td>\n",
              "      <td>0.0</td>\n",
              "      <td>0.0</td>\n",
              "      <td>0.0</td>\n",
              "      <td>0.0</td>\n",
              "      <td>0.0</td>\n",
              "      <td>0.0</td>\n",
              "      <td>0.0</td>\n",
              "      <td>0.0</td>\n",
              "      <td>0.0</td>\n",
              "      <td>0.0</td>\n",
              "      <td>0.0</td>\n",
              "    </tr>\n",
              "    <tr>\n",
              "      <th>3</th>\n",
              "      <td>0.0</td>\n",
              "      <td>0.0</td>\n",
              "      <td>0.0</td>\n",
              "      <td>0.0</td>\n",
              "      <td>0.0</td>\n",
              "      <td>0.0</td>\n",
              "      <td>0.0</td>\n",
              "      <td>0.0</td>\n",
              "      <td>0.0</td>\n",
              "      <td>0.0</td>\n",
              "      <td>0.0</td>\n",
              "      <td>0.0</td>\n",
              "      <td>0.0</td>\n",
              "      <td>0.0</td>\n",
              "      <td>0.0</td>\n",
              "      <td>0.0</td>\n",
              "      <td>0.0</td>\n",
              "      <td>0.0</td>\n",
              "      <td>0.0</td>\n",
              "      <td>0.0</td>\n",
              "      <td>0.0</td>\n",
              "      <td>0.0</td>\n",
              "      <td>0.0</td>\n",
              "      <td>0.0</td>\n",
              "      <td>0.0</td>\n",
              "      <td>0.0</td>\n",
              "      <td>0.0</td>\n",
              "      <td>0.0</td>\n",
              "      <td>0.0</td>\n",
              "      <td>0.0</td>\n",
              "      <td>0.0</td>\n",
              "      <td>0.0</td>\n",
              "      <td>0.0</td>\n",
              "      <td>0.0</td>\n",
              "      <td>0.0</td>\n",
              "      <td>0.0</td>\n",
              "      <td>0.0</td>\n",
              "      <td>0.0</td>\n",
              "      <td>0.0</td>\n",
              "      <td>0.0</td>\n",
              "      <td>...</td>\n",
              "      <td>0.0</td>\n",
              "      <td>0.0</td>\n",
              "      <td>0.0</td>\n",
              "      <td>0.0</td>\n",
              "      <td>0.0</td>\n",
              "      <td>0.0</td>\n",
              "      <td>0.0</td>\n",
              "      <td>0.0</td>\n",
              "      <td>0.0</td>\n",
              "      <td>0.0</td>\n",
              "      <td>0.0</td>\n",
              "      <td>0.0</td>\n",
              "      <td>0.0</td>\n",
              "      <td>0.0</td>\n",
              "      <td>0.0</td>\n",
              "      <td>0.0</td>\n",
              "      <td>0.0</td>\n",
              "      <td>0.0</td>\n",
              "      <td>0.0</td>\n",
              "      <td>0.0</td>\n",
              "      <td>0.0</td>\n",
              "      <td>0.0</td>\n",
              "      <td>0.0</td>\n",
              "      <td>0.0</td>\n",
              "      <td>0.0</td>\n",
              "      <td>0.0</td>\n",
              "      <td>0.0</td>\n",
              "      <td>0.0</td>\n",
              "      <td>0.0</td>\n",
              "      <td>0.0</td>\n",
              "      <td>0.0</td>\n",
              "      <td>0.0</td>\n",
              "      <td>0.0</td>\n",
              "      <td>0.0</td>\n",
              "      <td>0.0</td>\n",
              "      <td>0.0</td>\n",
              "      <td>0.0</td>\n",
              "      <td>0.0</td>\n",
              "      <td>0.0</td>\n",
              "      <td>0.0</td>\n",
              "    </tr>\n",
              "    <tr>\n",
              "      <th>4</th>\n",
              "      <td>0.0</td>\n",
              "      <td>0.0</td>\n",
              "      <td>0.0</td>\n",
              "      <td>0.0</td>\n",
              "      <td>0.0</td>\n",
              "      <td>0.0</td>\n",
              "      <td>0.0</td>\n",
              "      <td>0.0</td>\n",
              "      <td>0.0</td>\n",
              "      <td>0.0</td>\n",
              "      <td>0.0</td>\n",
              "      <td>0.0</td>\n",
              "      <td>0.0</td>\n",
              "      <td>0.0</td>\n",
              "      <td>0.0</td>\n",
              "      <td>0.0</td>\n",
              "      <td>0.0</td>\n",
              "      <td>0.0</td>\n",
              "      <td>0.0</td>\n",
              "      <td>0.0</td>\n",
              "      <td>0.0</td>\n",
              "      <td>0.0</td>\n",
              "      <td>0.0</td>\n",
              "      <td>0.0</td>\n",
              "      <td>0.0</td>\n",
              "      <td>0.0</td>\n",
              "      <td>0.0</td>\n",
              "      <td>0.0</td>\n",
              "      <td>0.0</td>\n",
              "      <td>0.0</td>\n",
              "      <td>0.0</td>\n",
              "      <td>0.0</td>\n",
              "      <td>0.0</td>\n",
              "      <td>0.0</td>\n",
              "      <td>0.0</td>\n",
              "      <td>0.0</td>\n",
              "      <td>0.0</td>\n",
              "      <td>0.0</td>\n",
              "      <td>0.0</td>\n",
              "      <td>0.0</td>\n",
              "      <td>...</td>\n",
              "      <td>0.0</td>\n",
              "      <td>0.0</td>\n",
              "      <td>0.0</td>\n",
              "      <td>0.0</td>\n",
              "      <td>0.0</td>\n",
              "      <td>0.0</td>\n",
              "      <td>0.0</td>\n",
              "      <td>0.0</td>\n",
              "      <td>0.0</td>\n",
              "      <td>0.0</td>\n",
              "      <td>0.0</td>\n",
              "      <td>0.0</td>\n",
              "      <td>0.0</td>\n",
              "      <td>0.0</td>\n",
              "      <td>0.0</td>\n",
              "      <td>0.0</td>\n",
              "      <td>0.0</td>\n",
              "      <td>0.0</td>\n",
              "      <td>0.0</td>\n",
              "      <td>0.0</td>\n",
              "      <td>0.0</td>\n",
              "      <td>0.0</td>\n",
              "      <td>0.0</td>\n",
              "      <td>0.0</td>\n",
              "      <td>0.0</td>\n",
              "      <td>0.0</td>\n",
              "      <td>0.0</td>\n",
              "      <td>0.0</td>\n",
              "      <td>0.0</td>\n",
              "      <td>0.0</td>\n",
              "      <td>0.0</td>\n",
              "      <td>0.0</td>\n",
              "      <td>0.0</td>\n",
              "      <td>0.0</td>\n",
              "      <td>0.0</td>\n",
              "      <td>0.0</td>\n",
              "      <td>0.0</td>\n",
              "      <td>0.0</td>\n",
              "      <td>0.0</td>\n",
              "      <td>0.0</td>\n",
              "    </tr>\n",
              "  </tbody>\n",
              "</table>\n",
              "<p>5 rows × 197 columns</p>\n",
              "</div>"
            ],
            "text/plain": [
              "   абитуриента  автономный  академия  александр  ...  южная  южного  ямало  япония\n",
              "0          0.0         0.0       0.0        0.0  ...    0.0     0.0    0.0     0.0\n",
              "1          0.0         0.0       0.0        0.0  ...    0.0     0.0    0.0     0.0\n",
              "2          0.0         0.0       0.0        0.0  ...    0.0     0.0    0.0     0.0\n",
              "3          0.0         0.0       0.0        0.0  ...    0.0     0.0    0.0     0.0\n",
              "4          0.0         0.0       0.0        0.0  ...    0.0     0.0    0.0     0.0\n",
              "\n",
              "[5 rows x 197 columns]"
            ]
          },
          "metadata": {
            "tags": []
          },
          "execution_count": 55
        }
      ]
    },
    {
      "cell_type": "code",
      "metadata": {
        "id": "6Xvc9I-a_GK_",
        "colab_type": "code",
        "colab": {}
      },
      "source": [
        "# Trying to get the most important keywords. But couldn't. The vocabulary attribute \n",
        "# gives me words and indices, but I do not understand how it is orgnized. It is not \n",
        "# alphabetical and it is not by level of importance (I don't think). \n",
        "words_dict = tfidfvectorizer.vocabulary_"
      ],
      "execution_count": 0,
      "outputs": []
    },
    {
      "cell_type": "code",
      "metadata": {
        "id": "rKO1xi6l_H_h",
        "colab_type": "code",
        "colab": {}
      },
      "source": [
        "# Turning the vocabulary into a dataframe to further explore the order of words \n",
        "frequent_words = pd.DataFrame.from_dict(words_dict, \n",
        "                                        orient='index', \n",
        "                                        columns=['Number'])"
      ],
      "execution_count": 0,
      "outputs": []
    },
    {
      "cell_type": "code",
      "metadata": {
        "id": "oilk6Swa_O1c",
        "colab_type": "code",
        "outputId": "69699fe2-710e-4ab9-afdb-77b48dd238ab",
        "colab": {
          "base_uri": "https://localhost:8080/",
          "height": 419
        }
      },
      "source": [
        "# Not much help here... \n",
        "frequent_words.sort_values('Number')"
      ],
      "execution_count": 0,
      "outputs": [
        {
          "output_type": "execute_result",
          "data": {
            "text/html": [
              "<div>\n",
              "<style scoped>\n",
              "    .dataframe tbody tr th:only-of-type {\n",
              "        vertical-align: middle;\n",
              "    }\n",
              "\n",
              "    .dataframe tbody tr th {\n",
              "        vertical-align: top;\n",
              "    }\n",
              "\n",
              "    .dataframe thead th {\n",
              "        text-align: right;\n",
              "    }\n",
              "</style>\n",
              "<table border=\"1\" class=\"dataframe\">\n",
              "  <thead>\n",
              "    <tr style=\"text-align: right;\">\n",
              "      <th></th>\n",
              "      <th>Number</th>\n",
              "    </tr>\n",
              "  </thead>\n",
              "  <tbody>\n",
              "    <tr>\n",
              "      <th>абитуриента</th>\n",
              "      <td>0</td>\n",
              "    </tr>\n",
              "    <tr>\n",
              "      <th>автономный</th>\n",
              "      <td>1</td>\n",
              "    </tr>\n",
              "    <tr>\n",
              "      <th>академия</th>\n",
              "      <td>2</td>\n",
              "    </tr>\n",
              "    <tr>\n",
              "      <th>александр</th>\n",
              "      <td>3</td>\n",
              "    </tr>\n",
              "    <tr>\n",
              "      <th>алексей</th>\n",
              "      <td>4</td>\n",
              "    </tr>\n",
              "    <tr>\n",
              "      <th>...</th>\n",
              "      <td>...</td>\n",
              "    </tr>\n",
              "    <tr>\n",
              "      <th>юар</th>\n",
              "      <td>192</td>\n",
              "    </tr>\n",
              "    <tr>\n",
              "      <th>южная</th>\n",
              "      <td>193</td>\n",
              "    </tr>\n",
              "    <tr>\n",
              "      <th>южного</th>\n",
              "      <td>194</td>\n",
              "    </tr>\n",
              "    <tr>\n",
              "      <th>ямало</th>\n",
              "      <td>195</td>\n",
              "    </tr>\n",
              "    <tr>\n",
              "      <th>япония</th>\n",
              "      <td>196</td>\n",
              "    </tr>\n",
              "  </tbody>\n",
              "</table>\n",
              "<p>197 rows × 1 columns</p>\n",
              "</div>"
            ],
            "text/plain": [
              "             Number\n",
              "абитуриента       0\n",
              "автономный        1\n",
              "академия          2\n",
              "александр         3\n",
              "алексей           4\n",
              "...             ...\n",
              "юар             192\n",
              "южная           193\n",
              "южного          194\n",
              "ямало           195\n",
              "япония          196\n",
              "\n",
              "[197 rows x 1 columns]"
            ]
          },
          "metadata": {
            "tags": []
          },
          "execution_count": 58
        }
      ]
    },
    {
      "cell_type": "markdown",
      "metadata": {
        "id": "cGcBZuHC_Uki",
        "colab_type": "text"
      },
      "source": [
        "### **Clustering by hashtag**"
      ]
    },
    {
      "cell_type": "code",
      "metadata": {
        "id": "y8fR4CYf9R1k",
        "colab_type": "code",
        "outputId": "43ffae88-b2d3-41e6-a472-e35f496ffdf4",
        "colab": {
          "base_uri": "https://localhost:8080/",
          "height": 221
        }
      },
      "source": [
        "data['tags'].value_counts(normalize=True)"
      ],
      "execution_count": 0,
      "outputs": [
        {
          "output_type": "execute_result",
          "data": {
            "text/plain": [
              "Общество                                                                        0.349858\n",
              "Политика                                                                        0.129419\n",
              "Большая пресс-конференция Владимира Путина, Владимир Путин, Россия, Политика    0.036570\n",
              "Михаил Горбачев, Общество, Политика                                             0.026412\n",
              "Общество Политика                                                               0.022349\n",
              "                                                                                  ...   \n",
              "Наука Новости                                                                   0.000406\n",
              "Общество Политика Социология                                                    0.000406\n",
              "Наука Новости Общество                                                          0.000406\n",
              "Общество Прочее                                                                 0.000203\n",
              "Политика Социология                                                             0.000203\n",
              "Name: tags, Length: 81, dtype: float64"
            ]
          },
          "metadata": {
            "tags": []
          },
          "execution_count": 59
        }
      ]
    },
    {
      "cell_type": "code",
      "metadata": {
        "id": "rSPWziwb_PSv",
        "colab_type": "code",
        "colab": {}
      },
      "source": [
        "from sklearn.cluster import KMeans"
      ],
      "execution_count": 0,
      "outputs": []
    },
    {
      "cell_type": "markdown",
      "metadata": {
        "id": "XlXnu2kr_dVo",
        "colab_type": "text"
      },
      "source": [
        "### **Using KMeans clustering:**"
      ]
    },
    {
      "cell_type": "code",
      "metadata": {
        "id": "Uk-cTFnE_a12",
        "colab_type": "code",
        "colab": {}
      },
      "source": [
        "# Instantiating the model \n",
        "true_k = 20\n",
        "kmmodel = KMeans(true_k, random_state=17)"
      ],
      "execution_count": 0,
      "outputs": []
    },
    {
      "cell_type": "code",
      "metadata": {
        "id": "1wJlZ9zW_iKg",
        "colab_type": "code",
        "outputId": "f9653a66-0390-4855-a4d4-5327e58e10e9",
        "colab": {
          "base_uri": "https://localhost:8080/",
          "height": 68
        }
      },
      "source": [
        "# Fiting the model to our hashtags \n",
        "kmmodel.fit(word_frequency)"
      ],
      "execution_count": 0,
      "outputs": [
        {
          "output_type": "execute_result",
          "data": {
            "text/plain": [
              "KMeans(algorithm='auto', copy_x=True, init='k-means++', max_iter=300,\n",
              "       n_clusters=20, n_init=10, n_jobs=None, precompute_distances='auto',\n",
              "       random_state=17, tol=0.0001, verbose=0)"
            ]
          },
          "metadata": {
            "tags": []
          },
          "execution_count": 62
        }
      ]
    },
    {
      "cell_type": "code",
      "metadata": {
        "id": "Dk5fgpBj_oOn",
        "colab_type": "code",
        "colab": {}
      },
      "source": [
        "# Getting centroids. Wrote this based on: https://towardsdatascience.com/applying-machine-learning-to-classify-an-unsupervised-text-document-e7bb6265f52\n",
        "tag_centroids = kmmodel.cluster_centers_.argsort()[:, ::-1]"
      ],
      "execution_count": 0,
      "outputs": []
    },
    {
      "cell_type": "code",
      "metadata": {
        "id": "m_tlaItp_rBH",
        "colab_type": "code",
        "colab": {}
      },
      "source": [
        "# Trying to see the words. Got this and next loop from https://towardsdatascience.com/applying-machine-learning-to-classify-an-unsupervised-text-document-e7bb6265f52\n",
        "terms = tfidfvectorizer.get_feature_names()"
      ],
      "execution_count": 0,
      "outputs": []
    },
    {
      "cell_type": "code",
      "metadata": {
        "id": "9lPCx2Q7_wyg",
        "colab_type": "code",
        "outputId": "aba20c3b-fbec-41b9-e024-543eb42cad44",
        "colab": {
          "base_uri": "https://localhost:8080/",
          "height": 1000
        }
      },
      "source": [
        "# Again, trying to see how the words are clustered\n",
        "for i in range(true_k):\n",
        "    print('Cluster %d:' % i),\n",
        "    for ind in tag_centroids[i, :5]:\n",
        "        print('%s' % terms[ind])"
      ],
      "execution_count": 0,
      "outputs": [
        {
          "output_type": "stream",
          "text": [
            "Cluster 0:\n",
            "общество\n",
            "япония\n",
            "космическая\n",
            "ленин\n",
            "курчатовский\n",
            "Cluster 1:\n",
            "экономика\n",
            "общество\n",
            "политика\n",
            "теплоснабжение\n",
            "евросоюз\n",
            "Cluster 2:\n",
            "политика\n",
            "общество\n",
            "япония\n",
            "космическая\n",
            "курчатовский\n",
            "Cluster 3:\n",
            "гомель\n",
            "воронежская\n",
            "белоруссия\n",
            "область\n",
            "большая\n",
            "Cluster 4:\n",
            "путина\n",
            "владимира\n",
            "пресс\n",
            "большая\n",
            "конференция\n",
            "Cluster 5:\n",
            "горбачев\n",
            "михаил\n",
            "политика\n",
            "общество\n",
            "япония\n",
            "Cluster 6:\n",
            "новый\n",
            "год\n",
            "москва\n",
            "общество\n",
            "япония\n",
            "Cluster 7:\n",
            "наука\n",
            "общество\n",
            "политика\n",
            "космодром\n",
            "ленин\n",
            "Cluster 8:\n",
            "мансийск\n",
            "ноябрьск\n",
            "ханты\n",
            "путин\n",
            "владимир\n",
            "Cluster 9:\n",
            "рф\n",
            "сергей\n",
            "миронов\n",
            "госдума\n",
            "справедливая\n",
            "Cluster 10:\n",
            "новости\n",
            "общество\n",
            "политика\n",
            "наука\n",
            "экономика\n",
            "Cluster 11:\n",
            "иннопрактика\n",
            "большая\n",
            "пресс\n",
            "конференция\n",
            "путина\n",
            "Cluster 12:\n",
            "кемеровская\n",
            "киселевск\n",
            "роснедра\n",
            "новокузнецк\n",
            "энергетики\n",
            "Cluster 13:\n",
            "минпросвещения\n",
            "татьяна\n",
            "голикова\n",
            "россия\n",
            "общество\n",
            "Cluster 14:\n",
            "правительство\n",
            "китай\n",
            "росприроднадзор\n",
            "рф\n",
            "путин\n",
            "Cluster 15:\n",
            "союзное\n",
            "государство\n",
            "белоруссия\n",
            "лукашенко\n",
            "александр\n",
            "Cluster 16:\n",
            "республика\n",
            "алтай\n",
            "алтайский\n",
            "край\n",
            "пресс\n",
            "Cluster 17:\n",
            "наука\n",
            "риа\n",
            "статьи\n",
            "университет\n",
            "космос\n",
            "Cluster 18:\n",
            "геннадий\n",
            "зюганов\n",
            "путин\n",
            "владимир\n",
            "россия\n",
            "Cluster 19:\n",
            "компаний\n",
            "новости\n",
            "экономика\n",
            "общество\n",
            "япония\n"
          ],
          "name": "stdout"
        }
      ]
    },
    {
      "cell_type": "code",
      "metadata": {
        "id": "eN7dHQ9o_4U0",
        "colab_type": "code",
        "outputId": "4094ff4b-1c22-4bb8-8bb1-dd113bd305a7",
        "colab": {
          "base_uri": "https://localhost:8080/",
          "height": 34
        }
      },
      "source": [
        "# Getting the cluster predictions\n",
        "kmmodel.labels_"
      ],
      "execution_count": 0,
      "outputs": [
        {
          "output_type": "execute_result",
          "data": {
            "text/plain": [
              "array([ 2,  2,  2, ..., 17, 17, 17], dtype=int32)"
            ]
          },
          "metadata": {
            "tags": []
          },
          "execution_count": 66
        }
      ]
    },
    {
      "cell_type": "code",
      "metadata": {
        "id": "zljogjVW_8Ag",
        "colab_type": "code",
        "colab": {}
      },
      "source": [
        "# Adding them as a column to the original dataframe \n",
        "data['tag_km_cluster'] = kmmodel.labels_"
      ],
      "execution_count": 0,
      "outputs": []
    },
    {
      "cell_type": "code",
      "metadata": {
        "id": "h9uQkt4NACfu",
        "colab_type": "code",
        "outputId": "9f814f67-af85-44f1-b19b-32603988da06",
        "colab": {
          "base_uri": "https://localhost:8080/",
          "height": 374
        }
      },
      "source": [
        "# Looking at the distribution of clusters. It is not good in the sense that it is highly\n",
        "# ibalanced, but it seems to make sense as cluster 0 seems to pick up all fire-related\n",
        "# tweets, cluster 1 all trump/political-related tweets, and cluster 2 all climate-related\n",
        "# tweets. \n",
        "data['tag_km_cluster'].value_counts()"
      ],
      "execution_count": 0,
      "outputs": [
        {
          "output_type": "execute_result",
          "data": {
            "text/plain": [
              "0     1723\n",
              "2      747\n",
              "4      655\n",
              "1      195\n",
              "17     161\n",
              "7      159\n",
              "14     130\n",
              "5      130\n",
              "9      108\n",
              "6       94\n",
              "3       94\n",
              "13      94\n",
              "16      94\n",
              "12      94\n",
              "8       94\n",
              "11      94\n",
              "19      94\n",
              "15      79\n",
              "10      47\n",
              "18      36\n",
              "Name: tag_km_cluster, dtype: int64"
            ]
          },
          "metadata": {
            "tags": []
          },
          "execution_count": 68
        }
      ]
    },
    {
      "cell_type": "markdown",
      "metadata": {
        "id": "MDo_3_o_AKAA",
        "colab_type": "text"
      },
      "source": [
        "### **Using DBSCAN:**"
      ]
    },
    {
      "cell_type": "code",
      "metadata": {
        "id": "VUCgGjJLAH0s",
        "colab_type": "code",
        "colab": {}
      },
      "source": [
        "# Instantiating DBSCAN. I increased epsilon and minimum samples to get a somewhat reasonable\n",
        "# amount of samples. With the standard parameters, I get 238 clusters. With these \n",
        "# we get 16 clusters. \n",
        "dbscanmodel = DBSCAN(eps=0.5, min_samples=20)"
      ],
      "execution_count": 0,
      "outputs": []
    },
    {
      "cell_type": "code",
      "metadata": {
        "id": "C47_lBsUAQcQ",
        "colab_type": "code",
        "outputId": "99597b33-efd5-43f7-f67d-0139214945b3",
        "colab": {
          "base_uri": "https://localhost:8080/",
          "height": 51
        }
      },
      "source": [
        "# Fitting DBSCAN\n",
        "dbscanmodel.fit(word_frequency)"
      ],
      "execution_count": 0,
      "outputs": [
        {
          "output_type": "execute_result",
          "data": {
            "text/plain": [
              "DBSCAN(algorithm='auto', eps=0.5, leaf_size=30, metric='euclidean',\n",
              "       metric_params=None, min_samples=20, n_jobs=None, p=None)"
            ]
          },
          "metadata": {
            "tags": []
          },
          "execution_count": 70
        }
      ]
    },
    {
      "cell_type": "code",
      "metadata": {
        "id": "AfnMZUwNATLR",
        "colab_type": "code",
        "outputId": "71cead01-b4d7-4ec9-c5ad-fda7294a9600",
        "colab": {
          "base_uri": "https://localhost:8080/",
          "height": 578
        }
      },
      "source": [
        "# Looking at the numbers of clusters. It created 238 clusters \n",
        "set(dbscanmodel.labels_)"
      ],
      "execution_count": 0,
      "outputs": [
        {
          "output_type": "execute_result",
          "data": {
            "text/plain": [
              "{-1,\n",
              " 0,\n",
              " 1,\n",
              " 2,\n",
              " 3,\n",
              " 4,\n",
              " 5,\n",
              " 6,\n",
              " 7,\n",
              " 8,\n",
              " 9,\n",
              " 10,\n",
              " 11,\n",
              " 12,\n",
              " 13,\n",
              " 14,\n",
              " 15,\n",
              " 16,\n",
              " 17,\n",
              " 18,\n",
              " 19,\n",
              " 20,\n",
              " 21,\n",
              " 22,\n",
              " 23,\n",
              " 24,\n",
              " 25,\n",
              " 26,\n",
              " 27,\n",
              " 28,\n",
              " 29,\n",
              " 30,\n",
              " 31}"
            ]
          },
          "metadata": {
            "tags": []
          },
          "execution_count": 71
        }
      ]
    },
    {
      "cell_type": "code",
      "metadata": {
        "id": "dzOqK9cVAVhS",
        "colab_type": "code",
        "colab": {}
      },
      "source": [
        "data['tag_dbscan_cluster'] = dbscanmodel.labels_"
      ],
      "execution_count": 0,
      "outputs": []
    },
    {
      "cell_type": "code",
      "metadata": {
        "id": "TepinOSPAcW4",
        "colab_type": "code",
        "outputId": "0f06ee7c-2f11-41b1-b5d0-54b813821784",
        "colab": {
          "base_uri": "https://localhost:8080/",
          "height": 1000
        }
      },
      "source": [
        "data"
      ],
      "execution_count": 0,
      "outputs": [
        {
          "output_type": "execute_result",
          "data": {
            "text/html": [
              "<div>\n",
              "<style scoped>\n",
              "    .dataframe tbody tr th:only-of-type {\n",
              "        vertical-align: middle;\n",
              "    }\n",
              "\n",
              "    .dataframe tbody tr th {\n",
              "        vertical-align: top;\n",
              "    }\n",
              "\n",
              "    .dataframe thead th {\n",
              "        text-align: right;\n",
              "    }\n",
              "</style>\n",
              "<table border=\"1\" class=\"dataframe\">\n",
              "  <thead>\n",
              "    <tr style=\"text-align: right;\">\n",
              "      <th></th>\n",
              "      <th>id</th>\n",
              "      <th>url</th>\n",
              "      <th>title</th>\n",
              "      <th>content</th>\n",
              "      <th>author</th>\n",
              "      <th>date</th>\n",
              "      <th>tags</th>\n",
              "      <th>type_of_article</th>\n",
              "      <th>tag_km_cluster</th>\n",
              "      <th>tag_dbscan_cluster</th>\n",
              "    </tr>\n",
              "  </thead>\n",
              "  <tbody>\n",
              "    <tr>\n",
              "      <th>0</th>\n",
              "      <td>0</td>\n",
              "      <td>https://panorama.pub/28367-rossiyanam-zapretya...</td>\n",
              "      <td>Россиянам запретят выкладывать в интернет непр...</td>\n",
              "      <td>В Госдуму внесён законопроект о «Защите положи...</td>\n",
              "      <td>Виталий Манн</td>\n",
              "      <td>2019-12-19</td>\n",
              "      <td>Политика</td>\n",
              "      <td>fake</td>\n",
              "      <td>2</td>\n",
              "      <td>0</td>\n",
              "    </tr>\n",
              "    <tr>\n",
              "      <th>1</th>\n",
              "      <td>1</td>\n",
              "      <td>https://panorama.pub/28365-amerikanskij-genera...</td>\n",
              "      <td>Американский генерал заявил о готовности стрел...</td>\n",
              "      <td>Командующий войсками Округа Колумбия генерал-л...</td>\n",
              "      <td>Бронислав Рубенштейн</td>\n",
              "      <td>2019-12-19</td>\n",
              "      <td>Политика</td>\n",
              "      <td>fake</td>\n",
              "      <td>2</td>\n",
              "      <td>0</td>\n",
              "    </tr>\n",
              "    <tr>\n",
              "      <th>2</th>\n",
              "      <td>2</td>\n",
              "      <td>https://panorama.pub/28356-donald-tramp-pohval...</td>\n",
              "      <td>Дональд Трамп похвалил Сталина</td>\n",
              "      <td>Президент США Дональд Трамп, отвечая на вопрос...</td>\n",
              "      <td>Виталий Манн</td>\n",
              "      <td>2019-12-19</td>\n",
              "      <td>Политика</td>\n",
              "      <td>fake</td>\n",
              "      <td>2</td>\n",
              "      <td>0</td>\n",
              "    </tr>\n",
              "    <tr>\n",
              "      <th>3</th>\n",
              "      <td>3</td>\n",
              "      <td>https://panorama.pub/27498-formalnym-osnovanie...</td>\n",
              "      <td>Формальным основанием для импичмента Трампа ст...</td>\n",
              "      <td>Палата представителей США определилась с форму...</td>\n",
              "      <td>Бронислав Рубенштейн</td>\n",
              "      <td>2019-12-18</td>\n",
              "      <td>Политика</td>\n",
              "      <td>fake</td>\n",
              "      <td>2</td>\n",
              "      <td>0</td>\n",
              "    </tr>\n",
              "    <tr>\n",
              "      <th>4</th>\n",
              "      <td>4</td>\n",
              "      <td>https://panorama.pub/28237-iran-oshibochno-pod...</td>\n",
              "      <td>Иранские моряки по ошибке подавили протесты в ...</td>\n",
              "      <td>Признавая, что они были полностью сбиты массой...</td>\n",
              "      <td>Диана Арутюнян</td>\n",
              "      <td>2019-12-18</td>\n",
              "      <td>Политика</td>\n",
              "      <td>fake</td>\n",
              "      <td>2</td>\n",
              "      <td>0</td>\n",
              "    </tr>\n",
              "    <tr>\n",
              "      <th>...</th>\n",
              "      <td>...</td>\n",
              "      <td>...</td>\n",
              "      <td>...</td>\n",
              "      <td>...</td>\n",
              "      <td>...</td>\n",
              "      <td>...</td>\n",
              "      <td>...</td>\n",
              "      <td>...</td>\n",
              "      <td>...</td>\n",
              "      <td>...</td>\n",
              "    </tr>\n",
              "    <tr>\n",
              "      <th>4917</th>\n",
              "      <td>4917</td>\n",
              "      <td>https://ria.ru//20191218/1562514885.html</td>\n",
              "      <td>В тундре Ямала ученые встретили редчайшую для ...</td>\n",
              "      <td>ХАНТЫ-МАНСИЙСК, 18 дек - РИА Новости. Ученые в...</td>\n",
              "      <td>None</td>\n",
              "      <td>18.12.2019</td>\n",
              "      <td>РИА Наука, Земля - РИА Наука, Ямало-Ненецкий а...</td>\n",
              "      <td>real</td>\n",
              "      <td>17</td>\n",
              "      <td>-1</td>\n",
              "    </tr>\n",
              "    <tr>\n",
              "      <th>4918</th>\n",
              "      <td>4918</td>\n",
              "      <td>https://ria.ru//20191218/1562488382.html</td>\n",
              "      <td>Ученые высветили \"новые грани\" кристаллов ниоб...</td>\n",
              "      <td>МОСКВА, 18 дек — РИА Новости. Ученые Крымского...</td>\n",
              "      <td>None</td>\n",
              "      <td>18.12.2019</td>\n",
              "      <td>РИА Наука, Университетская наука, Навигатор аб...</td>\n",
              "      <td>real</td>\n",
              "      <td>17</td>\n",
              "      <td>-1</td>\n",
              "    </tr>\n",
              "    <tr>\n",
              "      <th>4919</th>\n",
              "      <td>4919</td>\n",
              "      <td>https://ria.ru//20191218/1562494415.html</td>\n",
              "      <td>Ученые узнали, как работа и хобби влияют на ри...</td>\n",
              "      <td>МОСКВА, 18 дек — РИА Новости. Ученые Московско...</td>\n",
              "      <td>None</td>\n",
              "      <td>18.12.2019</td>\n",
              "      <td>РИА Наука, Университетская наука, Навигатор аб...</td>\n",
              "      <td>real</td>\n",
              "      <td>17</td>\n",
              "      <td>-1</td>\n",
              "    </tr>\n",
              "    <tr>\n",
              "      <th>4920</th>\n",
              "      <td>4920</td>\n",
              "      <td>https://ria.ru//20191218/1562497767.html</td>\n",
              "      <td>Доставка груза на орбиту подешевеет благодаря ...</td>\n",
              "      <td>МОСКВА, 18 дек — РИА Новости. Ученые Самарског...</td>\n",
              "      <td>None</td>\n",
              "      <td>18.12.2019</td>\n",
              "      <td>РИА Наука, Самарский университет, Университетс...</td>\n",
              "      <td>real</td>\n",
              "      <td>17</td>\n",
              "      <td>-1</td>\n",
              "    </tr>\n",
              "    <tr>\n",
              "      <th>4921</th>\n",
              "      <td>4921</td>\n",
              "      <td>https://ria.ru//20191218/1562502424.html</td>\n",
              "      <td>Загадка дзёмон. Кем были предки японцев</td>\n",
              "      <td>МОСКВА, 18 дек — РИА Новости, Татьяна Пичугина...</td>\n",
              "      <td>None</td>\n",
              "      <td>18.12.2019</td>\n",
              "      <td>Новосибирск, РИА Наука, археологи, Российский ...</td>\n",
              "      <td>real</td>\n",
              "      <td>17</td>\n",
              "      <td>-1</td>\n",
              "    </tr>\n",
              "  </tbody>\n",
              "</table>\n",
              "<p>4922 rows × 10 columns</p>\n",
              "</div>"
            ],
            "text/plain": [
              "        id  ... tag_dbscan_cluster\n",
              "0        0  ...                  0\n",
              "1        1  ...                  0\n",
              "2        2  ...                  0\n",
              "3        3  ...                  0\n",
              "4        4  ...                  0\n",
              "...    ...  ...                ...\n",
              "4917  4917  ...                 -1\n",
              "4918  4918  ...                 -1\n",
              "4919  4919  ...                 -1\n",
              "4920  4920  ...                 -1\n",
              "4921  4921  ...                 -1\n",
              "\n",
              "[4922 rows x 10 columns]"
            ]
          },
          "metadata": {
            "tags": []
          },
          "execution_count": 75
        }
      ]
    },
    {
      "cell_type": "markdown",
      "metadata": {
        "id": "9pWqXaKUOpi0",
        "colab_type": "text"
      },
      "source": [
        "### **Clustering by author**"
      ]
    },
    {
      "cell_type": "markdown",
      "metadata": {
        "id": "G4xcPl2gOu-q",
        "colab_type": "text"
      },
      "source": [
        "### Using KMeans clustering:"
      ]
    },
    {
      "cell_type": "code",
      "metadata": {
        "id": "wOGLMwteOoJD",
        "colab_type": "code",
        "outputId": "96c84616-99ed-4bc3-9922-e3cbc8890f99",
        "colab": {
          "base_uri": "https://localhost:8080/",
          "height": 221
        }
      },
      "source": [
        "# Looking at the author column \n",
        "data['author'].value_counts()"
      ],
      "execution_count": 0,
      "outputs": [
        {
          "output_type": "execute_result",
          "data": {
            "text/plain": [
              "None                    2052\n",
              "Виталий Манн             954\n",
              "Борис Гонтермахер        470\n",
              "Бронислав Рубенштейн     361\n",
              "Максим Фрейденберг        78\n",
              "                        ... \n",
              "Довганюк Влад              1\n",
              "Ренат Логанов              1\n",
              "Фёдор Дубов                1\n",
              "Йозеф Штальбаум            1\n",
              "Валерий Двороновский       1\n",
              "Name: author, Length: 240, dtype: int64"
            ]
          },
          "metadata": {
            "tags": []
          },
          "execution_count": 76
        }
      ]
    },
    {
      "cell_type": "code",
      "metadata": {
        "id": "EeHUjryoOoAF",
        "colab_type": "code",
        "colab": {}
      },
      "source": [
        "# Isolating the column to pre-process it. \n",
        "authors = data['author']"
      ],
      "execution_count": 0,
      "outputs": []
    },
    {
      "cell_type": "code",
      "metadata": {
        "id": "YobNQfT1On4j",
        "colab_type": "code",
        "outputId": "ef13ccec-41bc-4e49-e81e-1fa9de47591e",
        "colab": {
          "base_uri": "https://localhost:8080/",
          "height": 221
        }
      },
      "source": [
        "authors"
      ],
      "execution_count": 0,
      "outputs": [
        {
          "output_type": "execute_result",
          "data": {
            "text/plain": [
              "0               Виталий Манн\n",
              "1       Бронислав Рубенштейн\n",
              "2               Виталий Манн\n",
              "3       Бронислав Рубенштейн\n",
              "4             Диана Арутюнян\n",
              "                ...         \n",
              "4917                    None\n",
              "4918                    None\n",
              "4919                    None\n",
              "4920                    None\n",
              "4921                    None\n",
              "Name: author, Length: 4922, dtype: object"
            ]
          },
          "metadata": {
            "tags": []
          },
          "execution_count": 78
        }
      ]
    },
    {
      "cell_type": "code",
      "metadata": {
        "id": "3nTMOhXbPGDJ",
        "colab_type": "code",
        "colab": {}
      },
      "source": [
        "# Instantiating the TFIDF vectorizer\n",
        "tfidfvectorizerad = TfidfVectorizer()"
      ],
      "execution_count": 0,
      "outputs": []
    },
    {
      "cell_type": "code",
      "metadata": {
        "id": "JD48ERQaPJJ8",
        "colab_type": "code",
        "colab": {}
      },
      "source": [
        "# Fitting it to the authors \n",
        "author_frequency = tfidfvectorizerad.fit_transform(authors)"
      ],
      "execution_count": 0,
      "outputs": []
    },
    {
      "cell_type": "code",
      "metadata": {
        "id": "Z8_Jhj78PO9w",
        "colab_type": "code",
        "outputId": "a523cac3-c189-4680-b5e4-c5b373ed2fb5",
        "colab": {
          "base_uri": "https://localhost:8080/",
          "height": 34
        }
      },
      "source": [
        "# Getting the number of words it identified \n",
        "author_frequency.shape"
      ],
      "execution_count": 0,
      "outputs": [
        {
          "output_type": "execute_result",
          "data": {
            "text/plain": [
              "(4922, 390)"
            ]
          },
          "metadata": {
            "tags": []
          },
          "execution_count": 81
        }
      ]
    },
    {
      "cell_type": "code",
      "metadata": {
        "id": "j6p580nMPSo9",
        "colab_type": "code",
        "outputId": "84001359-a089-411c-a972-c63a5c599477",
        "colab": {
          "base_uri": "https://localhost:8080/",
          "height": 51
        }
      },
      "source": [
        "author_frequency"
      ],
      "execution_count": 0,
      "outputs": [
        {
          "output_type": "execute_result",
          "data": {
            "text/plain": [
              "<4922x390 sparse matrix of type '<class 'numpy.float64'>'\n",
              "\twith 7839 stored elements in Compressed Sparse Row format>"
            ]
          },
          "metadata": {
            "tags": []
          },
          "execution_count": 82
        }
      ]
    },
    {
      "cell_type": "code",
      "metadata": {
        "id": "XF9OX1CjPVZm",
        "colab_type": "code",
        "colab": {}
      },
      "source": [
        "# Turning them into a dataframe\n",
        "authorsfreq_df = pd.DataFrame(author_frequency.todense(), columns = tfidfvectorizerad.get_feature_names())"
      ],
      "execution_count": 0,
      "outputs": []
    },
    {
      "cell_type": "code",
      "metadata": {
        "id": "2Hgq-FJHPcHb",
        "colab_type": "code",
        "outputId": "13d831ff-38dd-4c94-888c-f6d90d781553",
        "colab": {
          "base_uri": "https://localhost:8080/",
          "height": 253
        }
      },
      "source": [
        "# Looking at the actual words \n",
        "authorsfreq_df.head()"
      ],
      "execution_count": 0,
      "outputs": [
        {
          "output_type": "execute_result",
          "data": {
            "text/html": [
              "<div>\n",
              "<style scoped>\n",
              "    .dataframe tbody tr th:only-of-type {\n",
              "        vertical-align: middle;\n",
              "    }\n",
              "\n",
              "    .dataframe tbody tr th {\n",
              "        vertical-align: top;\n",
              "    }\n",
              "\n",
              "    .dataframe thead th {\n",
              "        text-align: right;\n",
              "    }\n",
              "</style>\n",
              "<table border=\"1\" class=\"dataframe\">\n",
              "  <thead>\n",
              "    <tr style=\"text-align: right;\">\n",
              "      <th></th>\n",
              "      <th>candide</th>\n",
              "      <th>dimon426</th>\n",
              "      <th>fa</th>\n",
              "      <th>fenikals</th>\n",
              "      <th>glebomater</th>\n",
              "      <th>netizen</th>\n",
              "      <th>news</th>\n",
              "      <th>nick</th>\n",
              "      <th>none</th>\n",
              "      <th>pav</th>\n",
              "      <th>rubra</th>\n",
              "      <th>thovex</th>\n",
              "      <th>аарон</th>\n",
              "      <th>аббасов</th>\n",
              "      <th>абманчева</th>\n",
              "      <th>абрам</th>\n",
              "      <th>абрикосов</th>\n",
              "      <th>агаев</th>\n",
              "      <th>агентство</th>\n",
              "      <th>адольф</th>\n",
              "      <th>акерман</th>\n",
              "      <th>аксельрод</th>\n",
              "      <th>александр</th>\n",
              "      <th>александр_владимирович_99</th>\n",
              "      <th>александра</th>\n",
              "      <th>александров</th>\n",
              "      <th>алексей</th>\n",
              "      <th>алесь</th>\n",
              "      <th>али</th>\n",
              "      <th>алиса</th>\n",
              "      <th>алтынов</th>\n",
              "      <th>аль</th>\n",
              "      <th>анастас</th>\n",
              "      <th>андрей</th>\n",
              "      <th>андрюс</th>\n",
              "      <th>антон</th>\n",
              "      <th>апумчик</th>\n",
              "      <th>аристов</th>\n",
              "      <th>аркадий</th>\n",
              "      <th>арсений</th>\n",
              "      <th>...</th>\n",
              "      <th>хамади</th>\n",
              "      <th>хлестаков</th>\n",
              "      <th>хлор</th>\n",
              "      <th>холмогоров</th>\n",
              "      <th>холмогорский</th>\n",
              "      <th>христофоров</th>\n",
              "      <th>хуан</th>\n",
              "      <th>цзэ</th>\n",
              "      <th>цин</th>\n",
              "      <th>цинубель</th>\n",
              "      <th>цмок</th>\n",
              "      <th>чернышко</th>\n",
              "      <th>чжин</th>\n",
              "      <th>чирва</th>\n",
              "      <th>чубенко</th>\n",
              "      <th>чумалов</th>\n",
              "      <th>чхе</th>\n",
              "      <th>чхэ</th>\n",
              "      <th>шабельников</th>\n",
              "      <th>шарахутдинов</th>\n",
              "      <th>шевчук</th>\n",
              "      <th>шпак</th>\n",
              "      <th>штальбаум</th>\n",
              "      <th>штерн</th>\n",
              "      <th>штормилин</th>\n",
              "      <th>щекочихин</th>\n",
              "      <th>щёголев</th>\n",
              "      <th>элла</th>\n",
              "      <th>эль</th>\n",
              "      <th>эммануил</th>\n",
              "      <th>эпштейн</th>\n",
              "      <th>юдин</th>\n",
              "      <th>юрий</th>\n",
              "      <th>юстиниан</th>\n",
              "      <th>яждеда</th>\n",
              "      <th>яков</th>\n",
              "      <th>ян</th>\n",
              "      <th>ярослав</th>\n",
              "      <th>яцек</th>\n",
              "      <th>ільків</th>\n",
              "    </tr>\n",
              "  </thead>\n",
              "  <tbody>\n",
              "    <tr>\n",
              "      <th>0</th>\n",
              "      <td>0.0</td>\n",
              "      <td>0.0</td>\n",
              "      <td>0.0</td>\n",
              "      <td>0.0</td>\n",
              "      <td>0.0</td>\n",
              "      <td>0.0</td>\n",
              "      <td>0.0</td>\n",
              "      <td>0.0</td>\n",
              "      <td>0.0</td>\n",
              "      <td>0.0</td>\n",
              "      <td>0.0</td>\n",
              "      <td>0.0</td>\n",
              "      <td>0.0</td>\n",
              "      <td>0.0</td>\n",
              "      <td>0.0</td>\n",
              "      <td>0.0</td>\n",
              "      <td>0.0</td>\n",
              "      <td>0.0</td>\n",
              "      <td>0.0</td>\n",
              "      <td>0.0</td>\n",
              "      <td>0.0</td>\n",
              "      <td>0.0</td>\n",
              "      <td>0.0</td>\n",
              "      <td>0.0</td>\n",
              "      <td>0.0</td>\n",
              "      <td>0.0</td>\n",
              "      <td>0.0</td>\n",
              "      <td>0.0</td>\n",
              "      <td>0.0</td>\n",
              "      <td>0.0</td>\n",
              "      <td>0.0</td>\n",
              "      <td>0.0</td>\n",
              "      <td>0.0</td>\n",
              "      <td>0.0</td>\n",
              "      <td>0.0</td>\n",
              "      <td>0.0</td>\n",
              "      <td>0.0</td>\n",
              "      <td>0.0</td>\n",
              "      <td>0.0</td>\n",
              "      <td>0.0</td>\n",
              "      <td>...</td>\n",
              "      <td>0.0</td>\n",
              "      <td>0.0</td>\n",
              "      <td>0.0</td>\n",
              "      <td>0.0</td>\n",
              "      <td>0.0</td>\n",
              "      <td>0.0</td>\n",
              "      <td>0.0</td>\n",
              "      <td>0.0</td>\n",
              "      <td>0.0</td>\n",
              "      <td>0.0</td>\n",
              "      <td>0.0</td>\n",
              "      <td>0.0</td>\n",
              "      <td>0.0</td>\n",
              "      <td>0.0</td>\n",
              "      <td>0.0</td>\n",
              "      <td>0.0</td>\n",
              "      <td>0.0</td>\n",
              "      <td>0.0</td>\n",
              "      <td>0.0</td>\n",
              "      <td>0.0</td>\n",
              "      <td>0.0</td>\n",
              "      <td>0.0</td>\n",
              "      <td>0.0</td>\n",
              "      <td>0.0</td>\n",
              "      <td>0.0</td>\n",
              "      <td>0.0</td>\n",
              "      <td>0.0</td>\n",
              "      <td>0.0</td>\n",
              "      <td>0.0</td>\n",
              "      <td>0.0</td>\n",
              "      <td>0.0</td>\n",
              "      <td>0.0</td>\n",
              "      <td>0.0</td>\n",
              "      <td>0.0</td>\n",
              "      <td>0.0</td>\n",
              "      <td>0.0</td>\n",
              "      <td>0.0</td>\n",
              "      <td>0.0</td>\n",
              "      <td>0.0</td>\n",
              "      <td>0.0</td>\n",
              "    </tr>\n",
              "    <tr>\n",
              "      <th>1</th>\n",
              "      <td>0.0</td>\n",
              "      <td>0.0</td>\n",
              "      <td>0.0</td>\n",
              "      <td>0.0</td>\n",
              "      <td>0.0</td>\n",
              "      <td>0.0</td>\n",
              "      <td>0.0</td>\n",
              "      <td>0.0</td>\n",
              "      <td>0.0</td>\n",
              "      <td>0.0</td>\n",
              "      <td>0.0</td>\n",
              "      <td>0.0</td>\n",
              "      <td>0.0</td>\n",
              "      <td>0.0</td>\n",
              "      <td>0.0</td>\n",
              "      <td>0.0</td>\n",
              "      <td>0.0</td>\n",
              "      <td>0.0</td>\n",
              "      <td>0.0</td>\n",
              "      <td>0.0</td>\n",
              "      <td>0.0</td>\n",
              "      <td>0.0</td>\n",
              "      <td>0.0</td>\n",
              "      <td>0.0</td>\n",
              "      <td>0.0</td>\n",
              "      <td>0.0</td>\n",
              "      <td>0.0</td>\n",
              "      <td>0.0</td>\n",
              "      <td>0.0</td>\n",
              "      <td>0.0</td>\n",
              "      <td>0.0</td>\n",
              "      <td>0.0</td>\n",
              "      <td>0.0</td>\n",
              "      <td>0.0</td>\n",
              "      <td>0.0</td>\n",
              "      <td>0.0</td>\n",
              "      <td>0.0</td>\n",
              "      <td>0.0</td>\n",
              "      <td>0.0</td>\n",
              "      <td>0.0</td>\n",
              "      <td>...</td>\n",
              "      <td>0.0</td>\n",
              "      <td>0.0</td>\n",
              "      <td>0.0</td>\n",
              "      <td>0.0</td>\n",
              "      <td>0.0</td>\n",
              "      <td>0.0</td>\n",
              "      <td>0.0</td>\n",
              "      <td>0.0</td>\n",
              "      <td>0.0</td>\n",
              "      <td>0.0</td>\n",
              "      <td>0.0</td>\n",
              "      <td>0.0</td>\n",
              "      <td>0.0</td>\n",
              "      <td>0.0</td>\n",
              "      <td>0.0</td>\n",
              "      <td>0.0</td>\n",
              "      <td>0.0</td>\n",
              "      <td>0.0</td>\n",
              "      <td>0.0</td>\n",
              "      <td>0.0</td>\n",
              "      <td>0.0</td>\n",
              "      <td>0.0</td>\n",
              "      <td>0.0</td>\n",
              "      <td>0.0</td>\n",
              "      <td>0.0</td>\n",
              "      <td>0.0</td>\n",
              "      <td>0.0</td>\n",
              "      <td>0.0</td>\n",
              "      <td>0.0</td>\n",
              "      <td>0.0</td>\n",
              "      <td>0.0</td>\n",
              "      <td>0.0</td>\n",
              "      <td>0.0</td>\n",
              "      <td>0.0</td>\n",
              "      <td>0.0</td>\n",
              "      <td>0.0</td>\n",
              "      <td>0.0</td>\n",
              "      <td>0.0</td>\n",
              "      <td>0.0</td>\n",
              "      <td>0.0</td>\n",
              "    </tr>\n",
              "    <tr>\n",
              "      <th>2</th>\n",
              "      <td>0.0</td>\n",
              "      <td>0.0</td>\n",
              "      <td>0.0</td>\n",
              "      <td>0.0</td>\n",
              "      <td>0.0</td>\n",
              "      <td>0.0</td>\n",
              "      <td>0.0</td>\n",
              "      <td>0.0</td>\n",
              "      <td>0.0</td>\n",
              "      <td>0.0</td>\n",
              "      <td>0.0</td>\n",
              "      <td>0.0</td>\n",
              "      <td>0.0</td>\n",
              "      <td>0.0</td>\n",
              "      <td>0.0</td>\n",
              "      <td>0.0</td>\n",
              "      <td>0.0</td>\n",
              "      <td>0.0</td>\n",
              "      <td>0.0</td>\n",
              "      <td>0.0</td>\n",
              "      <td>0.0</td>\n",
              "      <td>0.0</td>\n",
              "      <td>0.0</td>\n",
              "      <td>0.0</td>\n",
              "      <td>0.0</td>\n",
              "      <td>0.0</td>\n",
              "      <td>0.0</td>\n",
              "      <td>0.0</td>\n",
              "      <td>0.0</td>\n",
              "      <td>0.0</td>\n",
              "      <td>0.0</td>\n",
              "      <td>0.0</td>\n",
              "      <td>0.0</td>\n",
              "      <td>0.0</td>\n",
              "      <td>0.0</td>\n",
              "      <td>0.0</td>\n",
              "      <td>0.0</td>\n",
              "      <td>0.0</td>\n",
              "      <td>0.0</td>\n",
              "      <td>0.0</td>\n",
              "      <td>...</td>\n",
              "      <td>0.0</td>\n",
              "      <td>0.0</td>\n",
              "      <td>0.0</td>\n",
              "      <td>0.0</td>\n",
              "      <td>0.0</td>\n",
              "      <td>0.0</td>\n",
              "      <td>0.0</td>\n",
              "      <td>0.0</td>\n",
              "      <td>0.0</td>\n",
              "      <td>0.0</td>\n",
              "      <td>0.0</td>\n",
              "      <td>0.0</td>\n",
              "      <td>0.0</td>\n",
              "      <td>0.0</td>\n",
              "      <td>0.0</td>\n",
              "      <td>0.0</td>\n",
              "      <td>0.0</td>\n",
              "      <td>0.0</td>\n",
              "      <td>0.0</td>\n",
              "      <td>0.0</td>\n",
              "      <td>0.0</td>\n",
              "      <td>0.0</td>\n",
              "      <td>0.0</td>\n",
              "      <td>0.0</td>\n",
              "      <td>0.0</td>\n",
              "      <td>0.0</td>\n",
              "      <td>0.0</td>\n",
              "      <td>0.0</td>\n",
              "      <td>0.0</td>\n",
              "      <td>0.0</td>\n",
              "      <td>0.0</td>\n",
              "      <td>0.0</td>\n",
              "      <td>0.0</td>\n",
              "      <td>0.0</td>\n",
              "      <td>0.0</td>\n",
              "      <td>0.0</td>\n",
              "      <td>0.0</td>\n",
              "      <td>0.0</td>\n",
              "      <td>0.0</td>\n",
              "      <td>0.0</td>\n",
              "    </tr>\n",
              "    <tr>\n",
              "      <th>3</th>\n",
              "      <td>0.0</td>\n",
              "      <td>0.0</td>\n",
              "      <td>0.0</td>\n",
              "      <td>0.0</td>\n",
              "      <td>0.0</td>\n",
              "      <td>0.0</td>\n",
              "      <td>0.0</td>\n",
              "      <td>0.0</td>\n",
              "      <td>0.0</td>\n",
              "      <td>0.0</td>\n",
              "      <td>0.0</td>\n",
              "      <td>0.0</td>\n",
              "      <td>0.0</td>\n",
              "      <td>0.0</td>\n",
              "      <td>0.0</td>\n",
              "      <td>0.0</td>\n",
              "      <td>0.0</td>\n",
              "      <td>0.0</td>\n",
              "      <td>0.0</td>\n",
              "      <td>0.0</td>\n",
              "      <td>0.0</td>\n",
              "      <td>0.0</td>\n",
              "      <td>0.0</td>\n",
              "      <td>0.0</td>\n",
              "      <td>0.0</td>\n",
              "      <td>0.0</td>\n",
              "      <td>0.0</td>\n",
              "      <td>0.0</td>\n",
              "      <td>0.0</td>\n",
              "      <td>0.0</td>\n",
              "      <td>0.0</td>\n",
              "      <td>0.0</td>\n",
              "      <td>0.0</td>\n",
              "      <td>0.0</td>\n",
              "      <td>0.0</td>\n",
              "      <td>0.0</td>\n",
              "      <td>0.0</td>\n",
              "      <td>0.0</td>\n",
              "      <td>0.0</td>\n",
              "      <td>0.0</td>\n",
              "      <td>...</td>\n",
              "      <td>0.0</td>\n",
              "      <td>0.0</td>\n",
              "      <td>0.0</td>\n",
              "      <td>0.0</td>\n",
              "      <td>0.0</td>\n",
              "      <td>0.0</td>\n",
              "      <td>0.0</td>\n",
              "      <td>0.0</td>\n",
              "      <td>0.0</td>\n",
              "      <td>0.0</td>\n",
              "      <td>0.0</td>\n",
              "      <td>0.0</td>\n",
              "      <td>0.0</td>\n",
              "      <td>0.0</td>\n",
              "      <td>0.0</td>\n",
              "      <td>0.0</td>\n",
              "      <td>0.0</td>\n",
              "      <td>0.0</td>\n",
              "      <td>0.0</td>\n",
              "      <td>0.0</td>\n",
              "      <td>0.0</td>\n",
              "      <td>0.0</td>\n",
              "      <td>0.0</td>\n",
              "      <td>0.0</td>\n",
              "      <td>0.0</td>\n",
              "      <td>0.0</td>\n",
              "      <td>0.0</td>\n",
              "      <td>0.0</td>\n",
              "      <td>0.0</td>\n",
              "      <td>0.0</td>\n",
              "      <td>0.0</td>\n",
              "      <td>0.0</td>\n",
              "      <td>0.0</td>\n",
              "      <td>0.0</td>\n",
              "      <td>0.0</td>\n",
              "      <td>0.0</td>\n",
              "      <td>0.0</td>\n",
              "      <td>0.0</td>\n",
              "      <td>0.0</td>\n",
              "      <td>0.0</td>\n",
              "    </tr>\n",
              "    <tr>\n",
              "      <th>4</th>\n",
              "      <td>0.0</td>\n",
              "      <td>0.0</td>\n",
              "      <td>0.0</td>\n",
              "      <td>0.0</td>\n",
              "      <td>0.0</td>\n",
              "      <td>0.0</td>\n",
              "      <td>0.0</td>\n",
              "      <td>0.0</td>\n",
              "      <td>0.0</td>\n",
              "      <td>0.0</td>\n",
              "      <td>0.0</td>\n",
              "      <td>0.0</td>\n",
              "      <td>0.0</td>\n",
              "      <td>0.0</td>\n",
              "      <td>0.0</td>\n",
              "      <td>0.0</td>\n",
              "      <td>0.0</td>\n",
              "      <td>0.0</td>\n",
              "      <td>0.0</td>\n",
              "      <td>0.0</td>\n",
              "      <td>0.0</td>\n",
              "      <td>0.0</td>\n",
              "      <td>0.0</td>\n",
              "      <td>0.0</td>\n",
              "      <td>0.0</td>\n",
              "      <td>0.0</td>\n",
              "      <td>0.0</td>\n",
              "      <td>0.0</td>\n",
              "      <td>0.0</td>\n",
              "      <td>0.0</td>\n",
              "      <td>0.0</td>\n",
              "      <td>0.0</td>\n",
              "      <td>0.0</td>\n",
              "      <td>0.0</td>\n",
              "      <td>0.0</td>\n",
              "      <td>0.0</td>\n",
              "      <td>0.0</td>\n",
              "      <td>0.0</td>\n",
              "      <td>0.0</td>\n",
              "      <td>0.0</td>\n",
              "      <td>...</td>\n",
              "      <td>0.0</td>\n",
              "      <td>0.0</td>\n",
              "      <td>0.0</td>\n",
              "      <td>0.0</td>\n",
              "      <td>0.0</td>\n",
              "      <td>0.0</td>\n",
              "      <td>0.0</td>\n",
              "      <td>0.0</td>\n",
              "      <td>0.0</td>\n",
              "      <td>0.0</td>\n",
              "      <td>0.0</td>\n",
              "      <td>0.0</td>\n",
              "      <td>0.0</td>\n",
              "      <td>0.0</td>\n",
              "      <td>0.0</td>\n",
              "      <td>0.0</td>\n",
              "      <td>0.0</td>\n",
              "      <td>0.0</td>\n",
              "      <td>0.0</td>\n",
              "      <td>0.0</td>\n",
              "      <td>0.0</td>\n",
              "      <td>0.0</td>\n",
              "      <td>0.0</td>\n",
              "      <td>0.0</td>\n",
              "      <td>0.0</td>\n",
              "      <td>0.0</td>\n",
              "      <td>0.0</td>\n",
              "      <td>0.0</td>\n",
              "      <td>0.0</td>\n",
              "      <td>0.0</td>\n",
              "      <td>0.0</td>\n",
              "      <td>0.0</td>\n",
              "      <td>0.0</td>\n",
              "      <td>0.0</td>\n",
              "      <td>0.0</td>\n",
              "      <td>0.0</td>\n",
              "      <td>0.0</td>\n",
              "      <td>0.0</td>\n",
              "      <td>0.0</td>\n",
              "      <td>0.0</td>\n",
              "    </tr>\n",
              "  </tbody>\n",
              "</table>\n",
              "<p>5 rows × 390 columns</p>\n",
              "</div>"
            ],
            "text/plain": [
              "   candide  dimon426   fa  fenikals  ...   ян  ярослав  яцек  ільків\n",
              "0      0.0       0.0  0.0       0.0  ...  0.0      0.0   0.0     0.0\n",
              "1      0.0       0.0  0.0       0.0  ...  0.0      0.0   0.0     0.0\n",
              "2      0.0       0.0  0.0       0.0  ...  0.0      0.0   0.0     0.0\n",
              "3      0.0       0.0  0.0       0.0  ...  0.0      0.0   0.0     0.0\n",
              "4      0.0       0.0  0.0       0.0  ...  0.0      0.0   0.0     0.0\n",
              "\n",
              "[5 rows x 390 columns]"
            ]
          },
          "metadata": {
            "tags": []
          },
          "execution_count": 84
        }
      ]
    },
    {
      "cell_type": "code",
      "metadata": {
        "id": "8EC3e7_1PfiF",
        "colab_type": "code",
        "colab": {}
      },
      "source": [
        "# Instantiating the model to cluster in 5 (we tried different k and this made the most \n",
        "# sense of all)\n",
        "true_kad = 20\n",
        "kmmodelad = KMeans(true_kad, random_state=17)"
      ],
      "execution_count": 0,
      "outputs": []
    },
    {
      "cell_type": "code",
      "metadata": {
        "id": "FicR0jYYPpSh",
        "colab_type": "code",
        "outputId": "4b50879b-1713-43e0-fb00-ed208d5d3839",
        "colab": {
          "base_uri": "https://localhost:8080/",
          "height": 68
        }
      },
      "source": [
        "# Fiting the model to our authors \n",
        "kmmodelad.fit(author_frequency)"
      ],
      "execution_count": 0,
      "outputs": [
        {
          "output_type": "execute_result",
          "data": {
            "text/plain": [
              "KMeans(algorithm='auto', copy_x=True, init='k-means++', max_iter=300,\n",
              "       n_clusters=20, n_init=10, n_jobs=None, precompute_distances='auto',\n",
              "       random_state=17, tol=0.0001, verbose=0)"
            ]
          },
          "metadata": {
            "tags": []
          },
          "execution_count": 86
        }
      ]
    },
    {
      "cell_type": "code",
      "metadata": {
        "id": "zEETTTMTPtoc",
        "colab_type": "code",
        "colab": {}
      },
      "source": [
        "# Getting centroids.\n",
        "author_centroids = kmmodelad.cluster_centers_.argsort()[:, ::-1]"
      ],
      "execution_count": 0,
      "outputs": []
    },
    {
      "cell_type": "code",
      "metadata": {
        "id": "-BkQt3zgPyR1",
        "colab_type": "code",
        "colab": {}
      },
      "source": [
        "# Trying to see the words. \n",
        "authorsnames = tfidfvectorizerad.get_feature_names()"
      ],
      "execution_count": 0,
      "outputs": []
    },
    {
      "cell_type": "code",
      "metadata": {
        "id": "ikCn5C89P3gb",
        "colab_type": "code",
        "outputId": "729749b3-c033-470a-e6c8-118ad11be6ce",
        "colab": {
          "base_uri": "https://localhost:8080/",
          "height": 1000
        }
      },
      "source": [
        "# Trying to see how the words are clustered\n",
        "for i in range(true_kad):\n",
        "    print('Cluster %d:' % i),\n",
        "    for ind in author_centroids[i, :5]:\n",
        "        print('%s' % authorsnames[ind])"
      ],
      "execution_count": 0,
      "outputs": [
        {
          "output_type": "stream",
          "text": [
            "Cluster 0:\n",
            "егор\n",
            "николай\n",
            "гайдай\n",
            "константин\n",
            "крымов\n",
            "Cluster 1:\n",
            "none\n",
            "ільків\n",
            "дождь\n",
            "джугашвили\n",
            "джулиан\n",
            "Cluster 2:\n",
            "манн\n",
            "виталий\n",
            "ільків\n",
            "добрыня\n",
            "джугашвили\n",
            "Cluster 3:\n",
            "гонтермахер\n",
            "борис\n",
            "ільків\n",
            "дождь\n",
            "джулиан\n",
            "Cluster 4:\n",
            "рубенштейн\n",
            "бронислав\n",
            "довганюк\n",
            "джованни\n",
            "джугашвили\n",
            "Cluster 5:\n",
            "фрейденберг\n",
            "максим\n",
            "дождь\n",
            "джугашвили\n",
            "джулиан\n",
            "Cluster 6:\n",
            "гедиминас\n",
            "кагановичюс\n",
            "ільків\n",
            "довганюк\n",
            "джугашвили\n",
            "Cluster 7:\n",
            "саймон\n",
            "пирч\n",
            "ільків\n",
            "довганюк\n",
            "джугашвили\n",
            "Cluster 8:\n",
            "касаткин\n",
            "григорий\n",
            "дождь\n",
            "джугашвили\n",
            "джулиан\n",
            "Cluster 9:\n",
            "надежда\n",
            "абманчева\n",
            "довганюк\n",
            "джугашвили\n",
            "джулиан\n",
            "Cluster 10:\n",
            "джавадов\n",
            "вагиф\n",
            "ільків\n",
            "дождь\n",
            "джулиан\n",
            "Cluster 11:\n",
            "васильеостровский\n",
            "илья\n",
            "ільків\n",
            "довганюк\n",
            "джулиан\n",
            "Cluster 12:\n",
            "марк\n",
            "хлестаков\n",
            "наргин\n",
            "жан\n",
            "ефим\n",
            "Cluster 13:\n",
            "тарашкевич\n",
            "изяслав\n",
            "ільків\n",
            "добрыня\n",
            "джугашвили\n",
            "Cluster 14:\n",
            "андрей\n",
            "ренье\n",
            "фарбер\n",
            "коракаран\n",
            "глазик\n",
            "Cluster 15:\n",
            "крестовоздвиженский\n",
            "эммануил\n",
            "щекочихин\n",
            "ільків\n",
            "довганюк\n",
            "Cluster 16:\n",
            "жидков\n",
            "соломон\n",
            "добрыня\n",
            "джованни\n",
            "джугашвили\n",
            "Cluster 17:\n",
            "артемий\n",
            "дилевич\n",
            "неполживцев\n",
            "ільків\n",
            "дождь\n",
            "Cluster 18:\n",
            "гермослав\n",
            "томилин\n",
            "добрыня\n",
            "джованни\n",
            "джугашвили\n",
            "Cluster 19:\n",
            "мицкелюнас\n",
            "антон\n",
            "ільків\n",
            "дождь\n",
            "джулиан\n"
          ],
          "name": "stdout"
        }
      ]
    },
    {
      "cell_type": "code",
      "metadata": {
        "id": "by67Co9XQJE2",
        "colab_type": "code",
        "outputId": "c880581e-bd3b-43ad-db2e-800e9eff0882",
        "colab": {
          "base_uri": "https://localhost:8080/",
          "height": 34
        }
      },
      "source": [
        "# Getting the cluster predictions\n",
        "kmmodelad.labels_"
      ],
      "execution_count": 0,
      "outputs": [
        {
          "output_type": "execute_result",
          "data": {
            "text/plain": [
              "array([2, 4, 2, ..., 1, 1, 1], dtype=int32)"
            ]
          },
          "metadata": {
            "tags": []
          },
          "execution_count": 90
        }
      ]
    },
    {
      "cell_type": "code",
      "metadata": {
        "id": "2Vzv_n2FQMoe",
        "colab_type": "code",
        "colab": {}
      },
      "source": [
        "# Adding them as a column to the original dataframe \n",
        "data['author_km_cluster'] = kmmodelad.labels_"
      ],
      "execution_count": 0,
      "outputs": []
    },
    {
      "cell_type": "code",
      "metadata": {
        "id": "jP4cW4JeQR6p",
        "colab_type": "code",
        "outputId": "3c17927c-2643-4dde-af6b-d2e3cff2a3fc",
        "colab": {
          "base_uri": "https://localhost:8080/",
          "height": 374
        }
      },
      "source": [
        "data['author_km_cluster'].value_counts()"
      ],
      "execution_count": 0,
      "outputs": [
        {
          "output_type": "execute_result",
          "data": {
            "text/plain": [
              "1     2052\n",
              "2      954\n",
              "3      470\n",
              "0      454\n",
              "4      361\n",
              "5       78\n",
              "6       64\n",
              "13      59\n",
              "8       58\n",
              "12      57\n",
              "16      51\n",
              "18      44\n",
              "14      37\n",
              "19      36\n",
              "7       36\n",
              "15      33\n",
              "11      28\n",
              "10      24\n",
              "9       15\n",
              "17      11\n",
              "Name: author_km_cluster, dtype: int64"
            ]
          },
          "metadata": {
            "tags": []
          },
          "execution_count": 92
        }
      ]
    },
    {
      "cell_type": "markdown",
      "metadata": {
        "id": "JJGUpBwHQatG",
        "colab_type": "text"
      },
      "source": [
        "### Using DBSCAN:"
      ]
    },
    {
      "cell_type": "code",
      "metadata": {
        "id": "oR8N6ia0QcBc",
        "colab_type": "code",
        "colab": {}
      },
      "source": [
        "# Instantiating DBSCAN. I increased epsilon and minimum samples to get a somewhat reasonable\n",
        "# amount of samples. With the standard parameters, I get 241 clusters. With these \n",
        "# we get 21 clusters. \n",
        "dbscanmodelad = DBSCAN(eps=0.5, min_samples=30)"
      ],
      "execution_count": 0,
      "outputs": []
    },
    {
      "cell_type": "code",
      "metadata": {
        "id": "EDsQExeRQgSq",
        "colab_type": "code",
        "outputId": "89fbeb60-f009-413e-89bd-dbc756923d00",
        "colab": {
          "base_uri": "https://localhost:8080/",
          "height": 51
        }
      },
      "source": [
        "# Fitting DBSCAN\n",
        "dbscanmodelad.fit(author_frequency)"
      ],
      "execution_count": 0,
      "outputs": [
        {
          "output_type": "execute_result",
          "data": {
            "text/plain": [
              "DBSCAN(algorithm='auto', eps=0.5, leaf_size=30, metric='euclidean',\n",
              "       metric_params=None, min_samples=30, n_jobs=None, p=None)"
            ]
          },
          "metadata": {
            "tags": []
          },
          "execution_count": 94
        }
      ]
    },
    {
      "cell_type": "code",
      "metadata": {
        "id": "CobXwjXsQkPV",
        "colab_type": "code",
        "outputId": "a28cd6d1-aa0e-40e2-b146-cee9a45c50e4",
        "colab": {
          "base_uri": "https://localhost:8080/",
          "height": 34
        }
      },
      "source": [
        "# Looking at the numbers of clusters. \n",
        "set(dbscanmodelad.labels_)"
      ],
      "execution_count": 0,
      "outputs": [
        {
          "output_type": "execute_result",
          "data": {
            "text/plain": [
              "{-1, 0, 1, 2, 3, 4, 5, 6, 7, 8, 9, 10, 11, 12, 13}"
            ]
          },
          "metadata": {
            "tags": []
          },
          "execution_count": 95
        }
      ]
    },
    {
      "cell_type": "code",
      "metadata": {
        "id": "x2Pw4lemQm2e",
        "colab_type": "code",
        "colab": {}
      },
      "source": [
        "data['author_dbscan_cluster'] = dbscanmodelad.labels_"
      ],
      "execution_count": 0,
      "outputs": []
    },
    {
      "cell_type": "code",
      "metadata": {
        "id": "QFXAJWeoQqsA",
        "colab_type": "code",
        "outputId": "7a59944f-dd2b-4755-a0c0-2d065d6f1813",
        "colab": {
          "base_uri": "https://localhost:8080/",
          "height": 547
        }
      },
      "source": [
        "data.head()"
      ],
      "execution_count": 0,
      "outputs": [
        {
          "output_type": "execute_result",
          "data": {
            "text/html": [
              "<div>\n",
              "<style scoped>\n",
              "    .dataframe tbody tr th:only-of-type {\n",
              "        vertical-align: middle;\n",
              "    }\n",
              "\n",
              "    .dataframe tbody tr th {\n",
              "        vertical-align: top;\n",
              "    }\n",
              "\n",
              "    .dataframe thead th {\n",
              "        text-align: right;\n",
              "    }\n",
              "</style>\n",
              "<table border=\"1\" class=\"dataframe\">\n",
              "  <thead>\n",
              "    <tr style=\"text-align: right;\">\n",
              "      <th></th>\n",
              "      <th>id</th>\n",
              "      <th>url</th>\n",
              "      <th>title</th>\n",
              "      <th>content</th>\n",
              "      <th>author</th>\n",
              "      <th>date</th>\n",
              "      <th>tags</th>\n",
              "      <th>type_of_article</th>\n",
              "      <th>tag_km_cluster</th>\n",
              "      <th>tag_dbscan_cluster</th>\n",
              "      <th>author_km_cluster</th>\n",
              "      <th>author_dbscan_cluster</th>\n",
              "    </tr>\n",
              "  </thead>\n",
              "  <tbody>\n",
              "    <tr>\n",
              "      <th>0</th>\n",
              "      <td>0</td>\n",
              "      <td>https://panorama.pub/28367-rossiyanam-zapretya...</td>\n",
              "      <td>Россиянам запретят выкладывать в интернет непр...</td>\n",
              "      <td>В Госдуму внесён законопроект о «Защите положи...</td>\n",
              "      <td>Виталий Манн</td>\n",
              "      <td>2019-12-19</td>\n",
              "      <td>Политика</td>\n",
              "      <td>fake</td>\n",
              "      <td>2</td>\n",
              "      <td>0</td>\n",
              "      <td>2</td>\n",
              "      <td>0</td>\n",
              "    </tr>\n",
              "    <tr>\n",
              "      <th>1</th>\n",
              "      <td>1</td>\n",
              "      <td>https://panorama.pub/28365-amerikanskij-genera...</td>\n",
              "      <td>Американский генерал заявил о готовности стрел...</td>\n",
              "      <td>Командующий войсками Округа Колумбия генерал-л...</td>\n",
              "      <td>Бронислав Рубенштейн</td>\n",
              "      <td>2019-12-19</td>\n",
              "      <td>Политика</td>\n",
              "      <td>fake</td>\n",
              "      <td>2</td>\n",
              "      <td>0</td>\n",
              "      <td>4</td>\n",
              "      <td>1</td>\n",
              "    </tr>\n",
              "    <tr>\n",
              "      <th>2</th>\n",
              "      <td>2</td>\n",
              "      <td>https://panorama.pub/28356-donald-tramp-pohval...</td>\n",
              "      <td>Дональд Трамп похвалил Сталина</td>\n",
              "      <td>Президент США Дональд Трамп, отвечая на вопрос...</td>\n",
              "      <td>Виталий Манн</td>\n",
              "      <td>2019-12-19</td>\n",
              "      <td>Политика</td>\n",
              "      <td>fake</td>\n",
              "      <td>2</td>\n",
              "      <td>0</td>\n",
              "      <td>2</td>\n",
              "      <td>0</td>\n",
              "    </tr>\n",
              "    <tr>\n",
              "      <th>3</th>\n",
              "      <td>3</td>\n",
              "      <td>https://panorama.pub/27498-formalnym-osnovanie...</td>\n",
              "      <td>Формальным основанием для импичмента Трампа ст...</td>\n",
              "      <td>Палата представителей США определилась с форму...</td>\n",
              "      <td>Бронислав Рубенштейн</td>\n",
              "      <td>2019-12-18</td>\n",
              "      <td>Политика</td>\n",
              "      <td>fake</td>\n",
              "      <td>2</td>\n",
              "      <td>0</td>\n",
              "      <td>4</td>\n",
              "      <td>1</td>\n",
              "    </tr>\n",
              "    <tr>\n",
              "      <th>4</th>\n",
              "      <td>4</td>\n",
              "      <td>https://panorama.pub/28237-iran-oshibochno-pod...</td>\n",
              "      <td>Иранские моряки по ошибке подавили протесты в ...</td>\n",
              "      <td>Признавая, что они были полностью сбиты массой...</td>\n",
              "      <td>Диана Арутюнян</td>\n",
              "      <td>2019-12-18</td>\n",
              "      <td>Политика</td>\n",
              "      <td>fake</td>\n",
              "      <td>2</td>\n",
              "      <td>0</td>\n",
              "      <td>0</td>\n",
              "      <td>-1</td>\n",
              "    </tr>\n",
              "  </tbody>\n",
              "</table>\n",
              "</div>"
            ],
            "text/plain": [
              "  id  ... author_dbscan_cluster\n",
              "0  0  ...                     0\n",
              "1  1  ...                     1\n",
              "2  2  ...                     0\n",
              "3  3  ...                     1\n",
              "4  4  ...                    -1\n",
              "\n",
              "[5 rows x 12 columns]"
            ]
          },
          "metadata": {
            "tags": []
          },
          "execution_count": 97
        }
      ]
    },
    {
      "cell_type": "markdown",
      "metadata": {
        "id": "F_9bbDVMQw3c",
        "colab_type": "text"
      },
      "source": [
        "### **Clustering by articles**"
      ]
    },
    {
      "cell_type": "code",
      "metadata": {
        "id": "5uB3RLtNQ0FA",
        "colab_type": "code",
        "outputId": "1d726ef1-86cf-4f6b-a110-e8e4fc8bed3c",
        "colab": {
          "base_uri": "https://localhost:8080/",
          "height": 221
        }
      },
      "source": [
        "# Looking at the content column \n",
        "data['content']"
      ],
      "execution_count": 0,
      "outputs": [
        {
          "output_type": "execute_result",
          "data": {
            "text/plain": [
              "0       В Госдуму внесён законопроект о «Защите положи...\n",
              "1       Командующий войсками Округа Колумбия генерал-л...\n",
              "2       Президент США Дональд Трамп, отвечая на вопрос...\n",
              "3       Палата представителей США определилась с форму...\n",
              "4       Признавая, что они были полностью сбиты массой...\n",
              "                              ...                        \n",
              "4917    ХАНТЫ-МАНСИЙСК, 18 дек - РИА Новости. Ученые в...\n",
              "4918    МОСКВА, 18 дек — РИА Новости. Ученые Крымского...\n",
              "4919    МОСКВА, 18 дек — РИА Новости. Ученые Московско...\n",
              "4920    МОСКВА, 18 дек — РИА Новости. Ученые Самарског...\n",
              "4921    МОСКВА, 18 дек — РИА Новости, Татьяна Пичугина...\n",
              "Name: content, Length: 4922, dtype: object"
            ]
          },
          "metadata": {
            "tags": []
          },
          "execution_count": 98
        }
      ]
    },
    {
      "cell_type": "code",
      "metadata": {
        "id": "j5esKktrQ9h3",
        "colab_type": "code",
        "colab": {}
      },
      "source": [
        "articles = data['content']"
      ],
      "execution_count": 0,
      "outputs": []
    },
    {
      "cell_type": "markdown",
      "metadata": {
        "id": "GmTu9BReRFP8",
        "colab_type": "text"
      },
      "source": [
        "### TFIDF Vectorizing using ngram(1,1):"
      ]
    },
    {
      "cell_type": "code",
      "metadata": {
        "id": "NekcInoNRC4O",
        "colab_type": "code",
        "colab": {}
      },
      "source": [
        "# Instantiating the vectorizer with ngram(1,1) to start. Will subsequently try a couple of \n",
        "# ngrams. \n",
        "tfidfvect_text = TfidfVectorizer(\n",
        "    # strip_accents='ascii', \n",
        "    stop_words = stopwords.words('russian'),\n",
        "    token_pattern = r'[а-яА-Я]+', \n",
        "    min_df = 3,\n",
        "    ngram_range=(1,1)\n",
        ")"
      ],
      "execution_count": 0,
      "outputs": []
    },
    {
      "cell_type": "code",
      "metadata": {
        "id": "zHO2zt_MRiJY",
        "colab_type": "code",
        "colab": {}
      },
      "source": [
        "# Fitting the vectorizer\n",
        "articleword_freq1 = tfidfvect_text.fit_transform(articles)"
      ],
      "execution_count": 0,
      "outputs": []
    },
    {
      "cell_type": "code",
      "metadata": {
        "id": "MmGHRV-PRmW5",
        "colab_type": "code",
        "colab": {}
      },
      "source": [
        "# Setting the sparse matrix as a dataframe  \n",
        "articlewordfreq_df1= pd.DataFrame(articleword_freq1.todense(), columns = tfidfvect_text.get_feature_names())"
      ],
      "execution_count": 0,
      "outputs": []
    },
    {
      "cell_type": "code",
      "metadata": {
        "id": "51JNDspaRyoL",
        "colab_type": "code",
        "outputId": "38194616-fe25-49c2-c05e-d2734e046cc3",
        "colab": {
          "base_uri": "https://localhost:8080/",
          "height": 34
        }
      },
      "source": [
        "articlewordfreq_df1.shape"
      ],
      "execution_count": 0,
      "outputs": [
        {
          "output_type": "execute_result",
          "data": {
            "text/plain": [
              "(4922, 24138)"
            ]
          },
          "metadata": {
            "tags": []
          },
          "execution_count": 113
        }
      ]
    },
    {
      "cell_type": "code",
      "metadata": {
        "id": "rRNzIZXPR15y",
        "colab_type": "code",
        "outputId": "efa963ae-6397-4d1b-c918-5bfbfe50d12e",
        "colab": {
          "base_uri": "https://localhost:8080/",
          "height": 253
        }
      },
      "source": [
        "# Looking at the words \n",
        "articlewordfreq_df1.head()"
      ],
      "execution_count": 0,
      "outputs": [
        {
          "output_type": "execute_result",
          "data": {
            "text/html": [
              "<div>\n",
              "<style scoped>\n",
              "    .dataframe tbody tr th:only-of-type {\n",
              "        vertical-align: middle;\n",
              "    }\n",
              "\n",
              "    .dataframe tbody tr th {\n",
              "        vertical-align: top;\n",
              "    }\n",
              "\n",
              "    .dataframe thead th {\n",
              "        text-align: right;\n",
              "    }\n",
              "</style>\n",
              "<table border=\"1\" class=\"dataframe\">\n",
              "  <thead>\n",
              "    <tr style=\"text-align: right;\">\n",
              "      <th></th>\n",
              "      <th>абдул</th>\n",
              "      <th>абдула</th>\n",
              "      <th>абдулла</th>\n",
              "      <th>абитуриентов</th>\n",
              "      <th>абортов</th>\n",
              "      <th>аборты</th>\n",
              "      <th>абрамович</th>\n",
              "      <th>абрахам</th>\n",
              "      <th>абсолютно</th>\n",
              "      <th>абсолютной</th>\n",
              "      <th>абсолютный</th>\n",
              "      <th>абсолютным</th>\n",
              "      <th>абсурдной</th>\n",
              "      <th>абу</th>\n",
              "      <th>абхазии</th>\n",
              "      <th>абэ</th>\n",
              "      <th>авангарде</th>\n",
              "      <th>авансовых</th>\n",
              "      <th>аварии</th>\n",
              "      <th>аварийность</th>\n",
              "      <th>август</th>\n",
              "      <th>августа</th>\n",
              "      <th>августе</th>\n",
              "      <th>августовского</th>\n",
              "      <th>авиа</th>\n",
              "      <th>авиакомпании</th>\n",
              "      <th>авиакомпаний</th>\n",
              "      <th>авианосец</th>\n",
              "      <th>авианосца</th>\n",
              "      <th>авиарейсов</th>\n",
              "      <th>авиации</th>\n",
              "      <th>авиационных</th>\n",
              "      <th>авиацию</th>\n",
              "      <th>авива</th>\n",
              "      <th>авиве</th>\n",
              "      <th>авраам</th>\n",
              "      <th>австралии</th>\n",
              "      <th>австралийских</th>\n",
              "      <th>австралийского</th>\n",
              "      <th>австралийцев</th>\n",
              "      <th>...</th>\n",
              "      <th>японии</th>\n",
              "      <th>японию</th>\n",
              "      <th>япония</th>\n",
              "      <th>японская</th>\n",
              "      <th>японски</th>\n",
              "      <th>японские</th>\n",
              "      <th>японский</th>\n",
              "      <th>японским</th>\n",
              "      <th>японских</th>\n",
              "      <th>японского</th>\n",
              "      <th>японское</th>\n",
              "      <th>японской</th>\n",
              "      <th>японском</th>\n",
              "      <th>японцам</th>\n",
              "      <th>японцев</th>\n",
              "      <th>японцы</th>\n",
              "      <th>ярд</th>\n",
              "      <th>яркие</th>\n",
              "      <th>яркий</th>\n",
              "      <th>ярким</th>\n",
              "      <th>яркой</th>\n",
              "      <th>яркости</th>\n",
              "      <th>яркость</th>\n",
              "      <th>ярмарки</th>\n",
              "      <th>ярослав</th>\n",
              "      <th>ярославля</th>\n",
              "      <th>ярыми</th>\n",
              "      <th>ясно</th>\n",
              "      <th>яхт</th>\n",
              "      <th>яхте</th>\n",
              "      <th>яхту</th>\n",
              "      <th>яцека</th>\n",
              "      <th>ячейки</th>\n",
              "      <th>ячмень</th>\n",
              "      <th>яшкинский</th>\n",
              "      <th>яшмоидов</th>\n",
              "      <th>ящик</th>\n",
              "      <th>ящика</th>\n",
              "      <th>ящике</th>\n",
              "      <th>ящиков</th>\n",
              "    </tr>\n",
              "  </thead>\n",
              "  <tbody>\n",
              "    <tr>\n",
              "      <th>0</th>\n",
              "      <td>0.0</td>\n",
              "      <td>0.0</td>\n",
              "      <td>0.0</td>\n",
              "      <td>0.0</td>\n",
              "      <td>0.0</td>\n",
              "      <td>0.0</td>\n",
              "      <td>0.0</td>\n",
              "      <td>0.0</td>\n",
              "      <td>0.0</td>\n",
              "      <td>0.0</td>\n",
              "      <td>0.0</td>\n",
              "      <td>0.0</td>\n",
              "      <td>0.0</td>\n",
              "      <td>0.0</td>\n",
              "      <td>0.0</td>\n",
              "      <td>0.0</td>\n",
              "      <td>0.0</td>\n",
              "      <td>0.0</td>\n",
              "      <td>0.0</td>\n",
              "      <td>0.0</td>\n",
              "      <td>0.0</td>\n",
              "      <td>0.0</td>\n",
              "      <td>0.0</td>\n",
              "      <td>0.0</td>\n",
              "      <td>0.0</td>\n",
              "      <td>0.0</td>\n",
              "      <td>0.0</td>\n",
              "      <td>0.0</td>\n",
              "      <td>0.0</td>\n",
              "      <td>0.0</td>\n",
              "      <td>0.0</td>\n",
              "      <td>0.0</td>\n",
              "      <td>0.0</td>\n",
              "      <td>0.0</td>\n",
              "      <td>0.0</td>\n",
              "      <td>0.0</td>\n",
              "      <td>0.0</td>\n",
              "      <td>0.0</td>\n",
              "      <td>0.0</td>\n",
              "      <td>0.0</td>\n",
              "      <td>...</td>\n",
              "      <td>0.0</td>\n",
              "      <td>0.0</td>\n",
              "      <td>0.0</td>\n",
              "      <td>0.0</td>\n",
              "      <td>0.0</td>\n",
              "      <td>0.0</td>\n",
              "      <td>0.0</td>\n",
              "      <td>0.0</td>\n",
              "      <td>0.0</td>\n",
              "      <td>0.0</td>\n",
              "      <td>0.0</td>\n",
              "      <td>0.0</td>\n",
              "      <td>0.0</td>\n",
              "      <td>0.0</td>\n",
              "      <td>0.0</td>\n",
              "      <td>0.0</td>\n",
              "      <td>0.0</td>\n",
              "      <td>0.0</td>\n",
              "      <td>0.0</td>\n",
              "      <td>0.0</td>\n",
              "      <td>0.0</td>\n",
              "      <td>0.0</td>\n",
              "      <td>0.0</td>\n",
              "      <td>0.0</td>\n",
              "      <td>0.0</td>\n",
              "      <td>0.0</td>\n",
              "      <td>0.0</td>\n",
              "      <td>0.0</td>\n",
              "      <td>0.0</td>\n",
              "      <td>0.0</td>\n",
              "      <td>0.0</td>\n",
              "      <td>0.0</td>\n",
              "      <td>0.0</td>\n",
              "      <td>0.0</td>\n",
              "      <td>0.0</td>\n",
              "      <td>0.0</td>\n",
              "      <td>0.0</td>\n",
              "      <td>0.0</td>\n",
              "      <td>0.0</td>\n",
              "      <td>0.0</td>\n",
              "    </tr>\n",
              "    <tr>\n",
              "      <th>1</th>\n",
              "      <td>0.0</td>\n",
              "      <td>0.0</td>\n",
              "      <td>0.0</td>\n",
              "      <td>0.0</td>\n",
              "      <td>0.0</td>\n",
              "      <td>0.0</td>\n",
              "      <td>0.0</td>\n",
              "      <td>0.0</td>\n",
              "      <td>0.0</td>\n",
              "      <td>0.0</td>\n",
              "      <td>0.0</td>\n",
              "      <td>0.0</td>\n",
              "      <td>0.0</td>\n",
              "      <td>0.0</td>\n",
              "      <td>0.0</td>\n",
              "      <td>0.0</td>\n",
              "      <td>0.0</td>\n",
              "      <td>0.0</td>\n",
              "      <td>0.0</td>\n",
              "      <td>0.0</td>\n",
              "      <td>0.0</td>\n",
              "      <td>0.0</td>\n",
              "      <td>0.0</td>\n",
              "      <td>0.0</td>\n",
              "      <td>0.0</td>\n",
              "      <td>0.0</td>\n",
              "      <td>0.0</td>\n",
              "      <td>0.0</td>\n",
              "      <td>0.0</td>\n",
              "      <td>0.0</td>\n",
              "      <td>0.0</td>\n",
              "      <td>0.0</td>\n",
              "      <td>0.0</td>\n",
              "      <td>0.0</td>\n",
              "      <td>0.0</td>\n",
              "      <td>0.0</td>\n",
              "      <td>0.0</td>\n",
              "      <td>0.0</td>\n",
              "      <td>0.0</td>\n",
              "      <td>0.0</td>\n",
              "      <td>...</td>\n",
              "      <td>0.0</td>\n",
              "      <td>0.0</td>\n",
              "      <td>0.0</td>\n",
              "      <td>0.0</td>\n",
              "      <td>0.0</td>\n",
              "      <td>0.0</td>\n",
              "      <td>0.0</td>\n",
              "      <td>0.0</td>\n",
              "      <td>0.0</td>\n",
              "      <td>0.0</td>\n",
              "      <td>0.0</td>\n",
              "      <td>0.0</td>\n",
              "      <td>0.0</td>\n",
              "      <td>0.0</td>\n",
              "      <td>0.0</td>\n",
              "      <td>0.0</td>\n",
              "      <td>0.0</td>\n",
              "      <td>0.0</td>\n",
              "      <td>0.0</td>\n",
              "      <td>0.0</td>\n",
              "      <td>0.0</td>\n",
              "      <td>0.0</td>\n",
              "      <td>0.0</td>\n",
              "      <td>0.0</td>\n",
              "      <td>0.0</td>\n",
              "      <td>0.0</td>\n",
              "      <td>0.0</td>\n",
              "      <td>0.0</td>\n",
              "      <td>0.0</td>\n",
              "      <td>0.0</td>\n",
              "      <td>0.0</td>\n",
              "      <td>0.0</td>\n",
              "      <td>0.0</td>\n",
              "      <td>0.0</td>\n",
              "      <td>0.0</td>\n",
              "      <td>0.0</td>\n",
              "      <td>0.0</td>\n",
              "      <td>0.0</td>\n",
              "      <td>0.0</td>\n",
              "      <td>0.0</td>\n",
              "    </tr>\n",
              "    <tr>\n",
              "      <th>2</th>\n",
              "      <td>0.0</td>\n",
              "      <td>0.0</td>\n",
              "      <td>0.0</td>\n",
              "      <td>0.0</td>\n",
              "      <td>0.0</td>\n",
              "      <td>0.0</td>\n",
              "      <td>0.0</td>\n",
              "      <td>0.0</td>\n",
              "      <td>0.0</td>\n",
              "      <td>0.0</td>\n",
              "      <td>0.0</td>\n",
              "      <td>0.0</td>\n",
              "      <td>0.0</td>\n",
              "      <td>0.0</td>\n",
              "      <td>0.0</td>\n",
              "      <td>0.0</td>\n",
              "      <td>0.0</td>\n",
              "      <td>0.0</td>\n",
              "      <td>0.0</td>\n",
              "      <td>0.0</td>\n",
              "      <td>0.0</td>\n",
              "      <td>0.0</td>\n",
              "      <td>0.0</td>\n",
              "      <td>0.0</td>\n",
              "      <td>0.0</td>\n",
              "      <td>0.0</td>\n",
              "      <td>0.0</td>\n",
              "      <td>0.0</td>\n",
              "      <td>0.0</td>\n",
              "      <td>0.0</td>\n",
              "      <td>0.0</td>\n",
              "      <td>0.0</td>\n",
              "      <td>0.0</td>\n",
              "      <td>0.0</td>\n",
              "      <td>0.0</td>\n",
              "      <td>0.0</td>\n",
              "      <td>0.0</td>\n",
              "      <td>0.0</td>\n",
              "      <td>0.0</td>\n",
              "      <td>0.0</td>\n",
              "      <td>...</td>\n",
              "      <td>0.0</td>\n",
              "      <td>0.0</td>\n",
              "      <td>0.0</td>\n",
              "      <td>0.0</td>\n",
              "      <td>0.0</td>\n",
              "      <td>0.0</td>\n",
              "      <td>0.0</td>\n",
              "      <td>0.0</td>\n",
              "      <td>0.0</td>\n",
              "      <td>0.0</td>\n",
              "      <td>0.0</td>\n",
              "      <td>0.0</td>\n",
              "      <td>0.0</td>\n",
              "      <td>0.0</td>\n",
              "      <td>0.0</td>\n",
              "      <td>0.0</td>\n",
              "      <td>0.0</td>\n",
              "      <td>0.0</td>\n",
              "      <td>0.0</td>\n",
              "      <td>0.0</td>\n",
              "      <td>0.0</td>\n",
              "      <td>0.0</td>\n",
              "      <td>0.0</td>\n",
              "      <td>0.0</td>\n",
              "      <td>0.0</td>\n",
              "      <td>0.0</td>\n",
              "      <td>0.0</td>\n",
              "      <td>0.0</td>\n",
              "      <td>0.0</td>\n",
              "      <td>0.0</td>\n",
              "      <td>0.0</td>\n",
              "      <td>0.0</td>\n",
              "      <td>0.0</td>\n",
              "      <td>0.0</td>\n",
              "      <td>0.0</td>\n",
              "      <td>0.0</td>\n",
              "      <td>0.0</td>\n",
              "      <td>0.0</td>\n",
              "      <td>0.0</td>\n",
              "      <td>0.0</td>\n",
              "    </tr>\n",
              "    <tr>\n",
              "      <th>3</th>\n",
              "      <td>0.0</td>\n",
              "      <td>0.0</td>\n",
              "      <td>0.0</td>\n",
              "      <td>0.0</td>\n",
              "      <td>0.0</td>\n",
              "      <td>0.0</td>\n",
              "      <td>0.0</td>\n",
              "      <td>0.0</td>\n",
              "      <td>0.0</td>\n",
              "      <td>0.0</td>\n",
              "      <td>0.0</td>\n",
              "      <td>0.0</td>\n",
              "      <td>0.0</td>\n",
              "      <td>0.0</td>\n",
              "      <td>0.0</td>\n",
              "      <td>0.0</td>\n",
              "      <td>0.0</td>\n",
              "      <td>0.0</td>\n",
              "      <td>0.0</td>\n",
              "      <td>0.0</td>\n",
              "      <td>0.0</td>\n",
              "      <td>0.0</td>\n",
              "      <td>0.0</td>\n",
              "      <td>0.0</td>\n",
              "      <td>0.0</td>\n",
              "      <td>0.0</td>\n",
              "      <td>0.0</td>\n",
              "      <td>0.0</td>\n",
              "      <td>0.0</td>\n",
              "      <td>0.0</td>\n",
              "      <td>0.0</td>\n",
              "      <td>0.0</td>\n",
              "      <td>0.0</td>\n",
              "      <td>0.0</td>\n",
              "      <td>0.0</td>\n",
              "      <td>0.0</td>\n",
              "      <td>0.0</td>\n",
              "      <td>0.0</td>\n",
              "      <td>0.0</td>\n",
              "      <td>0.0</td>\n",
              "      <td>...</td>\n",
              "      <td>0.0</td>\n",
              "      <td>0.0</td>\n",
              "      <td>0.0</td>\n",
              "      <td>0.0</td>\n",
              "      <td>0.0</td>\n",
              "      <td>0.0</td>\n",
              "      <td>0.0</td>\n",
              "      <td>0.0</td>\n",
              "      <td>0.0</td>\n",
              "      <td>0.0</td>\n",
              "      <td>0.0</td>\n",
              "      <td>0.0</td>\n",
              "      <td>0.0</td>\n",
              "      <td>0.0</td>\n",
              "      <td>0.0</td>\n",
              "      <td>0.0</td>\n",
              "      <td>0.0</td>\n",
              "      <td>0.0</td>\n",
              "      <td>0.0</td>\n",
              "      <td>0.0</td>\n",
              "      <td>0.0</td>\n",
              "      <td>0.0</td>\n",
              "      <td>0.0</td>\n",
              "      <td>0.0</td>\n",
              "      <td>0.0</td>\n",
              "      <td>0.0</td>\n",
              "      <td>0.0</td>\n",
              "      <td>0.0</td>\n",
              "      <td>0.0</td>\n",
              "      <td>0.0</td>\n",
              "      <td>0.0</td>\n",
              "      <td>0.0</td>\n",
              "      <td>0.0</td>\n",
              "      <td>0.0</td>\n",
              "      <td>0.0</td>\n",
              "      <td>0.0</td>\n",
              "      <td>0.0</td>\n",
              "      <td>0.0</td>\n",
              "      <td>0.0</td>\n",
              "      <td>0.0</td>\n",
              "    </tr>\n",
              "    <tr>\n",
              "      <th>4</th>\n",
              "      <td>0.0</td>\n",
              "      <td>0.0</td>\n",
              "      <td>0.0</td>\n",
              "      <td>0.0</td>\n",
              "      <td>0.0</td>\n",
              "      <td>0.0</td>\n",
              "      <td>0.0</td>\n",
              "      <td>0.0</td>\n",
              "      <td>0.0</td>\n",
              "      <td>0.0</td>\n",
              "      <td>0.0</td>\n",
              "      <td>0.0</td>\n",
              "      <td>0.0</td>\n",
              "      <td>0.0</td>\n",
              "      <td>0.0</td>\n",
              "      <td>0.0</td>\n",
              "      <td>0.0</td>\n",
              "      <td>0.0</td>\n",
              "      <td>0.0</td>\n",
              "      <td>0.0</td>\n",
              "      <td>0.0</td>\n",
              "      <td>0.0</td>\n",
              "      <td>0.0</td>\n",
              "      <td>0.0</td>\n",
              "      <td>0.0</td>\n",
              "      <td>0.0</td>\n",
              "      <td>0.0</td>\n",
              "      <td>0.0</td>\n",
              "      <td>0.0</td>\n",
              "      <td>0.0</td>\n",
              "      <td>0.0</td>\n",
              "      <td>0.0</td>\n",
              "      <td>0.0</td>\n",
              "      <td>0.0</td>\n",
              "      <td>0.0</td>\n",
              "      <td>0.0</td>\n",
              "      <td>0.0</td>\n",
              "      <td>0.0</td>\n",
              "      <td>0.0</td>\n",
              "      <td>0.0</td>\n",
              "      <td>...</td>\n",
              "      <td>0.0</td>\n",
              "      <td>0.0</td>\n",
              "      <td>0.0</td>\n",
              "      <td>0.0</td>\n",
              "      <td>0.0</td>\n",
              "      <td>0.0</td>\n",
              "      <td>0.0</td>\n",
              "      <td>0.0</td>\n",
              "      <td>0.0</td>\n",
              "      <td>0.0</td>\n",
              "      <td>0.0</td>\n",
              "      <td>0.0</td>\n",
              "      <td>0.0</td>\n",
              "      <td>0.0</td>\n",
              "      <td>0.0</td>\n",
              "      <td>0.0</td>\n",
              "      <td>0.0</td>\n",
              "      <td>0.0</td>\n",
              "      <td>0.0</td>\n",
              "      <td>0.0</td>\n",
              "      <td>0.0</td>\n",
              "      <td>0.0</td>\n",
              "      <td>0.0</td>\n",
              "      <td>0.0</td>\n",
              "      <td>0.0</td>\n",
              "      <td>0.0</td>\n",
              "      <td>0.0</td>\n",
              "      <td>0.0</td>\n",
              "      <td>0.0</td>\n",
              "      <td>0.0</td>\n",
              "      <td>0.0</td>\n",
              "      <td>0.0</td>\n",
              "      <td>0.0</td>\n",
              "      <td>0.0</td>\n",
              "      <td>0.0</td>\n",
              "      <td>0.0</td>\n",
              "      <td>0.0</td>\n",
              "      <td>0.0</td>\n",
              "      <td>0.0</td>\n",
              "      <td>0.0</td>\n",
              "    </tr>\n",
              "  </tbody>\n",
              "</table>\n",
              "<p>5 rows × 24138 columns</p>\n",
              "</div>"
            ],
            "text/plain": [
              "   абдул  абдула  абдулла  абитуриентов  ...  ящик  ящика  ящике  ящиков\n",
              "0    0.0     0.0      0.0           0.0  ...   0.0    0.0    0.0     0.0\n",
              "1    0.0     0.0      0.0           0.0  ...   0.0    0.0    0.0     0.0\n",
              "2    0.0     0.0      0.0           0.0  ...   0.0    0.0    0.0     0.0\n",
              "3    0.0     0.0      0.0           0.0  ...   0.0    0.0    0.0     0.0\n",
              "4    0.0     0.0      0.0           0.0  ...   0.0    0.0    0.0     0.0\n",
              "\n",
              "[5 rows x 24138 columns]"
            ]
          },
          "metadata": {
            "tags": []
          },
          "execution_count": 114
        }
      ]
    },
    {
      "cell_type": "markdown",
      "metadata": {
        "id": "yAFFjJ3VR8DQ",
        "colab_type": "text"
      },
      "source": [
        "### KMeans Clustering using TFIDFVec ngram 1,1:"
      ]
    },
    {
      "cell_type": "code",
      "metadata": {
        "id": "By5nM7kFR5c4",
        "colab_type": "code",
        "colab": {}
      },
      "source": [
        "# Instantiating the model. Smaller k yield very imbalanced classes. We tried different \n",
        "# k values and this one yielded clusters that made most sense. \n",
        "true_karticle = 20\n",
        "kmmodelarticle1 = KMeans(true_karticle, random_state=17)"
      ],
      "execution_count": 0,
      "outputs": []
    },
    {
      "cell_type": "code",
      "metadata": {
        "id": "3MZ326JxSGMI",
        "colab_type": "code",
        "outputId": "874d2978-355e-4922-d0f5-d1521b5448c0",
        "colab": {
          "base_uri": "https://localhost:8080/",
          "height": 68
        }
      },
      "source": [
        "# Fiting the model to our articles\n",
        "kmmodelarticle1.fit(articleword_freq1)"
      ],
      "execution_count": 0,
      "outputs": [
        {
          "output_type": "execute_result",
          "data": {
            "text/plain": [
              "KMeans(algorithm='auto', copy_x=True, init='k-means++', max_iter=300,\n",
              "       n_clusters=20, n_init=10, n_jobs=None, precompute_distances='auto',\n",
              "       random_state=17, tol=0.0001, verbose=0)"
            ]
          },
          "metadata": {
            "tags": []
          },
          "execution_count": 116
        }
      ]
    },
    {
      "cell_type": "code",
      "metadata": {
        "id": "XIjh_-TQSOQ5",
        "colab_type": "code",
        "colab": {}
      },
      "source": [
        "# Getting centroids.\n",
        "article_centroids1 = kmmodelarticle1.cluster_centers_.argsort()[:, ::-1]"
      ],
      "execution_count": 0,
      "outputs": []
    },
    {
      "cell_type": "code",
      "metadata": {
        "id": "P8wto0ZpSS4o",
        "colab_type": "code",
        "colab": {}
      },
      "source": [
        "# Trying to see the words. \n",
        "articlewords1 = tfidfvect_text.get_feature_names()"
      ],
      "execution_count": 0,
      "outputs": []
    },
    {
      "cell_type": "code",
      "metadata": {
        "id": "3t30sEATSWbp",
        "colab_type": "code",
        "outputId": "ab5c585f-cbdb-43e1-c7f1-5003ff220f18",
        "colab": {
          "base_uri": "https://localhost:8080/",
          "height": 1000
        }
      },
      "source": [
        "# Trying to see how the words are clustered\n",
        "for i in range(true_karticle):\n",
        "    print('Cluster %d:' % i),\n",
        "    for ind in article_centroids1[i, :10]:\n",
        "        print('%s' % articlewords1[ind])"
      ],
      "execution_count": 0,
      "outputs": [
        {
          "output_type": "stream",
          "text": [
            "Cluster 0:\n",
            "ноябрьска\n",
            "романов\n",
            "населением\n",
            "администрации\n",
            "конференцию\n",
            "второй\n",
            "день\n",
            "пресс\n",
            "ямальских\n",
            "решившим\n",
            "Cluster 1:\n",
            "вопросов\n",
            "часа\n",
            "году\n",
            "пресс\n",
            "сми\n",
            "представителей\n",
            "ответил\n",
            "журналистами\n",
            "мероприятие\n",
            "прошлом\n",
            "Cluster 2:\n",
            "вопрос\n",
            "путин\n",
            "иннопрактике\n",
            "корреспондента\n",
            "призвав\n",
            "дочерей\n",
            "ректора\n",
            "возможном\n",
            "наличии\n",
            "собрать\n",
            "Cluster 3:\n",
            "алтайске\n",
            "горно\n",
            "языков\n",
            "школа\n",
            "владимира\n",
            "это\n",
            "путина\n",
            "преподает\n",
            "тюркских\n",
            "древнейшим\n",
            "Cluster 4:\n",
            "автобусов\n",
            "правила\n",
            "перевозок\n",
            "перевозки\n",
            "такси\n",
            "преддверии\n",
            "пассажиров\n",
            "службе\n",
            "нарушающих\n",
            "станций\n",
            "Cluster 5:\n",
            "подряд\n",
            "конституции\n",
            "сроках\n",
            "конституцию\n",
            "рф\n",
            "президентских\n",
            "поправки\n",
            "главы\n",
            "формулировка\n",
            "содержится\n",
            "Cluster 6:\n",
            "белух\n",
            "росприроднадзор\n",
            "моржат\n",
            "животных\n",
            "косаток\n",
            "китовой\n",
            "шести\n",
            "выдаче\n",
            "согласованию\n",
            "просветительских\n",
            "Cluster 7:\n",
            "детей\n",
            "втб\n",
            "году\n",
            "вице\n",
            "родительских\n",
            "число\n",
            "родители\n",
            "родителей\n",
            "больницы\n",
            "премьер\n",
            "Cluster 8:\n",
            "подряд\n",
            "сроках\n",
            "дискуссии\n",
            "конституции\n",
            "статье\n",
            "оговорки\n",
            "слова\n",
            "должности\n",
            "отметил\n",
            "срока\n",
            "Cluster 9:\n",
            "конституции\n",
            "фракция\n",
            "сроков\n",
            "президентских\n",
            "поступит\n",
            "подряд\n",
            "госдуму\n",
            "поддержит\n",
            "законопроект\n",
            "сроках\n",
            "Cluster 10:\n",
            "государство\n",
            "ленин\n",
            "считает\n",
            "цк\n",
            "болевые\n",
            "сурайкин\n",
            "предложенная\n",
            "единство\n",
            "лениным\n",
            "создала\n",
            "Cluster 11:\n",
            "политической\n",
            "конкуренцией\n",
            "связанным\n",
            "требованиям\n",
            "соответствует\n",
            "вполне\n",
            "путин\n",
            "зудин\n",
            "пресс\n",
            "украины\n",
            "Cluster 12:\n",
            "панов\n",
            "киселевске\n",
            "шахта\n",
            "ооо\n",
            "участках\n",
            "лицензий\n",
            "тишинский\n",
            "нарыкский\n",
            "низовский\n",
            "недрами\n",
            "Cluster 13:\n",
            "горбачев\n",
            "ссср\n",
            "радио\n",
            "последним\n",
            "подписывайтесь\n",
            "каналу\n",
            "присоединяйтесь\n",
            "дзен\n",
            "яндекс\n",
            "нашему\n",
            "Cluster 14:\n",
            "инициативу\n",
            "мужчина\n",
            "гомель\n",
            "лизюков\n",
            "лизюкову\n",
            "гомельской\n",
            "путину\n",
            "сражались\n",
            "герои\n",
            "инициативой\n",
            "Cluster 15:\n",
            "это\n",
            "сша\n",
            "м\n",
            "россии\n",
            "т\n",
            "время\n",
            "нам\n",
            "также\n",
            "заявил\n",
            "года\n",
            "Cluster 16:\n",
            "закреплены\n",
            "границы\n",
            "конституция\n",
            "тех\n",
            "закон\n",
            "генсовета\n",
            "деньги\n",
            "ер\n",
            "фундаментальных\n",
            "действующей\n",
            "Cluster 17:\n",
            "мероприятие\n",
            "ежегодная\n",
            "пресс\n",
            "конференция\n",
            "часа\n",
            "россия\n",
            "аккредитовано\n",
            "отведенное\n",
            "маяк\n",
            "телеканалами\n",
            "Cluster 18:\n",
            "будут\n",
            "также\n",
            "россии\n",
            "года\n",
            "граждан\n",
            "рублей\n",
            "это\n",
            "лет\n",
            "которые\n",
            "согласно\n",
            "Cluster 19:\n",
            "наступающим\n",
            "пресс\n",
            "новым\n",
            "путин\n",
            "годом\n",
            "риа\n",
            "новости\n",
            "путина\n",
            "главе\n",
            "конференция\n"
          ],
          "name": "stdout"
        }
      ]
    },
    {
      "cell_type": "code",
      "metadata": {
        "id": "RDzbhHFDScBa",
        "colab_type": "code",
        "outputId": "6ab04c41-1621-4e3e-ae45-75365b0063b3",
        "colab": {
          "base_uri": "https://localhost:8080/",
          "height": 34
        }
      },
      "source": [
        "# Getting the cluster predictions\n",
        "kmmodelarticle1.labels_"
      ],
      "execution_count": 0,
      "outputs": [
        {
          "output_type": "execute_result",
          "data": {
            "text/plain": [
              "array([18, 15, 15, ..., 18, 18, 18], dtype=int32)"
            ]
          },
          "metadata": {
            "tags": []
          },
          "execution_count": 120
        }
      ]
    },
    {
      "cell_type": "code",
      "metadata": {
        "id": "NcTjum2BSgcy",
        "colab_type": "code",
        "colab": {}
      },
      "source": [
        "# Adding them as a column to the original dataframe \n",
        "data['article_km_cluster_ngram1_1'] = kmmodelarticle1.labels_"
      ],
      "execution_count": 0,
      "outputs": []
    },
    {
      "cell_type": "code",
      "metadata": {
        "id": "EobeQcK_SmPt",
        "colab_type": "code",
        "outputId": "d9d04695-1f25-4b9c-9760-e49d288a3a27",
        "colab": {
          "base_uri": "https://localhost:8080/",
          "height": 374
        }
      },
      "source": [
        "# Looking at the distribution of clusters. It is not good in the sense that it is highly\n",
        "# ibalanced, but it seems to make sense as cluster 0 seems to pick up all fire-related\n",
        "# tweets, cluster 1 all trump/political-related tweets, and cluster 2 all climate-related\n",
        "# tweets. \n",
        "data['article_km_cluster_ngram1_1'].value_counts()"
      ],
      "execution_count": 0,
      "outputs": [
        {
          "output_type": "execute_result",
          "data": {
            "text/plain": [
              "15    1862\n",
              "18    1205\n",
              "19     202\n",
              "7      188\n",
              "13     173\n",
              "5      144\n",
              "1      130\n",
              "2      130\n",
              "4       94\n",
              "12      94\n",
              "0       94\n",
              "6       94\n",
              "14      94\n",
              "3       94\n",
              "9       72\n",
              "16      72\n",
              "11      72\n",
              "10      36\n",
              "8       36\n",
              "17      36\n",
              "Name: article_km_cluster_ngram1_1, dtype: int64"
            ]
          },
          "metadata": {
            "tags": []
          },
          "execution_count": 122
        }
      ]
    },
    {
      "cell_type": "markdown",
      "metadata": {
        "id": "nupkXeu8SsKi",
        "colab_type": "text"
      },
      "source": [
        "### TFIDF Vectorizing using ngram(2,2):"
      ]
    },
    {
      "cell_type": "code",
      "metadata": {
        "id": "moec-HTfSuGu",
        "colab_type": "code",
        "colab": {}
      },
      "source": [
        "# Instantiating the vectorizer with ngram(1,1) to start. Will subsequently try a couple of \n",
        "# ngrams. \n",
        "tfidfvect_text2 = TfidfVectorizer(\n",
        "    # strip_accents='ascii', \n",
        "    stop_words = stopwords.words('russian'),\n",
        "    token_pattern = r'[а-яА-Я]+', \n",
        "    min_df = 3,\n",
        "    ngram_range=(2,2)\n",
        ")"
      ],
      "execution_count": 0,
      "outputs": []
    },
    {
      "cell_type": "code",
      "metadata": {
        "id": "xXjKfF-oS8dC",
        "colab_type": "code",
        "colab": {}
      },
      "source": [
        "# Fitting the vectorizer\n",
        "articleword_freq2 = tfidfvect_text2.fit_transform(articles)"
      ],
      "execution_count": 0,
      "outputs": []
    },
    {
      "cell_type": "code",
      "metadata": {
        "id": "6Qda6xBrTD6Y",
        "colab_type": "code",
        "colab": {}
      },
      "source": [
        "# Setting the sparse matrix as a dataframe  \n",
        "articlewordfreq_df2= pd.DataFrame(articleword_freq2.todense(), columns = tfidfvect_text2.get_feature_names())"
      ],
      "execution_count": 0,
      "outputs": []
    },
    {
      "cell_type": "code",
      "metadata": {
        "id": "Z-xyLy5LTJnh",
        "colab_type": "code",
        "outputId": "2401cbee-abe9-448f-90b0-755e37422b3c",
        "colab": {
          "base_uri": "https://localhost:8080/",
          "height": 34
        }
      },
      "source": [
        "articlewordfreq_df2.shape"
      ],
      "execution_count": 0,
      "outputs": [
        {
          "output_type": "execute_result",
          "data": {
            "text/plain": [
              "(4922, 18183)"
            ]
          },
          "metadata": {
            "tags": []
          },
          "execution_count": 128
        }
      ]
    },
    {
      "cell_type": "code",
      "metadata": {
        "id": "v3n-yP1YTMvQ",
        "colab_type": "code",
        "outputId": "8717d110-92bd-4334-b46e-57ba3c51c305",
        "colab": {
          "base_uri": "https://localhost:8080/",
          "height": 270
        }
      },
      "source": [
        "# Looking at the words \n",
        "articlewordfreq_df2.head()"
      ],
      "execution_count": 0,
      "outputs": [
        {
          "output_type": "execute_result",
          "data": {
            "text/html": [
              "<div>\n",
              "<style scoped>\n",
              "    .dataframe tbody tr th:only-of-type {\n",
              "        vertical-align: middle;\n",
              "    }\n",
              "\n",
              "    .dataframe tbody tr th {\n",
              "        vertical-align: top;\n",
              "    }\n",
              "\n",
              "    .dataframe thead th {\n",
              "        text-align: right;\n",
              "    }\n",
              "</style>\n",
              "<table border=\"1\" class=\"dataframe\">\n",
              "  <thead>\n",
              "    <tr style=\"text-align: right;\">\n",
              "      <th></th>\n",
              "      <th>абдул фаттах</th>\n",
              "      <th>абсолютно правильным</th>\n",
              "      <th>абсолютной безопасности</th>\n",
              "      <th>абсолютный рекорд</th>\n",
              "      <th>авансовых лизинговых</th>\n",
              "      <th>аварии разгонного</th>\n",
              "      <th>август года</th>\n",
              "      <th>августа года</th>\n",
              "      <th>августе года</th>\n",
              "      <th>августовского путча</th>\n",
              "      <th>авиакомпании победа</th>\n",
              "      <th>авиационных материалов</th>\n",
              "      <th>австралии сообщили</th>\n",
              "      <th>австрии венгрии</th>\n",
              "      <th>австрии себастьян</th>\n",
              "      <th>австро венгрии</th>\n",
              "      <th>автобусов легковых</th>\n",
              "      <th>автобусов машин</th>\n",
              "      <th>автобусов нарушающих</th>\n",
              "      <th>автобусов преддверии</th>\n",
              "      <th>автобусов такси</th>\n",
              "      <th>автобусы малой</th>\n",
              "      <th>автоматики имени</th>\n",
              "      <th>автоматикой выявленного</th>\n",
              "      <th>автоматических космических</th>\n",
              "      <th>автоматического космического</th>\n",
              "      <th>автомобилей такси</th>\n",
              "      <th>автомобили имели</th>\n",
              "      <th>автомобиль ваз</th>\n",
              "      <th>автомобильного завода</th>\n",
              "      <th>автомобильный завод</th>\n",
              "      <th>автомобиля который</th>\n",
              "      <th>автономного округа</th>\n",
              "      <th>автономной области</th>\n",
              "      <th>автономном округе</th>\n",
              "      <th>автопрома самое</th>\n",
              "      <th>автор закона</th>\n",
              "      <th>автор законопроекта</th>\n",
              "      <th>автор инициативы</th>\n",
              "      <th>автор исследования</th>\n",
              "      <th>...</th>\n",
              "      <th>яндекс дзен</th>\n",
              "      <th>янтарь полуостров</th>\n",
              "      <th>янтарь состоялась</th>\n",
              "      <th>янтаря сердолика</th>\n",
              "      <th>японии вызывает</th>\n",
              "      <th>японии изучают</th>\n",
              "      <th>японии китае</th>\n",
              "      <th>японии объясняет</th>\n",
              "      <th>японии развитие</th>\n",
              "      <th>японии россии</th>\n",
              "      <th>япония дитя</th>\n",
              "      <th>японски дз</th>\n",
              "      <th>японски это</th>\n",
              "      <th>японские коллеги</th>\n",
              "      <th>японского архипелага</th>\n",
              "      <th>японской национальной</th>\n",
              "      <th>японской представлены</th>\n",
              "      <th>японском море</th>\n",
              "      <th>японском токио</th>\n",
              "      <th>японцев природе</th>\n",
              "      <th>японцы очень</th>\n",
              "      <th>яркие галактики</th>\n",
              "      <th>яркие звездные</th>\n",
              "      <th>яркие культурные</th>\n",
              "      <th>яркие пятна</th>\n",
              "      <th>яркий болид</th>\n",
              "      <th>яркий свет</th>\n",
              "      <th>яркий сигнал</th>\n",
              "      <th>яркой иллюстрацией</th>\n",
              "      <th>яркости дисплея</th>\n",
              "      <th>яркости освещения</th>\n",
              "      <th>яркости сказал</th>\n",
              "      <th>яркость уменьшилась</th>\n",
              "      <th>ярмарки камчатских</th>\n",
              "      <th>ярослав ерисов</th>\n",
              "      <th>ясно стадию</th>\n",
              "      <th>ячмень это</th>\n",
              "      <th>яшкинский район</th>\n",
              "      <th>яшмоидов вулканического</th>\n",
              "      <th>ящиков доносов</th>\n",
              "    </tr>\n",
              "  </thead>\n",
              "  <tbody>\n",
              "    <tr>\n",
              "      <th>0</th>\n",
              "      <td>0.0</td>\n",
              "      <td>0.0</td>\n",
              "      <td>0.0</td>\n",
              "      <td>0.0</td>\n",
              "      <td>0.0</td>\n",
              "      <td>0.0</td>\n",
              "      <td>0.0</td>\n",
              "      <td>0.0</td>\n",
              "      <td>0.0</td>\n",
              "      <td>0.0</td>\n",
              "      <td>0.0</td>\n",
              "      <td>0.0</td>\n",
              "      <td>0.0</td>\n",
              "      <td>0.0</td>\n",
              "      <td>0.0</td>\n",
              "      <td>0.0</td>\n",
              "      <td>0.0</td>\n",
              "      <td>0.0</td>\n",
              "      <td>0.0</td>\n",
              "      <td>0.0</td>\n",
              "      <td>0.0</td>\n",
              "      <td>0.0</td>\n",
              "      <td>0.0</td>\n",
              "      <td>0.0</td>\n",
              "      <td>0.0</td>\n",
              "      <td>0.0</td>\n",
              "      <td>0.0</td>\n",
              "      <td>0.0</td>\n",
              "      <td>0.0</td>\n",
              "      <td>0.0</td>\n",
              "      <td>0.0</td>\n",
              "      <td>0.0</td>\n",
              "      <td>0.0</td>\n",
              "      <td>0.0</td>\n",
              "      <td>0.0</td>\n",
              "      <td>0.0</td>\n",
              "      <td>0.0</td>\n",
              "      <td>0.0</td>\n",
              "      <td>0.0</td>\n",
              "      <td>0.0</td>\n",
              "      <td>...</td>\n",
              "      <td>0.0</td>\n",
              "      <td>0.0</td>\n",
              "      <td>0.0</td>\n",
              "      <td>0.0</td>\n",
              "      <td>0.0</td>\n",
              "      <td>0.0</td>\n",
              "      <td>0.0</td>\n",
              "      <td>0.0</td>\n",
              "      <td>0.0</td>\n",
              "      <td>0.0</td>\n",
              "      <td>0.0</td>\n",
              "      <td>0.0</td>\n",
              "      <td>0.0</td>\n",
              "      <td>0.0</td>\n",
              "      <td>0.0</td>\n",
              "      <td>0.0</td>\n",
              "      <td>0.0</td>\n",
              "      <td>0.0</td>\n",
              "      <td>0.0</td>\n",
              "      <td>0.0</td>\n",
              "      <td>0.0</td>\n",
              "      <td>0.0</td>\n",
              "      <td>0.0</td>\n",
              "      <td>0.0</td>\n",
              "      <td>0.0</td>\n",
              "      <td>0.0</td>\n",
              "      <td>0.0</td>\n",
              "      <td>0.0</td>\n",
              "      <td>0.0</td>\n",
              "      <td>0.0</td>\n",
              "      <td>0.0</td>\n",
              "      <td>0.0</td>\n",
              "      <td>0.0</td>\n",
              "      <td>0.0</td>\n",
              "      <td>0.0</td>\n",
              "      <td>0.0</td>\n",
              "      <td>0.0</td>\n",
              "      <td>0.0</td>\n",
              "      <td>0.0</td>\n",
              "      <td>0.0</td>\n",
              "    </tr>\n",
              "    <tr>\n",
              "      <th>1</th>\n",
              "      <td>0.0</td>\n",
              "      <td>0.0</td>\n",
              "      <td>0.0</td>\n",
              "      <td>0.0</td>\n",
              "      <td>0.0</td>\n",
              "      <td>0.0</td>\n",
              "      <td>0.0</td>\n",
              "      <td>0.0</td>\n",
              "      <td>0.0</td>\n",
              "      <td>0.0</td>\n",
              "      <td>0.0</td>\n",
              "      <td>0.0</td>\n",
              "      <td>0.0</td>\n",
              "      <td>0.0</td>\n",
              "      <td>0.0</td>\n",
              "      <td>0.0</td>\n",
              "      <td>0.0</td>\n",
              "      <td>0.0</td>\n",
              "      <td>0.0</td>\n",
              "      <td>0.0</td>\n",
              "      <td>0.0</td>\n",
              "      <td>0.0</td>\n",
              "      <td>0.0</td>\n",
              "      <td>0.0</td>\n",
              "      <td>0.0</td>\n",
              "      <td>0.0</td>\n",
              "      <td>0.0</td>\n",
              "      <td>0.0</td>\n",
              "      <td>0.0</td>\n",
              "      <td>0.0</td>\n",
              "      <td>0.0</td>\n",
              "      <td>0.0</td>\n",
              "      <td>0.0</td>\n",
              "      <td>0.0</td>\n",
              "      <td>0.0</td>\n",
              "      <td>0.0</td>\n",
              "      <td>0.0</td>\n",
              "      <td>0.0</td>\n",
              "      <td>0.0</td>\n",
              "      <td>0.0</td>\n",
              "      <td>...</td>\n",
              "      <td>0.0</td>\n",
              "      <td>0.0</td>\n",
              "      <td>0.0</td>\n",
              "      <td>0.0</td>\n",
              "      <td>0.0</td>\n",
              "      <td>0.0</td>\n",
              "      <td>0.0</td>\n",
              "      <td>0.0</td>\n",
              "      <td>0.0</td>\n",
              "      <td>0.0</td>\n",
              "      <td>0.0</td>\n",
              "      <td>0.0</td>\n",
              "      <td>0.0</td>\n",
              "      <td>0.0</td>\n",
              "      <td>0.0</td>\n",
              "      <td>0.0</td>\n",
              "      <td>0.0</td>\n",
              "      <td>0.0</td>\n",
              "      <td>0.0</td>\n",
              "      <td>0.0</td>\n",
              "      <td>0.0</td>\n",
              "      <td>0.0</td>\n",
              "      <td>0.0</td>\n",
              "      <td>0.0</td>\n",
              "      <td>0.0</td>\n",
              "      <td>0.0</td>\n",
              "      <td>0.0</td>\n",
              "      <td>0.0</td>\n",
              "      <td>0.0</td>\n",
              "      <td>0.0</td>\n",
              "      <td>0.0</td>\n",
              "      <td>0.0</td>\n",
              "      <td>0.0</td>\n",
              "      <td>0.0</td>\n",
              "      <td>0.0</td>\n",
              "      <td>0.0</td>\n",
              "      <td>0.0</td>\n",
              "      <td>0.0</td>\n",
              "      <td>0.0</td>\n",
              "      <td>0.0</td>\n",
              "    </tr>\n",
              "    <tr>\n",
              "      <th>2</th>\n",
              "      <td>0.0</td>\n",
              "      <td>0.0</td>\n",
              "      <td>0.0</td>\n",
              "      <td>0.0</td>\n",
              "      <td>0.0</td>\n",
              "      <td>0.0</td>\n",
              "      <td>0.0</td>\n",
              "      <td>0.0</td>\n",
              "      <td>0.0</td>\n",
              "      <td>0.0</td>\n",
              "      <td>0.0</td>\n",
              "      <td>0.0</td>\n",
              "      <td>0.0</td>\n",
              "      <td>0.0</td>\n",
              "      <td>0.0</td>\n",
              "      <td>0.0</td>\n",
              "      <td>0.0</td>\n",
              "      <td>0.0</td>\n",
              "      <td>0.0</td>\n",
              "      <td>0.0</td>\n",
              "      <td>0.0</td>\n",
              "      <td>0.0</td>\n",
              "      <td>0.0</td>\n",
              "      <td>0.0</td>\n",
              "      <td>0.0</td>\n",
              "      <td>0.0</td>\n",
              "      <td>0.0</td>\n",
              "      <td>0.0</td>\n",
              "      <td>0.0</td>\n",
              "      <td>0.0</td>\n",
              "      <td>0.0</td>\n",
              "      <td>0.0</td>\n",
              "      <td>0.0</td>\n",
              "      <td>0.0</td>\n",
              "      <td>0.0</td>\n",
              "      <td>0.0</td>\n",
              "      <td>0.0</td>\n",
              "      <td>0.0</td>\n",
              "      <td>0.0</td>\n",
              "      <td>0.0</td>\n",
              "      <td>...</td>\n",
              "      <td>0.0</td>\n",
              "      <td>0.0</td>\n",
              "      <td>0.0</td>\n",
              "      <td>0.0</td>\n",
              "      <td>0.0</td>\n",
              "      <td>0.0</td>\n",
              "      <td>0.0</td>\n",
              "      <td>0.0</td>\n",
              "      <td>0.0</td>\n",
              "      <td>0.0</td>\n",
              "      <td>0.0</td>\n",
              "      <td>0.0</td>\n",
              "      <td>0.0</td>\n",
              "      <td>0.0</td>\n",
              "      <td>0.0</td>\n",
              "      <td>0.0</td>\n",
              "      <td>0.0</td>\n",
              "      <td>0.0</td>\n",
              "      <td>0.0</td>\n",
              "      <td>0.0</td>\n",
              "      <td>0.0</td>\n",
              "      <td>0.0</td>\n",
              "      <td>0.0</td>\n",
              "      <td>0.0</td>\n",
              "      <td>0.0</td>\n",
              "      <td>0.0</td>\n",
              "      <td>0.0</td>\n",
              "      <td>0.0</td>\n",
              "      <td>0.0</td>\n",
              "      <td>0.0</td>\n",
              "      <td>0.0</td>\n",
              "      <td>0.0</td>\n",
              "      <td>0.0</td>\n",
              "      <td>0.0</td>\n",
              "      <td>0.0</td>\n",
              "      <td>0.0</td>\n",
              "      <td>0.0</td>\n",
              "      <td>0.0</td>\n",
              "      <td>0.0</td>\n",
              "      <td>0.0</td>\n",
              "    </tr>\n",
              "    <tr>\n",
              "      <th>3</th>\n",
              "      <td>0.0</td>\n",
              "      <td>0.0</td>\n",
              "      <td>0.0</td>\n",
              "      <td>0.0</td>\n",
              "      <td>0.0</td>\n",
              "      <td>0.0</td>\n",
              "      <td>0.0</td>\n",
              "      <td>0.0</td>\n",
              "      <td>0.0</td>\n",
              "      <td>0.0</td>\n",
              "      <td>0.0</td>\n",
              "      <td>0.0</td>\n",
              "      <td>0.0</td>\n",
              "      <td>0.0</td>\n",
              "      <td>0.0</td>\n",
              "      <td>0.0</td>\n",
              "      <td>0.0</td>\n",
              "      <td>0.0</td>\n",
              "      <td>0.0</td>\n",
              "      <td>0.0</td>\n",
              "      <td>0.0</td>\n",
              "      <td>0.0</td>\n",
              "      <td>0.0</td>\n",
              "      <td>0.0</td>\n",
              "      <td>0.0</td>\n",
              "      <td>0.0</td>\n",
              "      <td>0.0</td>\n",
              "      <td>0.0</td>\n",
              "      <td>0.0</td>\n",
              "      <td>0.0</td>\n",
              "      <td>0.0</td>\n",
              "      <td>0.0</td>\n",
              "      <td>0.0</td>\n",
              "      <td>0.0</td>\n",
              "      <td>0.0</td>\n",
              "      <td>0.0</td>\n",
              "      <td>0.0</td>\n",
              "      <td>0.0</td>\n",
              "      <td>0.0</td>\n",
              "      <td>0.0</td>\n",
              "      <td>...</td>\n",
              "      <td>0.0</td>\n",
              "      <td>0.0</td>\n",
              "      <td>0.0</td>\n",
              "      <td>0.0</td>\n",
              "      <td>0.0</td>\n",
              "      <td>0.0</td>\n",
              "      <td>0.0</td>\n",
              "      <td>0.0</td>\n",
              "      <td>0.0</td>\n",
              "      <td>0.0</td>\n",
              "      <td>0.0</td>\n",
              "      <td>0.0</td>\n",
              "      <td>0.0</td>\n",
              "      <td>0.0</td>\n",
              "      <td>0.0</td>\n",
              "      <td>0.0</td>\n",
              "      <td>0.0</td>\n",
              "      <td>0.0</td>\n",
              "      <td>0.0</td>\n",
              "      <td>0.0</td>\n",
              "      <td>0.0</td>\n",
              "      <td>0.0</td>\n",
              "      <td>0.0</td>\n",
              "      <td>0.0</td>\n",
              "      <td>0.0</td>\n",
              "      <td>0.0</td>\n",
              "      <td>0.0</td>\n",
              "      <td>0.0</td>\n",
              "      <td>0.0</td>\n",
              "      <td>0.0</td>\n",
              "      <td>0.0</td>\n",
              "      <td>0.0</td>\n",
              "      <td>0.0</td>\n",
              "      <td>0.0</td>\n",
              "      <td>0.0</td>\n",
              "      <td>0.0</td>\n",
              "      <td>0.0</td>\n",
              "      <td>0.0</td>\n",
              "      <td>0.0</td>\n",
              "      <td>0.0</td>\n",
              "    </tr>\n",
              "    <tr>\n",
              "      <th>4</th>\n",
              "      <td>0.0</td>\n",
              "      <td>0.0</td>\n",
              "      <td>0.0</td>\n",
              "      <td>0.0</td>\n",
              "      <td>0.0</td>\n",
              "      <td>0.0</td>\n",
              "      <td>0.0</td>\n",
              "      <td>0.0</td>\n",
              "      <td>0.0</td>\n",
              "      <td>0.0</td>\n",
              "      <td>0.0</td>\n",
              "      <td>0.0</td>\n",
              "      <td>0.0</td>\n",
              "      <td>0.0</td>\n",
              "      <td>0.0</td>\n",
              "      <td>0.0</td>\n",
              "      <td>0.0</td>\n",
              "      <td>0.0</td>\n",
              "      <td>0.0</td>\n",
              "      <td>0.0</td>\n",
              "      <td>0.0</td>\n",
              "      <td>0.0</td>\n",
              "      <td>0.0</td>\n",
              "      <td>0.0</td>\n",
              "      <td>0.0</td>\n",
              "      <td>0.0</td>\n",
              "      <td>0.0</td>\n",
              "      <td>0.0</td>\n",
              "      <td>0.0</td>\n",
              "      <td>0.0</td>\n",
              "      <td>0.0</td>\n",
              "      <td>0.0</td>\n",
              "      <td>0.0</td>\n",
              "      <td>0.0</td>\n",
              "      <td>0.0</td>\n",
              "      <td>0.0</td>\n",
              "      <td>0.0</td>\n",
              "      <td>0.0</td>\n",
              "      <td>0.0</td>\n",
              "      <td>0.0</td>\n",
              "      <td>...</td>\n",
              "      <td>0.0</td>\n",
              "      <td>0.0</td>\n",
              "      <td>0.0</td>\n",
              "      <td>0.0</td>\n",
              "      <td>0.0</td>\n",
              "      <td>0.0</td>\n",
              "      <td>0.0</td>\n",
              "      <td>0.0</td>\n",
              "      <td>0.0</td>\n",
              "      <td>0.0</td>\n",
              "      <td>0.0</td>\n",
              "      <td>0.0</td>\n",
              "      <td>0.0</td>\n",
              "      <td>0.0</td>\n",
              "      <td>0.0</td>\n",
              "      <td>0.0</td>\n",
              "      <td>0.0</td>\n",
              "      <td>0.0</td>\n",
              "      <td>0.0</td>\n",
              "      <td>0.0</td>\n",
              "      <td>0.0</td>\n",
              "      <td>0.0</td>\n",
              "      <td>0.0</td>\n",
              "      <td>0.0</td>\n",
              "      <td>0.0</td>\n",
              "      <td>0.0</td>\n",
              "      <td>0.0</td>\n",
              "      <td>0.0</td>\n",
              "      <td>0.0</td>\n",
              "      <td>0.0</td>\n",
              "      <td>0.0</td>\n",
              "      <td>0.0</td>\n",
              "      <td>0.0</td>\n",
              "      <td>0.0</td>\n",
              "      <td>0.0</td>\n",
              "      <td>0.0</td>\n",
              "      <td>0.0</td>\n",
              "      <td>0.0</td>\n",
              "      <td>0.0</td>\n",
              "      <td>0.0</td>\n",
              "    </tr>\n",
              "  </tbody>\n",
              "</table>\n",
              "<p>5 rows × 18183 columns</p>\n",
              "</div>"
            ],
            "text/plain": [
              "   абдул фаттах  абсолютно правильным  ...  яшмоидов вулканического  ящиков доносов\n",
              "0           0.0                   0.0  ...                      0.0             0.0\n",
              "1           0.0                   0.0  ...                      0.0             0.0\n",
              "2           0.0                   0.0  ...                      0.0             0.0\n",
              "3           0.0                   0.0  ...                      0.0             0.0\n",
              "4           0.0                   0.0  ...                      0.0             0.0\n",
              "\n",
              "[5 rows x 18183 columns]"
            ]
          },
          "metadata": {
            "tags": []
          },
          "execution_count": 129
        }
      ]
    },
    {
      "cell_type": "markdown",
      "metadata": {
        "id": "8RUC2W_ZTTQ3",
        "colab_type": "text"
      },
      "source": [
        "### KMeans Clustering using TFIDFVec ngram 2,2:"
      ]
    },
    {
      "cell_type": "code",
      "metadata": {
        "id": "cO3LgjmDTPwx",
        "colab_type": "code",
        "colab": {}
      },
      "source": [
        "# Instantiating the model. Smaller k yield very imbalanced classes. We tried different \n",
        "# k values and this one yielded clusters that made most sense. \n",
        "true_karticle2 = 20\n",
        "kmmodelarticle2 = KMeans(true_karticle2, random_state=17)"
      ],
      "execution_count": 0,
      "outputs": []
    },
    {
      "cell_type": "code",
      "metadata": {
        "id": "xOo0mB_OTb5E",
        "colab_type": "code",
        "outputId": "eaf5eabf-b59a-425e-c6b6-d4676c358197",
        "colab": {
          "base_uri": "https://localhost:8080/",
          "height": 68
        }
      },
      "source": [
        "# Fiting the model to our articles \n",
        "kmmodelarticle2.fit(articleword_freq2)"
      ],
      "execution_count": 0,
      "outputs": [
        {
          "output_type": "execute_result",
          "data": {
            "text/plain": [
              "KMeans(algorithm='auto', copy_x=True, init='k-means++', max_iter=300,\n",
              "       n_clusters=20, n_init=10, n_jobs=None, precompute_distances='auto',\n",
              "       random_state=17, tol=0.0001, verbose=0)"
            ]
          },
          "metadata": {
            "tags": []
          },
          "execution_count": 131
        }
      ]
    },
    {
      "cell_type": "code",
      "metadata": {
        "id": "KgdtGOGPTg8C",
        "colab_type": "code",
        "colab": {}
      },
      "source": [
        "# Getting centroids.\n",
        "article_centroids2 = kmmodelarticle2.cluster_centers_.argsort()[:, ::-1]"
      ],
      "execution_count": 0,
      "outputs": []
    },
    {
      "cell_type": "code",
      "metadata": {
        "id": "DXYlUaYGTmQv",
        "colab_type": "code",
        "colab": {}
      },
      "source": [
        "# Trying to see the words. \n",
        "articlewords2 = tfidfvect_text2.get_feature_names()"
      ],
      "execution_count": 0,
      "outputs": []
    },
    {
      "cell_type": "code",
      "metadata": {
        "id": "j85kGF1WTpyc",
        "colab_type": "code",
        "outputId": "292fc8bb-8f34-48c8-97e0-e7311b751140",
        "colab": {
          "base_uri": "https://localhost:8080/",
          "height": 1000
        }
      },
      "source": [
        "# Trying to see how the words are clustered\n",
        "for i in range(true_karticle2):\n",
        "    print('Cluster %d:' % i),\n",
        "    for ind in article_centroids2[i, :10]:\n",
        "        print('%s' % articlewords2[ind])"
      ],
      "execution_count": 0,
      "outputs": [
        {
          "output_type": "stream",
          "text": [
            "Cluster 0:\n",
            "вс это\n",
            "советского союза\n",
            "пришли выводу\n",
            "иосифа сталина\n",
            "советский союз\n",
            "распада ссср\n",
            "советского государства\n",
            "таким образом\n",
            "сво м\n",
            "распад ссср\n",
            "Cluster 1:\n",
            "пресс службе\n",
            "правила перевозки\n",
            "опасных автобусов\n",
            "нарушающих правила\n",
            "правила безопасности\n",
            "преддверии нового\n",
            "станций метро\n",
            "перевозки пассажиров\n",
            "нового года\n",
            "перевозки будут\n",
            "Cluster 2:\n",
            "риа новости\n",
            "владимира путина\n",
            "онлайн репортаже\n",
            "путина онлайн\n",
            "репортаже риа\n",
            "конференция владимира\n",
            "пресс конференция\n",
            "итоговой пресс\n",
            "ежегодной итоговой\n",
            "пресс конференции\n",
            "Cluster 3:\n",
            "призвав корреспондента\n",
            "иннопрактике путин\n",
            "дочерей призвав\n",
            "корреспондента собрать\n",
            "путин прокомментировал\n",
            "наличии бизнеса\n",
            "бизнеса дочерей\n",
            "ректора московского\n",
            "журналиста возможном\n",
            "это инициатива\n",
            "Cluster 4:\n",
            "медучреждении политик\n",
            "мое здоровье\n",
            "европу подписывайтесь\n",
            "сдал восточную\n",
            "первым последним\n",
            "нахождения больнице\n",
            "нахождение медучреждении\n",
            "беседе агентством\n",
            "подтвердил беседе\n",
            "ряде сми\n",
            "Cluster 5:\n",
            "наступающим новым\n",
            "новым годом\n",
            "годом сказал\n",
            "завершая большую\n",
            "поздравить наступающим\n",
            "поздравил журналистов\n",
            "конференцию поздравил\n",
            "годом хочу\n",
            "путина длилась\n",
            "большую пресс\n",
            "Cluster 6:\n",
            "ответил вопросов\n",
            "представителей сми\n",
            "прошлом году\n",
            "вопросов представителей\n",
            "часа минут\n",
            "это время\n",
            "пресс конференция\n",
            "общался журналистами\n",
            "журналистами часа\n",
            "журналистами году\n",
            "Cluster 7:\n",
            "ооо шахта\n",
            "нарыкский южный\n",
            "каменного угля\n",
            "написал панов\n",
            "разведки добычи\n",
            "прокопьевском районе\n",
            "никакого нового\n",
            "целью геологического\n",
            "вдали населенных\n",
            "право пользования\n",
            "Cluster 8:\n",
            "программы мир\n",
            "банк втб\n",
            "лечебных учреждений\n",
            "детских лечебных\n",
            "банка втб\n",
            "мир слез\n",
            "финансовой поддержки\n",
            "общая сумма\n",
            "миллионов рублей\n",
            "риа новости\n",
            "Cluster 9:\n",
            "цк партии\n",
            "пресс конференция\n",
            "точки которые\n",
            "болевые точки\n",
            "глава цк\n",
            "выносить мавзолея\n",
            "создала болевые\n",
            "модель государства\n",
            "ленина выносить\n",
            "государства создала\n",
            "Cluster 10:\n",
            "изменения конституцию\n",
            "единая россия\n",
            "законотворческий процесс\n",
            "кропотливый законотворческий\n",
            "заявил журналистам\n",
            "конституцию очень\n",
            "подчеркивает хинштейн\n",
            "общественного обсуждения\n",
            "сроки взгляд\n",
            "общества услышаны\n",
            "Cluster 11:\n",
            "пресс конференцию\n",
            "журналистами градоначальник\n",
            "подчеркнуть открытость\n",
            "конференцию которая\n",
            "конференцию день\n",
            "состоится четверг\n",
            "ямальских мэров\n",
            "янао алексей\n",
            "мск день\n",
            "романов анонсировал\n",
            "Cluster 12:\n",
            "владимира путина\n",
            "горно алтайске\n",
            "риа новости\n",
            "пресс конференции\n",
            "конференция владимира\n",
            "репортаже риа\n",
            "онлайн репортаже\n",
            "путина онлайн\n",
            "пресс конференция\n",
            "новости президент\n",
            "Cluster 13:\n",
            "родители которых\n",
            "детей родители\n",
            "родительских прав\n",
            "вице премьер\n",
            "число детей\n",
            "налаженной профилактики\n",
            "причин социального\n",
            "уменьшилось число\n",
            "прав смерть\n",
            "отметив основными\n",
            "Cluster 14:\n",
            "конституции рф\n",
            "президентских сроках\n",
            "оговорку подряд\n",
            "отменить оговорку\n",
            "одно лицо\n",
            "конституции президентских\n",
            "сроках полномочий\n",
            "формулировка сроках\n",
            "сроках отменить\n",
            "мнение конституции\n",
            "Cluster 15:\n",
            "пресс релизе\n",
            "говорится пресс\n",
            "сообщается пресс\n",
            "официальном пресс\n",
            "отмечается пресс\n",
            "плавления графита\n",
            "пенсионного фонда\n",
            "приводятся пресс\n",
            "релизе сказано\n",
            "премии экономике\n",
            "Cluster 16:\n",
            "сражались герои\n",
            "регионов рф\n",
            "также мужчина\n",
            "году своим\n",
            "проведения встречи\n",
            "армии лизюкова\n",
            "идею встрече\n",
            "газеты сельмашевец\n",
            "идею словам\n",
            "путину ходе\n",
            "Cluster 17:\n",
            "кардинально поменялась\n",
            "наступила ситуация\n",
            "ситуация внутренней\n",
            "внутренней стабильности\n",
            "развиваться стабильным\n",
            "страна развиваться\n",
            "экономика кардинально\n",
            "уверенности страна\n",
            "две разные\n",
            "проблем экономике\n",
            "Cluster 18:\n",
            "таким образом\n",
            "сво м\n",
            "стало известно\n",
            "ближайшее время\n",
            "сч т\n",
            "прид тся\n",
            "уч ные\n",
            "ид т\n",
            "санкт петербурга\n",
            "прокомментировал ситуацию\n",
            "Cluster 19:\n",
            "настоящий момент\n",
            "января года\n",
            "органической продукции\n",
            "силу января\n",
            "самарского университета\n",
            "приняла решение\n",
            "таким образом\n",
            "вселенского патриархата\n",
            "лет назад\n",
            "объ м\n"
          ],
          "name": "stdout"
        }
      ]
    },
    {
      "cell_type": "code",
      "metadata": {
        "id": "YWDJd1aRTvvp",
        "colab_type": "code",
        "outputId": "ff8106e4-2ee3-4f88-e49d-d4bbd1c6a61d",
        "colab": {
          "base_uri": "https://localhost:8080/",
          "height": 34
        }
      },
      "source": [
        "# Getting the cluster predictions\n",
        "kmmodelarticle2.labels_"
      ],
      "execution_count": 0,
      "outputs": [
        {
          "output_type": "execute_result",
          "data": {
            "text/plain": [
              "array([18, 18, 18, ..., 18, 19, 18], dtype=int32)"
            ]
          },
          "metadata": {
            "tags": []
          },
          "execution_count": 136
        }
      ]
    },
    {
      "cell_type": "code",
      "metadata": {
        "id": "1YwtYvYqT0S-",
        "colab_type": "code",
        "colab": {}
      },
      "source": [
        "# Adding them as a column to the original dataframe \n",
        "data['article_km_cluster_ngram2_2'] = kmmodelarticle2.labels_"
      ],
      "execution_count": 0,
      "outputs": []
    },
    {
      "cell_type": "code",
      "metadata": {
        "id": "NDuz9YUYT5ot",
        "colab_type": "code",
        "outputId": "10ae8e7f-88aa-4f85-aca7-5af486fbe148",
        "colab": {
          "base_uri": "https://localhost:8080/",
          "height": 374
        }
      },
      "source": [
        " data['article_km_cluster_ngram2_2'].value_counts()"
      ],
      "execution_count": 0,
      "outputs": [
        {
          "output_type": "execute_result",
          "data": {
            "text/plain": [
              "18    2662\n",
              "12     202\n",
              "3      188\n",
              "0      184\n",
              "14     180\n",
              "2      180\n",
              "19     140\n",
              "6      130\n",
              "4      130\n",
              "15     110\n",
              "7       94\n",
              "13      94\n",
              "5       94\n",
              "1       94\n",
              "16      94\n",
              "11      94\n",
              "8       94\n",
              "9       72\n",
              "17      50\n",
              "10      36\n",
              "Name: article_km_cluster_ngram2_2, dtype: int64"
            ]
          },
          "metadata": {
            "tags": []
          },
          "execution_count": 138
        }
      ]
    },
    {
      "cell_type": "markdown",
      "metadata": {
        "id": "5b8RYeKHUAhA",
        "colab_type": "text"
      },
      "source": [
        "### DBSCAN Clustering using TFIDFVec ngram 2,2:"
      ]
    },
    {
      "cell_type": "code",
      "metadata": {
        "id": "9zma1IrtT-iT",
        "colab_type": "code",
        "colab": {}
      },
      "source": [
        "# Instantiating the model. The standard parameters give us 600+ clusters. These parameters \n",
        "# give us 29\n",
        "dbscan_article = DBSCAN(eps=0.5, min_samples=70)"
      ],
      "execution_count": 0,
      "outputs": []
    },
    {
      "cell_type": "code",
      "metadata": {
        "id": "qmqDWpyUUHD7",
        "colab_type": "code",
        "outputId": "2448da8b-9b82-42e4-820c-d43525e33007",
        "colab": {
          "base_uri": "https://localhost:8080/",
          "height": 51
        }
      },
      "source": [
        "# Fiting the model to our articles \n",
        "dbscan_article.fit(articleword_freq2)"
      ],
      "execution_count": 0,
      "outputs": [
        {
          "output_type": "execute_result",
          "data": {
            "text/plain": [
              "DBSCAN(algorithm='auto', eps=0.5, leaf_size=30, metric='euclidean',\n",
              "       metric_params=None, min_samples=70, n_jobs=None, p=None)"
            ]
          },
          "metadata": {
            "tags": []
          },
          "execution_count": 140
        }
      ]
    },
    {
      "cell_type": "code",
      "metadata": {
        "id": "uTIynytRUM0K",
        "colab_type": "code",
        "outputId": "a91bcd88-f671-4e47-b67c-fd25bb3d028e",
        "colab": {
          "base_uri": "https://localhost:8080/",
          "height": 34
        }
      },
      "source": [
        "# Looking at the numbers of clusters. \n",
        "set(dbscan_article.labels_)"
      ],
      "execution_count": 0,
      "outputs": [
        {
          "output_type": "execute_result",
          "data": {
            "text/plain": [
              "{-1, 0, 1, 2, 3, 4, 5, 6, 7, 8, 9, 10, 11}"
            ]
          },
          "metadata": {
            "tags": []
          },
          "execution_count": 141
        }
      ]
    },
    {
      "cell_type": "code",
      "metadata": {
        "id": "o_FMVt6fUP73",
        "colab_type": "code",
        "colab": {}
      },
      "source": [
        "# Adding a colum with the clusters \n",
        "data['articles_dbscan_cluster'] = dbscan_article.labels_"
      ],
      "execution_count": 0,
      "outputs": []
    },
    {
      "cell_type": "code",
      "metadata": {
        "id": "nrogEL44UVo6",
        "colab_type": "code",
        "outputId": "35461e0d-9b89-464a-fe2a-d67d72d6494a",
        "colab": {
          "base_uri": "https://localhost:8080/",
          "height": 547
        }
      },
      "source": [
        "data.head()"
      ],
      "execution_count": 0,
      "outputs": [
        {
          "output_type": "execute_result",
          "data": {
            "text/html": [
              "<div>\n",
              "<style scoped>\n",
              "    .dataframe tbody tr th:only-of-type {\n",
              "        vertical-align: middle;\n",
              "    }\n",
              "\n",
              "    .dataframe tbody tr th {\n",
              "        vertical-align: top;\n",
              "    }\n",
              "\n",
              "    .dataframe thead th {\n",
              "        text-align: right;\n",
              "    }\n",
              "</style>\n",
              "<table border=\"1\" class=\"dataframe\">\n",
              "  <thead>\n",
              "    <tr style=\"text-align: right;\">\n",
              "      <th></th>\n",
              "      <th>id</th>\n",
              "      <th>url</th>\n",
              "      <th>title</th>\n",
              "      <th>content</th>\n",
              "      <th>author</th>\n",
              "      <th>date</th>\n",
              "      <th>tags</th>\n",
              "      <th>type_of_article</th>\n",
              "      <th>tag_km_cluster</th>\n",
              "      <th>tag_dbscan_cluster</th>\n",
              "      <th>author_km_cluster</th>\n",
              "      <th>author_dbscan_cluster</th>\n",
              "      <th>article_km_cluster_ngram1_1</th>\n",
              "      <th>article_km_cluster_ngram2_2</th>\n",
              "      <th>articles_dbscan_cluster</th>\n",
              "    </tr>\n",
              "  </thead>\n",
              "  <tbody>\n",
              "    <tr>\n",
              "      <th>0</th>\n",
              "      <td>0</td>\n",
              "      <td>https://panorama.pub/28367-rossiyanam-zapretya...</td>\n",
              "      <td>Россиянам запретят выкладывать в интернет непр...</td>\n",
              "      <td>В Госдуму внесён законопроект о «Защите положи...</td>\n",
              "      <td>Виталий Манн</td>\n",
              "      <td>2019-12-19</td>\n",
              "      <td>Политика</td>\n",
              "      <td>fake</td>\n",
              "      <td>2</td>\n",
              "      <td>0</td>\n",
              "      <td>2</td>\n",
              "      <td>0</td>\n",
              "      <td>18</td>\n",
              "      <td>18</td>\n",
              "      <td>-1</td>\n",
              "    </tr>\n",
              "    <tr>\n",
              "      <th>1</th>\n",
              "      <td>1</td>\n",
              "      <td>https://panorama.pub/28365-amerikanskij-genera...</td>\n",
              "      <td>Американский генерал заявил о готовности стрел...</td>\n",
              "      <td>Командующий войсками Округа Колумбия генерал-л...</td>\n",
              "      <td>Бронислав Рубенштейн</td>\n",
              "      <td>2019-12-19</td>\n",
              "      <td>Политика</td>\n",
              "      <td>fake</td>\n",
              "      <td>2</td>\n",
              "      <td>0</td>\n",
              "      <td>4</td>\n",
              "      <td>1</td>\n",
              "      <td>15</td>\n",
              "      <td>18</td>\n",
              "      <td>-1</td>\n",
              "    </tr>\n",
              "    <tr>\n",
              "      <th>2</th>\n",
              "      <td>2</td>\n",
              "      <td>https://panorama.pub/28356-donald-tramp-pohval...</td>\n",
              "      <td>Дональд Трамп похвалил Сталина</td>\n",
              "      <td>Президент США Дональд Трамп, отвечая на вопрос...</td>\n",
              "      <td>Виталий Манн</td>\n",
              "      <td>2019-12-19</td>\n",
              "      <td>Политика</td>\n",
              "      <td>fake</td>\n",
              "      <td>2</td>\n",
              "      <td>0</td>\n",
              "      <td>2</td>\n",
              "      <td>0</td>\n",
              "      <td>15</td>\n",
              "      <td>18</td>\n",
              "      <td>-1</td>\n",
              "    </tr>\n",
              "    <tr>\n",
              "      <th>3</th>\n",
              "      <td>3</td>\n",
              "      <td>https://panorama.pub/27498-formalnym-osnovanie...</td>\n",
              "      <td>Формальным основанием для импичмента Трампа ст...</td>\n",
              "      <td>Палата представителей США определилась с форму...</td>\n",
              "      <td>Бронислав Рубенштейн</td>\n",
              "      <td>2019-12-18</td>\n",
              "      <td>Политика</td>\n",
              "      <td>fake</td>\n",
              "      <td>2</td>\n",
              "      <td>0</td>\n",
              "      <td>4</td>\n",
              "      <td>1</td>\n",
              "      <td>15</td>\n",
              "      <td>18</td>\n",
              "      <td>-1</td>\n",
              "    </tr>\n",
              "    <tr>\n",
              "      <th>4</th>\n",
              "      <td>4</td>\n",
              "      <td>https://panorama.pub/28237-iran-oshibochno-pod...</td>\n",
              "      <td>Иранские моряки по ошибке подавили протесты в ...</td>\n",
              "      <td>Признавая, что они были полностью сбиты массой...</td>\n",
              "      <td>Диана Арутюнян</td>\n",
              "      <td>2019-12-18</td>\n",
              "      <td>Политика</td>\n",
              "      <td>fake</td>\n",
              "      <td>2</td>\n",
              "      <td>0</td>\n",
              "      <td>0</td>\n",
              "      <td>-1</td>\n",
              "      <td>15</td>\n",
              "      <td>18</td>\n",
              "      <td>-1</td>\n",
              "    </tr>\n",
              "  </tbody>\n",
              "</table>\n",
              "</div>"
            ],
            "text/plain": [
              "  id  ... articles_dbscan_cluster\n",
              "0  0  ...                      -1\n",
              "1  1  ...                      -1\n",
              "2  2  ...                      -1\n",
              "3  3  ...                      -1\n",
              "4  4  ...                      -1\n",
              "\n",
              "[5 rows x 15 columns]"
            ]
          },
          "metadata": {
            "tags": []
          },
          "execution_count": 143
        }
      ]
    },
    {
      "cell_type": "markdown",
      "metadata": {
        "id": "77_s56D4VFOF",
        "colab_type": "text"
      },
      "source": [
        "### Conclusions of clustering models"
      ]
    },
    {
      "cell_type": "code",
      "metadata": {
        "id": "6z7dgfWlhf_S",
        "colab_type": "code",
        "colab": {}
      },
      "source": [
        "category_labels = {\n",
        "    'fake': 0,\n",
        "    'real': 1,\n",
        "}"
      ],
      "execution_count": 0,
      "outputs": []
    },
    {
      "cell_type": "code",
      "metadata": {
        "id": "eZ_XzZhfhku5",
        "colab_type": "code",
        "outputId": "cbb8c1e1-ec62-4730-a0a5-15a3c31058a4",
        "colab": {
          "base_uri": "https://localhost:8080/",
          "height": 547
        }
      },
      "source": [
        "data['category_label'] = data['type_of_article']\n",
        "data = data.replace({'category_label':category_labels})\n",
        "data.head(5)"
      ],
      "execution_count": 0,
      "outputs": [
        {
          "output_type": "execute_result",
          "data": {
            "text/html": [
              "<div>\n",
              "<style scoped>\n",
              "    .dataframe tbody tr th:only-of-type {\n",
              "        vertical-align: middle;\n",
              "    }\n",
              "\n",
              "    .dataframe tbody tr th {\n",
              "        vertical-align: top;\n",
              "    }\n",
              "\n",
              "    .dataframe thead th {\n",
              "        text-align: right;\n",
              "    }\n",
              "</style>\n",
              "<table border=\"1\" class=\"dataframe\">\n",
              "  <thead>\n",
              "    <tr style=\"text-align: right;\">\n",
              "      <th></th>\n",
              "      <th>id</th>\n",
              "      <th>url</th>\n",
              "      <th>title</th>\n",
              "      <th>content</th>\n",
              "      <th>author</th>\n",
              "      <th>date</th>\n",
              "      <th>tags</th>\n",
              "      <th>type_of_article</th>\n",
              "      <th>tag_km_cluster</th>\n",
              "      <th>tag_dbscan_cluster</th>\n",
              "      <th>author_km_cluster</th>\n",
              "      <th>author_dbscan_cluster</th>\n",
              "      <th>article_km_cluster_ngram1_1</th>\n",
              "      <th>article_km_cluster_ngram2_2</th>\n",
              "      <th>articles_dbscan_cluster</th>\n",
              "      <th>category_label</th>\n",
              "    </tr>\n",
              "  </thead>\n",
              "  <tbody>\n",
              "    <tr>\n",
              "      <th>0</th>\n",
              "      <td>0</td>\n",
              "      <td>https://panorama.pub/28367-rossiyanam-zapretya...</td>\n",
              "      <td>Россиянам запретят выкладывать в интернет непр...</td>\n",
              "      <td>В Госдуму внесён законопроект о «Защите положи...</td>\n",
              "      <td>Виталий Манн</td>\n",
              "      <td>2019-12-19</td>\n",
              "      <td>Политика</td>\n",
              "      <td>fake</td>\n",
              "      <td>2</td>\n",
              "      <td>0</td>\n",
              "      <td>2</td>\n",
              "      <td>0</td>\n",
              "      <td>18</td>\n",
              "      <td>18</td>\n",
              "      <td>-1</td>\n",
              "      <td>0</td>\n",
              "    </tr>\n",
              "    <tr>\n",
              "      <th>1</th>\n",
              "      <td>1</td>\n",
              "      <td>https://panorama.pub/28365-amerikanskij-genera...</td>\n",
              "      <td>Американский генерал заявил о готовности стрел...</td>\n",
              "      <td>Командующий войсками Округа Колумбия генерал-л...</td>\n",
              "      <td>Бронислав Рубенштейн</td>\n",
              "      <td>2019-12-19</td>\n",
              "      <td>Политика</td>\n",
              "      <td>fake</td>\n",
              "      <td>2</td>\n",
              "      <td>0</td>\n",
              "      <td>4</td>\n",
              "      <td>1</td>\n",
              "      <td>15</td>\n",
              "      <td>18</td>\n",
              "      <td>-1</td>\n",
              "      <td>0</td>\n",
              "    </tr>\n",
              "    <tr>\n",
              "      <th>2</th>\n",
              "      <td>2</td>\n",
              "      <td>https://panorama.pub/28356-donald-tramp-pohval...</td>\n",
              "      <td>Дональд Трамп похвалил Сталина</td>\n",
              "      <td>Президент США Дональд Трамп, отвечая на вопрос...</td>\n",
              "      <td>Виталий Манн</td>\n",
              "      <td>2019-12-19</td>\n",
              "      <td>Политика</td>\n",
              "      <td>fake</td>\n",
              "      <td>2</td>\n",
              "      <td>0</td>\n",
              "      <td>2</td>\n",
              "      <td>0</td>\n",
              "      <td>15</td>\n",
              "      <td>18</td>\n",
              "      <td>-1</td>\n",
              "      <td>0</td>\n",
              "    </tr>\n",
              "    <tr>\n",
              "      <th>3</th>\n",
              "      <td>3</td>\n",
              "      <td>https://panorama.pub/27498-formalnym-osnovanie...</td>\n",
              "      <td>Формальным основанием для импичмента Трампа ст...</td>\n",
              "      <td>Палата представителей США определилась с форму...</td>\n",
              "      <td>Бронислав Рубенштейн</td>\n",
              "      <td>2019-12-18</td>\n",
              "      <td>Политика</td>\n",
              "      <td>fake</td>\n",
              "      <td>2</td>\n",
              "      <td>0</td>\n",
              "      <td>4</td>\n",
              "      <td>1</td>\n",
              "      <td>15</td>\n",
              "      <td>18</td>\n",
              "      <td>-1</td>\n",
              "      <td>0</td>\n",
              "    </tr>\n",
              "    <tr>\n",
              "      <th>4</th>\n",
              "      <td>4</td>\n",
              "      <td>https://panorama.pub/28237-iran-oshibochno-pod...</td>\n",
              "      <td>Иранские моряки по ошибке подавили протесты в ...</td>\n",
              "      <td>Признавая, что они были полностью сбиты массой...</td>\n",
              "      <td>Диана Арутюнян</td>\n",
              "      <td>2019-12-18</td>\n",
              "      <td>Политика</td>\n",
              "      <td>fake</td>\n",
              "      <td>2</td>\n",
              "      <td>0</td>\n",
              "      <td>0</td>\n",
              "      <td>-1</td>\n",
              "      <td>15</td>\n",
              "      <td>18</td>\n",
              "      <td>-1</td>\n",
              "      <td>0</td>\n",
              "    </tr>\n",
              "  </tbody>\n",
              "</table>\n",
              "</div>"
            ],
            "text/plain": [
              "  id  ... category_label\n",
              "0  0  ...              0\n",
              "1  1  ...              0\n",
              "2  2  ...              0\n",
              "3  3  ...              0\n",
              "4  4  ...              0\n",
              "\n",
              "[5 rows x 16 columns]"
            ]
          },
          "metadata": {
            "tags": []
          },
          "execution_count": 151
        }
      ]
    },
    {
      "cell_type": "code",
      "metadata": {
        "id": "kSpHvXftU7D4",
        "colab_type": "code",
        "colab": {}
      },
      "source": [
        "# Looking at the average bot rating for hashtag clusters using kmeans clustering\n",
        "hashtag_typekm = data.groupby('tag_km_cluster')['category_label'].mean()"
      ],
      "execution_count": 0,
      "outputs": []
    },
    {
      "cell_type": "code",
      "metadata": {
        "id": "wK5GG4DUVYOk",
        "colab_type": "code",
        "outputId": "edb1ad9a-2f57-4f26-c821-d1aec3681fc3",
        "colab": {
          "base_uri": "https://localhost:8080/",
          "height": 300
        }
      },
      "source": [
        "hashtag_typekm.plot.bar()"
      ],
      "execution_count": 0,
      "outputs": [
        {
          "output_type": "execute_result",
          "data": {
            "text/plain": [
              "<matplotlib.axes._subplots.AxesSubplot at 0x7fadae95bd30>"
            ]
          },
          "metadata": {
            "tags": []
          },
          "execution_count": 155
        },
        {
          "output_type": "display_data",
          "data": {
            "image/png": "[encoded data removed]",
            "text/plain": [
              "<Figure size 432x288 with 1 Axes>"
            ]
          },
          "metadata": {
            "tags": []
          }
        }
      ]
    },
    {
      "cell_type": "markdown",
      "metadata": {
        "id": "pcpQZFT9mmjR",
        "colab_type": "text"
      },
      "source": [
        "Мы видим, что кластеры 0, 1, 2, 7, 10 характерны для фальшивых новостей. Остальные - для реальных новостей. Проанализировав тэги этих кластеров, мы приходим к выводам, что они повторяются: общество, экономика, политика, наука, япония, ленин, курчатовский, космическая, космодром. Это говорит о том, что новости из нашего датасета, связанные с Курчатовским институтом и космическими исследованиями, явно относятся к ложным новостям. Кроме того, мы можем выявить закономерность, связанную с тем, что в фейковых новостях чаще всего используются более общие тэги (общество, политика, наука, экономика), тогда как в реальных новосятх тэги более конкретны."
      ]
    },
    {
      "cell_type": "code",
      "metadata": {
        "id": "BN44nGluVdjw",
        "colab_type": "code",
        "colab": {}
      },
      "source": [
        "# Looking at the average bot rating for hashtag clusters using dbscan clustering\n",
        "hashtag_typedb = data.groupby('tag_dbscan_cluster')['category_label'].mean()"
      ],
      "execution_count": 0,
      "outputs": []
    },
    {
      "cell_type": "code",
      "metadata": {
        "id": "M1YLGicOVk20",
        "colab_type": "code",
        "outputId": "49201ee9-f319-4a24-a366-27a26f312a7d",
        "colab": {
          "base_uri": "https://localhost:8080/",
          "height": 300
        }
      },
      "source": [
        "hashtag_typedb.plot.bar()"
      ],
      "execution_count": 0,
      "outputs": [
        {
          "output_type": "execute_result",
          "data": {
            "text/plain": [
              "<matplotlib.axes._subplots.AxesSubplot at 0x7fadb53fd5c0>"
            ]
          },
          "metadata": {
            "tags": []
          },
          "execution_count": 157
        },
        {
          "output_type": "display_data",
          "data": {
            "image/png": "[encoded data removed]",
            "text/plain": [
              "<Figure size 432x288 with 1 Axes>"
            ]
          },
          "metadata": {
            "tags": []
          }
        }
      ]
    },
    {
      "cell_type": "code",
      "metadata": {
        "id": "LI7kJWghVndK",
        "colab_type": "code",
        "colab": {}
      },
      "source": [
        "# Looking at the average bot rating for authors clusters using kmeans clustering\n",
        "author_typekm = data.groupby('author_km_cluster')['category_label'].mean()"
      ],
      "execution_count": 0,
      "outputs": []
    },
    {
      "cell_type": "code",
      "metadata": {
        "id": "hjvUJoANVwq5",
        "colab_type": "code",
        "outputId": "3328ecc5-0ef5-4f8f-92c0-125272ed3432",
        "colab": {
          "base_uri": "https://localhost:8080/",
          "height": 300
        }
      },
      "source": [
        "author_typekm.plot.bar()"
      ],
      "execution_count": 0,
      "outputs": [
        {
          "output_type": "execute_result",
          "data": {
            "text/plain": [
              "<matplotlib.axes._subplots.AxesSubplot at 0x7fadadde8978>"
            ]
          },
          "metadata": {
            "tags": []
          },
          "execution_count": 159
        },
        {
          "output_type": "display_data",
          "data": {
            "image/png": "[encoded data removed]",
            "text/plain": [
              "<Figure size 432x288 with 1 Axes>"
            ]
          },
          "metadata": {
            "tags": []
          }
        }
      ]
    },
    {
      "cell_type": "markdown",
      "metadata": {
        "id": "hXsxaqYKqqyo",
        "colab_type": "text"
      },
      "source": [
        "Мы видим, что только авторы из кластера 1 характерны для реальных новостей. Посмотрев на состав этого кластера, мы можем сделать вывод, что его большую часть составляет None, т.е. отсутствие автора. Т.е. в нашем датасете для реальных новостей автор почти никогда не указан."
      ]
    },
    {
      "cell_type": "code",
      "metadata": {
        "id": "Mm07FxU-Vz3h",
        "colab_type": "code",
        "colab": {}
      },
      "source": [
        "# Looking at the average bot rating for author clusters using dbscan clustering\n",
        "author_typedbscan = data.groupby('author_dbscan_cluster')['category_label'].mean()"
      ],
      "execution_count": 0,
      "outputs": []
    },
    {
      "cell_type": "code",
      "metadata": {
        "id": "jkwrnvHiV8cp",
        "colab_type": "code",
        "outputId": "7db45387-47eb-4ddb-8be5-844b91ea4637",
        "colab": {
          "base_uri": "https://localhost:8080/",
          "height": 300
        }
      },
      "source": [
        "author_typedbscan.plot.bar()"
      ],
      "execution_count": 0,
      "outputs": [
        {
          "output_type": "execute_result",
          "data": {
            "text/plain": [
              "<matplotlib.axes._subplots.AxesSubplot at 0x7fadadd845c0>"
            ]
          },
          "metadata": {
            "tags": []
          },
          "execution_count": 161
        },
        {
          "output_type": "display_data",
          "data": {
            "image/png": "[encoded data removed]",
            "text/plain": [
              "<Figure size 432x288 with 1 Axes>"
            ]
          },
          "metadata": {
            "tags": []
          }
        }
      ]
    },
    {
      "cell_type": "code",
      "metadata": {
        "id": "pZp6n66bWC_A",
        "colab_type": "code",
        "colab": {}
      },
      "source": [
        "# Looking at the average bot rating for tweet text clusters using kmeans clustering on ngram:1,1\n",
        "articlekm11_type = data.groupby('article_km_cluster_ngram1_1')['category_label'].mean()"
      ],
      "execution_count": 0,
      "outputs": []
    },
    {
      "cell_type": "code",
      "metadata": {
        "id": "Qh2uHTdLWN3G",
        "colab_type": "code",
        "outputId": "ba88a11a-d411-45ad-c81c-b450abd5eb10",
        "colab": {
          "base_uri": "https://localhost:8080/",
          "height": 300
        }
      },
      "source": [
        "articlekm11_type.plot.bar()"
      ],
      "execution_count": 0,
      "outputs": [
        {
          "output_type": "execute_result",
          "data": {
            "text/plain": [
              "<matplotlib.axes._subplots.AxesSubplot at 0x7fadadd9ac18>"
            ]
          },
          "metadata": {
            "tags": []
          },
          "execution_count": 163
        },
        {
          "output_type": "display_data",
          "data": {
            "image/png": "[encoded data removed]",
            "text/plain": [
              "<Figure size 432x288 with 1 Axes>"
            ]
          },
          "metadata": {
            "tags": []
          }
        }
      ]
    },
    {
      "cell_type": "code",
      "metadata": {
        "id": "_LdeaRIEWRJ0",
        "colab_type": "code",
        "colab": {}
      },
      "source": [
        "# Looking at the average bot rating for tweet text clusters using kmeans clustering on ngram:2,2\n",
        "articlekm22_type = data.groupby('article_km_cluster_ngram2_2')['category_label'].mean()"
      ],
      "execution_count": 0,
      "outputs": []
    },
    {
      "cell_type": "code",
      "metadata": {
        "id": "1UEf_X5FWYue",
        "colab_type": "code",
        "outputId": "cc9e0dd9-f1b8-47f2-89ca-0091f6937afa",
        "colab": {
          "base_uri": "https://localhost:8080/",
          "height": 300
        }
      },
      "source": [
        "articlekm22_type.plot.bar()"
      ],
      "execution_count": 0,
      "outputs": [
        {
          "output_type": "execute_result",
          "data": {
            "text/plain": [
              "<matplotlib.axes._subplots.AxesSubplot at 0x7fadb3fac9b0>"
            ]
          },
          "metadata": {
            "tags": []
          },
          "execution_count": 165
        },
        {
          "output_type": "display_data",
          "data": {
            "image/png": "[encoded data removed]",
            "text/plain": [
              "<Figure size 432x288 with 1 Axes>"
            ]
          },
          "metadata": {
            "tags": []
          }
        }
      ]
    },
    {
      "cell_type": "markdown",
      "metadata": {
        "id": "yZdFF7UUszdJ",
        "colab_type": "text"
      },
      "source": [
        "Биграммы из кластеров 15, 18, и 19 характерны для фейковых новостей. Проанализировав их, мы приходим к выводу, что в них очень много опечаток, пропусков букв, лишних пробелов (прид тся, уч ные, ид т, сво м и т.д.). В кластерах реальных новостей мы такого не наблюдаем. Кроме того, в фейковых новостях мы видим также много местоимений и союзов (нам, это, также, которые и др.)"
      ]
    },
    {
      "cell_type": "code",
      "metadata": {
        "id": "vtNXhkHqWa7W",
        "colab_type": "code",
        "colab": {}
      },
      "source": [
        "# Looking at the average bot rating for tweet text clusters using dbscan clustering on ngram:1,1\n",
        "articledb22_type = data.groupby('articles_dbscan_cluster')['category_label'].mean()"
      ],
      "execution_count": 0,
      "outputs": []
    },
    {
      "cell_type": "code",
      "metadata": {
        "id": "mKDlMuZSWi71",
        "colab_type": "code",
        "outputId": "ab57f232-eb8e-4fd2-c628-7b57515aca10",
        "colab": {
          "base_uri": "https://localhost:8080/",
          "height": 300
        }
      },
      "source": [
        "articledb22_type.plot.bar()"
      ],
      "execution_count": 0,
      "outputs": [
        {
          "output_type": "execute_result",
          "data": {
            "text/plain": [
              "<matplotlib.axes._subplots.AxesSubplot at 0x7fadadaf9e10>"
            ]
          },
          "metadata": {
            "tags": []
          },
          "execution_count": 180
        },
        {
          "output_type": "display_data",
          "data": {
            "image/png": "[encoded data removed]",
            "text/plain": [
              "<Figure size 432x288 with 1 Axes>"
            ]
          },
          "metadata": {
            "tags": []
          }
        }
      ]
    },
    {
      "cell_type": "code",
      "metadata": {
        "id": "c0vmQdDbw2v6",
        "colab_type": "code",
        "outputId": "3875b977-9a74-4e7c-85f7-03aa98400fdc",
        "colab": {
          "base_uri": "https://localhost:8080/",
          "height": 367
        }
      },
      "source": [
        "import flask_wtf\n",
        "from flask_wtf import Form, TextField, FileField\n",
        "class PuziForm(Form):\n",
        "    article_url = TextField(\"label1\")\n",
        "    article = FileField(\"label2\")\n",
        "\n",
        "@app.route('/test', methods=['GET', 'POST'])\n",
        "def test():\n",
        "    form = PuziForm()\n",
        "    if form.validate_on_submit():\n",
        "        result = (form.article.data and form.article.data.read()) or form.article_url.data\n",
        "    else:\n",
        "        result = 'not submitted'\n",
        "    return render_template('test.html', form=form, result=result)"
      ],
      "execution_count": 0,
      "outputs": [
        {
          "output_type": "error",
          "ename": "ImportError",
          "evalue": "ignored",
          "traceback": [
            "\u001b[0;31m---------------------------------------------------------------------------\u001b[0m",
            "\u001b[0;31mImportError\u001b[0m                               Traceback (most recent call last)",
            "\u001b[0;32m<ipython-input-10-008b9375f1f4>\u001b[0m in \u001b[0;36m<module>\u001b[0;34m()\u001b[0m\n\u001b[1;32m      1\u001b[0m \u001b[0;32mimport\u001b[0m \u001b[0mflask_wtf\u001b[0m\u001b[0;34m\u001b[0m\u001b[0;34m\u001b[0m\u001b[0m\n\u001b[0;32m----> 2\u001b[0;31m \u001b[0;32mfrom\u001b[0m \u001b[0mflask_wtf\u001b[0m \u001b[0;32mimport\u001b[0m \u001b[0mForm\u001b[0m\u001b[0;34m,\u001b[0m \u001b[0mFileField\u001b[0m\u001b[0;34m\u001b[0m\u001b[0;34m\u001b[0m\u001b[0m\n\u001b[0m\u001b[1;32m      3\u001b[0m \u001b[0;32mclass\u001b[0m \u001b[0mPuziForm\u001b[0m\u001b[0;34m(\u001b[0m\u001b[0mForm\u001b[0m\u001b[0;34m)\u001b[0m\u001b[0;34m:\u001b[0m\u001b[0;34m\u001b[0m\u001b[0;34m\u001b[0m\u001b[0m\n\u001b[1;32m      4\u001b[0m     \u001b[0marticle_url\u001b[0m \u001b[0;34m=\u001b[0m \u001b[0mTextField\u001b[0m\u001b[0;34m(\u001b[0m\u001b[0;34m\"label1\"\u001b[0m\u001b[0;34m)\u001b[0m\u001b[0;34m\u001b[0m\u001b[0;34m\u001b[0m\u001b[0m\n\u001b[1;32m      5\u001b[0m     \u001b[0marticle\u001b[0m \u001b[0;34m=\u001b[0m \u001b[0mFileField\u001b[0m\u001b[0;34m(\u001b[0m\u001b[0;34m\"label2\"\u001b[0m\u001b[0;34m)\u001b[0m\u001b[0;34m\u001b[0m\u001b[0;34m\u001b[0m\u001b[0m\n",
            "\u001b[0;31mImportError\u001b[0m: cannot import name 'FileField'",
            "",
            "\u001b[0;31m---------------------------------------------------------------------------\u001b[0;32m\nNOTE: If your import is failing due to a missing package, you can\nmanually install dependencies using either !pip or !apt.\n\nTo view examples of installing some common dependencies, click the\n\"Open Examples\" button below.\n\u001b[0;31m---------------------------------------------------------------------------\u001b[0m\n"
          ]
        }
      ]
    }
  ]
}