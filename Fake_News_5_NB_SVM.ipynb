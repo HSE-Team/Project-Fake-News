{
  "nbformat": 4,
  "nbformat_minor": 0,
  "metadata": {
    "colab": {
      "name": "Fake_News_5_NB_SVM.ipynb",
      "provenance": [],
      "collapsed_sections": []
    },
    "kernelspec": {
      "name": "python3",
      "display_name": "Python 3"
    }
  },
  "cells": [
    {
      "cell_type": "code",
      "metadata": {
        "id": "u62_20VobMfd",
        "colab_type": "code",
        "outputId": "8873ea3e-d226-40b4-fc11-1ad4a6155b64",
        "colab": {
          "base_uri": "https://localhost:8080/",
          "height": 1000
        }
      },
      "source": [
        "!pip install tensorflow==2.0.0 --ignore-installed"
      ],
      "execution_count": 0,
      "outputs": [
        {
          "output_type": "stream",
          "text": [
            "Collecting tensorflow==2.0.0\n",
            "\u001b[?25l  Downloading https://files.pythonhosted.org/packages/46/0f/7bd55361168bb32796b360ad15a25de6966c9c1beb58a8e30c01c8279862/tensorflow-2.0.0-cp36-cp36m-manylinux2010_x86_64.whl (86.3MB)\n",
            "\u001b[K     |████████████████████████████████| 86.3MB 74kB/s \n",
            "\u001b[?25hCollecting gast==0.2.2\n",
            "  Downloading https://files.pythonhosted.org/packages/4e/35/11749bf99b2d4e3cceb4d55ca22590b0d7c2c62b9de38ac4a4a7f4687421/gast-0.2.2.tar.gz\n",
            "Collecting tensorflow-estimator<2.1.0,>=2.0.0\n",
            "\u001b[?25l  Downloading https://files.pythonhosted.org/packages/fc/08/8b927337b7019c374719145d1dceba21a8bb909b93b1ad6f8fb7d22c1ca1/tensorflow_estimator-2.0.1-py2.py3-none-any.whl (449kB)\n",
            "\u001b[K     |████████████████████████████████| 450kB 48.7MB/s \n",
            "\u001b[?25hCollecting six>=1.10.0\n",
            "  Downloading https://files.pythonhosted.org/packages/65/eb/1f97cb97bfc2390a276969c6fae16075da282f5058082d4cb10c6c5c1dba/six-1.14.0-py2.py3-none-any.whl\n",
            "Collecting tensorboard<2.1.0,>=2.0.0\n",
            "\u001b[?25l  Downloading https://files.pythonhosted.org/packages/76/54/99b9d5d52d5cb732f099baaaf7740403e83fe6b0cedde940fabd2b13d75a/tensorboard-2.0.2-py3-none-any.whl (3.8MB)\n",
            "\u001b[K     |████████████████████████████████| 3.8MB 35.8MB/s \n",
            "\u001b[?25hCollecting wrapt>=1.11.1\n",
            "  Downloading https://files.pythonhosted.org/packages/82/f7/e43cefbe88c5fd371f4cf0cf5eb3feccd07515af9fd6cf7dbf1d1793a797/wrapt-1.12.1.tar.gz\n",
            "Collecting opt-einsum>=2.3.2\n",
            "\u001b[?25l  Downloading https://files.pythonhosted.org/packages/b2/49/2233e63052d5686c72131b579837ddfb98ba9dd0b92bb91efcb441ada8ce/opt_einsum-3.2.0-py3-none-any.whl (63kB)\n",
            "\u001b[K     |████████████████████████████████| 71kB 9.7MB/s \n",
            "\u001b[?25hCollecting keras-preprocessing>=1.0.5\n",
            "\u001b[?25l  Downloading https://files.pythonhosted.org/packages/28/6a/8c1f62c37212d9fc441a7e26736df51ce6f0e38455816445471f10da4f0a/Keras_Preprocessing-1.1.0-py2.py3-none-any.whl (41kB)\n",
            "\u001b[K     |████████████████████████████████| 51kB 7.2MB/s \n",
            "\u001b[?25hCollecting astor>=0.6.0\n",
            "  Downloading https://files.pythonhosted.org/packages/c3/88/97eef84f48fa04fbd6750e62dcceafba6c63c81b7ac1420856c8dcc0a3f9/astor-0.8.1-py2.py3-none-any.whl\n",
            "Collecting protobuf>=3.6.1\n",
            "\u001b[?25l  Downloading https://files.pythonhosted.org/packages/57/02/5432412c162989260fab61fa65e0a490c1872739eb91a659896e4d554b26/protobuf-3.11.3-cp36-cp36m-manylinux1_x86_64.whl (1.3MB)\n",
            "\u001b[K     |████████████████████████████████| 1.3MB 41.7MB/s \n",
            "\u001b[?25hCollecting keras-applications>=1.0.8\n",
            "\u001b[?25l  Downloading https://files.pythonhosted.org/packages/71/e3/19762fdfc62877ae9102edf6342d71b28fbfd9dea3d2f96a882ce099b03f/Keras_Applications-1.0.8-py3-none-any.whl (50kB)\n",
            "\u001b[K     |████████████████████████████████| 51kB 6.8MB/s \n",
            "\u001b[?25hCollecting wheel>=0.26\n",
            "  Downloading https://files.pythonhosted.org/packages/8c/23/848298cccf8e40f5bbb59009b32848a4c38f4e7f3364297ab3c3e2e2cd14/wheel-0.34.2-py2.py3-none-any.whl\n",
            "Collecting absl-py>=0.7.0\n",
            "\u001b[?25l  Downloading https://files.pythonhosted.org/packages/1a/53/9243c600e047bd4c3df9e69cfabc1e8004a82cac2e0c484580a78a94ba2a/absl-py-0.9.0.tar.gz (104kB)\n",
            "\u001b[K     |████████████████████████████████| 112kB 53.7MB/s \n",
            "\u001b[?25hCollecting google-pasta>=0.1.6\n",
            "\u001b[?25l  Downloading https://files.pythonhosted.org/packages/a3/de/c648ef6835192e6e2cc03f40b19eeda4382c49b5bafb43d88b931c4c74ac/google_pasta-0.2.0-py3-none-any.whl (57kB)\n",
            "\u001b[K     |████████████████████████████████| 61kB 8.0MB/s \n",
            "\u001b[?25hCollecting numpy<2.0,>=1.16.0\n",
            "\u001b[?25l  Downloading https://files.pythonhosted.org/packages/07/08/a549ba8b061005bb629b76adc000f3caaaf881028b963c2e18f811c6edc1/numpy-1.18.2-cp36-cp36m-manylinux1_x86_64.whl (20.2MB)\n",
            "\u001b[K     |████████████████████████████████| 20.2MB 251kB/s \n",
            "\u001b[?25hCollecting grpcio>=1.8.6\n",
            "\u001b[?25l  Downloading https://files.pythonhosted.org/packages/28/df/1f8a284a5e5819ae07d50bd76996d6f7208afef7533e4896fa1c6445574f/grpcio-1.27.2-cp36-cp36m-manylinux2010_x86_64.whl (2.7MB)\n",
            "\u001b[K     |████████████████████████████████| 2.7MB 35.1MB/s \n",
            "\u001b[?25hCollecting termcolor>=1.1.0\n",
            "  Downloading https://files.pythonhosted.org/packages/8a/48/a76be51647d0eb9f10e2a4511bf3ffb8cc1e6b14e9e4fab46173aa79f981/termcolor-1.1.0.tar.gz\n",
            "Collecting google-auth-oauthlib<0.5,>=0.4.1\n",
            "  Downloading https://files.pythonhosted.org/packages/7b/b8/88def36e74bee9fce511c9519571f4e485e890093ab7442284f4ffaef60b/google_auth_oauthlib-0.4.1-py2.py3-none-any.whl\n",
            "Collecting werkzeug>=0.11.15\n",
            "\u001b[?25l  Downloading https://files.pythonhosted.org/packages/ba/a5/d6f8a6e71f15364d35678a4ec8a0186f980b3bd2545f40ad51dd26a87fb1/Werkzeug-1.0.0-py2.py3-none-any.whl (298kB)\n",
            "\u001b[K     |████████████████████████████████| 307kB 48.0MB/s \n",
            "\u001b[?25hCollecting google-auth<2,>=1.6.3\n",
            "\u001b[?25l  Downloading https://files.pythonhosted.org/packages/05/b0/cc391ebf8ebf7855cdcfe0a9a4cdc8dcd90287c90e1ac22651d104ac6481/google_auth-1.12.0-py2.py3-none-any.whl (83kB)\n",
            "\u001b[K     |████████████████████████████████| 92kB 8.6MB/s \n",
            "\u001b[?25hCollecting markdown>=2.6.8\n",
            "\u001b[?25l  Downloading https://files.pythonhosted.org/packages/ab/c4/ba46d44855e6eb1770a12edace5a165a0c6de13349f592b9036257f3c3d3/Markdown-3.2.1-py2.py3-none-any.whl (88kB)\n",
            "\u001b[K     |████████████████████████████████| 92kB 11.8MB/s \n",
            "\u001b[?25hCollecting requests<3,>=2.21.0\n",
            "\u001b[?25l  Downloading https://files.pythonhosted.org/packages/1a/70/1935c770cb3be6e3a8b78ced23d7e0f3b187f5cbfab4749523ed65d7c9b1/requests-2.23.0-py2.py3-none-any.whl (58kB)\n",
            "\u001b[K     |████████████████████████████████| 61kB 8.1MB/s \n",
            "\u001b[?25hCollecting setuptools>=41.0.0\n",
            "\u001b[?25l  Downloading https://files.pythonhosted.org/packages/a0/df/635cdb901ee4a8a42ec68e480c49f85f4c59e8816effbf57d9e6ee8b3588/setuptools-46.1.3-py3-none-any.whl (582kB)\n",
            "\u001b[K     |████████████████████████████████| 583kB 53.0MB/s \n",
            "\u001b[?25hCollecting h5py\n",
            "\u001b[?25l  Downloading https://files.pythonhosted.org/packages/60/06/cafdd44889200e5438b897388f3075b52a8ef01f28a17366d91de0fa2d05/h5py-2.10.0-cp36-cp36m-manylinux1_x86_64.whl (2.9MB)\n",
            "\u001b[K     |████████████████████████████████| 2.9MB 30.8MB/s \n",
            "\u001b[?25hCollecting requests-oauthlib>=0.7.0\n",
            "  Downloading https://files.pythonhosted.org/packages/a3/12/b92740d845ab62ea4edf04d2f4164d82532b5a0b03836d4d4e71c6f3d379/requests_oauthlib-1.3.0-py2.py3-none-any.whl\n",
            "Collecting rsa<4.1,>=3.1.4\n",
            "  Downloading https://files.pythonhosted.org/packages/02/e5/38518af393f7c214357079ce67a317307936896e961e35450b70fad2a9cf/rsa-4.0-py2.py3-none-any.whl\n",
            "Collecting pyasn1-modules>=0.2.1\n",
            "\u001b[?25l  Downloading https://files.pythonhosted.org/packages/95/de/214830a981892a3e286c3794f41ae67a4495df1108c3da8a9f62159b9a9d/pyasn1_modules-0.2.8-py2.py3-none-any.whl (155kB)\n",
            "\u001b[K     |████████████████████████████████| 163kB 62.9MB/s \n",
            "\u001b[?25hCollecting cachetools<5.0,>=2.0.0\n",
            "  Downloading https://files.pythonhosted.org/packages/08/6a/abf83cb951617793fd49c98cb9456860f5df66ff89883c8660aa0672d425/cachetools-4.0.0-py3-none-any.whl\n",
            "Collecting urllib3!=1.25.0,!=1.25.1,<1.26,>=1.21.1\n",
            "\u001b[?25l  Downloading https://files.pythonhosted.org/packages/e8/74/6e4f91745020f967d09332bb2b8b9b10090957334692eb88ea4afe91b77f/urllib3-1.25.8-py2.py3-none-any.whl (125kB)\n",
            "\u001b[K     |████████████████████████████████| 133kB 62.1MB/s \n",
            "\u001b[?25hCollecting chardet<4,>=3.0.2\n",
            "\u001b[?25l  Downloading https://files.pythonhosted.org/packages/bc/a9/01ffebfb562e4274b6487b4bb1ddec7ca55ec7510b22e4c51f14098443b8/chardet-3.0.4-py2.py3-none-any.whl (133kB)\n",
            "\u001b[K     |████████████████████████████████| 143kB 61.8MB/s \n",
            "\u001b[?25hCollecting idna<3,>=2.5\n",
            "\u001b[?25l  Downloading https://files.pythonhosted.org/packages/89/e3/afebe61c546d18fb1709a61bee788254b40e736cff7271c7de5de2dc4128/idna-2.9-py2.py3-none-any.whl (58kB)\n",
            "\u001b[K     |████████████████████████████████| 61kB 8.8MB/s \n",
            "\u001b[?25hCollecting certifi>=2017.4.17\n",
            "\u001b[?25l  Downloading https://files.pythonhosted.org/packages/b9/63/df50cac98ea0d5b006c55a399c3bf1db9da7b5a24de7890bc9cfd5dd9e99/certifi-2019.11.28-py2.py3-none-any.whl (156kB)\n",
            "\u001b[K     |████████████████████████████████| 163kB 31.0MB/s \n",
            "\u001b[?25hCollecting oauthlib>=3.0.0\n",
            "\u001b[?25l  Downloading https://files.pythonhosted.org/packages/05/57/ce2e7a8fa7c0afb54a0581b14a65b56e62b5759dbc98e80627142b8a3704/oauthlib-3.1.0-py2.py3-none-any.whl (147kB)\n",
            "\u001b[K     |████████████████████████████████| 153kB 54.0MB/s \n",
            "\u001b[?25hCollecting pyasn1>=0.1.3\n",
            "\u001b[?25l  Downloading https://files.pythonhosted.org/packages/62/1e/a94a8d635fa3ce4cfc7f506003548d0a2447ae76fd5ca53932970fe3053f/pyasn1-0.4.8-py2.py3-none-any.whl (77kB)\n",
            "\u001b[K     |████████████████████████████████| 81kB 10.0MB/s \n",
            "\u001b[?25hBuilding wheels for collected packages: gast, wrapt, absl-py, termcolor\n",
            "  Building wheel for gast (setup.py) ... \u001b[?25l\u001b[?25hdone\n",
            "  Created wheel for gast: filename=gast-0.2.2-cp36-none-any.whl size=7540 sha256=c0ef5987ffa097a5272a3a1594edbb1537da32bc3fec89a90e8430bb3a357d84\n",
            "  Stored in directory: /root/.cache/pip/wheels/5c/2e/7e/a1d4d4fcebe6c381f378ce7743a3ced3699feb89bcfbdadadd\n",
            "  Building wheel for wrapt (setup.py) ... \u001b[?25l\u001b[?25hdone\n",
            "  Created wheel for wrapt: filename=wrapt-1.12.1-cp36-cp36m-linux_x86_64.whl size=67504 sha256=310188062ab1911abea768c3a4999ff884da85a2e4521a55b3386b0256b186cd\n",
            "  Stored in directory: /root/.cache/pip/wheels/b1/c2/ed/d62208260edbd3fa7156545c00ef966f45f2063d0a84f8208a\n",
            "  Building wheel for absl-py (setup.py) ... \u001b[?25l\u001b[?25hdone\n",
            "  Created wheel for absl-py: filename=absl_py-0.9.0-cp36-none-any.whl size=121931 sha256=35c02067f420394afb78b98a477824d90fff4947683a8fa0d48568da61b17f3a\n",
            "  Stored in directory: /root/.cache/pip/wheels/8e/28/49/fad4e7f0b9a1227708cbbee4487ac8558a7334849cb81c813d\n",
            "  Building wheel for termcolor (setup.py) ... \u001b[?25l\u001b[?25hdone\n",
            "  Created wheel for termcolor: filename=termcolor-1.1.0-cp36-none-any.whl size=4832 sha256=69bfe9796777f9dce76757b783803b24e6cfbb72471d251ea1bd573441d975f6\n",
            "  Stored in directory: /root/.cache/pip/wheels/7c/06/54/bc84598ba1daf8f970247f550b175aaaee85f68b4b0c5ab2c6\n",
            "Successfully built gast wrapt absl-py termcolor\n",
            "\u001b[31mERROR: kaggle 1.5.6 has requirement urllib3<1.25,>=1.21.1, but you'll have urllib3 1.25.8 which is incompatible.\u001b[0m\n",
            "\u001b[31mERROR: google-colab 1.0.0 has requirement google-auth~=1.7.2, but you'll have google-auth 1.12.0 which is incompatible.\u001b[0m\n",
            "\u001b[31mERROR: google-colab 1.0.0 has requirement requests~=2.21.0, but you'll have requests 2.23.0 which is incompatible.\u001b[0m\n",
            "\u001b[31mERROR: google-colab 1.0.0 has requirement six~=1.12.0, but you'll have six 1.14.0 which is incompatible.\u001b[0m\n",
            "\u001b[31mERROR: datascience 0.10.6 has requirement folium==0.2.1, but you'll have folium 0.8.3 which is incompatible.\u001b[0m\n",
            "\u001b[31mERROR: albumentations 0.1.12 has requirement imgaug<0.2.7,>=0.2.5, but you'll have imgaug 0.2.9 which is incompatible.\u001b[0m\n",
            "Installing collected packages: gast, tensorflow-estimator, six, pyasn1, rsa, pyasn1-modules, cachetools, setuptools, google-auth, urllib3, chardet, idna, certifi, requests, oauthlib, requests-oauthlib, google-auth-oauthlib, werkzeug, grpcio, absl-py, protobuf, markdown, wheel, numpy, tensorboard, wrapt, opt-einsum, keras-preprocessing, astor, h5py, keras-applications, google-pasta, termcolor, tensorflow\n",
            "Successfully installed absl-py-0.9.0 astor-0.8.1 cachetools-4.0.0 certifi-2019.11.28 chardet-3.0.4 gast-0.3.3 google-auth-1.12.0 google-auth-oauthlib-0.4.1 google-pasta-0.2.0 grpcio-1.27.2 h5py-2.10.0 idna-2.9 keras-applications-1.0.8 keras-preprocessing-1.1.0 markdown-3.2.1 numpy-1.18.2 oauthlib-3.1.0 opt-einsum-3.2.0 protobuf-3.11.3 pyasn1-0.4.8 pyasn1-modules-0.2.8 requests-2.23.0 requests-oauthlib-1.3.0 rsa-4.0 setuptools-46.1.3 six-1.14.0 tensorboard-2.1.1 tensorflow-2.2.0rc1 tensorflow-estimator-2.2.0rc0 termcolor-1.1.0 urllib3-1.25.8 werkzeug-1.0.0 wheel-0.34.2 wrapt-1.12.1\n"
          ],
          "name": "stdout"
        },
        {
          "output_type": "display_data",
          "data": {
            "application/vnd.colab-display-data+json": {
              "pip_warning": {
                "packages": [
                  "cachetools",
                  "certifi",
                  "chardet",
                  "google",
                  "grpc",
                  "idna",
                  "numpy",
                  "pkg_resources",
                  "pyasn1",
                  "pyasn1_modules",
                  "requests",
                  "rsa",
                  "six",
                  "urllib3"
                ]
              }
            }
          },
          "metadata": {
            "tags": []
          }
        }
      ]
    },
    {
      "cell_type": "code",
      "metadata": {
        "id": "SzMHdbWubUZa",
        "colab_type": "code",
        "outputId": "d59f6c30-0fb1-46b9-c79a-11ef20c15c0a",
        "colab": {
          "base_uri": "https://localhost:8080/",
          "height": 34
        }
      },
      "source": [
        "import tensorflow as tf\n",
        "print(tf.__version__)"
      ],
      "execution_count": 0,
      "outputs": [
        {
          "output_type": "stream",
          "text": [
            "2.0.0\n"
          ],
          "name": "stdout"
        }
      ]
    },
    {
      "cell_type": "code",
      "metadata": {
        "id": "dqG5TLaViY1A",
        "colab_type": "code",
        "outputId": "ee48794f-d79f-4d7c-b7ab-a45cc413bfa5",
        "colab": {
          "base_uri": "https://localhost:8080/",
          "height": 306
        }
      },
      "source": [
        "from google.colab import drive\n",
        "drive.mount('/content/drive/')\n",
        "import sqlite3\n",
        "import pandas as pd\n",
        "conn = sqlite3.connect(\"/content/drive/My Drive/Colab Notebooks/Fake_News_DB.db\")\n",
        "data = pd.read_sql(\"SELECT * from fake_news\", conn)\n",
        "data.head(5)"
      ],
      "execution_count": 0,
      "outputs": [
        {
          "output_type": "stream",
          "text": [
            "Drive already mounted at /content/drive/; to attempt to forcibly remount, call drive.mount(\"/content/drive/\", force_remount=True).\n"
          ],
          "name": "stdout"
        },
        {
          "output_type": "execute_result",
          "data": {
            "text/html": [
              "<div>\n",
              "<style scoped>\n",
              "    .dataframe tbody tr th:only-of-type {\n",
              "        vertical-align: middle;\n",
              "    }\n",
              "\n",
              "    .dataframe tbody tr th {\n",
              "        vertical-align: top;\n",
              "    }\n",
              "\n",
              "    .dataframe thead th {\n",
              "        text-align: right;\n",
              "    }\n",
              "</style>\n",
              "<table border=\"1\" class=\"dataframe\">\n",
              "  <thead>\n",
              "    <tr style=\"text-align: right;\">\n",
              "      <th></th>\n",
              "      <th>id</th>\n",
              "      <th>url</th>\n",
              "      <th>title</th>\n",
              "      <th>content</th>\n",
              "      <th>author</th>\n",
              "      <th>date</th>\n",
              "      <th>tags</th>\n",
              "      <th>type_of_article</th>\n",
              "    </tr>\n",
              "  </thead>\n",
              "  <tbody>\n",
              "    <tr>\n",
              "      <th>0</th>\n",
              "      <td>0</td>\n",
              "      <td>https://panorama.pub/28367-rossiyanam-zapretya...</td>\n",
              "      <td>Россиянам запретят выкладывать в интернет непр...</td>\n",
              "      <td>В Госдуму внесён законопроект о «Защите положи...</td>\n",
              "      <td>Виталий Манн</td>\n",
              "      <td>2019-12-19</td>\n",
              "      <td>Политика</td>\n",
              "      <td>fake</td>\n",
              "    </tr>\n",
              "    <tr>\n",
              "      <th>1</th>\n",
              "      <td>1</td>\n",
              "      <td>https://panorama.pub/28365-amerikanskij-genera...</td>\n",
              "      <td>Американский генерал заявил о готовности стрел...</td>\n",
              "      <td>Командующий войсками Округа Колумбия генерал-л...</td>\n",
              "      <td>Бронислав Рубенштейн</td>\n",
              "      <td>2019-12-19</td>\n",
              "      <td>Политика</td>\n",
              "      <td>fake</td>\n",
              "    </tr>\n",
              "    <tr>\n",
              "      <th>2</th>\n",
              "      <td>2</td>\n",
              "      <td>https://panorama.pub/28356-donald-tramp-pohval...</td>\n",
              "      <td>Дональд Трамп похвалил Сталина</td>\n",
              "      <td>Президент США Дональд Трамп, отвечая на вопрос...</td>\n",
              "      <td>Виталий Манн</td>\n",
              "      <td>2019-12-19</td>\n",
              "      <td>Политика</td>\n",
              "      <td>fake</td>\n",
              "    </tr>\n",
              "    <tr>\n",
              "      <th>3</th>\n",
              "      <td>3</td>\n",
              "      <td>https://panorama.pub/27498-formalnym-osnovanie...</td>\n",
              "      <td>Формальным основанием для импичмента Трампа ст...</td>\n",
              "      <td>Палата представителей США определилась с форму...</td>\n",
              "      <td>Бронислав Рубенштейн</td>\n",
              "      <td>2019-12-18</td>\n",
              "      <td>Политика</td>\n",
              "      <td>fake</td>\n",
              "    </tr>\n",
              "    <tr>\n",
              "      <th>4</th>\n",
              "      <td>4</td>\n",
              "      <td>https://panorama.pub/28237-iran-oshibochno-pod...</td>\n",
              "      <td>Иранские моряки по ошибке подавили протесты в ...</td>\n",
              "      <td>Признавая, что они были полностью сбиты массой...</td>\n",
              "      <td>Диана Арутюнян</td>\n",
              "      <td>2019-12-18</td>\n",
              "      <td>Политика</td>\n",
              "      <td>fake</td>\n",
              "    </tr>\n",
              "  </tbody>\n",
              "</table>\n",
              "</div>"
            ],
            "text/plain": [
              "  id  ... type_of_article\n",
              "0  0  ...            fake\n",
              "1  1  ...            fake\n",
              "2  2  ...            fake\n",
              "3  3  ...            fake\n",
              "4  4  ...            fake\n",
              "\n",
              "[5 rows x 8 columns]"
            ]
          },
          "metadata": {
            "tags": []
          },
          "execution_count": 92
        }
      ]
    },
    {
      "cell_type": "code",
      "metadata": {
        "id": "wAAPsmShi2qC",
        "colab_type": "code",
        "colab": {}
      },
      "source": [
        "y = {'real': 1, 'fake': 0}\n",
        "data['y'] = data['type_of_article'].map(lambda x: y[x])\n",
        "\n",
        "data_X = data['content']\n",
        "data_y = data['y']"
      ],
      "execution_count": 0,
      "outputs": []
    },
    {
      "cell_type": "code",
      "metadata": {
        "id": "sY1U9Es4mfy5",
        "colab_type": "code",
        "colab": {}
      },
      "source": [
        "from sklearn.preprocessing import LabelEncoder"
      ],
      "execution_count": 0,
      "outputs": []
    },
    {
      "cell_type": "code",
      "metadata": {
        "id": "4_1gmtWvmVxd",
        "colab_type": "code",
        "colab": {}
      },
      "source": [
        "Encoder = LabelEncoder()\n",
        "data_y = Encoder.fit_transform(data_y)"
      ],
      "execution_count": 0,
      "outputs": []
    },
    {
      "cell_type": "code",
      "metadata": {
        "id": "Q9ltehqpmfnc",
        "colab_type": "code",
        "outputId": "4450223a-63a1-4161-d150-ee8eafa15782",
        "colab": {
          "base_uri": "https://localhost:8080/",
          "height": 85
        }
      },
      "source": [
        "!pip install pymorphy2==0.8"
      ],
      "execution_count": 0,
      "outputs": [
        {
          "output_type": "stream",
          "text": [
            "Requirement already satisfied: pymorphy2==0.8 in /usr/local/lib/python3.6/dist-packages (0.8)\n",
            "Requirement already satisfied: dawg-python>=0.7 in /usr/local/lib/python3.6/dist-packages (from pymorphy2==0.8) (0.7.2)\n",
            "Requirement already satisfied: pymorphy2-dicts<3.0,>=2.4 in /usr/local/lib/python3.6/dist-packages (from pymorphy2==0.8) (2.4.393442.3710985)\n",
            "Requirement already satisfied: docopt>=0.6 in /usr/local/lib/python3.6/dist-packages (from pymorphy2==0.8) (0.6.2)\n"
          ],
          "name": "stdout"
        }
      ]
    },
    {
      "cell_type": "code",
      "metadata": {
        "id": "67aOjOrFlYNa",
        "colab_type": "code",
        "colab": {}
      },
      "source": [
        "from spacy.lang.ru import Russian\n",
        "nlp = Russian()"
      ],
      "execution_count": 0,
      "outputs": []
    },
    {
      "cell_type": "code",
      "metadata": {
        "id": "i1yb-GWOnZyD",
        "colab_type": "code",
        "outputId": "cc0f8581-99fd-4763-cf20-a48549e30f26",
        "colab": {
          "base_uri": "https://localhost:8080/",
          "height": 68
        }
      },
      "source": [
        "import nltk\n",
        "nltk.download('stopwords')"
      ],
      "execution_count": 0,
      "outputs": [
        {
          "output_type": "stream",
          "text": [
            "[nltk_data] Downloading package stopwords to /root/nltk_data...\n",
            "[nltk_data]   Package stopwords is already up-to-date!\n"
          ],
          "name": "stdout"
        },
        {
          "output_type": "execute_result",
          "data": {
            "text/plain": [
              "True"
            ]
          },
          "metadata": {
            "tags": []
          },
          "execution_count": 98
        }
      ]
    },
    {
      "cell_type": "code",
      "metadata": {
        "id": "q0KfRxqAnook",
        "colab_type": "code",
        "outputId": "53842fab-77b6-452c-b1b2-f9c710993fd8",
        "colab": {
          "base_uri": "https://localhost:8080/",
          "height": 187
        }
      },
      "source": [
        "import nltk\n",
        "from nltk.corpus import stopwords\n",
        "from string import punctuation\n",
        "\n",
        "sw = set(stopwords.words(\"russian\"))\n",
        "nltk.download('punkt')\n",
        "\n",
        "def clean_text(text, sw):\n",
        "    text = nlp(text)\n",
        "    tokens = [token.text for token in text]\n",
        "    new_list = []\n",
        "    nodes = [',', '*', '\"', '.', '\\'', '“', '”', '’', '‘', '，', '»', '—', '«']\n",
        "    for token in tokens:\n",
        "        if token.lower() not in sw and token.lower() not in nodes:\n",
        "            new_list.append(token.lower())\n",
        "    return new_list\n",
        "\n",
        "for i in range(data_X.shape[0]):\n",
        "    data_X[i] = clean_text(data_X[i], sw)\n",
        "\n",
        "for i in range(data_X.shape[0]):\n",
        "    data_X[i] = ' '.join(data_X[i])"
      ],
      "execution_count": 0,
      "outputs": [
        {
          "output_type": "stream",
          "text": [
            "[nltk_data] Downloading package punkt to /root/nltk_data...\n",
            "[nltk_data]   Package punkt is already up-to-date!\n"
          ],
          "name": "stdout"
        },
        {
          "output_type": "stream",
          "text": [
            "/usr/local/lib/python3.6/dist-packages/ipykernel_launcher.py:19: SettingWithCopyWarning: \n",
            "A value is trying to be set on a copy of a slice from a DataFrame\n",
            "\n",
            "See the caveats in the documentation: http://pandas.pydata.org/pandas-docs/stable/user_guide/indexing.html#returning-a-view-versus-a-copy\n",
            "/usr/local/lib/python3.6/dist-packages/ipykernel_launcher.py:22: SettingWithCopyWarning: \n",
            "A value is trying to be set on a copy of a slice from a DataFrame\n",
            "\n",
            "See the caveats in the documentation: http://pandas.pydata.org/pandas-docs/stable/user_guide/indexing.html#returning-a-view-versus-a-copy\n"
          ],
          "name": "stderr"
        }
      ]
    },
    {
      "cell_type": "code",
      "metadata": {
        "id": "Gb7m_9KmusbJ",
        "colab_type": "code",
        "outputId": "dd648ac5-2cd7-40e3-bcf7-7526316e19a5",
        "colab": {
          "base_uri": "https://localhost:8080/",
          "height": 54
        }
      },
      "source": [
        "data_X[0]"
      ],
      "execution_count": 0,
      "outputs": [
        {
          "output_type": "execute_result",
          "data": {
            "text/plain": [
              "'госдуму внесён законопроект защите положительного имиджа россии текстом которого предусматриваются ограничения граждан относительно контента загружаемого веб - ресурсах мнению законодателей пользователям сети необходимо блокировать возможность загружать фото- видеоматериалы потенциально носящие негативную коннотацию контексте россии дополнительном подзаконном акте законодатели разъясняют список таких материалов частности речь идёт фото- видеофайлах демонстрирующих ветхие жилые заброшенные здания ненадлежащий внутренний интерьер квартир неровности тротуарах автодорогах места неконтролируемого скопления бытовых отходов дополнительно уделено внимание изображениям компрометирующим граждан рф сеть запретят выкладывать фото россиян явно выраженным низким социальным статусом частности набирающий популярность жанр пребывания граждан возле контейнеров бытовыми отходами размещение сети изображений запрещённых законом введена административная уголовная ответственность депутаты позволили судам выносить решение отключении интернета сроком 1 3 лет злостным нарушителям также могут наложены штрафы размере 1 5 тысяч рублей вариант котором провинившийся сможет искупить вину общественных работах функции контроля качеством тематикой фото- видеоматериалов передадут роскомнадзору эксперты ведомства должны мгновенно удалять сомнительные материалы данные авторах передавать мвд госдуме уточнили введённые ограничения коснутся контента россии неприглядные фото других стран санкции предусмотрены'"
            ]
          },
          "metadata": {
            "tags": []
          },
          "execution_count": 100
        }
      ]
    },
    {
      "cell_type": "code",
      "metadata": {
        "id": "iYgIhpjOuwXa",
        "colab_type": "code",
        "outputId": "948fd02f-aa75-49e4-ebb7-faae94996c01",
        "colab": {
          "base_uri": "https://localhost:8080/",
          "height": 119
        }
      },
      "source": [
        "data_X.head(5)"
      ],
      "execution_count": 0,
      "outputs": [
        {
          "output_type": "execute_result",
          "data": {
            "text/plain": [
              "0    госдуму внесён законопроект защите положительн...\n",
              "1    командующий войсками округа колумбия генерал -...\n",
              "2    президент сша дональд трамп отвечая вопросы ст...\n",
              "3    палата представителей сша определилась формули...\n",
              "4    признавая полностью сбиты массой людей недовол...\n",
              "Name: content, dtype: object"
            ]
          },
          "metadata": {
            "tags": []
          },
          "execution_count": 101
        }
      ]
    },
    {
      "cell_type": "code",
      "metadata": {
        "id": "9vjf6MrVvBda",
        "colab_type": "code",
        "colab": {}
      },
      "source": [
        "from sklearn.feature_extraction.text import TfidfVectorizer"
      ],
      "execution_count": 0,
      "outputs": []
    },
    {
      "cell_type": "code",
      "metadata": {
        "id": "lU_oMDtZikiM",
        "colab_type": "code",
        "colab": {}
      },
      "source": [
        "Tfidf_vect = TfidfVectorizer(max_features=5000)\n",
        "Tfidf_vect.fit(data_X)\n",
        "data_X_Tfidf = Tfidf_vect.transform(data_X)"
      ],
      "execution_count": 0,
      "outputs": []
    },
    {
      "cell_type": "code",
      "metadata": {
        "id": "4OBAGhQni4VZ",
        "colab_type": "code",
        "outputId": "15728b26-c035-4750-aa7a-628c78e34c2e",
        "colab": {
          "base_uri": "https://localhost:8080/",
          "height": 54
        }
      },
      "source": [
        "print(Tfidf_vect.vocabulary_)"
      ],
      "execution_count": 0,
      "outputs": [
        {
          "output_type": "stream",
          "text": [
            "{'госдуму': 790, 'внесён': 472, 'законопроект': 1219, 'защите': 1287, 'россии': 3747, 'которого': 1718, 'ограничения': 2471, 'граждан': 820, 'относительно': 2674, 'мнению': 2018, 'сети': 3919, 'необходимо': 2291, 'возможность': 511, 'фото': 4751, 'список': 4200, 'таких': 4384, 'материалов': 1901, 'частности': 4836, 'речь': 3701, 'идёт': 1367, 'здания': 1313, 'места': 1947, 'отходов': 2696, 'дополнительно': 1037, 'внимание': 475, 'рф': 3793, 'сеть': 3922, 'россиян': 3763, 'явно': 4975, 'популярность': 3065, 'пребывания': 3207, 'возле': 506, 'отходами': 2695, 'законом': 1218, 'ответственность': 2623, 'депутаты': 934, 'позволили': 2919, 'выносить': 641, 'решение': 3703, 'интернета': 1451, 'сроком': 4245, 'лет': 1795, 'также': 4379, 'могут': 2033, 'штрафы': 4910, 'размере': 3571, 'тысяч': 4515, 'рублей': 3772, 'вариант': 351, 'котором': 1721, 'сможет': 4017, 'вину': 439, 'общественных': 2436, 'контроля': 1686, 'эксперты': 4932, 'ведомства': 372, 'должны': 1025, 'материалы': 1902, 'данные': 872, 'мвд': 1911, 'госдуме': 789, 'уточнили': 4645, 'коснутся': 1715, 'других': 1069, 'стран': 4299, 'санкции': 3824, 'округа': 2508, 'генерал': 701, 'заявил': 1291, 'готовы': 816, 'любой': 1860, 'момент': 2054, 'открыть': 2658, 'случае': 3998, 'отказа': 2644, 'президента': 3269, 'дональда': 1034, 'трамп': 4473, 'покинуть': 2947, 'свой': 3852, 'пост': 3107, 'результате': 3668, 'трампа': 4474, '1991': 23, 'года': 749, '18': 19, 'декабря': 910, 'представителей': 3245, 'конгресса': 1665, 'сша': 4369, 'президенту': 3277, 'трампу': 4475, 'решения': 3708, 'обязан': 2460, 'течение': 4437, '24': 51, 'часов': 4830, 'белый': 262, 'дом': 1028, 'президент': 3268, 'неоднократно': 2295, 'своём': 3856, 'решению': 3707, 'поскольку': 3087, 'стоит': 4286, 'весь': 405, 'американский': 193, 'народ': 2169, 'опроверг': 2533, 'слова': 3985, 'поддержке': 2889, 'армии': 226, 'роль': 3735, 'ельцина': 1123, 'доме': 1030, 'году': 755, 'история': 1503, 'однажды': 2477, 'спасти': 4182, 'хуже': 4794, 'наших': 2254, 'это': 4954, 'нужно': 2365, 'защиты': 1290, 'американских': 196, 'ценностей': 4808, 'господин': 793, 'судьбу': 4330, 'советских': 4059, 'сказал': 3956, 'эфире': 4958, 'cnn': 101, 'дональд': 1033, 'отвечая': 2627, 'вопросы': 539, 'студентов': 4317, 'университета': 4588, 'рассказал': 3611, 'улучшить': 4583, 'российско': 3754, 'американские': 192, 'отношения': 2680, 'пример': 3330, 'истории': 1495, 'ссср': 4247, 'политик': 2964, 'сотрудничества': 4163, 'крупнейших': 1752, 'государств': 797, 'время': 568, 'второй': 600, 'мировой': 2002, 'войны': 522, 'друг': 1063, 'просто': 3474, 'мало': 1883, 'знали': 1334, 'европу': 1094, 'усилия': 4612, 'смог': 4012, 'договориться': 1004, 'сталиным': 4257, 'показывает': 2945, 'существует': 4348, 'развитие': 3564, 'своего': 3844, 'вовсе': 489, 'сделал': 3875, 'несколько': 2302, 'думаю': 1077, 'настолько': 2200, 'нам': 2146, 'пытаются': 3536, 'рассказать': 3614, 'лидером': 1805, 'который': 1725, 'поднять': 2895, 'страну': 4306, 'первой': 2765, 'лучших': 1854, 'учёных': 4687, 'действительно': 899, 'делать': 916, 'ситуации': 3947, 'вокруг': 527, 'одни': 2479, 'месте': 1949, 'поступили': 3127, 'иначе': 1422, 'заключил': 1207, 'обвинения': 2374, 'которому': 1722, 'процесс': 3496, 'должности': 1023, 'станут': 4263, 'многочисленные': 2024, 'которые': 1724, 'журналистов': 1168, 'симоньян': 3936, 'владимира': 451, 'twitter': 117, '2017': 38, '2018': 39, 'годах': 751, 'отмечается': 2672, 'пояснительной': 3161, 'записке': 1258, 'палаты': 2723, 'российского': 3755, 'самым': 3821, 'основы': 2585, 'демократии': 922, 'мире': 2000, 'руку': 3782, 'штата': 4902, 'намерен': 2148, 'менее': 1929, '20': 25, 'американцев': 201, 'жизнь': 1151, 'будущее': 330, 'америки': 204, 'увидели': 4537, 'настоящему': 2203, 'делу': 921, 'расследование': 3616, 'именно': 1414, 'владимир': 450, 'маргарита': 1889, 'избирателей': 1369, 'власти': 455, 'такие': 4381, 'события': 4049, 'brexit': 100, 'американского': 197, 'ряда': 3803, 'компаний': 1648, 'нами': 2151, 'государственная': 800, 'полностью': 2990, 'людей': 1865, 'политикой': 2969, 'властей': 454, 'военно': 496, 'морских': 2063, 'сил': 3928, 'ирана': 1463, 'курс': 1774, 'ошибке': 2718, '120': 8, 'честно': 4852, 'говоря': 746, 'видим': 429, 'массы': 1897, 'своих': 3851, 'прав': 3163, 'свободы': 3841, 'печати': 2808, 'сразу': 4227, 'солдат': 4103, 'хотя': 4786, 'протестующие': 3479, 'независимости': 2271, 'китайского': 1597, 'правительства': 3174, 'против': 3480, 'сообщает': 4107, 'полиции': 2980, 'военные': 499, 'центр': 4810, 'города': 778, 'полном': 2988, 'центре': 4813, 'протеста': 3478, 'тех': 4425, 'пор': 3069, 'пока': 2938, 'полиция': 2982, 'спустя': 4219, 'часа': 4829, 'участии': 4651, 'сотрудников': 4161, 'of': 110, 'удалось': 4548, 'убрать': 4525, 'оружие': 2567, 'вернуться': 395, 'корабль': 1697, 'площадь': 2845, 'прежде': 3265, 'митинг': 2008, 'направлены': 2165, 'виду': 432, 'флаг': 4729, 'добавил': 995, 'публикации': 3513, 'фрегат': 4762, 'венесуэле': 388, 'победил': 2848, 'национальном': 2227, 'мероприятие': 1939, '16': 15, 'столице': 4287, 'страны': 4307, 'изначально': 1389, 'пресс': 3292, 'служба': 3994, 'главы': 734, 'государства': 798, 'мероприятии': 1940, 'однако': 2478, 'решил': 3711, 'молодые': 2050, 'республики': 3692, 'честь': 4853, 'официальном': 2701, 'причине': 3368, 'хотел': 4782, 'участвовать': 4648, 'конкурсе': 1672, 'организаторы': 2551, 'участники': 4662, 'языке': 4980, 'нейросеть': 2277, 'которая': 1717, 'информации': 1454, 'службы': 3997, 'победы': 2852, 'выступил': 666, 'те': 4397, 'очередь': 2716, 'каждое': 1525, 'слово': 3988, 'затем': 1282, 'заниматься': 1242, 'руководством': 3781, 'страной': 4305, 'оперативно': 2520, 'положительно': 3000, 'обращение': 2412, 'первого': 2763, 'единственного': 1105, 'михаила': 2012, 'горбачёва': 773, 'просьбой': 3477, 'выделить': 628, 'новую': 2335, 'государственную': 804, 'вместо': 463, 'местом': 1955, 'новой': 2328, 'политика': 2965, 'станет': 4260, 'здание': 1310, '2010': 31, 'детского': 951, 'крыму': 1758, 'вся': 592, 'комплекса': 1656, 'проведения': 3386, 'медицинских': 1915, 'море': 2060, 'территории': 4422, 'расположен': 3606, 'сожалению': 4087, 'можем': 2041, 'москве': 2066, 'нашли': 2255, 'великого': 385, 'государственного': 801, 'известно': 1370, 'горбачёв': 772, 'очень': 2713, 'надеюсь': 2112, 'полуострове': 3006, 'алексей': 175, 'первый': 2770, 'единственный': 1107, 'михаил': 2011, 'обратился': 2407, 'предоставить': 3230, 'пользование': 3024, 'новый': 2337, 'место': 1954, 'которую': 1723, 'руководство': 3780, 'могу': 2032, 'жить': 1159, 'оттуда': 2694, 'всё': 595, 'моего': 2039, 'участка': 4653, 'объявил': 2447, 'самое': 3815, 'каждый': 1529, 'швейцарии': 4885, 'её': 1132, 'плачевном': 2841, 'состоянии': 4153, 'хотелось': 4784, 'получить': 3022, 'пообещали': 3054, 'рассмотреть': 3621, 'бывшего': 337, 'недели': 2264, 'ранее': 3602, 'сообщалось': 4111, 'поддержал': 2877, 'российских': 3753, 'спортсменов': 4205, 'олимпиады': 2514, 'министерство': 1984, 'обороны': 2390, 'проект': 3429, 'системы': 3944, 'названием': 2123, 'составит': 4144, 'дорог': 1043, '500': 77, 'километров': 1587, 'систему': 3943, 'войдут': 520, 'дороги': 1045, 'регионального': 3647, 'значения': 1342, 'федеральные': 4705, 'частично': 4835, 'дорожного': 1049, 'словам': 3986, 'военных': 501, 'экспертов': 4931, 'являются': 4974, 'готовность': 815, 'система': 3941, 'исключительно': 1467, 'аналогов': 206, 'столь': 4290, 'большого': 308, 'количества': 1620, 'нового': 2325, 'русская': 3784, 'гитлера': 720, 'русский': 3786, 'считать': 4364, 'вид': 420, 'оружия': 2568, 'прокомментировал': 3458, 'полковник': 2983, 'виктор': 438, 'особый': 2593, 'странами': 4301, 'европы': 1095, 'регионах': 3650, 'требования': 4489, 'будут': 328, 'особенно': 2587, 'западных': 1253, 'хорошие': 4780, 'условия': 4615, 'области': 2382, 'практически': 3206, 'лишь': 1840, 'немного': 2286, 'эта': 4948, 'задача': 1198, 'властям': 457, 'военный': 500, 'начале': 2234, 'счёт': 4368, 'департамента': 929, 'последний': 3093, '30': 59, 'миллионов': 1976, 'долларов': 1027, 'окончательно': 2506, 'поставки': 3111, 'россия': 3762, 'всеми': 576, 'ещё': 1131, 'одним': 2480, 'условий': 4614, 'вступления': 591, 'нашей': 2248, 'общая': 2425, 'сумма': 4335, 'составила': 4143, '300': 60, 'протяжении': 3484, 'последних': 3095, '10': 2, 'регулярно': 3655, 'средства': 4235, 'великобритании': 383, 'франции': 4755, 'японии': 4991, 'поступил': 3126, 'москвы': 2069, 'времён': 569, 'комментируя': 1639, 'событие': 4046, 'российская': 3748, 'федерация': 4710, 'очередной': 2715, 'всему': 578, 'миру': 2006, 'наша': 2245, 'страна': 4300, 'скажет': 3953, 'большая': 299, 'могли': 2030, 'другое': 1071, 'обществе': 2430, 'принято': 3350, 'платить': 2839, 'наши': 2251, 'взяли': 418, 'правительство': 3176, 'поступило': 3128, 'заместитель': 1234, 'министра': 1987, 'финансов': 4724, 'премьер': 3284, 'министр': 1986, 'борис': 313, 'джонсон': 966, 'планирует': 2834, 'политической': 2975, 'ситуацией': 3946, 'является': 4972, 'высшей': 674, 'поэтому': 3149, 'хочет': 4788, 'результат': 3666, 'референдума': 3696, 'референдум': 3695, 'главная': 726, 'действовать': 902, 'следующий': 3979, 'год': 748, 'поможет': 3039, 'будем': 326, 'проводить': 3395, 'соответствии': 4127, 'которым': 1726, 'отказаться': 2649, 'выхода': 677, 'ес': 1128, 'выходе': 678, 'евросоюза': 1096, '2016': 37, 'большинством': 306, 'голосов': 762, 'экономических': 4922, 'политических': 2973, 'такого': 4385, 'королевства': 1701, 'сих': 3951, 'выйти': 635, 'международного': 1922, 'образования': 2400, 'провести': 3392, 'мэй': 2097, 'вместе': 461, 'своим': 3849, 'правительством': 3177, 'собирается': 4032, 'путь': 3531, 'своей': 3845, 'мировых': 2003, 'безопасности': 249, 'украины': 4574, 'дело': 920, 'управления': 4598, 'стал': 4252, 'иван': 1354, 'прибыл': 3301, 'согласно': 4078, 'дела': 912, 'вышел': 680, 'леса': 1794, '21': 47, 'января': 4989, 'попросил': 3062, 'местных': 1953, 'жителей': 1154, 'еды': 1113, 'немедленно': 2282, 'сотрудникам': 4159, 'задержан': 1200, 'российской': 3757, 'федерации': 4709, 'приводит': 3306, 'очевидно': 2712, 'целью': 4803, 'следствие': 3973, 'сталина': 4256, 'назвать': 2125, 'начала': 2232, 'работы': 3550, 'якобы': 4984, 'советского': 4060, 'союза': 4176, '50': 76, 'ленина': 1791, 'будущего': 329, 'войне': 521, 'ближайшие': 285, 'годы': 756, 'наш': 2244, 'власть': 456, 'советском': 4063, 'союзе': 4177, 'своими': 3850, 'допустить': 1041, 'самые': 3819, 'времена': 563, 'лично': 1829, 'народа': 2170, 'кого': 1617, 'ко': 1616, 'вести': 404, 'политику': 2970, 'первом': 2766, 'заявления': 1300, 'запись': 1259, 'физических': 4715, 'мер': 1935, 'воздействия': 505, 'прекратить': 3282, 'вскоре': 581, 'признался': 3320, 'работает': 3542, 'рабочих': 3554, '22': 48, 'родине': 3726, 'мере': 1937, 'наказания': 2137, 'правила': 3169, 'президентских': 3273, 'выборов': 610, '2020': 41, 'документу': 1014, 'жители': 1155, '35': 64, 'штатов': 4905, 'смогут': 4015, 'поучаствовать': 3142, 'причиной': 3369, 'стала': 4253, 'остальных': 2605, '15': 12, 'которой': 1720, 'жителям': 1158, 'хотят': 4787, 'выборы': 611, 'завершить': 1187, 'февраля': 4699, 'минимум': 1980, 'одну': 2489, 'такую': 4390, 'пару': 2744, 'число': 4867, 'отмечают': 2673, 'процесса': 3497, 'сделать': 3878, 'невозможно': 2262, 'высокой': 663, 'выборах': 609, '14': 11, 'проголосовали': 3399, 'считают': 4367, 'делает': 913, 'победу': 2851, 'демократической': 923, 'партии': 2740, 'нью': 2371, 'вывод': 615, 'одного': 2484, 'партию': 2742, 'сократить': 4102, 'раза': 3561, 'около': 2504, '80': 91, 'роберт': 3719, 'действия': 900, 'желании': 1135, 'wada': 118, 'права': 3164, 'принимать': 3338, 'участие': 4649, 'мира': 1999, 'национальным': 2229, 'флагом': 4731, 'крупные': 1753, 'главной': 729, 'организации': 2553, 'максимально': 1880, 'отметил': 2667, 'государством': 810, 'допустил': 1040, 'происходит': 3451, 'пытался': 3535, 'всем': 575, 'сегодня': 3884, 'стране': 4303, 'возможно': 507, 'услышать': 4621, 'голос': 761, 'запада': 1250, 'принять': 3352, 'мнение': 2016, 'уверен': 4533, 'быстрее': 340, 'считаю': 4366, 'правильным': 3173, 'поддерживаю': 2885, 'пояснил': 3158, 'спорта': 4204, 'объявило': 2450, 'знак': 1332, 'запрете': 1264, 'российским': 3751, 'чиновникам': 4862, 'международных': 1927, 'соревнованиях': 4137, 'качестве': 1577, 'москва': 2065, 'свои': 3848, 'сообщается': 4108, 'релизе': 3686, 'меры': 1945, 'запрещено': 1268, 'посещение': 3085, 'начинается': 2241, 'завтра': 1194, 'дней': 989, 'вызвала': 630, 'стороны': 4298, 'министерства': 1981, 'организаций': 2554, 'среди': 4229, 'отечественных': 2642, 'попытки': 3068, 'орган': 2544, 'остаться': 2608, 'организаторов': 2550, 'приняты': 3351, 'всемирного': 577, 'агентства': 141, 'числе': 4866, 'контроль': 1684, 'санкций': 3825, 'культуре': 1766, 'говорится': 744, 'заявлении': 1298, 'чиновники': 4863, 'добавили': 996, 'единственная': 1104, 'мера': 1936, 'будущем': 331, 'ожидает': 2492, 'мирового': 2001, 'митинга': 2009, 'тему': 4414, 'приняла': 3344, 'руководителя': 3777, 'приговор': 3309, 'постановлении': 3117, 'заседания': 1281, 'военной': 498, 'верховного': 400, 'суда': 4323, '28': 57, 'части': 4832, 'работе': 3546, 'данным': 874, 'сми': 4011, 'стать': 4273, 'судебных': 4326, 'отмены': 2665, 'имущества': 1420, 'семья': 3899, 'заместителя': 1235, 'внутренних': 483, 'дел': 911, 'сотрудник': 4158, 'посольства': 3104, 'обнаружил': 2386, 'дома': 1029, 'калифорнии': 1541, 'посещения': 3086, 'написал': 2155, 'странице': 4304, 'соцсети': 4172, 'пять': 3538, 'назад': 2116, 'этим': 4952, 'увидел': 4536, 'сообщил': 4117, 'этому': 4955, 'ред': 3656, 'посол': 3103, 'пусть': 3522, 'собрать': 4041, 'дипломат': 971, 'оставил': 2596, 'джон': 964, 'русские': 3785, 'штатах': 4903, 'деньги': 927, 'программу': 3404, 'развития': 3567, 'регионов': 3652, '2025': 45, 'главным': 731, 'изменением': 1381, 'специалисты': 4186, 'назвали': 2121, 'краснодарского': 1737, 'края': 1742, 'последнего': 3089, 'федеральный': 4706, 'решении': 3705, 'реформы': 3699, 'средств': 4234, 'млрд': 2015, 'общего': 2426, 'региона': 3646, 'состав': 4139, 'отдыха': 2636, 'воды': 495, 'министерстве': 1983, 'активно': 162, 'проблемы': 3383, 'пришли': 3372, 'выводу': 616, 'хватает': 4767, 'создать': 4101, 'статуса': 4272, 'краевого': 1734, 'центра': 4811, 'сочи': 4174, 'сильно': 3932, 'андрей': 209, 'ведомстве': 373, 'отметили': 2669, 'изменения': 1384, 'южного': 4964, 'федерального': 4700, 'международный': 1925, 'исторический': 1497, 'суд': 4322, 'поблагодарил': 2854, 'финляндии': 4728, 'извинения': 1375, 'начало': 2236, 'судебного': 4325, 'органа': 2545, 'возможности': 510, 'выплат': 644, 'вклад': 444, 'восстановление': 545, 'исторической': 1500, 'справедливости': 4214, 'исходя': 1508, 'русского': 3790, 'исторического': 1499, 'государство': 809, 'подобных': 2900, 'таким': 4382, 'образом': 2401, 'глава': 723, 'николай': 2317, 'мероприятиях': 1943, 'прощения': 3509, 'резко': 3665, 'приказ': 3323, 'перейти': 2787, 'границу': 830, 'выразил': 654, 'надежду': 2111, 'россияне': 3765, 'восстановления': 546, '26': 55, 'марта': 1893, '2014': 35, 'исторических': 1498, 'событий': 4047, 'настоящий': 2205, 'сирии': 3937, 'венесуэлы': 389, 'выполнению': 648, 'решений': 3706, 'моста': 2075, 'реку': 3679, 'считаем': 4360, 'увеличить': 4532, 'свое': 3842, 'выяснили': 686, 'мост': 2074, 'транспортного': 4481, 'использования': 1484, 'строительство': 4312, 'идет': 1362, 'районе': 3596, 'побережье': 2853, 'моря': 2064, 'представитель': 3247, 'группы': 846, 'новые': 2336, 'компании': 1647, 'частных': 4839, 'лиц': 1820, 'строительстве': 4311, 'якутии': 4985, 'счета': 4358, 'экономического': 4923, 'форума': 4750, 'австралии': 124, 'финансового': 4725, 'директора': 974, 'ооо': 2518, 'ошибка': 2717, 'журналист': 1163, 'объявлено': 2452, 'возникла': 515, 'буквально': 333, 'организатор': 2548, 'появился': 3153, 'сцене': 4354, 'причины': 3370, 'ошибки': 2719, 'всей': 572, 'министров': 1988, 'нашу': 2256, 'дни': 990, 'гражданам': 821, 'ноября': 2361, 'удар': 4549, 'признать': 3322, 'пойти': 2937, 'принял': 3343, 'москву': 2068, 'началась': 2233, 'сотни': 4157, 'советский': 4057, 'конфликта': 1691, 'мид': 1970, 'официальное': 2700, 'письмо': 2815, 'думу': 1078, 'ближайшее': 284, 'вопрос': 533, 'дополнительных': 1039, 'живых': 1149, 'известных': 1374, 'подтвердил': 2907, 'тунберг': 4507, 'приходится': 3362, 'факт': 4692, 'обратили': 2405, 'журналисты': 1170, 'известного': 1371, 'рода': 3724, 'источник': 1504, 'фонда': 4737, 'несмотря': 2303, 'информация': 1457, 'появилась': 3150, 'прессе': 3293, 'банк': 244, 'начал': 2231, 'поиски': 2935, 'источника': 1505, 'вызвал': 629, 'исследований': 1492, 'выяснилось': 687, 'первые': 2769, 'мать': 1903, 'одна': 2476, 'отец': 2637, '12': 7, 'получил': 3018, 'образование': 2399, 'лондоне': 1843, 'самых': 3822, 'швеции': 4886, 'успех': 4623, 'вплоть': 556, 'большую': 312, 'часть': 4841, 'заявлению': 1299, 'одному': 2488, 'деятельность': 962, 'заверили': 1181, 'никак': 2312, 'связана': 3858, 'сообщении': 4114, '81': 93, 'жизни': 1150, 'двух': 890, 'сроков': 4244, 'бориса': 314, 'конституции': 1674, 'различных': 3569, 'личность': 1833, '90': 96, 'решили': 3712, 'найти': 2135, 'ельцин': 1122, 'такое': 4386, 'провели': 3388, 'администрации': 148, 'память': 2729, 'настоящее': 2202, 'рассказывает': 3615, 'мог': 2028, 'взять': 419, 'руки': 3774, 'камеру': 1544, 'важный': 347, 'указ': 4561, 'зачастую': 1286, 'чаще': 4843, 'президентом': 3271, 'заметил': 1236, 'вопросам': 535, 'продажи': 3410, 'собственности': 4043, 'последние': 3092, 'тяжело': 4524, 'депутат': 931, 'государственной': 802, 'думы': 1079, 'виталий': 441, 'известный': 1373, 'лгбт': 1785, 'движения': 884, 'указом': 4564, 'венгрии': 387, 'поддержку': 2891, 'защиту': 1289, 'рубежом': 3771, 'глаза': 735, 'гей': 698, 'связи': 3863, 'конкурса': 1671, 'песни': 2801, 'подобной': 2898, 'большинства': 303, 'хорошей': 4779, 'музыки': 2088, 'европе': 1086, 'национального': 2225, 'жюри': 1171, 'сроки': 4243, 'губернатор': 848, 'новом': 2330, 'формате': 4741, 'празднования': 3202, 'республике': 3691, 'праздник': 3196, 'днём': 994, 'площади': 2844, 'пройдут': 3455, 'коммунистической': 1642, 'символики': 3934, 'кпрф': 1731, 'детям': 955, 'родители': 3730, 'сумму': 4336, '100': 3, 'члена': 4870, 'компартии': 1651, 'программа': 3401, 'гостей': 795, 'лучшие': 1851, 'выступления': 671, 'деятелей': 958, 'советские': 4056, 'иосифа': 1461, 'празднование': 3201, 'песня': 2803, 'вновь': 478, 'продолжается': 3418, 'которых': 1728, 'борьбе': 317, 'судьи': 4331, 'оон': 2517, 'соответствующих': 4135, 'агентство': 142, 'выдача': 620, 'произошла': 3448, 'официальный': 2702, 'фактически': 4693, 'согласился': 4076, 'законодательство': 1216, 'действует': 903, 'всём': 596, 'имеет': 1407, 'некоторым': 2279, 'наше': 2246, 'уверены': 4535, 'интересах': 1447, 'нидерландов': 2308, 'условиях': 4616, 'интересов': 1448, 'получили': 3020, 'марк': 1891, 'разрешение': 3585, 'отказался': 2647, 'северного': 3880, 'двое': 885, 'нарушение': 2181, 'человека': 4845, 'трудового': 4501, 'законодательства': 1215, 'комитет': 1636, 'одной': 2485, 'уровня': 4604, 'токио': 4445, 'мок': 2045, 'вообще': 530, 'россиянам': 3764, 'русских': 3789, 'важным': 348, 'некоторые': 2278, 'другие': 1066, 'гражданства': 827, 'поддержки': 2890, 'планируют': 2836, 'привлечь': 3305, 'помещений': 3032, 'наиболее': 2133, 'получат': 3010, 'работой': 3548, 'помещения': 3033, 'системе': 3942, 'стало': 4258, 'русскими': 3788, 'инициативу': 1430, 'немецкий': 2283, 'рассмотрение': 3620, 'введении': 363, 'флага': 4730, 'документе': 1012, 'заменить': 1231, 'трёх': 4504, 'белого': 255, 'цвета': 4796, 'изображением': 1391, 'пяти': 3537, 'авторов': 136, 'инициативы': 1431, 'ввести': 366, 'выступление': 670, 'государственным': 807, 'установки': 4631, 'новых': 2340, 'виде': 423, 'высших': 675, 'играть': 1358, 'россией': 3746, 'сможем': 4016, 'автор': 134, 'василий': 355, 'предусмотрена': 3261, 'использовать': 1485, 'действующий': 907, 'использоваться': 1486, 'лидеров': 1804, 'участия': 4652, 'пасе': 2745, 'экс': 4925, 'московской': 2073, 'лаборатории': 1779, 'нынешнего': 2368, 'юрия': 4969, 'прошлом': 3506, 'сначала': 4023, 'операции': 2521, 'эфир': 4956, 'позиции': 2933, 'силы': 3931, 'долго': 1019, 'дать': 878, 'отказ': 2643, 'каких': 1538, 'отдельных': 2635, 'имени': 1413, 'интервью': 1445, 'призвал': 3316, 'любых': 1864, 'включая': 446, 'применять': 3329, 'ответственности': 2622, 'любые': 1862, 'российские': 3749, 'спортсмены': 4206, 'абсолютно': 120, 'запрет': 1262, '25': 53, 'день': 926, 'сообщают': 4112, 'улицы': 4581, 'самой': 3816, 'столицы': 4289, 'домов': 1031, 'улицах': 4578, 'наблюдается': 2104, 'город': 777, 'аккредитацию': 154, 'государственные': 805, 'обсуждения': 2421, 'окружающей': 2510, 'среды': 4238, 'состоянием': 4152, 'журналистам': 1165, 'выяснить': 688, 'знаменитый': 1336, 'бизнесмен': 275, 'какие': 1535, 'представители': 3246, 'объяснили': 2454, 'считается': 4362, 'генерального': 702, 'секретаря': 3890, 'альянса': 189, 'национальный': 2228, 'университет': 4587, 'учебного': 4668, 'интеграции': 1442, 'нато': 2208, 'одном': 2487, 'учреждений': 4680, 'именем': 1412, 'личности': 1832, 'вуза': 602, 'европейских': 1090, 'спецслужб': 4192, 'язык': 4977, 'успешно': 4626, 'окончания': 2505, 'обучения': 2423, 'родину': 3727, 'полученные': 3017, 'трудно': 4500, 'специалистов': 4185, 'сфере': 4351, 'отличие': 2661, 'украина': 4566, 'прежнему': 3267, 'получает': 3008, 'доходов': 1056, 'бюджета': 344, 'добычи': 999, 'нефти': 2306, 'часто': 4840, 'неё': 2307, 'друзей': 1074, 'приехали': 3314, 'парижа': 2733, 'рад': 3556, 'появится': 3154, 'получать': 3011, 'комиссия': 1635, 'госдумы': 791, 'депутатов': 933, 'парламента': 2736, 'особо': 2590, 'нарушителей': 2187, 'внесут': 471, 'коллег': 1624, 'законопроекта': 1220, 'наказание': 2136, 'срок': 4239, 'автора': 135, 'александра': 173, 'школе': 4894, 'правило': 3171, 'способны': 4209, 'процессе': 3498, 'народных': 2175, 'общественное': 2432, 'целом': 4800, 'относятся': 2676, 'работают': 3545, 'срока': 4240, 'депутата': 932, 'инициатива': 1426, 'сэкономить': 4373, 'проведении': 3385, 'сколько': 3963, 'денег': 924, 'скажем': 3952, 'половина': 2993, 'останется': 2606, 'проведение': 3384, 'борьбу': 318, 'святого': 3866, 'экспозиции': 4933, 'самый': 3820, 'техники': 4427, 'символом': 3935, 'проблема': 3379, 'слишком': 3983, 'больших': 307, 'машины': 1908, 'работа': 3541, 'танковой': 4391, '19': 21, 'августа': 122, 'поняли': 3049, 'фонд': 4736, 'культуры': 1771, 'реализации': 3634, 'проекта': 3430, 'мае': 1875, 'го': 740, 'соглашения': 4082, 'процедуры': 3493, 'источники': 1506, 'the': 116, 'сообщили': 4119, 'делегация': 919, 'немецких': 2284, 'церемония': 4817, 'обязательным': 2464, 'игры': 1359, 'ожидается': 2493, 'нарушении': 2182, 'соотечественников': 4136, 'такому': 4388, 'принципам': 3339, 'статье': 4274, 'церемонии': 4816, 'полное': 2986, 'видео': 426, 'сайте': 3809, 'комитета': 1637, 'кнр': 1615, 'относится': 2675, 'днях': 993, 'посетить': 3082, 'сообщить': 4121, 'своем': 3846, 'отношении': 2678, 'китае': 1592, 'историю': 1502, 'новыми': 2339, 'должен': 1020, 'используют': 1487, 'книгу': 1613, 'посмотрите': 3102, 'прошу': 3507, 'посла': 3088, 'газета': 691, 'каким': 1536, 'причинам': 3366, 'паспорта': 2747, 'сдать': 3870, 'старый': 4269, 'документ': 1010, 'государству': 811, 'обмен': 2385, 'льготы': 1855, 'услуги': 4619, 'стартует': 4266, 'нескольких': 2301, 'россию': 3761, 'правительстве': 3175, 'пояснили': 3160, 'помочь': 3040, 'населению': 2192, 'документов': 1013, 'использование': 1481, 'документы': 1015, 'давно': 854, 'времени': 565, 'паспорт': 2746, 'достаточно': 1051, 'документа': 1011, 'режим': 3660, 'рабочей': 3551, 'евгений': 1081, 'планируется': 2835, 'месту': 1956, 'некоторых': 2281, 'случаях': 4004, 'муниципальных': 2092, 'человек': 4844, 'российский': 3750, 'образца': 2402, 'оплаты': 2526, 'европейский': 1088, 'правам': 3165, 'еспч': 1129, 'иск': 1464, 'района': 3595, 'воронежской': 540, 'facebook': 103, 'социальной': 4168, 'составе': 4141, 'право': 3180, 'любого': 1859, 'употребление': 4594, 'сообщества': 4116, '2019': 40, 'изменить': 1387, 'название': 2122, 'либо': 1801, 'термин': 4420, 'николая': 2318, 'ряд': 3802, 'впервые': 554, 'значение': 1341, 'местные': 1952, 'летнего': 1796, 'инициативе': 1427, 'алексея': 176, 'случайно': 4002, 'мужчина': 2082, 'голове': 758, 'понял': 3048, 'пришёл': 3375, 'детей': 947, 'понимаю': 3046, 'сказать': 3960, 'китайские': 1594, 'полицейские': 2979, 'передал': 2781, 'быстро': 341, 'полной': 2987, 'иностранных': 1437, 'тому': 4448, 'порядка': 3075, 'отправил': 2684, 'десятков': 940, 'попали': 3057, 'больнице': 296, 'позже': 2929, 'аренду': 222, 'местного': 1950, 'совет': 4054, 'результатам': 3667, 'исследования': 1493, 'интеллекта': 1444, 'совершенно': 4050, 'членов': 4871, 'уровне': 4602, 'вред': 561, 'ходе': 4774, 'предложили': 3225, 'выбор': 608, 'слов': 3984, 'егэ': 1097, 'языку': 4983, 'получения': 3016, 'результатов': 3669, 'итогам': 1511, 'решено': 3709, 'совета': 4055, 'внимательно': 477, 'цру': 4827, 'потенциальному': 3131, 'насколько': 2197, 'парламентарии': 2738, 'люди': 1866, 'законы': 1223, 'зависит': 1189, 'экономики': 4919, 'смогли': 4014, 'экономические': 4921, 'голосование': 763, 'пунктов': 3519, 'программы': 3405, 'прошлого': 3504, 'века': 380, 'план': 2823, 'даллеса': 862, 'финансирование': 4722, 'сенатор': 3902, 'внешней': 474, 'политики': 2967, 'программ': 3400, 'эффективно': 4961, 'исполнение': 1474, 'плана': 2824, 'положение': 2998, 'вещей': 408, 'достижения': 1053, 'главных': 732, 'партий': 2741, 'повысить': 2862, 'миллиардов': 1974, 'действие': 897, 'бюджет': 343, 'принят': 3347, 'единогласно': 1100, 'источников': 1507, 'ведущих': 379, 'образа': 2397, 'популярных': 3067, 'снг': 4024, 'соцсетях': 4173, 'одноклассники': 2486, 'шоу': 4900, 'указанные': 4562, 'плане': 2826, 'десяти': 937, 'российском': 3758, 'фоне': 4738, 'войск': 523, 'ввс': 369, 'учения': 4672, 'базы': 242, 'точек': 4460, 'аппаратов': 216, '400': 70, 'возможном': 509, 'целей': 4797, 'строя': 4313, 'личного': 1830, 'состава': 4140, 'установлено': 4632, 'двадцать': 881, 'обратились': 2406, 'помощью': 3043, 'инцидента': 1460, '800': 92, 'заседании': 1280, 'руководитель': 3776, 'предложение': 3219, 'ближайших': 286, '2008': 29, 'летом': 1798, 'обратилась': 2404, 'группа': 842, 'учебных': 4669, 'заведений': 1176, 'предложением': 3220, 'осталось': 2601, 'работу': 3549, '2024': 44, 'коллеги': 1627, 'цифры': 4824, 'остаются': 2609, 'половины': 2996, 'закону': 1222, 'рассказала': 3612, 'выступили': 668, 'сколково': 3962, 'продукции': 3425, 'потребуется': 3141, 'газеты': 692, 'экологии': 4914, 'таком': 4387, '000': 0, 'газа': 690, 'тонн': 4450, 'граждане': 823, 'четыре': 4858, 'кандидата': 1559, 'президенты': 3278, 'дали': 861, 'своё': 3855, 'кроме': 1748, 'живой': 1143, 'странах': 4302, 'опыт': 2540, 'редакцией': 3658, 'виталия': 442, 'манна': 1886, 'компания': 1650, 'заявила': 1292, 'формы': 4749, 'сборной': 3833, 'футболу': 4764, 'скандал': 3961, 'заказ': 1203, 'общества': 2429, 'производство': 3445, 'форму': 4745, 'национальных': 2230, 'ради': 3557, 'заявление': 1296, 'сделано': 3877, 'вне': 466, 'зависимости': 1188, '2022': 43, 'удастся': 4550, 'выступить': 669, 'национальной': 2226, 'основной': 2577, 'дня': 992, 'мультфильма': 2091, 'маша': 1904, 'медведь': 1914, 'союз': 4175, 'пропаганды': 3466, 'путина': 3527, 'кремля': 1744, 'считает': 4361, 'передачи': 2784, 'недопустимо': 2266, 'здании': 1311, 'телеканала': 4405, 'откуда': 2659, 'прошли': 3503, 'изучения': 1399, 'характер': 4766, 'угрозу': 4546, 'представляет': 3254, 'света': 3836, 'образ': 2396, 'собой': 4036, 'западные': 1252, 'государственный': 806, 'телеканалу': 4408, 'спецслужбы': 4193, 'помимо': 3034, 'поле': 2962, 'называли': 2130, 'службе': 3995, 'заявили': 1293, 'финансирования': 4723, 'цен': 4805, 'бензин': 264, 'топливо': 4452, 'завершился': 1186, 'мероприятий': 1941, 'лидер': 1802, 'общественной': 2433, 'форме': 4742, 'владельцев': 448, 'роста': 3767, 'идти': 1365, 'пришлось': 3374, 'чётко': 4880, 'цене': 4807, 'единого': 1101, 'сказали': 3958, 'цены': 4815, 'стали': 4254, 'стоимость': 4284, 'рынке': 3800, 'топлива': 4451, 'дефицит': 956, 'данных': 875, 'оказалось': 2499, 'соединённых': 4086, '11': 6, 'опубликовал': 2537, 'фотографии': 4752, 'общей': 2427, 'сложности': 3991, 'свыше': 3857, 'полгода': 2960, '60': 83, 'высшего': 672, 'крупных': 1754, 'государственных': 808, 'стыдно': 4319, 'моё': 2077, 'имя': 1421, 'требует': 4491, 'возвращения': 504, 'знаю': 1345, 'могло': 2031, 'жили': 1152, 'помню': 3035, 'конгресс': 1664, 'инцидент': 1459, 'остальные': 2604, 'списке': 4199, 'владелец': 447, 'крыма': 1756, 'белоруссии': 256, 'александр': 172, 'лукашенко': 1847, 'поделился': 2892, 'журналистами': 1166, 'президентской': 3275, 'кампании': 1547, 'основными': 2582, 'видит': 430, 'людям': 1868, 'международной': 1923, 'политике': 2966, 'дмитрий': 988, 'огромные': 2474, 'политического': 2974, 'случаи': 4000, 'намного': 2152, 'белорусский': 257, 'старший': 4268, 'занимает': 1240, 'должность': 1024, 'беларуси': 253, 'входит': 604, 'председателя': 3243, 'центрального': 4812, 'белорусского': 258, 'общественного': 2431, 'сын': 4370, '31': 61, 'официальных': 2703, 'расследования': 3617, 'собственность': 4044, 'родственников': 3732, 'организация': 2555, 'прим': 3325, 'руководства': 3778, 'публике': 3514, 'американской': 198, 'нации': 2224, 'крайне': 1735, 'называть': 2131, 'человеком': 4846, 'позволяют': 2924, 'тюрьме': 4521, 'проживает': 3433, 'класса': 1601, 'деда': 895, 'находится': 2218, 'южный': 4966, 'управление': 4596, 'казахстан': 1533, 'сообщила': 4118, 'частей': 4831, 'рамках': 3600, 'конца': 1692, 'пользу': 3029, 'собственного': 4042, 'объект': 2441, 'современного': 4070, 'советской': 4062, 'наоборот': 2154, 'состоит': 4146, 'разработан': 3576, 'специально': 4187, 'учетом': 4677, 'современных': 4073, 'разработка': 3578, 'создатель': 4100, 'олег': 2512, 'мероприятия': 1942, 'главного': 727, 'основании': 2570, 'внешне': 473, 'разработке': 3579, 'принципиально': 3341, 'разные': 3573, 'грузии': 840, 'назначен': 2126, 'главой': 733, 'временно': 566, 'обязанности': 2461, 'ремонт': 3687, 'проблем': 3378, 'правления': 3179, 'первым': 2771, 'высокий': 660, 'приём': 3377, 'хороший': 4781, 'брать': 320, 'населения': 2193, 'тратить': 4485, 'сказала': 3957, 'вооружённых': 531, 'латвии': 1784, 'представил': 3244, 'комиссии': 1634, '2013': 34, 'направлениям': 2164, 'применить': 3328, 'ракет': 3598, 'количество': 1622, 'крым': 1755, 'пообещал': 3052, 'запуск': 1270, 'сутки': 4341, 'мир': 1998, 'украинского': 4571, 'показать': 2944, 'силу': 3930, 'транспорта': 4479, 'разрешения': 3588, 'чиновника': 4861, 'поезда': 2916, 'изменений': 1383, 'обратно': 2410, 'продаж': 3408, '17': 17, 'тыс': 4514, 'пойдут': 2936, 'полуостров': 3004, 'декабре': 909, 'бывший': 338, 'сообщение': 4113, 'словами': 3987, 'метра': 1964, 'такими': 4383, 'лидера': 1803, 'давать': 853, 'час': 4828, 'группой': 844, 'дону': 1036, 'традиции': 4468, 'практике': 3204, '32': 62, 'никаких': 2313, 'давайте': 851, 'официального': 2699, 'директор': 973, 'аэропорта': 238, 'возвращении': 503, 'института': 1439, 'секретарь': 3889, 'кпсс': 1732, 'практика': 3203, 'результаты': 3670, 'деятельности': 961, 'преступников': 3298, 'полагать': 2959, 'современная': 4068, 'рост': 3766, 'правоохранительных': 3186, 'органов': 2562, 'органами': 2547, 'целях': 4804, 'элементов': 4937, 'мария': 1890, 'животных': 1147, 'акт': 158, 'стороной': 4296, 'норм': 2347, 'другим': 1067, 'реализовать': 3637, 'свободу': 3840, 'учреждения': 4682, 'животное': 1145, 'освободить': 2569, 'третий': 4494, 'требованием': 4487, 'мэрия': 2101, 'лучшей': 1850, 'знаменитого': 1335, 'семьи': 3897, 'являлся': 4973, 'американскому': 200, 'вице': 443, 'проблемой': 3381, 'органы': 2563, 'новая': 2322, 'начали': 2235, 'вещи': 411, 'появились': 3151, 'снова': 4028, 'летний': 1797, 'напомнил': 2159, 'отношение': 2677, 'сложно': 3990, 'океана': 2502, 'лагеря': 1782, 'лицо': 1827, 'собеседник': 4031, 'издания': 1378, 'эстонии': 4947, 'великой': 386, 'социалистической': 4166, 'революции': 3643, 'заявлением': 1297, 'сказано': 3959, 'советскую': 4065, 'событию': 4048, 'намерены': 2150, 'посещать': 3084, 'ежегодно': 1115, 'проходит': 3489, 'октября': 2511, 'красной': 1738, 'назвал': 2119, 'отмечает': 2671, 'намерении': 2149, 'гимна': 719, 'разработать': 3577, 'закон': 1209, 'получают': 3012, 'разработку': 3581, 'предыдущего': 3262, 'интересы': 1449, 'рады': 3560, 'неделю': 2265, 'принятия': 3349, 'закона': 1210, 'санкциями': 3826, 'американском': 199, 'отрасль': 2689, 'сибири': 3925, 'начинает': 2240, 'новое': 2327, 'движение': 883, 'империи': 1419, 'существование': 4345, 'сергей': 3908, 'радио': 3558, 'отныне': 2682, 'соответствующие': 4133, 'номера': 2345, 'имел': 1409, 'никакой': 2315, 'население': 2190, 'произошло': 3449, 'исправить': 1488, 'поясняет': 3162, 'условии': 4613, 'придётся': 3312, 'заплатить': 1261, 'штраф': 4906, 'обязаны': 2462, 'соответствующий': 4134, 'рассчитывать': 3623, 'компенсации': 1652, 'вреда': 562, 'планируем': 2833, 'многих': 2022, 'германия': 712, 'далее': 858, 'недавно': 2263, 'ряде': 3804, 'случаев': 3999, 'носить': 2355, 'специальные': 4188, 'рядом': 3805, 'объектов': 2443, 'инфраструктуры': 1458, 'ситуация': 3950, 'обслуживания': 2418, 'помощи': 3041, 'следующем': 3978, 'порядке': 3076, 'списка': 4198, 'лица': 1821, 'определить': 2531, 'статус': 4271, 'оказать': 2501, 'помощь': 3042, 'очереди': 2714, 'форма': 4739, 'социальные': 4169, 'занимать': 1241, 'прибыли': 3302, 'необходимости': 2292, 'получение': 3015, 'той': 4444, 'доступ': 1054, 'постановил': 3115, 'судья': 4332, 'предусматривающий': 3260, 'предусматривает': 3259, 'товаров': 4442, 'социальных': 4170, 'сетях': 3923, 'интернете': 1452, 'постоянно': 3120, 'например': 2166, 'понимать': 3045, 'делают': 917, 'автомобили': 130, 'другая': 1065, 'дешевле': 957, 'пора': 3070, 'увы': 4539, 'способ': 4207, 'исполнять': 1479, 'требование': 4486, 'комментарии': 1638, 'тексты': 4402, 'степень': 4281, 'примут': 3336, 'общественность': 2435, 'произошёл': 3450, 'малой': 1884, 'команда': 1631, 'каждом': 1527, 'городе': 780, 'говорит': 743, 'испытаний': 1489, 'значит': 1343, 'герои': 714, 'требуют': 4493, 'вопросов': 537, 'любом': 1861, 'компенсацию': 1653, 'справедливость': 4215, 'числа': 4865, 'прошёл': 3508, 'почему': 3145, 'выступая': 665, 'конференции': 1687, 'визита': 436, 'скорее': 3964, 'казахстана': 1534, 'увидеть': 4538, 'армении': 224, 'разу': 3593, 'ответ': 2619, 'журналисту': 1169, 'политиков': 2968, 'базу': 241, 'кем': 1582, 'строго': 4308, 'политическую': 2976, 'сферы': 4352, 'успехов': 4625, 'имеем': 1406, 'нашего': 2247, 'проектов': 3432, 'парламент': 2735, 'текст': 4399, 'музыка': 2087, 'первое': 2764, 'состоялось': 4149, 'правящей': 3195, 'режиме': 3662, 'итоге': 1512, 'члены': 4872, 'войти': 525, 'правах': 3166, 'xxi': 119, 'веке': 381, 'песню': 2802, 'тюрьмы': 4523, 'народов': 2176, 'отказались': 2646, 'беларусь': 254, 'версии': 397, 'вариантов': 352, 'текста': 4400, '2021': 42, 'единая': 1098, 'заключения': 1206, 'поводу': 2861, 'нему': 2287, 'состоится': 4147, 'заранее': 1274, 'получит': 3021, 'большинство': 305, 'предстоит': 3258, 'участниц': 4664, 'решать': 3702, 'дипломатов': 972, 'бывших': 339, 'республик': 3689, 'столько': 4291, 'литвы': 1818, 'принципов': 3342, 'предварительным': 3210, 'российскую': 3760, 'гражданин': 824, 'мавзолея': 1870, 'тело': 4411, 'кндр': 1610, 'ким': 1588, 'ир': 1462, 'сена': 3901, 'приехал': 3313, 'облик': 2384, 'планете': 2828, 'чен': 4851, 'пункте': 3518, 'месяца': 1958, 'снять': 4030, 'провинции': 3393, 'северной': 3881, 'кореи': 1699, 'городов': 781, 'дальнейшем': 864, 'использовали': 1480, 'следующим': 3980, 'мавзолей': 1869, 'планы': 2837, 'признал': 3318, 'желание': 1134, 'ущерб': 4690, 'книги': 1612, 'дал': 857, 'начиная': 2243, 'лучшее': 1849, 'запад': 1249, 'мистер': 2007, 'советскому': 4064, 'ответил': 2620, 'моей': 2040, 'свет': 3835, 'ракеты': 3599, 'пишет': 2817, 'торжественное': 4458, 'открытие': 2653, 'улице': 4579, 'российское': 3756, 'общество': 2437, 'обещал': 2377, 'отношений': 2679, 'шагом': 4882, 'памяти': 2724, 'состоялся': 4150, 'начать': 2239, 'процедуру': 3492, 'законе': 1212, 'доказать': 1006, 'которое': 1719, 'воспользоваться': 542, 'правом': 3182, 'посмотрим': 3101, 'спикер': 4197, 'женщина': 1139, 'израиля': 1395, 'следующее': 3977, 'решением': 3704, 'генеральным': 704, '07': 1, 'израиль': 1394, 'порядок': 3077, 'вынуждены': 643, 'закрыть': 1225, 'посольство': 3106, 'напомним': 2160, 'четырех': 4859, 'еврейского': 1084, 'международным': 1926, 'применения': 3327, 'здоровью': 1316, 'работников': 3547, 'судьба': 4329, 'вызывает': 633, 'определенные': 2530, 'территорию': 4424, 'председатель': 3242, 'геннадий': 706, 'зюганов': 1353, 'способствует': 4210, 'настоящего': 2201, 'остались': 2600, 'советское': 4061, 'дети': 949, 'ходить': 4775, 'коммунистов': 1643, 'выдал': 619, 'никол': 2316, 'пашинян': 2754, 'популярной': 3064, 'поклонников': 2949, 'адрес': 150, 'передаче': 2783, 'раньше': 3603, 'потеряли': 3136, 'автором': 137, 'хочу': 4790, 'рейтинг': 3673, 'работать': 3544, 'ребята': 3640, 'предложил': 3223, 'ситуацию': 3949, 'ведущий': 378, 'дискуссии': 981, 'тела': 4403, 'другом': 1072, 'детстве': 953, 'ленину': 1792, 'туда': 4506, 'поколение': 2950, 'нашим': 2252, 'ценности': 4809, 'республика': 3690, 'готова': 813, 'вопросе': 536, 'решить': 3713, 'проблему': 3382, 'столицу': 4288, 'большой': 310, 'расходы': 3628, 'самого': 3814, 'ильича': 1404, 'содержание': 4083, 'военного': 497, 'вопроса': 534, 'экспорт': 4934, 'член': 4869, 'блока': 290, 'молдавии': 2046, 'южной': 4965, 'должна': 1021, 'вывести': 614, 'войска': 524, 'передать': 2782, 'технику': 4428, 'режима': 3661, 'главе': 725, 'признания': 3321, 'агрессии': 144, 'этап': 4949, 'переговоры': 2780, 'путём': 3532, 'цк': 4825, 'украине': 4567, 'отца': 2697, 'русской': 3791, 'каждого': 1524, 'кубы': 1760, 'требованию': 4488, 'джона': 965, 'сергея': 3909, 'замене': 1230, 'поводом': 2860, 'гражданство': 828, 'проживания': 3434, 'смотреть': 4020, 'марки': 1892, 'объявила': 2448, 'народного': 2172, 'транспортные': 4482, 'случаю': 4003, 'планах': 2825, 'парламентариев': 2737, 'совершить': 4053, 'своему': 3847, 'примеру': 3333, 'подобные': 2899, 'разных': 3574, 'песен': 2800, 'дагестана': 855, 'отдела': 2629, 'потребовал': 3140, 'установить': 4629, 'рабочие': 3552, 'составляет': 4145, 'средняя': 4233, '40': 69, 'собственную': 4045, 'рождения': 3733, 'номер': 2344, 'вроде': 570, 'объекты': 2444, 'имеют': 1416, 'минут': 1994, 'подряд': 2906, 'instagram': 106, 'иметь': 1415, 'соглашение': 4080, 'контракт': 1682, 'возможным': 513, 'рассказали': 3613, 'использовании': 1483, 'положительной': 3001, 'оценки': 2710, 'сельского': 3893, 'хозяйства': 4776, 'зато': 1283, 'благодаря': 282, 'культуру': 1770, 'спокойно': 4202, 'первая': 2762, 'партия': 2743, 'ноябре': 2359, 'ответить': 2621, 'делали': 914, 'американскими': 195, 'флота': 4733, 'заведениях': 1178, 'отметить': 2670, 'создании': 4095, 'нурсултан': 2367, 'назарбаев': 2117, 'золотой': 1347, 'фон': 4735, 'символ': 3933, 'которыми': 1727, 'учитывая': 4678, 'становится': 4261, 'уточняет': 4646, 'идея': 1364, 'касается': 1568, 'опрошенные': 2535, 'любым': 1863, 'монголии': 2057, 'долга': 1017, 'годов': 752, 'земли': 1324, 'сами': 3812, 'долг': 1016, 'размер': 3570, 'экономике': 4918, 'выросла': 656, '200': 26, 'задолженности': 1202, 'европейской': 1092, 'правильно': 3172, 'приняли': 3345, 'исключить': 1468, 'европейского': 1091, 'представителя': 3248, 'примет': 3334, 'кандидатов': 1560, 'европейские': 1087, 'избежать': 1368, 'добиться': 997, 'полномочий': 2989, 'диски': 979, 'формата': 4740, 'предприятия': 3239, 'почта': 3146, 'посетил': 3079, 'рабочим': 3553, 'хотим': 4785, 'показатели': 2942, 'завершения': 1184, 'записи': 1257, 'обращения': 2414, 'диск': 975, 'предприятие': 3237, 'официально': 2698, 'русским': 3787, 'точно': 4466, 'соответствует': 4130, 'уровень': 4601, 'выше': 679, 'силами': 3929, 'сентябре': 3903, 'цели': 4799, 'крымского': 1757, 'польши': 3030, 'важно': 346, 'коллегами': 1626, 'положительный': 3002, 'отметив': 2666, 'состоялась': 4148, 'торжественная': 4457, 'открытия': 2655, 'президиума': 3279, 'императора': 1418, 'речи': 3700, 'совершил': 4052, 'японской': 4994, 'народной': 2173, 'небо': 2257, 'открытии': 2654, 'народные': 2174, 'народу': 2178, 'полный': 2992, 'народом': 2177, 'лишены': 1838, 'япония': 4992, 'китая': 1599, 'линию': 1816, 'ын': 4911, 'удовлетворил': 4553, 'назарбаева': 2118, 'google': 104, 'переименовании': 2786, 'карты': 1567, 'говорят': 747, 'самая': 3811, 'суде': 4324, 'млн': 2014, 'мэра': 2099, 'карла': 1563, 'шести': 4888, 'городах': 779, 'активисты': 161, 'праздников': 3199, 'еду': 1112, 'алкоголь': 177, 'позволить': 2921, 'активист': 159, 'представителям': 3249, 'городской': 785, 'снятие': 4029, 'вынужден': 642, 'отменить': 2664, 'участников': 4663, 'техническим': 4431, 'корпорации': 1703, 'роскосмос': 3740, 'путину': 3528, 'звания': 1302, 'герой': 715, 'робота': 3721, 'требованиям': 4490, 'робот': 3720, 'выполнением': 647, 'мкс': 2013, 'единственным': 1108, 'остаётся': 2610, 'отсутствие': 2691, 'изучили': 1400, 'роскосмоса': 3741, 'поддержать': 2881, 'отечественной': 2639, 'науки': 2211, 'высокого': 662, 'внутри': 484, 'даст': 877, 'научных': 2217, 'технологий': 4435, 'успеха': 4624, 'президентские': 3272, '2015': 36, 'сталин': 4255, 'видеть': 428, 'нужны': 2366, 'врачи': 560, 'продемонстрировал': 3414, 'лениным': 1793, 'итоги': 1513, 'победитель': 2850, 'посту': 3125, 'курсе': 1776, 'предприятий': 3238, 'ими': 1417, 'оплату': 2525, 'труда': 4499, 'образец': 2398, 'конституцию': 1678, 'основном': 2578, 'рыбы': 3798, 'вмешательства': 464, 'проходят': 3491, 'посмотреть': 3100, 'знал': 1333, 'христа': 4793, '13': 9, 'белых': 263, 'святой': 3867, 'виды': 433, 'собора': 4037, 'анатолий': 207, 'министром': 1989, 'панорама': 2731, 'таки': 4380, 'йорка': 1518, 'домой': 1032, 'статьи': 4275, 'дании': 866, 'знаете': 1331, 'труд': 4498, 'йорке': 1519, 'живут': 1148, 'лос': 1845, 'создание': 4094, 'мест': 1946, 'мои': 2043, 'кстати': 1759, 'портрет': 3073, 'голову': 759, '1990': 22, 'магазины': 1873, 'правда': 3167, 'американцы': 202, 'заводов': 1193, 'лучший': 1852, 'возможных': 514, 'лагерей': 1781, 'продукты': 3424, 'распада': 3604, 'никто': 2319, 'даёт': 880, 'говорил': 741, 'идею': 1363, 'одно': 2481, 'производства': 3444, 'спасибо': 4181, 'родителей': 3729, 'моих': 2044, 'посольстве': 3105, 'вернуть': 394, 'задержаны': 1201, 'продукт': 3421, 'влияет': 459, 'отдельно': 2633, 'оказались': 2498, 'мужчины': 2083, 'окрестностях': 2507, 'хорошее': 4778, 'станции': 4264, 'пассажиров': 2748, 'выявлены': 685, 'правил': 3168, 'въезд': 606, 'ст': 4248, 'обсуждать': 2420, 'шаг': 4881, 'регионе': 3651, 'позволит': 2920, 'заверил': 1180, 'думал': 1076, 'путин': 3526, 'поддержит': 2887, 'великий': 382, 'фракция': 4754, 'этих': 4953, 'данной': 870, 'широко': 4889, 'населением': 2191, 'большинстве': 304, 'ликвидации': 1811, 'позицию': 2934, 'экологической': 4915, 'суть': 4342, 'заключается': 1205, 'видов': 431, 'помогут': 3038, 'значительно': 1344, 'следует': 3975, 'отвечать': 2626, 'соответственно': 4125, 'минобороны': 1990, 'музей': 2085, 'норвегии': 2346, 'нужд': 2363, 'турции': 4511, 'качества': 1575, 'пожаловался': 2918, 'десятилетия': 938, 'оно': 2516, 'показывают': 2946, 'сложных': 3992, 'популярностью': 3066, 'срочно': 4246, 'проверку': 3391, 'временем': 564, 'заводе': 1192, 'должно': 1022, 'период': 2797, '2012': 33, 'представителями': 3250, 'екатеринбурге': 1120, 'утверждают': 4639, 'сообщения': 4115, 'встречи': 588, 'навсегда': 2108, 'какое': 1539, 'организацией': 2552, 'подобное': 2897, 'поправок': 3061, 'языка': 4978, 'языком': 4982, 'евро': 1085, 'обучение': 2422, 'учёные': 4685, 'преимущественно': 3280, 'выделили': 627, 'особенности': 2588, 'чьи': 4878, 'владельцы': 449, 'тексте': 4401, 'питания': 2816, 'такси': 4389, 'беседы': 271, 'картины': 1565, 'подготовки': 2875, 'выплаты': 646, 'внесен': 467, 'юстиции': 4970, 'регистрации': 3654, 'создана': 4093, 'региональных': 3649, 'губернатора': 849, 'увеличения': 4529, 'строительства': 4310, 'китайский': 1595, 'рынок': 3801, 'поколения': 2951, 'предлагает': 3215, 'школы': 4896, 'денежных': 925, 'кардинально': 1562, 'полицию': 2981, 'идеи': 1361, 'душе': 1080, 'многим': 2021, 'опроса': 2534, 'учреждениях': 4684, 'немецкой': 2285, 'продать': 3412, 'магазинах': 1871, 'берлина': 267, 'продаже': 3409, 'понять': 3051, 'электричество': 4936, 'объяснил': 2453, 'купить': 1772, 'интернет': 1450, 'магазинов': 1872, 'автомобилей': 129, 'санкт': 3823, 'петербурга': 2805, 'ввиду': 367, 'названия': 2124, 'горожан': 787, 'куру': 1778, 'галина': 694, 'культурной': 1769, 'австрии': 125, 'научные': 2215, 'организма': 2558, 'нововведение': 2324, 'выбрать': 613, 'музыку': 2089, 'мэр': 2098, 'аль': 184, 'пути': 3525, 'президентского': 3274, '70': 87, 'процентов': 3495, 'зданий': 1312, 'лицом': 1828, 'меньше': 1930, 'равно': 3555, 'способы': 4211, 'привести': 3304, 'приличный': 3324, 'телеканалов': 4407, 'редакции': 3659, 'коллегой': 1628, 'дружбы': 1073, 'подарок': 2871, 'вышли': 681, 'буду': 327, 'бороться': 315, 'инициативой': 1429, 'житель': 1156, 'местах': 1948, 'читать': 4868, 'множество': 2025, 'возможное': 508, 'участник': 4659, 'людьми': 1867, 'сооружение': 4122, 'стены': 4279, 'размером': 3572, 'метров': 1966, 'границе': 829, 'контрольно': 1685, 'пункты': 3520, 'надеются': 2113, 'программой': 3403, 'землю': 1325, 'связывают': 3864, 'область': 2383, 'границы': 831, 'подобного': 2896, 'сооружения': 4124, 'бизнес': 273, 'прокомментировала': 3459, 'общий': 2439, 'оценивается': 2705, 'обратиться': 2409, 'китайских': 1596, 'лице': 1823, 'отсутствия': 2692, 'судя': 4333, 'работ': 3540, 'преступления': 3297, 'городского': 784, 'отделения': 2632, 'расширяется': 3631, 'искать': 1465, 'акций': 169, 'памятника': 2726, 'памятник': 2725, 'открыт': 2652, 'показали': 2941, 'мнения': 2019, 'городские': 782, 'планировали': 2831, 'обсудить': 2419, 'необходимость': 2293, 'вступил': 590, 'народная': 2171, 'обеспечения': 2375, 'большей': 300, 'стабильности': 4249, 'первую': 2768, 'нынешнем': 2369, 'генеральный': 703, 'си': 3924, 'цзиньпин': 4821, 'создания': 4097, 'китайской': 1598, 'существования': 4346, 'показал': 2939, 'состояние': 4151, 'нём': 2372, 'построить': 3124, 'многие': 2020, 'пройдёт': 3456, 'кпк': 1730, 'сама': 3810, 'приняло': 3346, 'портал': 3072, 'франция': 4756, 'туристов': 4510, 'французской': 4760, 'выдающихся': 624, 'называют': 2132, 'нашем': 2249, 'эммануэль': 4938, 'макрон': 1877, 'главный': 730, 'непосредственно': 2296, 'французский': 4757, 'мусора': 2093, 'пытались': 3534, 'акции': 168, 'соблюдение': 4035, 'ними': 2320, 'реально': 3638, 'заявки': 1295, 'нарушений': 2183, 'правопорядка': 3187, 'телеканал': 4404, 'линии': 1815, 'прямом': 3512, 'главное': 728, 'планеты': 2829, 'подарки': 2870, 'объяснить': 2455, 'исполнения': 1475, '250': 54, 'водных': 493, 'ресурсов': 3694, 'поднебесной': 2894, 'пользоваться': 3028, 'показала': 2940, 'автомобиль': 131, 'ежедневно': 1117, 'полтора': 3003, 'сторону': 4297, 'транспорт': 4478, 'снижение': 4025, 'преддверии': 3211, 'чиновников': 4864, 'госдума': 788, 'героя': 716, 'возраста': 517, 'внести': 470, 'попросили': 3063, 'звание': 1301, 'завершении': 1183, 'административных': 146, 'оккупации': 2503, 'первыми': 2772, 'музея': 2086, 'лучшего': 1848, 'берлине': 268, 'париже': 2734, 'промышленности': 3465, 'роман': 3736, 'давали': 852, 'хотели': 4783, 'регионы': 3653, 'пространство': 3476, 'физики': 4714, 'встрече': 586, 'российскими': 3752, 'отправить': 2685, 'миллиарда': 1973, 'поступит': 3129, 'частью': 4842, 'азии': 151, 'употребления': 4595, 'самом': 3817, 'деле': 918, 'позволяет': 2922, 'учебников': 4667, 'профессор': 3486, 'продажу': 3411, 'петербурге': 2806, 'мигрантов': 1969, 'судов': 4328, 'пообщаться': 3055, 'федеральным': 4707, 'канцлер': 1561, 'чему': 4850, 'возрасте': 518, 'немцев': 2288, 'полную': 2991, 'надеемся': 2110, 'пива': 2809, 'религиозных': 3685, 'ездить': 1118, 'метро': 1965, 'проблемах': 3380, 'вами': 350, 'германии': 711, 'знает': 1330, 'приятно': 3376, 'знать': 1340, 'требуется': 4492, 'чём': 4879, 'великобритания': 384, 'занимают': 1243, 'острова': 2612, 'понятно': 3050, 'здравоохранения': 1318, 'многое': 2023, 'следить': 3971, 'слышал': 4005, 'нравится': 2362, 'команды': 1633, 'жаль': 1133, 'клуба': 1608, 'цвет': 4795, 'канады': 1554, 'знаем': 1329, 'человеку': 4847, 'увеличение': 4527, 'отличаться': 2660, 'собрания': 4040, 'недостаточно': 2267, 'придется': 3310, 'сбор': 3831, 'штрафа': 4907, 'изменение': 1380, 'продуктов': 3423, 'налог': 2143, 'снизить': 4026, 'управлять': 4599, 'никакого': 2314, 'бизнеса': 274, 'тепло': 4417, 'месяцев': 1959, 'прекрасно': 3281, 'пределами': 3212, 'выступила': 667, 'социального': 4167, 'фильма': 4718, 'квартиры': 1580, 'престола': 3295, 'совместно': 4066, 'православной': 3192, 'церкви': 4818, 'зале': 1228, 'обряд': 2415, 'девушки': 893, 'русском': 3792, 'водой': 494, 'ватикан': 356, 'сатаны': 3828, 'земле': 1323, 'штат': 4901, 'установили': 4628, 'договора': 1002, 'прошла': 3502, 'подписали': 2903, 'договор': 1001, 'экономической': 4924, 'рыбной': 3794, 'туризма': 4509, 'данного': 868, 'казаки': 1532, 'первых': 2773, 'участием': 4650, 'ваш': 358, 'экономика': 4917, 'современные': 4072, 'подарил': 2869, 'изучение': 1397, 'средней': 4230, 'языков': 4981, 'школах': 4893, 'хочется': 4789, 'поведения': 2856, 'сдачи': 3871, 'голосования': 764, 'правоохранительные': 3184, 'арестовывать': 223, 'постановления': 3118, 'нормы': 2351, 'урок': 4606, 'скоро': 3965, 'законов': 1214, 'агент': 139, 'армения': 225, 'действий': 898, 'студент': 4316, 'ведут': 375, 'тысячи': 4517, 'находятся': 2220, 'незаконно': 2272, 'хода': 4773, 'пройти': 3457, 'протоиерей': 3481, 'желающие': 1136, 'особое': 2591, 'единственной': 1106, 'tesla': 115, 'илон': 1403, 'маск': 1896, 'проекте': 3431, 'машина': 1906, 'десять': 942, 'приобрести': 3353, 'начинать': 2242, 'самостоятельно': 3818, 'машину': 1907, 'сделали': 3876, 'конструкция': 1680, 'автомобиля': 132, 'интерес': 1446, 'модели': 2035, 'бизнесмена': 276, 'оценкам': 2708, 'небольших': 2258, 'структуры': 4315, 'соответствие': 4126, 'предполагается': 3233, 'каждая': 1523, 'соответствия': 4128, 'ведомство': 374, 'кодекс': 1618, 'оценке': 2709, 'структур': 4314, 'общественности': 2434, 'подать': 2872, '2001': 28, 'америке': 203, 'привело': 3303, 'выбрали': 612, 'премьера': 3285, 'июне': 1516, 'ставить': 4251, 'стороне': 4294, 'третьего': 4495, 'ненависти': 2289, 'моменту': 2056, 'высоких': 661, 'периода': 2798, 'поездки': 2917, 'внутренней': 481, 'путиным': 3530, 'наладить': 2139, 'пригласил': 3308, 'база': 239, 'программе': 3402, 'вселенского': 574, 'патриархата': 2751, 'местной': 1951, 'открыли': 2651, 'такая': 4378, 'бог': 291, 'электрических': 4935, 'приборов': 3300, 'западной': 1251, 'саудовской': 3829, 'аравии': 220, 'встречу': 589, 'вашингтона': 360, 'закупки': 1226, 'обязательно': 2463, 'согласились': 4075, 'запрос': 1269, 'территорий': 4423, 'детали': 943, 'процент': 3494, 'сторона': 4293, 'британских': 322, 'кажется': 1531, 'продавать': 3407, 'предложения': 3221, 'покупке': 2954, 'пришла': 3371, 'переговоров': 2779, 'участниками': 4661, 'зеленского': 1321, 'количестве': 1621, 'зрителей': 1350, 'участникам': 4660, 'украинскому': 4573, 'готов': 812, 'направили': 2161, 'ущерба': 4691, 'сезон': 3886, 'ресторанов': 3693, 'потери': 3135, 'джеймс': 963, 'ii': 105, 'причин': 3365, 'появилось': 3152, 'просим': 3473, 'карту': 1566, 'церковь': 4819, 'фрг': 4761, 'июля': 1515, 'замены': 1232, 'сбора': 3832, 'стоимостью': 4285, 'мужчин': 2081, 'каждому': 1528, 'желающих': 1137, 'регион': 3645, 'искусственный': 1472, 'интеллект': 1443, 'важных': 349, 'полного': 2985, 'две': 882, 'писать': 2812, 'британского': 323, 'елизавета': 1121, 'королева': 1700, 'солсбери': 4106, 'снимать': 4027, 'напрямую': 2167, 'весьма': 406, 'момента': 2055, 'гарри': 696, 'лондона': 1842, 'воли': 528, 'жилья': 1153, 'получаете': 3009, 'пенсию': 2761, 'скажите': 3954, 'президенте': 3270, 'дворец': 886, 'актёр': 166, 'мнением': 2017, 'ошибку': 2720, 'алтай': 179, 'собрание': 4039, 'федеральном': 4703, 'политические': 2971, 'парламенте': 2739, 'получила': 3019, 'благо': 281, 'йохи': 1520, 'пришло': 3373, 'сентября': 3904, 'зимбабве': 1327, 'мугабе': 2079, '37': 65, 'счастью': 4356, 'менять': 1934, 'университете': 4589, 'управлении': 4597, 'безусловно': 252, 'государственном': 803, 'издание': 1377, 'суммы': 4337, 'какую': 1540, 'белые': 261, 'учиться': 4679, 'пропали': 3467, 'говорить': 745, 'видел': 424, 'угодно': 4541, 'африки': 237, 'можете': 2042, 'отношениях': 2681, 'поддержало': 2879, 'скрипалей': 3970, 'роли': 3734, 'улиц': 4576, 'московского': 2072, 'сотрудники': 4160, 'сообщило': 4120, 'колонии': 1629, 'гражданина': 825, 'ук': 4560, 'заведение': 1175, 'поведение': 2855, 'вещества': 410, 'администрация': 149, 'департамент': 928, 'лицам': 1822, 'европейскими': 1089, 'взгляд': 415, 'апреля': 219, 'детьми': 954, 'версию': 398, 'предлагают': 3217, 'метод': 1962, 'ран': 3601, 'кому': 1661, 'пояснила': 3159, 'финансовых': 4727, 'пдд': 2755, 'чтении': 4873, 'участки': 4656, 'камеры': 1545, 'кожи': 1619, 'сторон': 4292, 'онлайн': 2515, 'просили': 3472, 'формулировки': 4748, 'активистов': 160, 'тюремного': 4518, '77': 90, 'кофе': 1729, 'мая': 1909, 'боевых': 293, 'видели': 425, 'личной': 1831, 'пищу': 2820, 'здоровья': 1317, 'развитию': 3566, 'реакции': 3632, 'превышает': 3209, 'традиционная': 4469, 'второго': 599, 'кандидат': 1558, 'торговых': 4456, 'разработки': 3580, 'дальше': 865, 'взаимодействии': 413, 'штате': 4904, 'конференция': 1690, 'поддержали': 2878, 'пользователей': 3026, 'кемерово': 1583, 'жителя': 1157, 'введения': 364, 'акцию': 170, 'городских': 783, 'отдельные': 2634, 'новым': 2338, 'правилам': 3170, 'рубеж': 3770, 'лидеры': 1806, 'предмет': 3226, 'ангела': 208, 'меркель': 1938, 'прямо': 3511, 'справедливой': 4213, '23': 50, 'миллиона': 1975, 'основную': 2579, 'собираются': 4033, 'компанией': 1646, 'чиновник': 4860, 'поста': 3108, 'положений': 2999, 'основного': 2575, 'конституционный': 1677, 'чувство': 4877, 'старше': 4267, 'петербург': 2804, 'культурного': 1768, 'сервиса': 3907, 'подтвердили': 2908, 'информацию': 1456, 'запретить': 1266, 'создатели': 4099, 'точки': 4464, 'зрения': 1349, 'варианты': 353, 'запрета': 1263, 'борьбы': 319, 'объявили': 2449, 'скажу': 3955, 'родины': 3728, 'поставить': 3110, 'защитить': 1288, 'молодёжь': 2053, 'круга': 1750, 'градусов': 819, 'попал': 3056, 'цель': 4802, 'выплатить': 645, 'килограммов': 1586, 'настаивал': 2199, 'оплатить': 2524, 'применение': 3326, 'точку': 4465, 'сербии': 3905, 'городу': 786, 'вернули': 393, 'земель': 1322, 'порт': 3071, 'разрушили': 3591, 'создали': 4091, 'контакт': 1681, 'большим': 302, 'двумя': 889, 'назначение': 2127, 'советским': 4058, 'вашингтон': 359, 'пользовался': 3023, 'глазами': 736, 'востока': 547, '27': 56, 'де': 891, 'иностранные': 1435, 'экспертиза': 4930, 'иностранного': 1433, 'следствия': 3974, 'законам': 1211, 'наносит': 2153, 'растений': 3625, 'выделил': 626, 'уникальный': 4592, 'красную': 1739, 'последнее': 3090, 'написала': 2156, 'экологи': 4913, 'мгимо': 1913, 'признаков': 3317, 'категории': 1571, 'оппозиции': 2527, 'гимн': 718, 'ватикана': 357, 'действиях': 901, 'базе': 240, 'помогать': 3036, 'братьям': 321, 'традиционно': 4470, 'акция': 171, 'женщин': 1138, 'пенсионеров': 2758, 'правоохранители': 3183, 'длилась': 984, 'меню': 1932, 'напитков': 2158, 'отрасли': 2688, 'услуг': 4618, 'обеспечить': 2376, 'вокзалов': 526, 'нарушения': 2184, 'остановить': 2607, 'доказательств': 1005, 'наблюдения': 2106, 'знают': 1346, 'вполне': 557, 'незаконном': 2273, '57': 82, 'рассчитывает': 3622, 'затраты': 1284, 'британской': 324, 'соответствующее': 4132, 'попасть': 3058, 'оставаться': 2595, 'выход': 676, 'мадуро': 1874, 'союзное': 4179, 'основе': 2573, 'присоединиться': 3360, 'нашими': 2253, 'союзного': 4178, '2000': 27, '2011': 32, 'устроили': 4634, 'гру': 839, 'разведки': 3562, 'мчс': 2095, 'федеральному': 4704, 'технических': 4432, 'человеческих': 4848, 'участков': 4657, 'поздравил': 2927, 'нормам': 2349, 'брифинге': 325, 'представлены': 3253, 'аппараты': 217, 'космических': 1708, 'имена': 1411, 'сражались': 4226, 'максим': 1879, 'данный': 873, 'покупки': 2955, 'комплексов': 1658, 'качество': 1578, 'поставку': 3112, 'комплекс': 1655, 'американским': 194, 'вижу': 435, 'новому': 2331, 'вызвали': 631, 'ожидаем': 2491, 'годами': 750, 'вопросу': 538, 'данному': 871, '75': 89, 'аккаунте': 153, 'праздника': 3197, 'пётр': 3539, 'группу': 845, 'шестеро': 4887, 'накануне': 2138, 'проверки': 3390, 'выявить': 682, 'впоследствии': 558, 'частным': 4838, 'статьям': 4278, 'обращении': 2413, 'угрозой': 4545, 'внимания': 476, 'специалистам': 4184, 'китай': 1593, 'дорогая': 1044, 'американская': 191, 'каждым': 1530, 'вызвало': 632, 'сороса': 4138, 'международном': 1924, 'легко': 1787, 'нашему': 2250, 'сотен': 4156, 'единиц': 1099, 'ситуаций': 3948, 'эфира': 4957, 'французских': 4758, 'готовности': 814, 'врача': 559, 'известные': 1372, 'представить': 3251, '2009': 30, 'км': 1609, 'район': 3594, 'сырья': 4372, 'планировалось': 2832, 'происхождения': 3453, 'направлении': 2163, 'продукцию': 3426, 'поверхности': 2857, 'обладает': 2379, 'случай': 4001, 'папа': 2732, 'римский': 3716, 'реформа': 3698, 'подготовку': 2876, 'небольшого': 2259, 'расходов': 3627, 'прихожан': 3364, 'америка': 190, 'северный': 3883, 'поток': 3137, 'содержится': 4085, 'письме': 2814, 'утверждает': 4638, 'рассматривается': 3618, 'средствами': 4236, 'диалог': 969, 'православный': 3193, 'могла': 2029, 'деятель': 960, 'смущает': 4021, 'героев': 713, 'фильм': 4717, 'связано': 3861, 'связь': 3865, 'журналиста': 1164, 'правительству': 3178, 'аппарат': 214, 'вероятно': 396, 'устройство': 4637, 'аппарата': 215, 'смогла': 4013, 'кабинета': 1521, 'обещаю': 2378, 'сделаем': 3874, 'операций': 2522, 'публично': 3515, 'чувства': 4876, 'статистики': 4270, 'признали': 3319, 'доклад': 1007, 'особенностью': 2589, 'другими': 1068, 'самих': 3813, 'подытожил': 2915, 'августе': 123, 'вынес': 640, 'гибдд': 717, 'гражданами': 822, 'вердикт': 391, 'отдел': 2628, 'делам': 915, 'опрошенных': 2536, 'целый': 4801, 'школьников': 4898, 'звёзд': 1309, 'сцены': 4355, 'ведутся': 376, 'одновременно': 2482, 'замминистра': 1238, 'поправки': 3060, 'считаться': 4365, 'статья': 4277, 'формулировке': 4747, 'оказалась': 2497, 'встреча': 585, 'торговли': 4454, 'инвестиции': 1423, 'инвестиций': 1424, 'российскому': 3759, 'вашу': 361, 'пенсионерам': 2757, 'nasa': 109, 'объекта': 2442, 'руководителей': 3775, 'первому': 2767, 'космос': 1712, 'государстве': 799, 'юге': 4963, 'северную': 3882, 'владимиром': 453, 'зеленским': 1320, 'украинский': 4569, 'рассчитывают': 3624, 'восстановить': 544, 'логику': 1841, 'наличии': 2142, 'культа': 1763, 'вследствие': 582, 'женщины': 1141, 'каждой': 1526, 'достижений': 1052, 'всестороннего': 579, 'длительным': 986, 'прочих': 3500, 'властями': 458, 'юрий': 4968, 'отмене': 2663, 'студенты': 4318, 'религии': 3683, 'верховный': 401, 'похожие': 3144, 'понимают': 3047, 'ориентации': 2565, 'введение': 362, 'разрешить': 3589, 'изучать': 1396, 'исключением': 1466, 'вмешательство': 465, 'семей': 3895, 'крае': 1733, 'французского': 4759, 'спрашивали': 4216, 'искусства': 1469, 'отметила': 2668, 'произведения': 3437, 'оставить': 2597, 'предложила': 3224, 'конкурс': 1670, 'ограничений': 2470, 'июня': 1517, 'обратить': 2408, 'увеличилось': 4531, 'берегу': 266, 'сервис': 3906, '150': 13, 'новости': 2334, 'научного': 2213, 'знание': 1337, 'устройства': 4636, 'коммунальных': 1641, '55': 81, 'научный': 2216, 'роснано': 3742, 'нарушили': 2186, 'выдвигать': 625, 'необходимые': 2294, 'доброй': 998, 'возраст': 516, 'проводятся': 3397, 'кафе': 1573, 'меру': 1944, 'актуальной': 165, 'московских': 2071, 'ивана': 1355, 'грозного': 838, 'ленин': 1790, 'современной': 4071, 'ноги': 2341, 'смерти': 4009, 'обращались': 2411, 'обнаружить': 2388, 'нахождение': 2222, 'иностранный': 1436, 'безопасность': 250, 'друзья': 1075, 'выразили': 655, 'пользователи': 3027, 'режиссер': 3663, 'операция': 2523, 'предположительно': 3235, 'православия': 3190, 'одобрило': 2490, 'органам': 2546, 'сетей': 3918, 'сигнал': 3927, 'посчитали': 3130, 'четверг': 4854, 'друга': 1064, 'макрона': 1878, 'востоке': 548, 'ядерной': 4976, 'угрожает': 4544, 'серьезные': 3916, 'основным': 2581, 'кремль': 1743, 'продюсер': 3428, 'сайт': 3808, 'остался': 2602, 'удостоверения': 4554, 'провёл': 3398, 'оснований': 2571, 'ответственный': 2624, 'занятие': 1245, 'предлагается': 3216, 'представляют': 3257, 'штрафов': 4908, '1500': 14, 'степени': 4280, 'рейдов': 3672, '29': 58, 'пересмотреть': 2792, 'учений': 4670, 'основные': 2580, 'пределы': 3214, 'оборудование': 2391, 'влияние': 460, 'культур': 1764, 'технический': 4430, 'прогресс': 3406, 'обработки': 2395, 'учеными': 4675, 'ученые': 4673, 'производителей': 3439, 'оборудования': 2393, 'преподаватель': 3289, 'процессы': 3499, 'тебе': 4398, 'естественно': 1130, '54': 80, 'учеников': 4671, 'культура': 1765, 'личные': 1835, 'принадлежности': 3337, 'одежды': 2475, 'заведения': 1177, 'канала': 1556, 'уникального': 4590, 'рекордным': 3676, 'острове': 2613, 'эпохи': 4944, 'реформ': 3697, 'единый': 1111, 'позднее': 2926, 'приходят': 3363, 'статью': 4276, 'православная': 3191, 'святых': 3868, 'православных': 3194, 'конце': 1693, 'концов': 1695, 'католической': 1572, 'скорость': 3969, 'борту': 316, 'институте': 1440, 'испытания': 1490, 'головы': 760, 'баллов': 243, 'участке': 4655, 'ряды': 3806, 'подвести': 2873, 'определения': 2529, 'остров': 2611, 'островов': 2614, 'молодой': 2049, 'конституция': 1679, 'факты': 4695, 'показатель': 2943, 'слуга': 3993, 'молодёжи': 2052, 'трудовой': 4502, 'наряду': 2189, 'предоставление': 3231, 'месяц': 1957, 'активность': 163, 'видят': 434, 'минуты': 1996, 'далеко': 860, 'фильмов': 4720, 'небольшой': 2260, 'называемый': 2129, 'эффект': 4960, 'it': 107, 'понимаем': 3044, 'новостей': 2333, 'руководстве': 3779, 'уточнил': 4643, 'исполнитель': 1478, 'звездой': 1304, 'минздрава': 1978, 'вопреки': 532, 'закупку': 1227, 'опубликовала': 2538, 'включает': 445, 'улицам': 4577, 'коммунисты': 1644, 'журнала': 1161, 'экономику': 4920, 'вносить': 479, 'ведущие': 377, 'стан': 4259, 'атаман': 236, 'смартфонов': 4007, 'предметов': 3227, 'чубайс': 4875, 'технология': 4436, 'лучшим': 1853, 'организовать': 2559, 'внесения': 469, 'различные': 3568, 'кино': 1589, 'мной': 2026, 'крови': 1747, 'заседание': 1279, 'произведений': 3436, 'существенно': 4343, 'потребителей': 3139, 'дворца': 887, 'полдень': 2961, 'отмена': 2662, 'назвала': 2120, 'языкам': 4979, 'инструмент': 1441, 'произвели': 3438, 'службу': 3996, 'настоящие': 2204, 'единой': 1103, 'храма': 4792, 'ер': 1125, 'рпц': 3769, 'лишения': 1837, 'подход': 2909, 'федеральных': 4708, 'поддерживает': 2883, 'миллионы': 1977, 'апреле': 218, 'информационных': 1455, '600': 84, 'евгения': 1082, 'марте': 1894, 'председателем': 3241, 'переход': 2793, 'актов': 164, 'торговле': 4453, 'доллара': 1026, 'внесении': 468, 'единство': 1109, 'направлен': 2162, 'населённых': 2195, 'техника': 4426, 'идут': 1366, 'вчера': 605, 'подчеркнуть': 2914, 'днк': 991, 'появление': 3155, 'институт': 1438, 'лаборатория': 1780, 'проводит': 3394, 'нужна': 2364, 'тюрьму': 4522, 'заключённых': 1208, 'высшее': 673, 'приобретении': 3356, 'спрос': 4217, 'проходить': 3490, 'мобильные': 2027, 'зоне': 1348, 'проводиться': 3396, 'лишение': 1836, 'трудовых': 4503, 'высказывание': 658, 'школ': 4891, 'эпоху': 4945, 'красный': 1740, 'преступление': 3296, 'мониторингу': 2058, 'поддерживаем': 2882, 'завершилась': 1185, 'книг': 1611, 'японского': 4993, 'развитии': 3565, 'половине': 2994, 'глубокой': 738, 'фрагмент': 4753, 'победа': 2847, 'сугубо': 4321, 'имели': 1410, 'патриарх': 2749, 'варфоломей': 354, 'украинской': 4572, 'константинопольского': 1673, 'московский': 2070, 'общение': 2428, 'плюс': 2846, '42': 71, 'следующего': 3976, 'политический': 2972, 'вес': 402, 'становятся': 4262, 'покупать': 2953, 'принятие': 3348, 'произошедшее': 3447, 'запрещающего': 1267, 'распространение': 3610, 'оао': 2373, 'исследователи': 1494, 'родился': 3725, 'отечественным': 2641, 'принципе': 3340, 'усовершенствовать': 4622, 'сохранить': 4165, 'вождя': 502, 'улицу': 4580, 'шмульке': 4899, 'улан': 4575, 'удэ': 4555, 'красная': 1736, 'подписал': 2902, 'расположенному': 3607, 'восточной': 549, 'восточную': 550, 'большому': 311, 'возможны': 512, 'машин': 1905, 'связей': 3862, 'крупнейшим': 1751, 'уточняется': 4647, 'типа': 4439, 'вода': 490, 'сравнению': 4224, 'годом': 754, 'гдр': 697, 'втором': 601, 'кадров': 1522, 'носят': 2356, 'доставки': 1050, 'внутренние': 482, 'исследование': 1491, 'наверное': 2107, 'природе': 3359, 'потомки': 3138, 'сохранения': 4164, '2030': 46, 'выйдет': 634, 'работал': 3543, 'связанным': 3860, 'практику': 3205, 'нарушали': 2179, 'узнать': 4559, 'нормально': 2348, 'журналистка': 1167, 'гуайдо': 847, 'последней': 3091, 'выдающийся': 623, 'редактор': 3657, 'гораздо': 769, 'чемпионата': 4849, 'производитель': 3441, 'выполнять': 650, 'федеральное': 4701, 'концу': 1696, 'больницы': 298, 'региональные': 3648, 'экзамен': 4912, 'профессии': 3485, 'древнего': 1059, 'составил': 4142, 'дают': 879, 'обычно': 2457, 'групп': 841, 'вида': 421, 'сексуальных': 3891, 'условно': 4617, 'перевести': 2774, 'эры': 4946, 'постановление': 3116, 'эксперимент': 4926, 'основания': 2572, 'передаёт': 2785, 'пообещала': 3053, 'пола': 2958, 'предыдущие': 3264, 'поставили': 3109, 'зарплаты': 1277, 'товары': 4443, 'оценку': 2711, 'детских': 950, 'увеличению': 4528, 'любимых': 1857, 'плохо': 2842, 'бесплатно': 272, 'указывают': 4565, 'предлоги': 3218, 'наличие': 2141, 'украинским': 4570, 'мальчик': 1885, 'пол': 2957, 'дорогой': 1047, 'сына': 4371, 'храм': 4791, 'основных': 2583, 'механизм': 1967, 'выдаче': 621, 'выпуск': 651, 'участок': 4665, 'договорились': 1003, 'ограничение': 2469, 'секрет': 3887, 'ту': 4505, 'серии': 3912, 'любовь': 1858, 'международная': 1921, 'пенсионеры': 2759, 'верующих': 399, 'патриарха': 2750, 'митрополит': 2010, 'вернул': 392, 'перехода': 2794, 'коллегам': 1625, 'согласен': 4074, 'указано': 4563, 'вошли': 553, 'анонсировал': 212, 'взамен': 414, 'москвой': 2067, 'спросили': 4218, 'павел': 2721, 'премии': 3283, 'примере': 3331, 'методы': 1963, 'продвигать': 3413, 'позволят': 2923, 'ребёнок': 3642, 'вузов': 603, 'этапе': 4951, 'дикой': 970, 'среднем': 4231, 'формирования': 4743, 'грозит': 837, 'находят': 2219, 'уделять': 4551, 'эфирного': 4959, 'лицензии': 1824, 'авторы': 138, 'повышения': 2865, 'пенсионного': 2760, 'запуске': 1272, 'пенсии': 2756, 'италии': 1510, 'свободного': 3839, 'январе': 4988, 'создавать': 4089, 'осуществлять': 2616, 'рассматривать': 3619, 'подчеркнул': 2913, 'ребёнка': 3641, 'означает': 2496, 'данное': 869, 'археологи': 228, 'аккуратно': 157, 'медицины': 1917, 'собрали': 4038, 'высказывалась': 657, 'режиссёр': 3664, 'курса': 1775, 'мао': 1888, 'большие': 301, 'впк': 555, 'запланировано': 1260, 'назначения': 2128, 'наибольшее': 2134, 'стоимости': 4283, '1998': 24, 'обычаев': 2456, 'пострадавших': 3122, 'деревьев': 936, 'оборудованием': 2392, 'дорогие': 1046, 'вещания': 407, 'законодательству': 1217, 'соответствуют': 4131, 'зарегистрировано': 1276, 'происшествия': 3454, 'считал': 4363, 'обнаружили': 2387, 'ночью': 2358, 'спектр': 4183, 'финансовой': 4726, 'покупку': 2956, 'группе': 843, 'слоев': 3989, 'технологии': 4434, 'выводы': 617, 'поставленные': 3113, 'налога': 2144, 'трех': 4496, 'традиционное': 4471, 'систем': 3940, 'наступающим': 2206, 'вторая': 598, 'экспериментов': 4928, 'утилизацию': 4642, 'памятники': 2728, 'гласит': 737, 'пользования': 3025, 'сельское': 3894, 'секретарем': 3888, 'клинтон': 1606, 'вспомните': 584, 'поставок': 3114, 'изучить': 1401, 'плохого': 2843, 'фауны': 4696, 'оказался': 2500, 'президентском': 3276, 'занимающимися': 1244, 'пищевой': 2818, 'уменьшить': 4586, 'специальный': 4189, 'семье': 3896, 'определяется': 2532, 'книжку': 1614, 'предполагает': 3232, 'политологов': 2978, '130': 10, 'посетителей': 3081, 'установка': 4630, 'следы': 3981, 'пыли': 3533, 'сведения': 3834, 'пункт': 3516, 'запасы': 1255, 'банка': 245, 'запасов': 1254, '39': 67, 'продолжение': 3419, 'остается': 2599, 'превысила': 3208, 'началось': 2237, 'берегов': 265, 'предметы': 3228, 'обратил': 2403, 'изменении': 1382, 'большое': 309, 'появятся': 3157, 'ниже': 2309, 'градоначальник': 817, 'занятости': 1248, 'объявлен': 2451, 'газ': 689, 'завод': 1190, 'здоровье': 1315, 'гомельской': 766, 'похож': 3143, 'гражданка': 826, 'литературы': 1819, 'создан': 4092, 'появляются': 3156, 'длится': 987, 'падения': 2722, 'ростове': 3768, 'историческую': 1501, 'дочерей': 1057, 'актёра': 167, 'японском': 4995, 'сюжет': 4375, 'последующей': 3096, 'дочери': 1058, 'технической': 4433, 'явление': 4971, 'журнале': 1162, 'счет': 4357, 'половиной': 2995, 'архипелага': 229, 'любви': 1856, 'рук': 3773, 'фильме': 4719, 'праздники': 3198, 'земля': 1326, 'переселения': 2791, 'имеется': 1408, 'спор': 4203, 'состояться': 4154, 'министерством': 1985, 'греции': 834, 'зимой': 1328, 'канал': 1555, 'ликвидация': 1814, 'традиционных': 4472, 'личностью': 1834, 'мвф': 1912, 'мудрость': 2080, 'транспортных': 4483, 'украиной': 4568, 'перевозки': 2775, 'отечественные': 2640, 'вовремя': 488, 'легче': 1789, 'задачи': 1199, 'детальный': 945, 'изучению': 1398, 'ассоциации': 232, 'послужило': 3097, 'ногу': 2342, 'санта': 3827, 'ночь': 2357, 'запретили': 1265, 'происхождение': 3452, 'водки': 492, 'руси': 3783, 'предположение': 3234, 'справедливая': 4212, 'завода': 1191, 'технические': 4429, 'космосе': 1714, 'космической': 1709, 'эксперимента': 4927, 'автоматически': 128, 'выдающегося': 622, 'поручил': 3074, 'поздравить': 2928, 'глав': 722, 'отделение': 2630, 'сурайкин': 4339, 'изделий': 1379, 'перешли': 2796, 'представление': 3252, 'юар': 4962, 'наук': 2209, 'температуры': 4413, 'доктора': 1009, 'повышение': 2864, 'академии': 152, 'выпустили': 653, 'apple': 98, 'концерт': 1694, 'урала': 4600, 'сути': 4340, 'виски': 440, 'среду': 4237, 'инженер': 1425, 'ввп': 368, 'играет': 1357, 'административное': 145, 'объединить': 2440, 'встречей': 587, '45': 73, 'временных': 567, 'улучшения': 4582, 'детально': 944, 'расположенных': 3608, 'спешу': 4196, 'районов': 3597, 'действуют': 904, 'данная': 867, 'действующей': 905, 'говорили': 742, 'развиваться': 3563, 'конференцию': 1689, 'всяком': 594, 'средний': 4232, 'сравнивать': 4225, 'коммунальные': 1640, 'станций': 4265, 'реки': 3674, 'узнали': 4558, '53': 79, 'политолог': 2977, 'письма': 2813, 'проявлением': 3510, 'отечественного': 2638, 'построены': 3123, '33': 63, 'отправиться': 2686, 'озера': 2495, 'неисправности': 2276, 'металлов': 1960, 'носили': 2352, 'департаментом': 930, 'игра': 1356, 'основная': 2574, 'модуль': 2037, 'десятого': 941, 'командующего': 1632, 'постепенно': 3119, 'продукта': 3422, 'алкоголя': 178, 'веществ': 409, 'вывоз': 618, 'корабля': 1698, 'монумента': 2059, 'сюда': 4374, 'беседе': 270, 'приморской': 3335, 'лишним': 1839, 'коллайдера': 1623, 'церн': 4820, 'научной': 2214, 'среде': 4228, 'частиц': 4833, 'наука': 2210, 'прорыв': 3468, 'роботов': 3722, 'устройств': 4635, 'соцсетей': 4171, 'соглашений': 4081, 'telegram': 114, 'рынка': 3799, 'довольно': 1000, 'десятки': 939, 'всецело': 580, 'камчатке': 1548, 'близ': 288, 'писателя': 2811, 'приводятся': 3307, 'радиостанции': 3559, 'заменят': 1233, 'исполнителей': 1477, 'перечень': 2795, '66': 86, '5000': 78, 'округу': 2509, 'модель': 2036, 'планировала': 2830, 'созданы': 4098, 'отведено': 2618, 'journal': 108, '48': 74, 'открытых': 2657, 'животного': 1144, 'идеально': 1360, 'зарубежных': 1278, 'осуществить': 2615, 'положен': 2997, 'полуострова': 3005, 'преждевременно': 3266, 'законно': 1213, 'вселенной': 573, 'орбите': 2541, 'бедности': 247, 'космоса': 1713, 'орбиту': 2542, 'сегодняшний': 3885, 'звучали': 1308, 'гости': 796, 'маленьких': 1882, '1000': 4, 'производить': 3443, 'разрешений': 3587, 'долгие': 1018, 'оценили': 2706, 'древней': 1060, 'смысле': 4022, 'историческая': 1496, 'соответствовать': 4129, 'продукция': 3427, 'дает': 856, 'прошлое': 3505, 'научно': 2212, 'яркой': 4998, 'ушел': 4689, 'эксперта': 4929, 'федеральной': 4702, 'факту': 4694, 'ведения': 371, 'уголовное': 4542, 'семью': 3898, 'продолжает': 3417, 'заметили': 1237, 'причинами': 3367, 'способен': 4208, 'опубликованы': 2539, 'предпринимает': 3236, 'фильмы': 4721, 'спутник': 4220, 'существуют': 4349, 'европейскую': 1093, 'феврале': 4698, 'тендера': 4415, 'риа': 3715, 'платы': 2840, 'своевременно': 3843, 'победителем': 2849, 'центров': 4814, 'доктор': 1008, 'телефонов': 4410, 'выявлению': 683, 'опасных': 2519, 'поддержим': 2886, 'сериала': 3911, 'администрацией': 147, 'вылова': 637, 'специальных': 4191, 'наследия': 2198, 'насильно': 2196, 'ежегодной': 1116, 'предложенная': 3222, 'совместном': 4067, 'исчезновения': 1509, 'примерно': 3332, 'касающийся': 1570, 'школьники': 4897, 'быстрого': 342, 'буквы': 334, 'пространства': 3475, 'горбачев': 770, 'молодых': 2051, 'репортаже': 3688, 'меньшинств': 1931, 'евразийского': 1083, 'компанию': 1649, 'уровнем': 4603, 'реализация': 3635, 'постоянной': 3121, 'рекордное': 3675, 'школу': 4895, 'правозащитник': 3181, 'общался': 2424, 'приоритетов': 3358, 'звезду': 1306, 'курсы': 1777, 'ислама': 1473, 'подчеркивает': 2911, 'зрители': 1351, 'организм': 2557, 'букв': 332, 'знаний': 1338, 'тарифов': 4393, 'орденом': 2564, 'проведут': 3387, 'пункта': 3517, 'реальных': 3639, 'александру': 174, 'погиб': 2867, 'установил': 4627, 'ханты': 4765, 'материал': 1899, 'предприятиях': 3240, 'частные': 4837, 'ржд': 3714, 'субъектов': 4320, 'епархии': 1124, 'особей': 2586, 'лечения': 1800, 'взрослых': 416, 'больница': 295, 'больницу': 297, 'транслируют': 4477, 'фгуп': 4697, 'почты': 3147, 'новосибирска': 2332, 'терминал': 4421, 'свидетельствуют': 3838, 'просвещения': 3470, 'гмо': 739, 'татьяна': 4394, 'новогодние': 2326, 'учётом': 4688, 'запуска': 1271, 'дополнительные': 1038, 'учащихся': 4666, 'повестки': 2858, 'утилизации': 4641, 'картину': 1564, 'разработали': 3575, 'разработчики': 3582, 'вместимости': 462, 'сбербанка': 3830, 'герман': 710, 'уровнях': 4605, 'ассоциация': 233, 'екатеринбурга': 1119, 'агентством': 143, 'дорогу': 1048, 'мэрии': 2100, 'искусственного': 1470, 'начальник': 2238, 'романов': 3737, 'налоговой': 2145, 'горе': 774, 'олега': 2513, 'ректор': 3677, 'госпитализировали': 792, 'девушка': 892, 'препарат': 3286, 'препарата': 3287, 'дерева': 935, 'религиозной': 3684, 'изменениях': 1385, 'другого': 1070, 'восьми': 551, 'уроки': 4607, 'путем': 3524, 'занятия': 1247, 'последним': 3094, 'теории': 4416, 'скорости': 3968, 'пациенты': 2753, 'аварии': 121, 'препаратов': 3288, 'оценить': 2707, 'пациентов': 2752, 'минприроды': 1991, 'вылов': 636, 'замгубернатора': 1229, 'знания': 1339, 'точках': 4463, 'отказать': 2648, 'музее': 2084, 'водителей': 491, 'доработки': 1042, 'минпросвещения': 1992, 'автобусы': 127, 'вагонов': 345, 'классов': 1602, 'яндекс': 4990, 'квалификации': 1579, 'ножи': 2343, 'нии': 2311, 'дальнего': 863, 'девять': 894, 'всяких': 593, 'созданию': 4096, 'моделей': 2034, 'позволяющие': 2925, 'дисков': 980, 'дисках': 977, 'отделений': 2631, 'проверить': 3389, 'уникальные': 4591, 'сообщал': 4109, 'оставалась': 2594, 'этапа': 4950, 'мастеров': 1898, 'цивилизации': 4822, 'распоряжении': 3609, 'некоторыми': 2280, '38': 66, 'свойства': 3854, 'заболеваний': 1173, 'особую': 2592, '43': 72, 'зарегистрированных': 1275, 'перевозчиков': 2778, 'космонавтов': 1711, 'существовал': 4344, 'кафедры': 1574, 'производители': 3440, 'представляется': 3255, 'биологических': 278, 'ближе': 287, 'минимизировать': 1979, 'рейда': 3671, 'материала': 1900, 'солнца': 4105, 'школа': 4892, 'фестиваля': 4712, 'тверской': 4396, 'корреспондента': 1704, 'задать': 1197, 'цена': 4806, 'владимире': 452, 'культурно': 1767, 'торговые': 4455, 'обществом': 2438, 'современников': 4069, 'изображение': 1390, 'ученых': 4676, 'но': 2321, 'маршрут': 1895, 'организациями': 2556, 'сделав': 3873, 'специальным': 4190, 'графена': 832, 'узи': 4556, 'учреждениями': 4683, 'учёный': 4686, 'вдали': 370, 'союзной': 4180, 'потепления': 3134, 'разрешением': 3586, 'биробиджан': 280, 'годовой': 753, 'платит': 2838, 'камчатского': 1552, 'пределах': 3213, 'сетке': 3920, 'содержит': 4084, 'поддерживать': 2884, 'алтайского': 182, 'совершенствовать': 4051, 'широкого': 4890, 'носителя': 2353, 'реализованы': 3636, 'занятий': 1246, 'стерлигов': 4282, 'открытость': 2656, 'молекулярной': 2048, 'алтайский': 181, 'твери': 4395, 'лечебных': 1799, 'гарантированно': 695, 'веса': 403, 'несет': 2300, 'обладать': 2380, 'ограничены': 2473, 'альтернативной': 186, 'сетки': 3921, 'остальное': 2603, 'целесообразным': 4798, 'наблюдали': 2105, 'альтернативного': 185, 'клинической': 1605, 'полутора': 3007, 'доступной': 1055, 'участках': 4654, 'новокузнецка': 2329, 'угля': 4540, 'солнечной': 4104, 'космодрома': 1710, 'отказал': 2645, 'семьёй': 3900, 'производителя': 3442, 'болевые': 294, 'экологическую': 4916, 'учреждению': 4681, 'контракта': 1683, 'детской': 952, 'гку': 721, 'фм': 4734, 'юнеско': 4967, 'скором': 3967, 'мельчайших': 1928, 'сертификат': 3913, 'сторонником': 4295, 'ректора': 3678, 'профилактики': 3487, 'предыдущем': 3263, 'уточнила': 4644, 'использованием': 1482, 'выявлено': 684, 'автобусов': 126, 'клинических': 1604, 'объем': 2445, 'ульяновска': 4584, 'изображения': 1392, 'сооружений': 4123, 'физическое': 4716, 'потепление': 3132, 'анализ': 205, 'женщину': 1140, 'памятнике': 2727, 'биологии': 277, 'спч': 4222, 'наработки': 2168, 'невероятно': 2261, 'посмотрели': 3099, 'федотов': 4711, 'располагается': 3605, 'иностранное': 1434, 'география': 708, 'комплексная': 1657, 'пищевых': 2819, 'отсутствовали': 2693, 'сирот': 3938, 'тип': 4438, 'орбиты': 2543, 'нахождения': 2223, 'маленькие': 1881, 'мощностей': 2076, 'нарушающих': 2180, 'звезды': 1307, 'выловили': 639, 'увеличивается': 4530, 'качествами': 1576, 'оставшихся': 2598, 'существу': 4347, 'видами': 422, 'камней': 1546, 'прокомментировали': 3460, 'сдал': 3869, 'продолжительности': 3420, 'сформулировал': 4353, 'правоохранительными': 3185, 'ответы': 2625, 'следователи': 3972, 'кемеровской': 1584, 'исполнилось': 1476, 'космический': 1707, 'организатора': 2549, 'свойств': 3853, 'вещь': 412, 'восстановил': 543, 'мое': 2038, 'завершая': 1182, 'ежегодная': 1114, 'главврач': 724, 'перми': 2799, 'основное': 2576, 'разрушается': 3590, 'арендованном': 221, 'какими': 1537, 'даны': 876, 'повышенный': 2866, 'отказывать': 2650, 'приобретают': 3355, 'возрастом': 519, 'купол': 1773, '3d': 68, 'температуре': 4412, 'позитивные': 2931, 'компьютерные': 1659, 'комфортную': 1662, 'касательно': 1569, 'формулировка': 4746, 'выпуску': 652, 'танцы': 4392, 'агентах': 140, 'биоресурсов': 279, 'задали': 1195, 'серьезный': 3917, 'тундре': 4508, 'медучреждении': 1919, 'префектуре': 3299, 'клещевого': 1603, 'энцефалита': 4943, 'нынешняя': 2370, 'призвав': 3315, 'гомеля': 768, 'родительских': 3731, 'прозвучало': 3435, 'spacex': 112, 'майора': 1876, 'близко': 289, 'лазерные': 1783, 'древние': 1062, 'профильными': 3488, 'строил': 4309, 'риск': 3717, 'смоленск': 4018, 'конкуренции': 1669, 'выставки': 664, 'населенных': 2194, 'фигурки': 4713, 'отправлялись': 2687, 'кузбасса': 1761, 'завели': 1179, 'геологического': 709, 'смерть': 4010, 'эмоциональный': 4939, 'конкретным': 1667, 'горных': 776, 'поддержите': 2888, 'поменялась': 3031, 'лицензия': 1826, 'счету': 4359, 'яркие': 4996, 'комсомольская': 1660, 'гендерным': 699, 'недр': 2268, 'деталях': 946, 'изменился': 1386, 'боев': 292, 'написан': 2157, 'изготовлению': 1376, 'мэров': 2102, 'четкий': 4857, 'реакций': 3633, 'посмертно': 3098, 'прессой': 3294, 'роботы': 3723, 'кузбассе': 1762, 'яркий': 4997, 'аспектах': 231, 'каменного': 1542, 'взыскание': 417, 'растет': 3626, 'жукова': 1160, 'просветительских': 3469, 'уверенности': 4534, 'ненужным': 2290, 'праздничное': 3200, 'подобрали': 2901, 'разрез': 3583, 'расширением': 3629, 'галактики': 693, 'световых': 3837, 'гендиректор': 700, 'сроках': 4241, 'подключился': 2893, 'животными': 1146, 'автономного': 133, 'наградил': 2109, 'находящимися': 2221, 'убыточных': 4526, 'медучреждений': 1920, 'захоронения': 1285, 'произойдет': 3446, 'создала': 4090, 'вентиляции': 390, 'телескоп': 4409, 'звезд': 1303, 'подавляющем': 2868, 'беседа': 269, 'усилили': 4611, 'хирург': 4769, 'камчатском': 1553, 'получена': 3014, 'вслух': 583, 'двум': 888, 'градоначальнику': 818, 'нестандартных': 2304, 'сотрудничаем': 4162, 'ввел': 365, 'здрасьте': 1319, '225': 49, 'горно': 775, 'алтайске': 180, 'единую': 1110, 'помогите': 3037, 'носителях': 2354, 'подчеркнув': 2912, 'частицы': 4834, 'садиться': 3807, 'единое': 1102, 'метеорита': 1961, 'неизменным': 2275, 'энергия': 4942, 'покорный': 2952, 'медицинскому': 1916, 'кристаллы': 1746, 'гробницы': 835, 'безопасную': 251, 'ученым': 4674, 'органической': 2561, 'дистанционного': 983, 'листы': 1817, 'планет': 2827, 'перевозок': 2777, 'благотворительной': 283, 'ограниченный': 2472, 'перемещать': 2788, 'астрономы': 235, 'искусственной': 1471, 'точечных': 4462, 'дедушкой': 896, 'сертификата': 3914, 'тысячах': 4516, 'обязалась': 2459, 'оговорку': 2468, 'рекультивации': 3680, 'кристаллов': 1745, 'объема': 2446, 'дек': 908, 'кропотливый': 1749, 'законотворческий': 1221, 'вноситься': 480, 'замсекретаря': 1239, 'хинштейн': 4768, 'меняем': 1933, 'услышаны': 4620, 'сущностный': 4350, 'оговорки': 2467, 'здесь': 1314, 'озвученное': 2494, 'суете': 4334, 'спешке': 4195, 'изменённая': 1388, 'запятая': 1273, 'дискуссию': 982, 'госстроительству': 794, 'крашенинников': 1741, 'торопился': 4459, 'неизменной': 2274, 'обоснования': 2394, 'тонкая': 4449, 'надо': 2115, 'sputnik': 113, 'горбачева': 771, 'воспалением': 541, 'легких': 1786, 'сообщало': 4110, 'подписывайтесь': 2904, 'дзен': 967, 'присоединяйтесь': 3361, 'каналу': 1557, 'задано': 1196, 'аккредитовал': 155, '895': 94, 'конференций': 1688, '1702': 18, '1640': 16, 'короткая': 1702, '106': 5, 'минутами': 1995, 'сроке': 4242, 'повышало': 2863, 'сменяемость': 4008, 'компетенцию': 1654, 'фундаментальных': 4763, 'закреплены': 1224, 'генсовета': 707, 'турчак': 4512, 'мы': 2096, 'прочные': 3501, 'поддержанные': 2880, 'цитирует': 4823, 'турчака': 4513, 'наступила': 2207, 'стабильным': 4250, 'нерешенных': 2299, 'нерешенной': 2298, 'аккредитовано': 156, '1895': 20, 'маяк': 1910, 'отведенное': 2617, 'телеканалами': 4406, 'длительности': 985, 'продлилось': 3416, 'прерогатив': 3291, 'вот': 552, 'отслужил': 2690, 'конституционное': 1675, 'оговорка': 2465, 'четвертой': 4856, 'миронова': 2005, 'конституционному': 1676, 'клишас': 1607, 'толкование': 4446, 'оговорке': 2466, 'миа': 1968, 'rt': 111, 'расширительного': 3630, 'толкования': 4447, 'что': 4874, 'правоприменительная': 3188, 'внутриполитическую': 486, 'гуманитарным': 850, 'правоприменительную': 3189, 'придуман': 3311, 'бутина': 335, 'заперли': 1256, 'посадили': 3078, 'просидела': 3471, 'грозили': 836, 'связанном': 3859, 'получающими': 3013, 'так': 4377, 'заказывает': 1204, 'выполняете': 649, 'внутриполитической': 485, 'обозначьте': 2389, 'итоговой': 1514, 'согласна': 4077, 'деятелем': 959, 'революционером': 3644, 'унитарной': 4593, 'на': 2103, 'поклониться': 2948, 'ср': 4223, 'миронов': 2004, 'конкуренцией': 1668, 'позитивных': 2932, 'повода': 2859, 'скорое': 3966, 'киевом': 1585, 'донбассе': 1035, 'нормандского': 2350, 'транзита': 4476, 'нет': 2305, 'мухин': 2094, 'высказывая': 659, 'минских': 1993, 'зудин': 1352, 'серьезном': 3915, 'потеплении': 3133, 'сдвиге': 3872, 'продлил': 3415, 'подвижки': 2874, 'точечный': 4461, 'изобретаются': 1393, 'внятно': 487, 'четверки': 4855, 'позитивную': 2930, 'инициативное': 1428, 'иллюстрацией': 1402, 'асимметричности': 230, 'политизированно': 2963, 'конкретный': 1666, 'основополагающие': 2584, 'росприроднадзор': 3744, 'согласованию': 4079, 'моржат': 2062, 'росприроднадзора': 3745, 'китовой': 1600, 'намеревавшейся': 2147, 'ситес': 3945, 'конвенция': 1663, 'флоры': 4732, 'заявителям': 1294, 'моржа': 2061, 'бухте': 336, 'косаток': 1706, 'детенышами': 948, 'белух': 259, 'белухи': 260, 'косатка': 1705, 'вольеров': 529, 'вылове': 638, 'жестоком': 1142, 'министерствам': 1982, 'охотское': 2704, 'иннопрактике': 1432, 'гомель': 765, 'сельмашевец': 3892, 'лизюкова': 1808, 'лизюков': 1807, 'лизюкову': 1810, 'гомельчане': 767, 'новгородская': 2323, 'ильичу': 1405, 'лизюкове': 1809, 'безвременья': 248, 'за': 1172, 'усилен': 4610, 'надзорными': 2114, 'уделяют': 4552, 'транспортно': 4480, 'пересадочных': 2790, 'узлов': 4557, 'спецстоянки': 4194, 'перевозку': 2776, 'путевые': 3523, 'соблюден': 4034, 'теплый': 4419, 'аннино': 211, 'штрафстоянки': 4909, 'перемещено': 2789, 'легковых': 1788, 'представляли': 3256, '702': 88, '640': 85, 'мск': 2078, 'алтайскому': 183, 'посетовала': 3083, 'древнейшим': 1061, 'тюркским': 4519, 'тюркских': 4520, 'преподает': 3290, 'вы': 607, 'втб': 597, 'слёз': 4006, 'устроил': 4633, 'предновогодний': 3229, 'вручен': 571, 'мультика': 2090, 'слез': 3982, 'эндоскопического': 4941, 'видеооборудования': 427, 'суперкамера': 4338, 'хирургов': 4772, 'трехчиповая': 4497, '8к': 95, 'интероперационной': 1453, 'визуализации': 437, 'хирурги': 4770, 'травматологи': 4467, 'ортопеды': 2566, 'лор': 1844, 'заварохин': 1174, 'урологии': 4608, 'эндоскопических': 4940, 'урологических': 4609, 'полмиллиарда': 2984, 'приобретенное': 3357, 'определен': 2528, 'посетим': 3080, 'ерофеев': 1126, 'ерофеева': 1127, 'банком': 246, 'приобретается': 3354, 'хирургические': 4771, 'компактные': 1645, 'обследований': 2417, 'удаленных': 4547, 'медпомощь': 1918, 'транспорту': 4484, 'панов': 2730, 'киселевске': 1591, 'угольного': 4543, 'разреза': 3584, 'действующем': 906, 'шахта': 4884, 'ликвидационные': 1812, 'рекультивация': 3682, 'нарушенных': 2185, 'утвержденная': 4640, 'минэнерго': 1997, 'поэтапной': 3148, 'шахт': 4883, 'прокопьевска': 3461, 'киселевска': 1590, 'анжеро': 210, 'судженска': 4327, 'подработанных': 2905, 'лицензий': 1825, 'недрами': 2269, 'одновременным': 2483, 'ликвидационных': 1813, 'нерентабельных': 2297, 'низовский': 2310, 'тишинский': 4440, 'подходам': 2910, 'участку': 4658, 'отозваны': 2683, 'роснедра': 3743, 'тишинского': 4441, 'нарыкский': 2188, 'прокопьевском': 3463, 'недропользованию': 2270, 'сибирскому': 3926, 'прокопьевский': 3462, 'яшкинский': 4999, 'рекультивацию': 3681, 'голикова': 757, 'налаженной': 2140, 'сиротства': 3939, '48290': 75, 'попечения': 3059, 'уменьшилось': 4585, 'мансийск': 1887, 'ноябрьска': 2360, 'янао': 4987, 'романова': 3738, 'ямальских': 4986, 'решившим': 3710, '242': 52, 'органики': 2560, 'роп': 3739, 'петропавловск': 2807, 'камчатский': 1550, 'рыбопродукции': 3796, 'лососевой': 1846, 'путины': 3529, 'камчатки': 1549, 'камчатских': 1551, 'рыбохозяйственных': 3797, 'рыболовецкий': 3795, 'колхоз': 1630, 'промысловый': 3464, 'обь': 2458, 'артюхов': 227, 'котельной': 1716, 'альткотельную': 188, 'альткотельная': 187, 'теплоэнергии': 4418, 'антител': 213, 'облака': 2381, 'протопланетного': 3482, 'диска': 976, 'протопланетных': 3483, 'формируются': 4744, 'созвездии': 4088, 'alma': 97, 'кельвина': 1581, 'молекулы': 2047, 'dsharp': 102, 'обсерватории': 2416, 'разрывы': 3592, 'астрономических': 234, 'диске': 978, 'севастьянов': 3879, 'генконструктора': 705, 'микрина': 1972, 'цниимаш': 4826, 'ркк': 3718, 'далекие': 859, 'звездообразования': 1305, 'спутников': 4221, 'arianespace': 99, 'пуска': 3521, 'плавления': 2822, 'графита': 833, 'плавление': 2821, 'смолу': 4019, 'пилос': 2810, 'микенской': 1971, 'сердечно': 3910, 'сосудистых': 4155, 'сплавов': 4201, 'дзёмон': 968, 'хонсю': 4777, 'каменные': 1543, 'табарев': 4376}\n"
          ],
          "name": "stdout"
        }
      ]
    },
    {
      "cell_type": "code",
      "metadata": {
        "id": "O_-0D4Ccx6y5",
        "colab_type": "code",
        "colab": {}
      },
      "source": [
        "from sklearn.model_selection import train_test_split\n",
        "from tensorflow.keras.utils import to_categorical\n",
        "\n",
        "X_train, X_test, y_train, y_test = train_test_split(data_X_Tfidf,  data_y, train_size = 0.7, shuffle=True)"
      ],
      "execution_count": 0,
      "outputs": []
    },
    {
      "cell_type": "code",
      "metadata": {
        "id": "NPtjRrWJlx5O",
        "colab_type": "code",
        "outputId": "4347260e-1351-47ef-dbbf-7e9f361f6b1c",
        "colab": {
          "base_uri": "https://localhost:8080/",
          "height": 34
        }
      },
      "source": [
        "X_train.shape"
      ],
      "execution_count": 0,
      "outputs": [
        {
          "output_type": "execute_result",
          "data": {
            "text/plain": [
              "(3445, 5000)"
            ]
          },
          "metadata": {
            "tags": []
          },
          "execution_count": 106
        }
      ]
    },
    {
      "cell_type": "code",
      "metadata": {
        "id": "6Estn7vMl7bh",
        "colab_type": "code",
        "outputId": "75c4bf37-9e0c-47c4-b6ff-7a30cbbcf5d4",
        "colab": {
          "base_uri": "https://localhost:8080/",
          "height": 34
        }
      },
      "source": [
        "y_train.shape"
      ],
      "execution_count": 0,
      "outputs": [
        {
          "output_type": "execute_result",
          "data": {
            "text/plain": [
              "(3445,)"
            ]
          },
          "metadata": {
            "tags": []
          },
          "execution_count": 107
        }
      ]
    },
    {
      "cell_type": "code",
      "metadata": {
        "id": "8bWJ9n1YhTBq",
        "colab_type": "code",
        "colab": {}
      },
      "source": [
        "from sklearn import model_selection, naive_bayes, svm\n",
        "from sklearn.metrics import accuracy_score"
      ],
      "execution_count": 0,
      "outputs": []
    },
    {
      "cell_type": "code",
      "metadata": {
        "id": "cuc_k96OjTM4",
        "colab_type": "code",
        "outputId": "64ded09b-ff97-473a-9299-0cbe54e36e77",
        "colab": {
          "base_uri": "https://localhost:8080/",
          "height": 34
        }
      },
      "source": [
        "# fit the training dataset on the NB classifier\n",
        "Naive = naive_bayes.MultinomialNB()\n",
        "Naive.fit(X_train,y_train)\n",
        "# predict the labels on validation dataset\n",
        "predictions_NB = Naive.predict(X_test)\n",
        "# Use accuracy_score function to get the accuracy\n",
        "print(\"Naive Bayes Accuracy Score -> \",accuracy_score(predictions_NB, y_test)*100)"
      ],
      "execution_count": 0,
      "outputs": [
        {
          "output_type": "stream",
          "text": [
            "Naive Bayes Accuracy Score ->  97.6303317535545\n"
          ],
          "name": "stdout"
        }
      ]
    },
    {
      "cell_type": "code",
      "metadata": {
        "id": "OXnI456OZw4o",
        "colab_type": "code",
        "outputId": "73dd10c7-cde3-45b8-dae9-0212ad35e552",
        "colab": {
          "base_uri": "https://localhost:8080/",
          "height": 34
        }
      },
      "source": [
        "# Classifier - Algorithm - SVM\n",
        "# fit the training dataset on the classifier\n",
        "SVM = svm.SVC(C=1.0, kernel='linear', degree=2, gamma='auto')\n",
        "SVM.fit(X_train, y_train)\n",
        "# predict the labels on validation dataset\n",
        "predictions_SVM = SVM.predict(X_test)\n",
        "# Use accuracy_score function to get the accuracy\n",
        "print(\"SVM Accuracy Score -> \",accuracy_score(predictions_SVM, y_test)*100)"
      ],
      "execution_count": 0,
      "outputs": [
        {
          "output_type": "stream",
          "text": [
            "SVM Accuracy Score ->  100.0\n"
          ],
          "name": "stdout"
        }
      ]
    },
    {
      "cell_type": "code",
      "metadata": {
        "id": "EbOFLUgNnuUF",
        "colab_type": "code",
        "colab": {}
      },
      "source": [
        "new_articles = ['''Из-за угрозы распространения коронавируса COVID-19 и связанных с этим запретов на массовые собрания оппозиционный блогер Алексей Навальный заявил о намерении провести «Марш миллионов» 31 марта в соцсети Twitter. По словам блогера, онлайн-мероприятия имеют ряд преимуществ перед «оффлайновыми» собраниями живьём. Они не требуют разрешения от городских властей, не подвергают своих участников риску заражения коронавирусом или ареста, а также позволяют участвовать патриотам России, живущим в США и Израиле. По задумке Навального, 31 марта в соцсети Twitter будет создан пост о начале «Марша миллионов», и все его участники должны будут репостить его на своих страницах, привлекая к протестному мероприятию всё больше людей. Впервые в «Марше миллионов» поучаствуют жители Исландии, Камеруна, Аргентины и Виргинских островов. Общее количество участников оценивается в 1,5 млрд. человек. «Если Путин решил проводить голосование по Конституции онлайн, то и протестовать против него мы тоже будем онлайн. Мы покажем властям, что в Интернете закон – мы, а не они. Когда я стану президентом России в 2024 году, то буду управлять страной дистанционно», — сказал Навальный в эфире «Эха Москвы».''', '''ПЕТРОПАВЛОВСК-КАМЧАТСКИЙ, 29 мар — РИА Новости. Пресс-секретарь российского президента Дмитрий Песков рассказал в интервью программе \"Москва. Кремль. Путин\" на канале \"Россия 1\" подробности посещения Владимиром Путиным больницы в Коммунарке, где лечат пациентов с коронавирусом. Он подчеркнул, что приезд главы государства в медучреждение был \"неожиданным\". \"Как правило, приезду президента куда-то предшествует подготовительная работа, приезд передовой группы. Сейчас мы ехали без подготовки вообще. Я вам даже могу более того сказать, впереди кортежа президента едет машина ГИБДД, даже ГИБДД, выезжая, точно еще не знали адреса Коммунарки. Все это по ходу уже определялось\", — сказал Песков. Телефон, который для съемок Путина в больнице использовала сначала врач, а затем в закрытой зоне — медсестра, по словам Пескова, искали \"в экстренном порядке\". \"Мне было важно, чтобы вы (СМИ. — Прим. ред.) увидели, что там делал президент. Потому что очевидно, что для него в тот момент совершенно было неважно, снимает это кто-то, запечатлевает и как запечатлевает\", — отметил пресс-секретарь главы государства. Отвечая на вопрос журналистов, почему президент решил посетить закрытое отделение больницы, Песков сказал, что это \"в его стиле\" и Путин всегда предпочитает увидеть все своими глазами, тем не менее меры предосторожности были соблюдены.''', '''МОСКВА, 29 мар — РИА Новости. Условия рассеивания выбросов в атмосфере Москвы за прошедшие сутки улучшились, сообщает пресс-служба департамента природопользования и охраны окружающей среды столицы.\n",
        "\"Условия рассеивания выбросов в атмосфере Москвы улучшаются. Прошедшей ночью и ранним утром 29.03.2020 кратковременный рост концентраций загрязняющих веществ отмечался только на отдельных станциях мониторинга (преимущественно вблизи автотрасс). Зафиксированные значения концентраций загрязняющих веществ в воздухе ниже, чем в прошедшие сутки\", — говорится в сообщении. Отмечается, что по состоянию на 11 утра наблюдаемые показатели снизились до нормативных величин. Кроме того, подчеркивается, что в последние двое суток в Москве наблюдался рост уровня загрязнения атмосферы, который был связан с неблагоприятными метеорологическими условиями, препятствующими самоочищению атмосферы (отсутствие осадков, слабый ветер). Также в прошедшие дни существенно возрос автомобильный трафик на дорогах Москвы.''', '''Госдума приняла законопроект, временно запрещающий инфляцию на территории России. В пояснительной записке уточняется, что мера вводится в связи с эпидемией коронавируса, падением мировых цен на нефть и ослабившимся рублём. Парламентарии особенно отметили опасность возникновения рецессии для экономики и будущей безопасности российского государства. Документ предписывает возложить ответственность за рост цен на каждый субъект торговли независимо от его формы собственности. Все нарушители закона будут оштрафованы на суммы, составляющие процент от стоимости товара или услуги. В случае системности нарушений рецидивисты, пойманные на неоднократном повышении цен, получат тюремные сроки. Ответственными структурами за соблюдение законодательства назначены полиция, ФАС, Генпрокуратура и Роспотребнадзор. «При принятии закона мы руководствовались положительным опытом Венесуэлы, которая осенью прошлого года успешно справилась с гиперинфляцией. У нас проблема не стоит настолько остро, но ситуация в мире очень нестабильна. Против нас ведётся экономическая война. На этом фоне появляется множество спекулянтов и нечистых на руку дельцов. Теперь они ответят за повышение цен по закону», — пояснил депутат от партии ЛДПР Владислав Журавлёв.''', '''МОСКВА, 29 мар - РИА Новости. Безработные в Подмосковье с 1 апреля начнут получать компенсацию, сумма составит 15 тысяч рублей, включая выплаты по безработице, сообщили в оперативном штабе по контролю и мониторингу ситуации с коронавирусом Московской области.\n",
        "\"Безработные с 1 апреля начнут получать региональную компенсацию. Включая все обязательные выплаты по безработице, сумма составит 15000 рублей. Также безработные, направленные на обучение, продолжат получать стипендию\",- говорится в сообщении.\n",
        "Последние данные о ситуации с COVID-19 в России и мире представлены на портале стопкоронавирус.рф.''', '''Вслед за успешным голосованием за закон о возвращении в страну вытрезвителей, депутаты Госдумы задумали также вернуть специальные магазины потребительских товаров для чиновников и деятелей парламентских партий. Документ носит название «О стабилизации сферы потребления и соблюдении государственных интересов» и в ближайшие недели будет направлен на первое чтение.\n",
        "\n",
        "В пояснительной записке отмечается, что сложившаяся ситуация с санкциями поставила «в затруднительное положение» многих государственных лиц, несущих «особую ответственность за события в стране и в мире». Отсутствие у них прямого доступа к качественным продуктам несет прямую угрозу для национальной безопасности, считают депутаты.\n",
        "\n",
        "Авторы закона предложили сделать «лазейку» в законе о санкциях и разрешить ввозить в страну ограниченное количество запрещенных продуктов. Такой импорт не окажет заметного влияния на санкционный режим, однако позволит обеспечить иностранными товарами тех, кто в них больше всего нуждается — депутатов различных уровней, высокопоставленных региональных и федеральных чиновников и сотрудников их аппаратов.\n",
        "\n",
        "Сеть магазинов предлагается делать на основе уже существующих государственных и муниципальных объектов торговли и культуры. При этом доступ туда будет осуществляться по специальным пропускам, на которые смогут рассчитывать не только государственные мужи, но и члены их семей и обслуга, включая водителей и домработниц. Покупки можно будет совершать по талонам, количество которых будет зависеть от ранга служащего, стоимость товаров при этом будет равна закупочной с наценкой не более 5% для амортизации объектов и торговой аппаратуры. Контроль за торговлей и порядком в специальных точках будут осуществлять сотрудники ФСО.''']"
      ],
      "execution_count": 0,
      "outputs": []
    },
    {
      "cell_type": "code",
      "metadata": {
        "id": "2iL_Ih0wnxW_",
        "colab_type": "code",
        "colab": {}
      },
      "source": [
        "for i, article in enumerate(new_articles):\n",
        "    new_articles[i] = clean_text(new_articles[i], sw)\n",
        "\n",
        "for i, article in enumerate(new_articles):\n",
        "    new_articles[i] = ' '.join(new_articles[i])"
      ],
      "execution_count": 0,
      "outputs": []
    },
    {
      "cell_type": "code",
      "metadata": {
        "id": "0iDUCiqjn0Mi",
        "colab_type": "code",
        "outputId": "71c273a7-8529-4240-f3bf-0db7040cf483",
        "colab": {
          "base_uri": "https://localhost:8080/",
          "height": 34
        }
      },
      "source": [
        "tf_new = Tfidf_vect.transform(new_articles)\n",
        "print(tf_new.shape)"
      ],
      "execution_count": 0,
      "outputs": [
        {
          "output_type": "stream",
          "text": [
            "(6, 5000)\n"
          ],
          "name": "stdout"
        }
      ]
    },
    {
      "cell_type": "code",
      "metadata": {
        "id": "WOhHYvkfn9iH",
        "colab_type": "code",
        "colab": {}
      },
      "source": [
        "new_predictions = Naive.predict(tf_new)"
      ],
      "execution_count": 0,
      "outputs": []
    },
    {
      "cell_type": "code",
      "metadata": {
        "id": "ilaAR979n-ll",
        "colab_type": "code",
        "outputId": "29246166-b2ee-45dc-a787-8a1c1fd29c59",
        "colab": {
          "base_uri": "https://localhost:8080/",
          "height": 34
        }
      },
      "source": [
        "new_predictions[0]"
      ],
      "execution_count": 0,
      "outputs": [
        {
          "output_type": "execute_result",
          "data": {
            "text/plain": [
              "0"
            ]
          },
          "metadata": {
            "tags": []
          },
          "execution_count": 115
        }
      ]
    },
    {
      "cell_type": "code",
      "metadata": {
        "id": "XRUuBcxHoIVO",
        "colab_type": "code",
        "outputId": "053294f4-a924-479d-9009-42df4d617d76",
        "colab": {
          "base_uri": "https://localhost:8080/",
          "height": 34
        }
      },
      "source": [
        "new_predictions[0][1]"
      ],
      "execution_count": 0,
      "outputs": [
        {
          "output_type": "execute_result",
          "data": {
            "text/plain": [
              "0"
            ]
          },
          "metadata": {
            "tags": []
          },
          "execution_count": 116
        }
      ]
    },
    {
      "cell_type": "code",
      "metadata": {
        "id": "fEjBgqH1ollw",
        "colab_type": "code",
        "outputId": "51e36c0c-182e-446e-bf00-de06941e1538",
        "colab": {
          "base_uri": "https://localhost:8080/",
          "height": 34
        }
      },
      "source": [
        "print(new_predictions)"
      ],
      "execution_count": 0,
      "outputs": [
        {
          "output_type": "stream",
          "text": [
            "[0 0 0 0 0 0]\n"
          ],
          "name": "stdout"
        }
      ]
    }
  ]
}